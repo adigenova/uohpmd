{
  "nbformat": 4,
  "nbformat_minor": 0,
  "metadata": {
    "colab": {
      "provenance": [],
      "collapsed_sections": [],
      "include_colab_link": true
    },
    "kernelspec": {
      "name": "python3",
      "display_name": "Python 3"
    }
  },
  "cells": [
    {
      "cell_type": "markdown",
      "metadata": {
        "id": "view-in-github",
        "colab_type": "text"
      },
      "source": [
        "<a href=\"https://colab.research.google.com/github/adigenova/uohpmd/blob/main/code/OpenMP.ipynb\" target=\"_parent\"><img src=\"https://colab.research.google.com/assets/colab-badge.svg\" alt=\"Open In Colab\"/></a>"
      ]
    },
    {
      "cell_type": "markdown",
      "source": [
        "## Instalación libreria OpenMP"
      ],
      "metadata": {
        "id": "jXsiGm7yQlHi"
      }
    },
    {
      "cell_type": "code",
      "source": [
        "!gcc --version"
      ],
      "metadata": {
        "colab": {
          "base_uri": "https://localhost:8080/"
        },
        "id": "NI2OOtnBOzA9",
        "outputId": "02cb65a7-78cb-4a1b-82e6-c41cd6be3cfd"
      },
      "execution_count": 136,
      "outputs": [
        {
          "output_type": "stream",
          "name": "stdout",
          "text": [
            "gcc (Ubuntu 7.5.0-3ubuntu1~18.04) 7.5.0\n",
            "Copyright (C) 2017 Free Software Foundation, Inc.\n",
            "This is free software; see the source for copying conditions.  There is NO\n",
            "warranty; not even for MERCHANTABILITY or FITNESS FOR A PARTICULAR PURPOSE.\n",
            "\n"
          ]
        }
      ]
    },
    {
      "cell_type": "code",
      "source": [
        "!apt install libomp-dev"
      ],
      "metadata": {
        "colab": {
          "base_uri": "https://localhost:8080/"
        },
        "id": "CB7WNLBWPNzS",
        "outputId": "77aa0a1a-eed8-4df9-c0c7-1eef86b809c2"
      },
      "execution_count": 137,
      "outputs": [
        {
          "output_type": "stream",
          "name": "stdout",
          "text": [
            "Reading package lists... Done\n",
            "Building dependency tree       \n",
            "Reading state information... Done\n",
            "The following package was automatically installed and is no longer required:\n",
            "  libnvidia-common-460\n",
            "Use 'apt autoremove' to remove it.\n",
            "The following additional packages will be installed:\n",
            "  libomp5\n",
            "Suggested packages:\n",
            "  libomp-doc\n",
            "The following NEW packages will be installed:\n",
            "  libomp-dev libomp5\n",
            "0 upgraded, 2 newly installed, 0 to remove and 20 not upgraded.\n",
            "Need to get 239 kB of archives.\n",
            "After this operation, 804 kB of additional disk space will be used.\n",
            "Get:1 http://archive.ubuntu.com/ubuntu bionic/universe amd64 libomp5 amd64 5.0.1-1 [234 kB]\n",
            "Get:2 http://archive.ubuntu.com/ubuntu bionic/universe amd64 libomp-dev amd64 5.0.1-1 [5,088 B]\n",
            "Fetched 239 kB in 0s (2,474 kB/s)\n",
            "Selecting previously unselected package libomp5:amd64.\n",
            "(Reading database ... 155685 files and directories currently installed.)\n",
            "Preparing to unpack .../libomp5_5.0.1-1_amd64.deb ...\n",
            "Unpacking libomp5:amd64 (5.0.1-1) ...\n",
            "Selecting previously unselected package libomp-dev.\n",
            "Preparing to unpack .../libomp-dev_5.0.1-1_amd64.deb ...\n",
            "Unpacking libomp-dev (5.0.1-1) ...\n",
            "Setting up libomp5:amd64 (5.0.1-1) ...\n",
            "Setting up libomp-dev (5.0.1-1) ...\n",
            "Processing triggers for libc-bin (2.27-3ubuntu1.5) ...\n"
          ]
        }
      ]
    },
    {
      "cell_type": "code",
      "source": [
        "!echo |cpp -fopenmp -dM |grep -i open"
      ],
      "metadata": {
        "colab": {
          "base_uri": "https://localhost:8080/"
        },
        "id": "xlCufEKtO748",
        "outputId": "7268676b-21ce-4a16-da11-dfc433609f39"
      },
      "execution_count": 138,
      "outputs": [
        {
          "output_type": "stream",
          "name": "stdout",
          "text": [
            "#define _OPENMP 201511\n"
          ]
        }
      ]
    },
    {
      "cell_type": "markdown",
      "metadata": {
        "id": "QG83fqWNsOz2"
      },
      "source": [
        "## Hola Mundo con OpenMP"
      ]
    },
    {
      "cell_type": "code",
      "metadata": {
        "id": "jvvfu1PvWX8p",
        "colab": {
          "base_uri": "https://localhost:8080/"
        },
        "outputId": "8241539e-10e5-41eb-ba1b-0b1ab3515b2c"
      },
      "source": [
        "%%writefile holamundo_openmp.c\n",
        "// Programa en C y OpenMP para imprimir hola mundo\n",
        "// libreria OpenMP \n",
        "#include <omp.h>   \n",
        "#include <stdio.h> \n",
        "#include <stdlib.h> \n",
        "  \n",
        "int main(int argc, char* argv[]) \n",
        "{ \n",
        "  \n",
        "    // Comienzo de la region paralela \n",
        "    #pragma omp parallel \n",
        "    { \n",
        "        printf(\"Hola Mundo... desde hilo = %d \\n\", omp_get_thread_num()); \n",
        "    } \n",
        "    // Fin de la region paralela \n",
        "}"
      ],
      "execution_count": 139,
      "outputs": [
        {
          "output_type": "stream",
          "name": "stdout",
          "text": [
            "Writing holamundo_openmp.c\n"
          ]
        }
      ]
    },
    {
      "cell_type": "code",
      "metadata": {
        "id": "TWGAyAbzXGQj",
        "outputId": "bf133916-f025-4f01-86dc-6e131b38ddfb",
        "colab": {
          "base_uri": "https://localhost:8080/"
        }
      },
      "source": [
        "#definimos los numeros de hilos a utilizar\n",
        "%env OMP_NUM_THREADS=3"
      ],
      "execution_count": 143,
      "outputs": [
        {
          "output_type": "stream",
          "name": "stdout",
          "text": [
            "env: OMP_NUM_THREADS=3\n"
          ]
        }
      ]
    },
    {
      "cell_type": "code",
      "metadata": {
        "id": "GjnLgIQd7-gQ"
      },
      "source": [
        "!gcc -o holamundo_openmp -fopenmp holamundo_openmp.c"
      ],
      "execution_count": 141,
      "outputs": []
    },
    {
      "cell_type": "code",
      "metadata": {
        "id": "dozKqOBWXSPI",
        "outputId": "8c89d55e-ae0f-4d15-bd4a-223cbd32429b",
        "colab": {
          "base_uri": "https://localhost:8080/"
        }
      },
      "source": [
        "!./holamundo_openmp"
      ],
      "execution_count": 144,
      "outputs": [
        {
          "output_type": "stream",
          "name": "stdout",
          "text": [
            "Hola Mundo... desde hilo = 1 \n",
            "Hola Mundo... desde hilo = 0 \n",
            "Hola Mundo... desde hilo = 2 \n"
          ]
        }
      ]
    },
    {
      "cell_type": "markdown",
      "source": [
        "##  Ejemplos\n",
        "\n",
        "### Paralelizando For"
      ],
      "metadata": {
        "id": "J3fIka4dR-L6"
      }
    },
    {
      "cell_type": "code",
      "source": [
        "%%writefile for_openmp1.c\n",
        "\n",
        "#include <omp.h>\n",
        "#include <stdio.h> \n",
        "\n",
        "int main() {\n",
        "  int k;\n",
        "  \n",
        "#pragma omp parallel \n",
        "{\n",
        "    for (k = 0; k < 10; k++)\n",
        "      printf(\"Itr: %d tid=%d\\n\", k, omp_get_thread_num());\n",
        "}\n",
        "  return 0;\n",
        "}"
      ],
      "metadata": {
        "colab": {
          "base_uri": "https://localhost:8080/"
        },
        "id": "Nc4SuB_YR9QA",
        "outputId": "abfa84f4-7d13-4c09-d7af-83dbafd4b270"
      },
      "execution_count": 145,
      "outputs": [
        {
          "output_type": "stream",
          "name": "stdout",
          "text": [
            "Writing for_openmp1.c\n"
          ]
        }
      ]
    },
    {
      "cell_type": "code",
      "source": [
        "!gcc -o for_openmp1 -fopenmp for_openmp1.c"
      ],
      "metadata": {
        "id": "Ab6MJthNSexl"
      },
      "execution_count": 146,
      "outputs": []
    },
    {
      "cell_type": "code",
      "source": [
        "%env OMP_NUM_THREADS=3\n",
        "!./for_openmp1"
      ],
      "metadata": {
        "colab": {
          "base_uri": "https://localhost:8080/"
        },
        "id": "whyIXzqWStp8",
        "outputId": "68eb673d-e37f-4818-f44a-8647428ecceb"
      },
      "execution_count": 147,
      "outputs": [
        {
          "output_type": "stream",
          "name": "stdout",
          "text": [
            "env: OMP_NUM_THREADS=3\n",
            "Itr: 0 tid=0\n",
            "Itr: 1 tid=0\n",
            "Itr: 2 tid=0\n",
            "Itr: 3 tid=0\n",
            "Itr: 4 tid=0\n",
            "Itr: 5 tid=0\n",
            "Itr: 6 tid=0\n",
            "Itr: 7 tid=0\n",
            "Itr: 8 tid=0\n",
            "Itr: 9 tid=0\n",
            "Itr: 0 tid=1\n",
            "Itr: 1 tid=1\n",
            "Itr: 2 tid=1\n",
            "Itr: 3 tid=1\n",
            "Itr: 4 tid=1\n",
            "Itr: 5 tid=1\n",
            "Itr: 6 tid=1\n",
            "Itr: 7 tid=1\n",
            "Itr: 8 tid=1\n",
            "Itr: 9 tid=1\n",
            "Itr: 0 tid=2\n",
            "Itr: 1 tid=2\n",
            "Itr: 2 tid=2\n",
            "Itr: 3 tid=2\n",
            "Itr: 4 tid=2\n",
            "Itr: 5 tid=2\n",
            "Itr: 6 tid=2\n",
            "Itr: 7 tid=2\n",
            "Itr: 8 tid=2\n",
            "Itr: 9 tid=2\n"
          ]
        }
      ]
    },
    {
      "cell_type": "code",
      "source": [
        "%%writefile for_openmp2.c\n",
        "#include <omp.h>\n",
        "#include <stdio.h> \n",
        "\n",
        "int main() {\n",
        "  int k;\n",
        "  \n",
        "#pragma omp parallel \n",
        "{\n",
        "#pragma omp for  \n",
        "    for (k = 0; k < 10; k++)\n",
        "      printf(\"Itr: %d tid=%d\\n\", k, omp_get_thread_num());\n",
        "} \n",
        "  return 0;\n",
        "}"
      ],
      "metadata": {
        "colab": {
          "base_uri": "https://localhost:8080/"
        },
        "id": "oRNxact2T94Z",
        "outputId": "c4966905-bc2f-4d67-faa6-a65c8fb31072"
      },
      "execution_count": 148,
      "outputs": [
        {
          "output_type": "stream",
          "name": "stdout",
          "text": [
            "Overwriting for_openmp2.c\n"
          ]
        }
      ]
    },
    {
      "cell_type": "code",
      "source": [
        "%%writefile for_openmp2.c\n",
        "#include <omp.h>\n",
        "#include <stdio.h> \n",
        "\n",
        "int main() {\n",
        "  int k;\n",
        "  \n",
        "#pragma omp parallel for \n",
        "    for (k = 0; k < 10; k++)\n",
        "      printf(\"Itr: %d tid=%d\\n\", k, omp_get_thread_num());\n",
        "\n",
        "  return 0;\n",
        "}"
      ],
      "metadata": {
        "colab": {
          "base_uri": "https://localhost:8080/"
        },
        "id": "DGmPECTKY-fF",
        "outputId": "c336c4f1-e540-43f8-e433-01d173b8ddb5"
      },
      "execution_count": 153,
      "outputs": [
        {
          "output_type": "stream",
          "name": "stdout",
          "text": [
            "Overwriting for_openmp2.c\n"
          ]
        }
      ]
    },
    {
      "cell_type": "code",
      "source": [
        "!gcc -o for_openmp2 -fopenmp for_openmp2.c"
      ],
      "metadata": {
        "id": "oHTwih_nUPJj"
      },
      "execution_count": 154,
      "outputs": []
    },
    {
      "cell_type": "code",
      "source": [
        "%env OMP_NUM_THREADS=2\n",
        "!./for_openmp2"
      ],
      "metadata": {
        "colab": {
          "base_uri": "https://localhost:8080/"
        },
        "id": "fhFwWWUkUVUF",
        "outputId": "acf5ae9f-ade5-46f8-98eb-02b044627f59"
      },
      "execution_count": 155,
      "outputs": [
        {
          "output_type": "stream",
          "name": "stdout",
          "text": [
            "env: OMP_NUM_THREADS=2\n",
            "Itr: 5 tid=1\n",
            "Itr: 6 tid=1\n",
            "Itr: 7 tid=1\n",
            "Itr: 8 tid=1\n",
            "Itr: 9 tid=1\n",
            "Itr: 0 tid=0\n",
            "Itr: 1 tid=0\n",
            "Itr: 2 tid=0\n",
            "Itr: 3 tid=0\n",
            "Itr: 4 tid=0\n"
          ]
        }
      ]
    },
    {
      "cell_type": "markdown",
      "source": [
        "## Secciones paralelas"
      ],
      "metadata": {
        "id": "UJzAb80nECKT"
      }
    },
    {
      "cell_type": "code",
      "source": [
        "%%writefile omp_sections.c\n",
        "#include <omp.h>\n",
        "#include <stdio.h>\n",
        "#include <unistd.h>\n",
        "\n",
        "void Work1(){\n",
        "    printf(\"executing work 1 hilo:%d\\n\",  omp_get_thread_num());   \n",
        "    sleep(1); \n",
        "}\n",
        "void Work2(){\n",
        "    printf(\"executing work 2 hilo:%d\\n\",  omp_get_thread_num()); \n",
        "    sleep(1);    \n",
        "}\n",
        "\n",
        "void Work3(){\n",
        "    printf(\"executing work 3 hilo:%d\\n\",  omp_get_thread_num());\n",
        "    \n",
        "}\n",
        "void Work4(){\n",
        "    printf(\"executing work 4 hilo:%d\\n\",  omp_get_thread_num());\n",
        "    sleep(1); \n",
        "}\n",
        "\n",
        "int main() {\n",
        "\n",
        " #pragma omp parallel sections \n",
        " {\n",
        "   { Work1(); }\n",
        "   #pragma omp section\n",
        "   { Work2();\n",
        "     Work3();}\n",
        "   #pragma omp section\n",
        "   { Work4(); }\n",
        " }\n",
        "\n",
        " return 0;\n",
        "}"
      ],
      "metadata": {
        "colab": {
          "base_uri": "https://localhost:8080/"
        },
        "id": "kfgnjGZWCqJb",
        "outputId": "bbe31f90-54ff-41f4-ca28-acbd9285cfad"
      },
      "execution_count": 156,
      "outputs": [
        {
          "output_type": "stream",
          "name": "stdout",
          "text": [
            "Overwriting omp_sections.c\n"
          ]
        }
      ]
    },
    {
      "cell_type": "code",
      "source": [
        "!gcc -o omp_sections -fopenmp omp_sections.c"
      ],
      "metadata": {
        "id": "EBW8Fg7mDOxO"
      },
      "execution_count": 157,
      "outputs": []
    },
    {
      "cell_type": "code",
      "source": [
        "%env OMP_NUM_THREADS=5\n",
        "!./omp_sections"
      ],
      "metadata": {
        "colab": {
          "base_uri": "https://localhost:8080/"
        },
        "id": "NpAzZtPxDY2v",
        "outputId": "07a3bbea-f458-4bb9-e9cd-6e32d2383920"
      },
      "execution_count": 159,
      "outputs": [
        {
          "output_type": "stream",
          "name": "stdout",
          "text": [
            "env: OMP_NUM_THREADS=5\n",
            "executing work 1 hilo:1\n",
            "executing work 2 hilo:2\n",
            "executing work 4 hilo:3\n",
            "executing work 3 hilo:2\n"
          ]
        }
      ]
    },
    {
      "cell_type": "markdown",
      "source": [
        "## Construcciones unicas"
      ],
      "metadata": {
        "id": "A-Nlc6N7FiPS"
      }
    },
    {
      "cell_type": "code",
      "source": [
        "%%writefile omp_single.c\n",
        "#include <omp.h>\n",
        "#include <stdio.h>\n",
        "#include <unistd.h>\n",
        "\n",
        "void Work1(){\n",
        "    printf(\"executing work 1 hilo:%d\\n\",  omp_get_thread_num());   \n",
        "    sleep(1); \n",
        "}\n",
        "void Work2(){\n",
        "    printf(\"executing work 2 hilo:%d\\n\",  omp_get_thread_num()); \n",
        "    sleep(1);    \n",
        "}\n",
        "\n",
        "void Work3(){\n",
        "    printf(\"executing work 3 hilo:%d\\n\",  omp_get_thread_num());\n",
        "    \n",
        "}\n",
        "void Work4(){\n",
        "    printf(\"executing work 4 hilo:%d\\n\",  omp_get_thread_num());\n",
        "    sleep(1); \n",
        "}\n",
        "\n",
        "int main() {\n",
        "\n",
        " #pragma omp parallel  \n",
        " {\n",
        "   Work1(); \n",
        "   #pragma omp single\n",
        "   { Work2();\n",
        "     Work3();\n",
        "   }\n",
        "    Work4(); \n",
        " }\n",
        "\n",
        " return 0;\n",
        "}"
      ],
      "metadata": {
        "colab": {
          "base_uri": "https://localhost:8080/"
        },
        "id": "GawCnw7KHSAo",
        "outputId": "9198d4d6-b54d-4291-e337-8a61bc05620d"
      },
      "execution_count": 160,
      "outputs": [
        {
          "output_type": "stream",
          "name": "stdout",
          "text": [
            "Overwriting omp_single.c\n"
          ]
        }
      ]
    },
    {
      "cell_type": "code",
      "source": [
        "!gcc -o omp_single -fopenmp omp_single.c"
      ],
      "metadata": {
        "id": "-PghoRhYHqyS"
      },
      "execution_count": 161,
      "outputs": []
    },
    {
      "cell_type": "code",
      "source": [
        "%env OMP_NUM_THREADS=10\n",
        "!./omp_single"
      ],
      "metadata": {
        "colab": {
          "base_uri": "https://localhost:8080/"
        },
        "id": "D8VTU13_Hq-w",
        "outputId": "f34e8b32-247a-41bc-df6c-4ecf291556ad"
      },
      "execution_count": 163,
      "outputs": [
        {
          "output_type": "stream",
          "name": "stdout",
          "text": [
            "env: OMP_NUM_THREADS=10\n",
            "executing work 1 hilo:0\n",
            "executing work 1 hilo:1\n",
            "executing work 1 hilo:3\n",
            "executing work 1 hilo:2\n",
            "executing work 1 hilo:4\n",
            "executing work 1 hilo:5\n",
            "executing work 1 hilo:6\n",
            "executing work 1 hilo:7\n",
            "executing work 1 hilo:8\n",
            "executing work 1 hilo:9\n",
            "executing work 2 hilo:3\n",
            "executing work 3 hilo:3\n",
            "executing work 4 hilo:3\n",
            "executing work 4 hilo:4\n",
            "executing work 4 hilo:1\n",
            "executing work 4 hilo:8\n",
            "executing work 4 hilo:0\n",
            "executing work 4 hilo:7\n",
            "executing work 4 hilo:2\n",
            "executing work 4 hilo:9\n",
            "executing work 4 hilo:5\n",
            "executing work 4 hilo:6\n"
          ]
        }
      ]
    },
    {
      "cell_type": "markdown",
      "source": [
        "## Paralelismo anidado"
      ],
      "metadata": {
        "id": "0KT7TtVyIaYp"
      }
    },
    {
      "cell_type": "code",
      "source": [
        "%%writefile omp_nested.c\n",
        "\n",
        "#include <omp.h>\n",
        "#include <stdio.h>\n",
        "#include <unistd.h>\n",
        "\n",
        "void Work1(){\n",
        "    printf(\"executing work 1 hilo:%d\\n\",  omp_get_thread_num());   \n",
        "   \n",
        "   \n",
        "    sleep(1); \n",
        "}\n",
        "void Work2(){\n",
        "    printf(\"executing work 2 hilo:%d\\n\",  omp_get_thread_num()); \n",
        "   \n",
        "   \n",
        "    sleep(1);    \n",
        "}\n",
        "\n",
        "int main() {\n",
        "\n",
        " #pragma omp parallel num_threads(1) \n",
        " {\n",
        "   Work1(); \n",
        "\n",
        "   #pragma omp parallel num_threads(5)\n",
        "   {  //1 x 5 = 5 threads\n",
        "      Work2();\n",
        "   }\n",
        " }\n",
        " \n",
        " return 0;\n",
        "}"
      ],
      "metadata": {
        "colab": {
          "base_uri": "https://localhost:8080/"
        },
        "id": "iRmWLds1IeA8",
        "outputId": "613ecfd1-f7be-4c76-82c9-65ce91d09d2a"
      },
      "execution_count": 164,
      "outputs": [
        {
          "output_type": "stream",
          "name": "stdout",
          "text": [
            "Overwriting omp_nested.c\n"
          ]
        }
      ]
    },
    {
      "cell_type": "code",
      "source": [
        "!gcc -o omp_nested -fopenmp omp_nested.c"
      ],
      "metadata": {
        "id": "0xRNWzHmJQFo"
      },
      "execution_count": 165,
      "outputs": []
    },
    {
      "cell_type": "code",
      "source": [
        "#%env OMP_NUM_THREADS=3\n",
        "!./omp_nested"
      ],
      "metadata": {
        "colab": {
          "base_uri": "https://localhost:8080/"
        },
        "id": "XEuKxbfuJUMn",
        "outputId": "0326c9fa-7db5-4b7d-ee22-e21baedd78f8"
      },
      "execution_count": 166,
      "outputs": [
        {
          "output_type": "stream",
          "name": "stdout",
          "text": [
            "executing work 1 hilo:0\n",
            "executing work 2 hilo:2\n",
            "executing work 2 hilo:4\n",
            "executing work 2 hilo:0\n",
            "executing work 2 hilo:1\n",
            "executing work 2 hilo:3\n"
          ]
        }
      ]
    },
    {
      "cell_type": "markdown",
      "source": [
        "## Sincronización\n",
        "\n",
        "### Secciones criticas\n",
        "\n"
      ],
      "metadata": {
        "id": "M3TO1ilpZs51"
      }
    },
    {
      "cell_type": "code",
      "source": [
        "%%writefile sync_openmp.c\n",
        "\n",
        "#include <omp.h>\n",
        "#include <stdio.h>\n",
        "#include <stdlib.h> \n",
        "\n",
        "int main() {\n",
        "  int k;\n",
        " int sum=0; \n",
        " \n",
        "#pragma omp parallel for shared(sum)\n",
        "  for (k = 0; k < 10; k++) {\n",
        "    int c=rand()%50;\n",
        "    printf(\"Itr: %d tid=%d, my_contri=%d\\n\", k, omp_get_thread_num(),c);\n",
        "  #pragma omp critical\n",
        "  sum+=c;\n",
        "} \n",
        "\n",
        "printf(\"Sum=%d\",sum);\n",
        "  return 0;\n",
        "}"
      ],
      "metadata": {
        "colab": {
          "base_uri": "https://localhost:8080/"
        },
        "id": "_7Tt7Ew0Z64W",
        "outputId": "742e809e-0445-499f-f868-a05d2d694042"
      },
      "execution_count": 167,
      "outputs": [
        {
          "output_type": "stream",
          "name": "stdout",
          "text": [
            "Writing sync_openmp.c\n"
          ]
        }
      ]
    },
    {
      "cell_type": "code",
      "source": [
        "!gcc -o sync_openmp -fopenmp sync_openmp.c"
      ],
      "metadata": {
        "id": "QEJN2iENaKry"
      },
      "execution_count": 168,
      "outputs": []
    },
    {
      "cell_type": "code",
      "source": [
        "%env OMP_NUM_THREADS=5\n",
        "!./sync_openmp"
      ],
      "metadata": {
        "colab": {
          "base_uri": "https://localhost:8080/"
        },
        "id": "-99fIdLJaSWJ",
        "outputId": "ec3a2551-738c-468e-d0f0-df28499b1a44"
      },
      "execution_count": 169,
      "outputs": [
        {
          "output_type": "stream",
          "name": "stdout",
          "text": [
            "env: OMP_NUM_THREADS=5\n",
            "Itr: 2 tid=1, my_contri=33\n",
            "Itr: 3 tid=1, my_contri=35\n",
            "Itr: 6 tid=3, my_contri=27\n",
            "Itr: 7 tid=3, my_contri=36\n",
            "Itr: 8 tid=4, my_contri=15\n",
            "Itr: 9 tid=4, my_contri=42\n",
            "Itr: 4 tid=2, my_contri=36\n",
            "Itr: 5 tid=2, my_contri=49\n",
            "Itr: 0 tid=0, my_contri=43\n",
            "Itr: 1 tid=0, my_contri=21\n",
            "Sum=337"
          ]
        }
      ]
    },
    {
      "cell_type": "markdown",
      "source": [
        "## Matrix OpenMP"
      ],
      "metadata": {
        "id": "qSNeBKkReI8v"
      }
    },
    {
      "cell_type": "code",
      "source": [
        "%%writefile matrix1_openmp.c\n",
        "\n",
        "/*\n",
        " * Un programa simple para multiplicar matrices\n",
        " * (Matrix_A  X  Matrix_B) => Matrix_C\n",
        " */\n",
        "\n",
        "#include <stdio.h>\n",
        "#include <stdlib.h>\n",
        "#include <omp.h>\n",
        "#include <time.h>\n",
        "\n",
        "\n",
        "#define ARRAY_SIZE 10\n",
        "\n",
        "typedef int matrix_t[ARRAY_SIZE][ARRAY_SIZE];\n",
        "\n",
        "matrix_t MA,MB,MC;\n",
        "\n",
        "/*\n",
        "Rutina para multiplicar una fila por una columna y colocar un elemento en\n",
        "matriz resultante.\n",
        "*/\n",
        "void mult(int size,\n",
        "\t  int row,\n",
        "\t  int column,\n",
        "\t  matrix_t MA, \n",
        "\t  matrix_t MB,\n",
        "\t  matrix_t MC)\n",
        "{\n",
        "  int position;\n",
        "\n",
        "  MC[row][column] = 0;\n",
        "  for(position = 0; position < size; position++) {\n",
        "    MC[row][column] = MC[row][column] +\n",
        "      ( MA[row][position]  *  MB[position][column] ) ;\n",
        "  }\n",
        "}\n",
        "\n",
        "//colocamos valores random 1-10 en las matrices\n",
        "void inicializamos_matriz(int size, \n",
        "                    matrix_t MX)\n",
        "{\n",
        "    int   row, column;\n",
        "    srand(time(0));\n",
        "    for(row = 0; row < size; row++) {\n",
        "    for (column = 0; column < size; column++) {\n",
        "      MX[row][column]=rand()%10;\n",
        "    }\n",
        "  }\n",
        "}\n",
        "\n",
        "void imprimir_matriz(int size, \n",
        "                    matrix_t MX)\n",
        "{\n",
        "    int   row, column;\n",
        "    for(row = 0; row < size; row ++) {\n",
        "    for (column = 0; column < size; column++) {\n",
        "      printf(\"%5d \",MX[row][column]);\n",
        "    }\n",
        "    printf(\"\\n\");\n",
        "  }\n",
        "}\n",
        "\n",
        "\n",
        "// inicializamos valores y calcula los resultados\n",
        "\n",
        "int main(void)\n",
        "{\n",
        "  int      size, row, column;\n",
        "\n",
        "  size = ARRAY_SIZE;\n",
        "  \n",
        "  // inicializamos los valores de la MA\n",
        "  inicializamos_matriz(size, MA);\n",
        "  //inicializamos los valores de la MB \n",
        "  inicializamos_matriz(size, MB);\n",
        "  //imprimimos\n",
        "  printf(\"La matriz A es;\\n\");\n",
        "  imprimir_matriz(size,MA);\n",
        "  printf(\"La matriz B es;\\n\");\n",
        "  imprimir_matriz(size,MB);\n",
        "\n",
        "  // procedemos a realizar la mutiplicacion por filas y columnas\n",
        "\n",
        "for(row = 0; row < size; row++) {\n",
        "    for (column = 0; column < size; column++) {\n",
        "      mult(size, row, column, MA, MB, MC);\n",
        "    }\n",
        "  }\n",
        "  //imprimimos los resultados\n",
        "  printf(\"La matriz resultante C es (serial);\\n\");\n",
        "  imprimir_matriz(size,MC);\n",
        "\n",
        "//multiplicamos en paralelo con openMP\n",
        "//#pragma omp parallel for\n",
        "#pragma omp parallel for collapse(2)\n",
        "  for(row = 0; row < size; row++) {\n",
        "    for (column = 0; column < size; column++) {\n",
        "      mult(size, row, column, MA, MB, MC);\n",
        "      #pragma omp critical\n",
        "      printf(\"row: %d col=%d, tid=%d\\n\", row,column, omp_get_thread_num());\n",
        "    }\n",
        "  }\n",
        "//end parallel section\n",
        "\n",
        "  //imprimimos los resultados\n",
        "  printf(\"La matriz resultante C es (openMP);\\n\");\n",
        "  imprimir_matriz(size,MC);\n",
        "  \n",
        "  return 0;\n",
        "}"
      ],
      "metadata": {
        "colab": {
          "base_uri": "https://localhost:8080/"
        },
        "id": "MKmWSJefeMjf",
        "outputId": "0a6f6a12-ce86-4ee6-b9a7-569d6a83353d"
      },
      "execution_count": 178,
      "outputs": [
        {
          "output_type": "stream",
          "name": "stdout",
          "text": [
            "Overwriting matrix1_openmp.c\n"
          ]
        }
      ]
    },
    {
      "cell_type": "code",
      "source": [
        "!gcc -o matrix1_openmp -fopenmp matrix1_openmp.c"
      ],
      "metadata": {
        "id": "RbXHH1zzeuCK"
      },
      "execution_count": 179,
      "outputs": []
    },
    {
      "cell_type": "code",
      "source": [
        "%env OMP_NUM_THREADS=50\n",
        "!./matrix1_openmp"
      ],
      "metadata": {
        "colab": {
          "base_uri": "https://localhost:8080/"
        },
        "id": "dDjQmm84eynb",
        "outputId": "b377669c-1f03-48f8-9e48-c0ef97ecab80"
      },
      "execution_count": 180,
      "outputs": [
        {
          "output_type": "stream",
          "name": "stdout",
          "text": [
            "env: OMP_NUM_THREADS=50\n",
            "La matriz A es;\n",
            "    4     9     4     3     8     3     0     4     1     4 \n",
            "    2     1     1     7     9     9     0     3     2     0 \n",
            "    2     3     8     1     9     0     8     0     3     9 \n",
            "    7     9     0     3     4     8     8     6     4     9 \n",
            "    3     9     3     4     6     2     3     8     8     5 \n",
            "    8     0     9     6     1     8     9     2     0     2 \n",
            "    3     9     4     3     3     8     4     3     5     8 \n",
            "    5     0     7     8     4     6     0     7     4     8 \n",
            "    5     3     0     6     1     2     6     0     6     6 \n",
            "    5     9     5     9     2     0     7     8     4     4 \n",
            "La matriz B es;\n",
            "    4     9     4     3     8     3     0     4     1     4 \n",
            "    2     1     1     7     9     9     0     3     2     0 \n",
            "    2     3     8     1     9     0     8     0     3     9 \n",
            "    7     9     0     3     4     8     8     6     4     9 \n",
            "    3     9     3     4     6     2     3     8     8     5 \n",
            "    8     0     9     6     1     8     9     2     0     2 \n",
            "    3     9     4     3     3     8     4     3     5     8 \n",
            "    5     0     7     8     4     6     0     7     4     8 \n",
            "    5     3     0     6     1     2     6     0     6     6 \n",
            "    5     9     5     9     2     0     7     8     4     4 \n",
            "La matriz resultante C es (serial);\n",
            "  156   195   156   212   237   183   141   191   148   179 \n",
            "  185   172   146   161   139   183   184   164   131   179 \n",
            "  148   297   179   197   218   129   212   191   202   252 \n",
            "  262   300   240   334   251   306   227   259   193   263 \n",
            "  212   231   174   289   245   238   187   220   209   265 \n",
            "  206   261   239   164   222   222   245   149   128   284 \n",
            "  224   225   211   283   224   244   239   194   163   224 \n",
            "  245   258   231   250   213   185   266   225   174   299 \n",
            "  165   237    98   178   135   168   171   143   133   191 \n",
            "  218   279   179   263   279   284   198   226   197   316 \n",
            "row: 0 col=0, tid=0\n",
            "row: 0 col=1, tid=0\n",
            "row: 2 col=2, tid=11\n",
            "row: 4 col=0, tid=20\n",
            "row: 4 col=1, tid=20\n",
            "row: 2 col=0, tid=10\n",
            "row: 4 col=2, tid=21\n",
            "row: 1 col=8, tid=9\n",
            "row: 4 col=3, tid=21\n",
            "row: 1 col=6, tid=8\n",
            "row: 1 col=7, tid=8\n",
            "row: 4 col=6, tid=23\n",
            "row: 3 col=0, tid=15\n",
            "row: 4 col=8, tid=24\n",
            "row: 1 col=0, tid=5\n",
            "row: 4 col=9, tid=24\n",
            "row: 0 col=8, tid=4\n",
            "row: 0 col=9, tid=4\n",
            "row: 5 col=4, tid=27\n",
            "row: 0 col=6, tid=3\n",
            "row: 5 col=5, tid=27\n",
            "row: 0 col=2, tid=1\n",
            "row: 0 col=3, tid=1\n",
            "row: 5 col=8, tid=29\n",
            "row: 5 col=9, tid=29\n",
            "row: 4 col=4, tid=22\n",
            "row: 4 col=5, tid=22\n",
            "row: 6 col=2, tid=31\n",
            "row: 6 col=3, tid=31\n",
            "row: 1 col=2, tid=6\n",
            "row: 7 col=4, tid=37\n",
            "row: 5 col=0, tid=25\n",
            "row: 7 col=5, tid=37\n",
            "row: 5 col=2, tid=26\n",
            "row: 5 col=3, tid=26\n",
            "row: 7 col=6, tid=38\n",
            "row: 7 col=7, tid=38\n",
            "row: 5 col=1, tid=25\n",
            "row: 8 col=4, tid=42\n",
            "row: 8 col=5, tid=42\n",
            "row: 1 col=4, tid=7\n",
            "row: 8 col=8, tid=44\n",
            "row: 6 col=4, tid=32\n",
            "row: 8 col=9, tid=44\n",
            "row: 6 col=6, tid=33\n",
            "row: 9 col=0, tid=45\n",
            "row: 6 col=8, tid=34\n",
            "row: 9 col=1, tid=45\n",
            "row: 7 col=0, tid=35\n",
            "row: 7 col=1, tid=35\n",
            "row: 9 col=6, tid=48\n",
            "row: 9 col=7, tid=48\n",
            "row: 6 col=7, tid=33\n",
            "row: 3 col=8, tid=19\n",
            "row: 8 col=0, tid=40\n",
            "row: 3 col=9, tid=19\n",
            "row: 8 col=2, tid=41\n",
            "row: 8 col=3, tid=41\n",
            "row: 2 col=6, tid=13\n",
            "row: 2 col=7, tid=13\n",
            "row: 2 col=3, tid=11\n",
            "row: 8 col=6, tid=43\n",
            "row: 8 col=7, tid=43\n",
            "row: 9 col=2, tid=46\n",
            "row: 9 col=3, tid=46\n",
            "row: 7 col=8, tid=39\n",
            "row: 7 col=9, tid=39\n",
            "row: 6 col=5, tid=32\n",
            "row: 9 col=4, tid=47\n",
            "row: 9 col=5, tid=47\n",
            "row: 6 col=9, tid=34\n",
            "row: 2 col=1, tid=10\n",
            "row: 7 col=2, tid=36\n",
            "row: 7 col=3, tid=36\n",
            "row: 2 col=8, tid=14\n",
            "row: 0 col=4, tid=2\n",
            "row: 2 col=9, tid=14\n",
            "row: 8 col=1, tid=40\n",
            "row: 3 col=2, tid=16\n",
            "row: 4 col=7, tid=23\n",
            "row: 2 col=4, tid=12\n",
            "row: 2 col=5, tid=12\n",
            "row: 1 col=1, tid=5\n",
            "row: 3 col=3, tid=16\n",
            "row: 1 col=9, tid=9\n",
            "row: 0 col=7, tid=3\n",
            "row: 3 col=1, tid=15\n",
            "row: 9 col=8, tid=49\n",
            "row: 1 col=3, tid=6\n",
            "row: 9 col=9, tid=49\n",
            "row: 0 col=5, tid=2\n",
            "row: 3 col=4, tid=17\n",
            "row: 3 col=5, tid=17\n",
            "row: 3 col=6, tid=18\n",
            "row: 3 col=7, tid=18\n",
            "row: 6 col=0, tid=30\n",
            "row: 1 col=5, tid=7\n",
            "row: 6 col=1, tid=30\n",
            "row: 5 col=6, tid=28\n",
            "row: 5 col=7, tid=28\n",
            "La matriz resultante C es (openMP);\n",
            "  156   195   156   212   237   183   141   191   148   179 \n",
            "  185   172   146   161   139   183   184   164   131   179 \n",
            "  148   297   179   197   218   129   212   191   202   252 \n",
            "  262   300   240   334   251   306   227   259   193   263 \n",
            "  212   231   174   289   245   238   187   220   209   265 \n",
            "  206   261   239   164   222   222   245   149   128   284 \n",
            "  224   225   211   283   224   244   239   194   163   224 \n",
            "  245   258   231   250   213   185   266   225   174   299 \n",
            "  165   237    98   178   135   168   171   143   133   191 \n",
            "  218   279   179   263   279   284   198   226   197   316 \n"
          ]
        }
      ]
    }
  ]
}