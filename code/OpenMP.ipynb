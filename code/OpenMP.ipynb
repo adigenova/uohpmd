{
  "nbformat": 4,
  "nbformat_minor": 0,
  "metadata": {
    "colab": {
      "provenance": [],
      "include_colab_link": true
    },
    "kernelspec": {
      "name": "python3",
      "display_name": "Python 3"
    }
  },
  "cells": [
    {
      "cell_type": "markdown",
      "metadata": {
        "id": "view-in-github",
        "colab_type": "text"
      },
      "source": [
        "<a href=\"https://colab.research.google.com/github/adigenova/uohpmd/blob/main/code/OpenMP.ipynb\" target=\"_parent\"><img src=\"https://colab.research.google.com/assets/colab-badge.svg\" alt=\"Open In Colab\"/></a>"
      ]
    },
    {
      "cell_type": "markdown",
      "source": [
        "## Instalación libreria OpenMP"
      ],
      "metadata": {
        "id": "jXsiGm7yQlHi"
      }
    },
    {
      "cell_type": "code",
      "source": [
        "!gcc --version"
      ],
      "metadata": {
        "colab": {
          "base_uri": "https://localhost:8080/"
        },
        "id": "NI2OOtnBOzA9",
        "outputId": "e8ba1c54-cab8-46c5-9418-449cc4648a50"
      },
      "execution_count": 1,
      "outputs": [
        {
          "output_type": "stream",
          "name": "stdout",
          "text": [
            "gcc (Ubuntu 11.4.0-1ubuntu1~22.04) 11.4.0\n",
            "Copyright (C) 2021 Free Software Foundation, Inc.\n",
            "This is free software; see the source for copying conditions.  There is NO\n",
            "warranty; not even for MERCHANTABILITY or FITNESS FOR A PARTICULAR PURPOSE.\n",
            "\n"
          ]
        }
      ]
    },
    {
      "cell_type": "code",
      "source": [
        "!apt install libomp-dev"
      ],
      "metadata": {
        "colab": {
          "base_uri": "https://localhost:8080/"
        },
        "id": "CB7WNLBWPNzS",
        "outputId": "04a3b948-3763-418f-8ed9-05862986119f"
      },
      "execution_count": 2,
      "outputs": [
        {
          "output_type": "stream",
          "name": "stdout",
          "text": [
            "Reading package lists... Done\n",
            "Building dependency tree... Done\n",
            "Reading state information... Done\n",
            "The following additional packages will be installed:\n",
            "  libomp-14-dev libomp5-14\n",
            "Suggested packages:\n",
            "  libomp-14-doc\n",
            "The following NEW packages will be installed:\n",
            "  libomp-14-dev libomp-dev libomp5-14\n",
            "0 upgraded, 3 newly installed, 0 to remove and 16 not upgraded.\n",
            "Need to get 738 kB of archives.\n",
            "After this operation, 8,991 kB of additional disk space will be used.\n",
            "Get:1 http://archive.ubuntu.com/ubuntu jammy-updates/universe amd64 libomp5-14 amd64 1:14.0.0-1ubuntu1.1 [389 kB]\n",
            "Get:2 http://archive.ubuntu.com/ubuntu jammy-updates/universe amd64 libomp-14-dev amd64 1:14.0.0-1ubuntu1.1 [347 kB]\n",
            "Get:3 http://archive.ubuntu.com/ubuntu jammy/universe amd64 libomp-dev amd64 1:14.0-55~exp2 [3,074 B]\n",
            "Fetched 738 kB in 2s (362 kB/s)\n",
            "Selecting previously unselected package libomp5-14:amd64.\n",
            "(Reading database ... 120901 files and directories currently installed.)\n",
            "Preparing to unpack .../libomp5-14_1%3a14.0.0-1ubuntu1.1_amd64.deb ...\n",
            "Unpacking libomp5-14:amd64 (1:14.0.0-1ubuntu1.1) ...\n",
            "Selecting previously unselected package libomp-14-dev.\n",
            "Preparing to unpack .../libomp-14-dev_1%3a14.0.0-1ubuntu1.1_amd64.deb ...\n",
            "Unpacking libomp-14-dev (1:14.0.0-1ubuntu1.1) ...\n",
            "Selecting previously unselected package libomp-dev:amd64.\n",
            "Preparing to unpack .../libomp-dev_1%3a14.0-55~exp2_amd64.deb ...\n",
            "Unpacking libomp-dev:amd64 (1:14.0-55~exp2) ...\n",
            "Setting up libomp5-14:amd64 (1:14.0.0-1ubuntu1.1) ...\n",
            "Setting up libomp-14-dev (1:14.0.0-1ubuntu1.1) ...\n",
            "Setting up libomp-dev:amd64 (1:14.0-55~exp2) ...\n",
            "Processing triggers for libc-bin (2.35-0ubuntu3.1) ...\n",
            "/sbin/ldconfig.real: /usr/local/lib/libtbbmalloc_proxy.so.2 is not a symbolic link\n",
            "\n",
            "/sbin/ldconfig.real: /usr/local/lib/libtbb.so.12 is not a symbolic link\n",
            "\n",
            "/sbin/ldconfig.real: /usr/local/lib/libtbbbind_2_0.so.3 is not a symbolic link\n",
            "\n",
            "/sbin/ldconfig.real: /usr/local/lib/libtbbbind_2_5.so.3 is not a symbolic link\n",
            "\n",
            "/sbin/ldconfig.real: /usr/local/lib/libtbbmalloc.so.2 is not a symbolic link\n",
            "\n",
            "/sbin/ldconfig.real: /usr/local/lib/libtbbbind.so.3 is not a symbolic link\n",
            "\n"
          ]
        }
      ]
    },
    {
      "cell_type": "code",
      "source": [
        "!echo |cpp -fopenmp -dM |grep -i open"
      ],
      "metadata": {
        "colab": {
          "base_uri": "https://localhost:8080/"
        },
        "id": "xlCufEKtO748",
        "outputId": "359b1ea4-d49d-4073-cdb8-c5ddba1bd491"
      },
      "execution_count": 3,
      "outputs": [
        {
          "output_type": "stream",
          "name": "stdout",
          "text": [
            "#define _OPENMP 201511\n"
          ]
        }
      ]
    },
    {
      "cell_type": "markdown",
      "metadata": {
        "id": "QG83fqWNsOz2"
      },
      "source": [
        "## Hola Mundo con OpenMP"
      ]
    },
    {
      "cell_type": "code",
      "metadata": {
        "id": "jvvfu1PvWX8p",
        "colab": {
          "base_uri": "https://localhost:8080/"
        },
        "outputId": "11ef399f-9804-47f0-c03f-53468e67abec"
      },
      "source": [
        "%%writefile holamundo_openmp.c\n",
        "// Programa en C y OpenMP para imprimir hola mundo\n",
        "// libreria OpenMP\n",
        "#include <omp.h>\n",
        "#include <stdio.h>\n",
        "#include <stdlib.h>\n",
        "\n",
        "int main(int argc, char* argv[])\n",
        "{\n",
        "\n",
        "    // Comienzo de la region paralela\n",
        "    #pragma omp parallel\n",
        "    {\n",
        "        printf(\"Hola Mundo... desde hilo = %d \\n\", omp_get_thread_num());\n",
        "    }\n",
        "    // Fin de la region paralela\n",
        "}"
      ],
      "execution_count": 4,
      "outputs": [
        {
          "output_type": "stream",
          "name": "stdout",
          "text": [
            "Writing holamundo_openmp.c\n"
          ]
        }
      ]
    },
    {
      "cell_type": "code",
      "metadata": {
        "id": "TWGAyAbzXGQj",
        "outputId": "a4a7a827-25fa-43c1-ca07-8230fadb0f08",
        "colab": {
          "base_uri": "https://localhost:8080/"
        }
      },
      "source": [
        "#definimos los numeros de hilos a utilizar\n",
        "%env OMP_NUM_THREADS=7"
      ],
      "execution_count": 5,
      "outputs": [
        {
          "output_type": "stream",
          "name": "stdout",
          "text": [
            "env: OMP_NUM_THREADS=7\n"
          ]
        }
      ]
    },
    {
      "cell_type": "code",
      "metadata": {
        "id": "GjnLgIQd7-gQ"
      },
      "source": [
        "!gcc -o holamundo_openmp -fopenmp holamundo_openmp.c"
      ],
      "execution_count": 6,
      "outputs": []
    },
    {
      "cell_type": "code",
      "metadata": {
        "id": "dozKqOBWXSPI",
        "outputId": "c72983bd-aaff-4967-e07c-463dd7651b8e",
        "colab": {
          "base_uri": "https://localhost:8080/"
        }
      },
      "source": [
        "%env OMP_NUM_THREADS=8\n",
        "!./holamundo_openmp"
      ],
      "execution_count": 10,
      "outputs": [
        {
          "output_type": "stream",
          "name": "stdout",
          "text": [
            "env: OMP_NUM_THREADS=8\n",
            "Hola Mundo... desde hilo = 1 \n",
            "Hola Mundo... desde hilo = 2 \n",
            "Hola Mundo... desde hilo = 3 \n",
            "Hola Mundo... desde hilo = 4 \n",
            "Hola Mundo... desde hilo = 5 \n",
            "Hola Mundo... desde hilo = 6 \n",
            "Hola Mundo... desde hilo = 7 \n",
            "Hola Mundo... desde hilo = 0 \n"
          ]
        }
      ]
    },
    {
      "cell_type": "markdown",
      "source": [
        "##  Ejemplos\n",
        "\n",
        "### Paralelizando For"
      ],
      "metadata": {
        "id": "J3fIka4dR-L6"
      }
    },
    {
      "cell_type": "code",
      "source": [
        "%%writefile for_openmp1.c\n",
        "\n",
        "#include <omp.h>\n",
        "#include <stdio.h>\n",
        "\n",
        "int main() {\n",
        "  int k;\n",
        "\n",
        "#pragma omp parallel\n",
        "{\n",
        "    for (k = 0; k < 10; k++)\n",
        "      printf(\"Itr: %d tid=%d\\n\", k, omp_get_thread_num());\n",
        "}\n",
        "  return 0;\n",
        "}"
      ],
      "metadata": {
        "colab": {
          "base_uri": "https://localhost:8080/"
        },
        "id": "Nc4SuB_YR9QA",
        "outputId": "abfa84f4-7d13-4c09-d7af-83dbafd4b270"
      },
      "execution_count": null,
      "outputs": [
        {
          "output_type": "stream",
          "name": "stdout",
          "text": [
            "Writing for_openmp1.c\n"
          ]
        }
      ]
    },
    {
      "cell_type": "code",
      "source": [
        "!gcc -o for_openmp1 -fopenmp for_openmp1.c"
      ],
      "metadata": {
        "id": "Ab6MJthNSexl"
      },
      "execution_count": null,
      "outputs": []
    },
    {
      "cell_type": "code",
      "source": [
        "%env OMP_NUM_THREADS=3\n",
        "!./for_openmp1"
      ],
      "metadata": {
        "id": "whyIXzqWStp8"
      },
      "execution_count": null,
      "outputs": []
    },
    {
      "cell_type": "code",
      "source": [
        "%%writefile for_openmp2.c\n",
        "#include <omp.h>\n",
        "#include <stdio.h>\n",
        "\n",
        "int main() {\n",
        "  int k;\n",
        "\n",
        "#pragma omp parallel\n",
        "{\n",
        "#pragma omp for\n",
        "    for (k = 0; k < 10; k++)\n",
        "      printf(\"Itr: %d tid=%d\\n\", k, omp_get_thread_num());\n",
        "}\n",
        "  return 0;\n",
        "}"
      ],
      "metadata": {
        "colab": {
          "base_uri": "https://localhost:8080/"
        },
        "id": "oRNxact2T94Z",
        "outputId": "c4966905-bc2f-4d67-faa6-a65c8fb31072"
      },
      "execution_count": null,
      "outputs": [
        {
          "output_type": "stream",
          "name": "stdout",
          "text": [
            "Overwriting for_openmp2.c\n"
          ]
        }
      ]
    },
    {
      "cell_type": "code",
      "source": [
        "%%writefile for_openmp2.c\n",
        "#include <omp.h>\n",
        "#include <stdio.h>\n",
        "\n",
        "int main() {\n",
        "  int k;\n",
        "\n",
        "#pragma omp parallel for\n",
        "    for (k = 0; k < 10; k++)\n",
        "      printf(\"Itr: %d tid=%d\\n\", k, omp_get_thread_num());\n",
        "\n",
        "  return 0;\n",
        "}"
      ],
      "metadata": {
        "colab": {
          "base_uri": "https://localhost:8080/"
        },
        "id": "DGmPECTKY-fF",
        "outputId": "c336c4f1-e540-43f8-e433-01d173b8ddb5"
      },
      "execution_count": null,
      "outputs": [
        {
          "output_type": "stream",
          "name": "stdout",
          "text": [
            "Overwriting for_openmp2.c\n"
          ]
        }
      ]
    },
    {
      "cell_type": "code",
      "source": [
        "!gcc -o for_openmp2 -fopenmp for_openmp2.c"
      ],
      "metadata": {
        "id": "oHTwih_nUPJj"
      },
      "execution_count": null,
      "outputs": []
    },
    {
      "cell_type": "code",
      "source": [
        "%env OMP_NUM_THREADS=2\n",
        "!./for_openmp2"
      ],
      "metadata": {
        "id": "fhFwWWUkUVUF"
      },
      "execution_count": null,
      "outputs": []
    },
    {
      "cell_type": "markdown",
      "source": [
        "## Secciones paralelas"
      ],
      "metadata": {
        "id": "UJzAb80nECKT"
      }
    },
    {
      "cell_type": "code",
      "source": [
        "%%writefile omp_sections.c\n",
        "#include <omp.h>\n",
        "#include <stdio.h>\n",
        "#include <unistd.h>\n",
        "\n",
        "void Work1(){\n",
        "    printf(\"executing work 1 hilo:%d\\n\",  omp_get_thread_num());\n",
        "    sleep(1);\n",
        "}\n",
        "void Work2(){\n",
        "    printf(\"executing work 2 hilo:%d\\n\",  omp_get_thread_num());\n",
        "    sleep(1);\n",
        "}\n",
        "\n",
        "void Work3(){\n",
        "    printf(\"executing work 3 hilo:%d\\n\",  omp_get_thread_num());\n",
        "\n",
        "}\n",
        "void Work4(){\n",
        "    printf(\"executing work 4 hilo:%d\\n\",  omp_get_thread_num());\n",
        "    sleep(1);\n",
        "}\n",
        "\n",
        "int main() {\n",
        "\n",
        " #pragma omp parallel sections\n",
        " {\n",
        "   { Work1(); }\n",
        "   #pragma omp section\n",
        "   { Work2();\n",
        "     Work3();}\n",
        "   #pragma omp section\n",
        "   { Work4(); }\n",
        " }\n",
        "\n",
        " return 0;\n",
        "}"
      ],
      "metadata": {
        "colab": {
          "base_uri": "https://localhost:8080/"
        },
        "id": "kfgnjGZWCqJb",
        "outputId": "bbe31f90-54ff-41f4-ca28-acbd9285cfad"
      },
      "execution_count": null,
      "outputs": [
        {
          "output_type": "stream",
          "name": "stdout",
          "text": [
            "Overwriting omp_sections.c\n"
          ]
        }
      ]
    },
    {
      "cell_type": "code",
      "source": [
        "!gcc -o omp_sections -fopenmp omp_sections.c"
      ],
      "metadata": {
        "id": "EBW8Fg7mDOxO"
      },
      "execution_count": null,
      "outputs": []
    },
    {
      "cell_type": "code",
      "source": [
        "%env OMP_NUM_THREADS=5\n",
        "!./omp_sections"
      ],
      "metadata": {
        "id": "NpAzZtPxDY2v"
      },
      "execution_count": null,
      "outputs": []
    },
    {
      "cell_type": "markdown",
      "source": [
        "## Construcciones unicas"
      ],
      "metadata": {
        "id": "A-Nlc6N7FiPS"
      }
    },
    {
      "cell_type": "code",
      "source": [
        "%%writefile omp_single.c\n",
        "#include <omp.h>\n",
        "#include <stdio.h>\n",
        "#include <unistd.h>\n",
        "\n",
        "void Work1(){\n",
        "    printf(\"executing work 1 hilo:%d\\n\",  omp_get_thread_num());\n",
        "    sleep(1);\n",
        "}\n",
        "void Work2(){\n",
        "    printf(\"executing work 2 hilo:%d\\n\",  omp_get_thread_num());\n",
        "    sleep(1);\n",
        "}\n",
        "\n",
        "void Work3(){\n",
        "    printf(\"executing work 3 hilo:%d\\n\",  omp_get_thread_num());\n",
        "\n",
        "}\n",
        "void Work4(){\n",
        "    printf(\"executing work 4 hilo:%d\\n\",  omp_get_thread_num());\n",
        "    sleep(1);\n",
        "}\n",
        "\n",
        "int main() {\n",
        "\n",
        " #pragma omp parallel\n",
        " {\n",
        "   Work1();\n",
        "   #pragma omp single\n",
        "   { Work2();\n",
        "     Work3();\n",
        "   }\n",
        "    Work4();\n",
        " }\n",
        "\n",
        " return 0;\n",
        "}"
      ],
      "metadata": {
        "colab": {
          "base_uri": "https://localhost:8080/"
        },
        "id": "GawCnw7KHSAo",
        "outputId": "fe06e62a-18c8-43b9-c57b-6e9f3e998b58"
      },
      "execution_count": 11,
      "outputs": [
        {
          "output_type": "stream",
          "name": "stdout",
          "text": [
            "Writing omp_single.c\n"
          ]
        }
      ]
    },
    {
      "cell_type": "code",
      "source": [
        "!gcc -o omp_single -fopenmp omp_single.c"
      ],
      "metadata": {
        "id": "-PghoRhYHqyS"
      },
      "execution_count": 12,
      "outputs": []
    },
    {
      "cell_type": "code",
      "source": [
        "%env OMP_NUM_THREADS=5\n",
        "!./omp_single"
      ],
      "metadata": {
        "colab": {
          "base_uri": "https://localhost:8080/"
        },
        "id": "D8VTU13_Hq-w",
        "outputId": "463c0e1e-85e9-4617-9b4e-7d264030c3f5"
      },
      "execution_count": 13,
      "outputs": [
        {
          "output_type": "stream",
          "name": "stdout",
          "text": [
            "env: OMP_NUM_THREADS=5\n",
            "executing work 1 hilo:1\n",
            "executing work 1 hilo:2\n",
            "executing work 1 hilo:0\n",
            "executing work 1 hilo:4\n",
            "executing work 1 hilo:3\n",
            "executing work 2 hilo:1\n",
            "executing work 3 hilo:1\n",
            "executing work 4 hilo:1\n",
            "executing work 4 hilo:0\n",
            "executing work 4 hilo:3\n",
            "executing work 4 hilo:2\n",
            "executing work 4 hilo:4\n"
          ]
        }
      ]
    },
    {
      "cell_type": "markdown",
      "source": [
        "## Paralelismo anidado"
      ],
      "metadata": {
        "id": "0KT7TtVyIaYp"
      }
    },
    {
      "cell_type": "code",
      "source": [
        "%%writefile omp_nested.c\n",
        "\n",
        "#include <omp.h>\n",
        "#include <stdio.h>\n",
        "#include <unistd.h>\n",
        "\n",
        "void Work1(){\n",
        "    printf(\"executing work 1 hilo:%d\\n\",  omp_get_thread_num());\n",
        "\n",
        "\n",
        "    sleep(1);\n",
        "}\n",
        "void Work2(){\n",
        "    printf(\"executing work 2 hilo:%d\\n\",  omp_get_thread_num());\n",
        "\n",
        "\n",
        "    sleep(1);\n",
        "}\n",
        "\n",
        "int main() {\n",
        "\n",
        " #pragma omp parallel num_threads(1)\n",
        " {\n",
        "   Work1();\n",
        "\n",
        "   #pragma omp parallel num_threads(5)\n",
        "   {  //1 x 5 = 5 threads\n",
        "      Work2();\n",
        "   }\n",
        " }\n",
        "\n",
        " return 0;\n",
        "}"
      ],
      "metadata": {
        "colab": {
          "base_uri": "https://localhost:8080/"
        },
        "id": "iRmWLds1IeA8",
        "outputId": "613ecfd1-f7be-4c76-82c9-65ce91d09d2a"
      },
      "execution_count": null,
      "outputs": [
        {
          "output_type": "stream",
          "name": "stdout",
          "text": [
            "Overwriting omp_nested.c\n"
          ]
        }
      ]
    },
    {
      "cell_type": "code",
      "source": [
        "!gcc -o omp_nested -fopenmp omp_nested.c"
      ],
      "metadata": {
        "id": "0xRNWzHmJQFo"
      },
      "execution_count": null,
      "outputs": []
    },
    {
      "cell_type": "code",
      "source": [
        "#%env OMP_NUM_THREADS=3\n",
        "!./omp_nested"
      ],
      "metadata": {
        "id": "XEuKxbfuJUMn"
      },
      "execution_count": null,
      "outputs": []
    },
    {
      "cell_type": "markdown",
      "source": [
        "## Sincronización\n",
        "\n",
        "### Secciones criticas\n",
        "\n"
      ],
      "metadata": {
        "id": "M3TO1ilpZs51"
      }
    },
    {
      "cell_type": "code",
      "source": [
        "%%writefile sync_openmp.c\n",
        "\n",
        "#include <omp.h>\n",
        "#include <stdio.h>\n",
        "#include <stdlib.h>\n",
        "\n",
        "int main() {\n",
        "  int k;\n",
        " int sum=0;\n",
        "\n",
        "#pragma omp parallel for shared(sum)\n",
        "  for (k = 0; k < 100; k++) {\n",
        "    int c=rand()%50;\n",
        "    printf(\"Itr: %d tid=%d, my_contri=%d\\n\", k, omp_get_thread_num(),c);\n",
        "  #pragma omp critical\n",
        "  sum+=c;\n",
        "}\n",
        "\n",
        "printf(\"Sum=%d\",sum);\n",
        "  return 0;\n",
        "}"
      ],
      "metadata": {
        "colab": {
          "base_uri": "https://localhost:8080/"
        },
        "id": "_7Tt7Ew0Z64W",
        "outputId": "b4b2ddeb-cafc-4e1c-bc81-1449f792139e"
      },
      "execution_count": 15,
      "outputs": [
        {
          "output_type": "stream",
          "name": "stdout",
          "text": [
            "Overwriting sync_openmp.c\n"
          ]
        }
      ]
    },
    {
      "cell_type": "code",
      "source": [
        "!gcc -o sync_openmp -fopenmp sync_openmp.c"
      ],
      "metadata": {
        "id": "QEJN2iENaKry"
      },
      "execution_count": 16,
      "outputs": []
    },
    {
      "cell_type": "code",
      "source": [
        "%env OMP_NUM_THREADS=5\n",
        "!./sync_openmp"
      ],
      "metadata": {
        "colab": {
          "base_uri": "https://localhost:8080/"
        },
        "id": "-99fIdLJaSWJ",
        "outputId": "bf6243b6-eeec-4de5-f9db-c08decbb42c9"
      },
      "execution_count": 17,
      "outputs": [
        {
          "output_type": "stream",
          "name": "stdout",
          "text": [
            "env: OMP_NUM_THREADS=5\n",
            "Itr: 0 tid=0, my_contri=36\n",
            "Itr: 1 tid=0, my_contri=15\n",
            "Itr: 2 tid=0, my_contri=43\n",
            "Itr: 3 tid=0, my_contri=35\n",
            "Itr: 4 tid=0, my_contri=36\n",
            "Itr: 5 tid=0, my_contri=42\n",
            "Itr: 6 tid=0, my_contri=49\n",
            "Itr: 7 tid=0, my_contri=21\n",
            "Itr: 8 tid=0, my_contri=12\n",
            "Itr: 9 tid=0, my_contri=27\n",
            "Itr: 10 tid=0, my_contri=40\n",
            "Itr: 11 tid=0, my_contri=9\n",
            "Itr: 12 tid=0, my_contri=13\n",
            "Itr: 13 tid=0, my_contri=26\n",
            "Itr: 14 tid=0, my_contri=40\n",
            "Itr: 15 tid=0, my_contri=26\n",
            "Itr: 16 tid=0, my_contri=22\n",
            "Itr: 17 tid=0, my_contri=36\n",
            "Itr: 18 tid=0, my_contri=11\n",
            "Itr: 19 tid=0, my_contri=18\n",
            "Itr: 80 tid=4, my_contri=33\n",
            "Itr: 81 tid=4, my_contri=17\n",
            "Itr: 20 tid=1, my_contri=32\n",
            "Itr: 60 tid=3, my_contri=27\n",
            "Itr: 40 tid=2, my_contri=29\n",
            "Itr: 82 tid=4, my_contri=30\n",
            "Itr: 21 tid=1, my_contri=12\n",
            "Itr: 61 tid=3, my_contri=23\n",
            "Itr: 41 tid=2, my_contri=17\n",
            "Itr: 83 tid=4, my_contri=35\n",
            "Itr: 22 tid=1, my_contri=29\n",
            "Itr: 62 tid=3, my_contri=2\n",
            "Itr: 42 tid=2, my_contri=22\n",
            "Itr: 84 tid=4, my_contri=8\n",
            "Itr: 23 tid=1, my_contri=19\n",
            "Itr: 63 tid=3, my_contri=17\n",
            "Itr: 43 tid=2, my_contri=43\n",
            "Itr: 85 tid=4, my_contri=6\n",
            "Itr: 24 tid=1, my_contri=11\n",
            "Itr: 64 tid=3, my_contri=42\n",
            "Itr: 65 tid=3, my_contri=19\n",
            "Itr: 66 tid=3, my_contri=34\n",
            "Itr: 67 tid=3, my_contri=37\n",
            "Itr: 68 tid=3, my_contri=48\n",
            "Itr: 69 tid=3, my_contri=24\n",
            "Itr: 70 tid=3, my_contri=15\n",
            "Itr: 71 tid=3, my_contri=20\n",
            "Itr: 72 tid=3, my_contri=13\n",
            "Itr: 73 tid=3, my_contri=26\n",
            "Itr: 74 tid=3, my_contri=41\n",
            "Itr: 75 tid=3, my_contri=30\n",
            "Itr: 76 tid=3, my_contri=6\n",
            "Itr: 77 tid=3, my_contri=23\n",
            "Itr: 78 tid=3, my_contri=12\n",
            "Itr: 79 tid=3, my_contri=20\n",
            "Itr: 86 tid=4, my_contri=23\n",
            "Itr: 87 tid=4, my_contri=46\n",
            "Itr: 88 tid=4, my_contri=31\n",
            "Itr: 89 tid=4, my_contri=5\n",
            "Itr: 90 tid=4, my_contri=25\n",
            "Itr: 91 tid=4, my_contri=34\n",
            "Itr: 92 tid=4, my_contri=27\n",
            "Itr: 93 tid=4, my_contri=36\n",
            "Itr: 94 tid=4, my_contri=5\n",
            "Itr: 95 tid=4, my_contri=46\n",
            "Itr: 96 tid=4, my_contri=29\n",
            "Itr: 97 tid=4, my_contri=13\n",
            "Itr: 98 tid=4, my_contri=7\n",
            "Itr: 99 tid=4, my_contri=24\n",
            "Itr: 44 tid=2, my_contri=29\n",
            "Itr: 45 tid=2, my_contri=45\n",
            "Itr: 46 tid=2, my_contri=32\n",
            "Itr: 47 tid=2, my_contri=45\n",
            "Itr: 48 tid=2, my_contri=14\n",
            "Itr: 49 tid=2, my_contri=17\n",
            "Itr: 50 tid=2, my_contri=34\n",
            "Itr: 51 tid=2, my_contri=14\n",
            "Itr: 52 tid=2, my_contri=43\n",
            "Itr: 53 tid=2, my_contri=0\n",
            "Itr: 54 tid=2, my_contri=37\n",
            "Itr: 55 tid=2, my_contri=8\n",
            "Itr: 56 tid=2, my_contri=26\n",
            "Itr: 57 tid=2, my_contri=28\n",
            "Itr: 58 tid=2, my_contri=38\n",
            "Itr: 59 tid=2, my_contri=34\n",
            "Itr: 25 tid=1, my_contri=21\n",
            "Itr: 26 tid=1, my_contri=3\n",
            "Itr: 27 tid=1, my_contri=1\n",
            "Itr: 28 tid=1, my_contri=4\n",
            "Itr: 29 tid=1, my_contri=49\n",
            "Itr: 30 tid=1, my_contri=32\n",
            "Itr: 31 tid=1, my_contri=10\n",
            "Itr: 32 tid=1, my_contri=26\n",
            "Itr: 33 tid=1, my_contri=18\n",
            "Itr: 34 tid=1, my_contri=39\n",
            "Itr: 35 tid=1, my_contri=12\n",
            "Itr: 36 tid=1, my_contri=26\n",
            "Itr: 37 tid=1, my_contri=36\n",
            "Itr: 38 tid=1, my_contri=44\n",
            "Itr: 39 tid=1, my_contri=39\n",
            "Sum=2534"
          ]
        }
      ]
    },
    {
      "cell_type": "markdown",
      "source": [
        "## Matrix OpenMP"
      ],
      "metadata": {
        "id": "qSNeBKkReI8v"
      }
    },
    {
      "cell_type": "code",
      "source": [
        "%%writefile matrix1_openmp.c\n",
        "\n",
        "/*\n",
        " * Un programa simple para multiplicar matrices\n",
        " * (Matrix_A  X  Matrix_B) => Matrix_C\n",
        " */\n",
        "\n",
        "#include <stdio.h>\n",
        "#include <stdlib.h>\n",
        "#include <omp.h>\n",
        "#include <time.h>\n",
        "\n",
        "\n",
        "#define ARRAY_SIZE 10\n",
        "\n",
        "typedef int matrix_t[ARRAY_SIZE][ARRAY_SIZE];\n",
        "//creamos 3 matrices\n",
        "matrix_t MA,MB,MC;\n",
        "\n",
        "/*\n",
        "Rutina para multiplicar una fila por una columna y colocar un elemento en\n",
        "matriz resultante.\n",
        "*/\n",
        "void mult(int size,\n",
        "\t  int row,\n",
        "\t  int column,\n",
        "\t  matrix_t MA,\n",
        "\t  matrix_t MB,\n",
        "\t  matrix_t MC)\n",
        "{\n",
        "  int position;\n",
        "\n",
        "  MC[row][column] = 0;\n",
        "  for(position = 0; position < size; position++) {\n",
        "    MC[row][column] = MC[row][column] +\n",
        "      ( MA[row][position]  *  MB[position][column] ) ;\n",
        "  }\n",
        "}\n",
        "\n",
        "//colocamos valores random 1-10 en las matrices\n",
        "void inicializamos_matriz(int size,\n",
        "                    matrix_t MX)\n",
        "{\n",
        "    int   row, column;\n",
        "    srand(time(0));\n",
        "    for(row = 0; row < size; row++) {\n",
        "    for (column = 0; column < size; column++) {\n",
        "      MX[row][column]=rand()%10;\n",
        "    }\n",
        "  }\n",
        "}\n",
        "\n",
        "void imprimir_matriz(int size,\n",
        "                    matrix_t MX)\n",
        "{\n",
        "    int   row, column;\n",
        "    for(row = 0; row < size; row ++) {\n",
        "    for (column = 0; column < size; column++) {\n",
        "      printf(\"%5d \",MX[row][column]);\n",
        "    }\n",
        "    printf(\"\\n\");\n",
        "  }\n",
        "}\n",
        "\n",
        "\n",
        "// inicializamos valores y calcula los resultados\n",
        "\n",
        "int main(void)\n",
        "{\n",
        "  int      size, row, column;\n",
        "\n",
        "  size = ARRAY_SIZE;\n",
        "\n",
        "  // inicializamos los valores de la MA\n",
        "  inicializamos_matriz(size, MA);\n",
        "  //inicializamos los valores de la MB\n",
        "  inicializamos_matriz(size, MB);\n",
        "  //imprimimos\n",
        "  printf(\"La matriz A es;\\n\");\n",
        "  imprimir_matriz(size,MA);\n",
        "  printf(\"La matriz B es;\\n\");\n",
        "  imprimir_matriz(size,MB);\n",
        "\n",
        "  // procedemos a realizar la mutiplicacion por filas y columnas\n",
        "\n",
        "for(row = 0; row < size; row++) {\n",
        "    for (column = 0; column < size; column++) {\n",
        "      mult(size, row, column, MA, MB, MC);\n",
        "    }\n",
        "  }\n",
        "  //imprimimos los resultados\n",
        "  printf(\"La matriz resultante C es (serial);\\n\");\n",
        "  imprimir_matriz(size,MC);\n",
        "\n",
        "//multiplicamos en paralelo con openMP\n",
        "//#pragma omp parallel for\n",
        "#pragma omp parallel for collapse(2)\n",
        "  for(row = 0; row < size; row++) {\n",
        "    for (column = 0; column < size; column++) {\n",
        "      mult(size, row, column, MA, MB, MC);\n",
        "      //#pragma omp critical\n",
        "      //printf(\"row: %d col=%d, tid=%d\\n\", row,column, omp_get_thread_num());\n",
        "    }\n",
        "  }\n",
        "//end parallel section\n",
        "\n",
        "  //imprimimos los resultados\n",
        "  printf(\"La matriz resultante C es (openMP);\\n\");\n",
        "  imprimir_matriz(size,MC);\n",
        "\n",
        "  return 0;\n",
        "}"
      ],
      "metadata": {
        "colab": {
          "base_uri": "https://localhost:8080/"
        },
        "id": "MKmWSJefeMjf",
        "outputId": "9e8710d8-47e8-4bc4-e402-32fcad54e5f8"
      },
      "execution_count": 21,
      "outputs": [
        {
          "output_type": "stream",
          "name": "stdout",
          "text": [
            "Overwriting matrix1_openmp.c\n"
          ]
        }
      ]
    },
    {
      "cell_type": "code",
      "source": [
        "!gcc -o matrix1_openmp -fopenmp matrix1_openmp.c"
      ],
      "metadata": {
        "id": "RbXHH1zzeuCK"
      },
      "execution_count": 22,
      "outputs": []
    },
    {
      "cell_type": "code",
      "source": [
        "%env OMP_NUM_THREADS=10\n",
        "!./matrix1_openmp"
      ],
      "metadata": {
        "colab": {
          "base_uri": "https://localhost:8080/"
        },
        "id": "dDjQmm84eynb",
        "outputId": "04fe0b35-28d7-4491-a51e-836ff6533078"
      },
      "execution_count": 23,
      "outputs": [
        {
          "output_type": "stream",
          "name": "stdout",
          "text": [
            "env: OMP_NUM_THREADS=10\n",
            "La matriz A es;\n",
            "    4     9     1     9     6     5     8     5     8     0 \n",
            "    6     8     5     4     1     0     3     4     3     2 \n",
            "    9     3     0     0     3     4     3     8     7     9 \n",
            "    3     1     0     6     1     8     2     1     4     2 \n",
            "    2     0     1     9     6     4     9     9     8     5 \n",
            "    3     9     8     4     0     3     8     5     1     5 \n",
            "    4     6     7     6     3     0     4     7     3     0 \n",
            "    9     7     2     2     6     0     9     6     2     9 \n",
            "    3     5     9     3     9     1     6     0     6     8 \n",
            "    7     0     4     6     8     9     8     4     6     2 \n",
            "La matriz B es;\n",
            "    4     9     1     9     6     5     8     5     8     0 \n",
            "    6     8     5     4     1     0     3     4     3     2 \n",
            "    9     3     0     0     3     4     3     8     7     9 \n",
            "    3     1     0     6     1     8     2     1     4     2 \n",
            "    2     0     1     9     6     4     9     9     8     5 \n",
            "    3     9     8     4     0     3     8     5     1     5 \n",
            "    4     6     7     6     3     0     4     7     3     0 \n",
            "    9     7     2     2     6     0     9     6     2     9 \n",
            "    3     5     9     3     9     1     6     0     6     8 \n",
            "    7     0     4     6     8     9     8     4     6     2 \n",
            "La matriz resultante C es (serial);\n",
            "  234   288   233   282   207   143   299   238   237   209 \n",
            "  202   198   111   166   145   107   186   168   178   138 \n",
            "  240   250   195   245   267   157   338   209   230   187 \n",
            "  105   152   133   146    95   113   169   102   111   104 \n",
            "  244   223   213   268   253   175   328   238   234   232 \n",
            "  274   242   167   190   158   134   230   240   196   176 \n",
            "  227   199   106   170   156   111   207   203   191   189 \n",
            "  273   251   179   301   258   176   331   280   268   154 \n",
            "  251   172   173   252   243   192   285   270   289   211 \n",
            "  225   268   213   293   226   182   344   278   261   221 \n",
            "La matriz resultante C es (openMP);\n",
            "  234   288   233   282   207   143   299   238   237   209 \n",
            "  202   198   111   166   145   107   186   168   178   138 \n",
            "  240   250   195   245   267   157   338   209   230   187 \n",
            "  105   152   133   146    95   113   169   102   111   104 \n",
            "  244   223   213   268   253   175   328   238   234   232 \n",
            "  274   242   167   190   158   134   230   240   196   176 \n",
            "  227   199   106   170   156   111   207   203   191   189 \n",
            "  273   251   179   301   258   176   331   280   268   154 \n",
            "  251   172   173   252   243   192   285   270   289   211 \n",
            "  225   268   213   293   226   182   344   278   261   221 \n"
          ]
        }
      ]
    }
  ]
}