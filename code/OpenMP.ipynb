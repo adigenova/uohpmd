{
  "nbformat": 4,
  "nbformat_minor": 0,
  "metadata": {
    "colab": {
      "provenance": [],
      "include_colab_link": true
    },
    "kernelspec": {
      "name": "python3",
      "display_name": "Python 3"
    }
  },
  "cells": [
    {
      "cell_type": "markdown",
      "metadata": {
        "id": "view-in-github",
        "colab_type": "text"
      },
      "source": [
        "<a href=\"https://colab.research.google.com/github/adigenova/uohpmd/blob/main/code/OpenMP.ipynb\" target=\"_parent\"><img src=\"https://colab.research.google.com/assets/colab-badge.svg\" alt=\"Open In Colab\"/></a>"
      ]
    },
    {
      "cell_type": "markdown",
      "source": [
        "## Instalación libreria OpenMP"
      ],
      "metadata": {
        "id": "jXsiGm7yQlHi"
      }
    },
    {
      "cell_type": "code",
      "source": [
        "!gcc --version"
      ],
      "metadata": {
        "colab": {
          "base_uri": "https://localhost:8080/"
        },
        "id": "NI2OOtnBOzA9",
        "outputId": "26a087b7-5820-4f51-c6ad-e82961f1ee78"
      },
      "execution_count": 1,
      "outputs": [
        {
          "output_type": "stream",
          "name": "stdout",
          "text": [
            "gcc (Ubuntu 11.4.0-1ubuntu1~22.04) 11.4.0\n",
            "Copyright (C) 2021 Free Software Foundation, Inc.\n",
            "This is free software; see the source for copying conditions.  There is NO\n",
            "warranty; not even for MERCHANTABILITY or FITNESS FOR A PARTICULAR PURPOSE.\n",
            "\n"
          ]
        }
      ]
    },
    {
      "cell_type": "code",
      "source": [
        "!apt install libomp-dev"
      ],
      "metadata": {
        "colab": {
          "base_uri": "https://localhost:8080/"
        },
        "id": "CB7WNLBWPNzS",
        "outputId": "404f0181-1751-4c3e-d748-7bbede9006ab"
      },
      "execution_count": 2,
      "outputs": [
        {
          "output_type": "stream",
          "name": "stdout",
          "text": [
            "Reading package lists... Done\n",
            "Building dependency tree... Done\n",
            "Reading state information... Done\n",
            "The following additional packages will be installed:\n",
            "  libomp-14-dev libomp5-14\n",
            "Suggested packages:\n",
            "  libomp-14-doc\n",
            "The following NEW packages will be installed:\n",
            "  libomp-14-dev libomp-dev libomp5-14\n",
            "0 upgraded, 3 newly installed, 0 to remove and 49 not upgraded.\n",
            "Need to get 738 kB of archives.\n",
            "After this operation, 8,991 kB of additional disk space will be used.\n",
            "Get:1 http://archive.ubuntu.com/ubuntu jammy-updates/universe amd64 libomp5-14 amd64 1:14.0.0-1ubuntu1.1 [389 kB]\n",
            "Get:2 http://archive.ubuntu.com/ubuntu jammy-updates/universe amd64 libomp-14-dev amd64 1:14.0.0-1ubuntu1.1 [347 kB]\n",
            "Get:3 http://archive.ubuntu.com/ubuntu jammy/universe amd64 libomp-dev amd64 1:14.0-55~exp2 [3,074 B]\n",
            "Fetched 738 kB in 1s (1,007 kB/s)\n",
            "Selecting previously unselected package libomp5-14:amd64.\n",
            "(Reading database ... 123597 files and directories currently installed.)\n",
            "Preparing to unpack .../libomp5-14_1%3a14.0.0-1ubuntu1.1_amd64.deb ...\n",
            "Unpacking libomp5-14:amd64 (1:14.0.0-1ubuntu1.1) ...\n",
            "Selecting previously unselected package libomp-14-dev.\n",
            "Preparing to unpack .../libomp-14-dev_1%3a14.0.0-1ubuntu1.1_amd64.deb ...\n",
            "Unpacking libomp-14-dev (1:14.0.0-1ubuntu1.1) ...\n",
            "Selecting previously unselected package libomp-dev:amd64.\n",
            "Preparing to unpack .../libomp-dev_1%3a14.0-55~exp2_amd64.deb ...\n",
            "Unpacking libomp-dev:amd64 (1:14.0-55~exp2) ...\n",
            "Setting up libomp5-14:amd64 (1:14.0.0-1ubuntu1.1) ...\n",
            "Setting up libomp-14-dev (1:14.0.0-1ubuntu1.1) ...\n",
            "Setting up libomp-dev:amd64 (1:14.0-55~exp2) ...\n",
            "Processing triggers for libc-bin (2.35-0ubuntu3.4) ...\n",
            "/sbin/ldconfig.real: /usr/local/lib/libur_adapter_level_zero.so.0 is not a symbolic link\n",
            "\n",
            "/sbin/ldconfig.real: /usr/local/lib/libtbbbind_2_0.so.3 is not a symbolic link\n",
            "\n",
            "/sbin/ldconfig.real: /usr/local/lib/libtbbmalloc_proxy.so.2 is not a symbolic link\n",
            "\n",
            "/sbin/ldconfig.real: /usr/local/lib/libur_loader.so.0 is not a symbolic link\n",
            "\n",
            "/sbin/ldconfig.real: /usr/local/lib/libtbb.so.12 is not a symbolic link\n",
            "\n",
            "/sbin/ldconfig.real: /usr/local/lib/libur_adapter_opencl.so.0 is not a symbolic link\n",
            "\n",
            "/sbin/ldconfig.real: /usr/local/lib/libtbbbind.so.3 is not a symbolic link\n",
            "\n",
            "/sbin/ldconfig.real: /usr/local/lib/libtbbmalloc.so.2 is not a symbolic link\n",
            "\n",
            "/sbin/ldconfig.real: /usr/local/lib/libtbbbind_2_5.so.3 is not a symbolic link\n",
            "\n"
          ]
        }
      ]
    },
    {
      "cell_type": "code",
      "source": [
        "!echo |cpp -fopenmp -dM |grep -i open"
      ],
      "metadata": {
        "colab": {
          "base_uri": "https://localhost:8080/"
        },
        "id": "xlCufEKtO748",
        "outputId": "585b6066-8812-4140-eb42-58478fb88b6b"
      },
      "execution_count": 3,
      "outputs": [
        {
          "output_type": "stream",
          "name": "stdout",
          "text": [
            "#define _OPENMP 201511\n"
          ]
        }
      ]
    },
    {
      "cell_type": "markdown",
      "metadata": {
        "id": "QG83fqWNsOz2"
      },
      "source": [
        "## Hola Mundo con OpenMP"
      ]
    },
    {
      "cell_type": "code",
      "metadata": {
        "id": "jvvfu1PvWX8p",
        "colab": {
          "base_uri": "https://localhost:8080/"
        },
        "outputId": "921ce207-b4ff-4e95-903d-1b086fe1ed38"
      },
      "source": [
        "%%writefile holamundo_openmp.c\n",
        "// Programa en C y OpenMP para imprimir hola mundo\n",
        "// libreria OpenMP\n",
        "#include <omp.h>\n",
        "#include <stdio.h>\n",
        "#include <stdlib.h>\n",
        "\n",
        "int main(int argc, char* argv[])\n",
        "{\n",
        "\n",
        "    // Comienzo de la region paralela\n",
        "    #pragma omp parallel\n",
        "    {\n",
        "        printf(\"Hola Mundo... desde hilo = %d \\n\", omp_get_thread_num());\n",
        "    }\n",
        "    // Fin de la region paralela\n",
        "}"
      ],
      "execution_count": 4,
      "outputs": [
        {
          "output_type": "stream",
          "name": "stdout",
          "text": [
            "Writing holamundo_openmp.c\n"
          ]
        }
      ]
    },
    {
      "cell_type": "code",
      "metadata": {
        "id": "TWGAyAbzXGQj",
        "outputId": "3e0aebeb-8ec2-48c1-ea85-5abaabd31b01",
        "colab": {
          "base_uri": "https://localhost:8080/"
        }
      },
      "source": [
        "#definimos los numeros de hilos a utilizar\n",
        "%env OMP_NUM_THREADS=10\n",
        "! echo $OMP_NUM_THREADS\n",
        "! env"
      ],
      "execution_count": 7,
      "outputs": [
        {
          "output_type": "stream",
          "name": "stdout",
          "text": [
            "env: OMP_NUM_THREADS=10\n",
            "10\n",
            "SHELL=/bin/bash\n",
            "NV_LIBCUBLAS_VERSION=12.2.5.6-1\n",
            "NVIDIA_VISIBLE_DEVICES=all\n",
            "COLAB_JUPYTER_TRANSPORT=ipc\n",
            "NV_NVML_DEV_VERSION=12.2.140-1\n",
            "NV_CUDNN_PACKAGE_NAME=libcudnn8\n",
            "CGROUP_MEMORY_EVENTS=/sys/fs/cgroup/memory.events /var/colab/cgroup/jupyter-children/memory.events\n",
            "NV_LIBNCCL_DEV_PACKAGE=libnccl-dev=2.19.3-1+cuda12.2\n",
            "NV_LIBNCCL_DEV_PACKAGE_VERSION=2.19.3-1\n",
            "VM_GCE_METADATA_HOST=169.254.169.253\n",
            "HOSTNAME=68ea6e4a7ba8\n",
            "LANGUAGE=en_US\n",
            "TBE_RUNTIME_ADDR=172.28.0.1:8011\n",
            "COLAB_TPU_1VM=\n",
            "GCE_METADATA_TIMEOUT=3\n",
            "NVIDIA_REQUIRE_CUDA=cuda>=12.2 brand=tesla,driver>=470,driver<471 brand=unknown,driver>=470,driver<471 brand=nvidia,driver>=470,driver<471 brand=nvidiartx,driver>=470,driver<471 brand=geforce,driver>=470,driver<471 brand=geforcertx,driver>=470,driver<471 brand=quadro,driver>=470,driver<471 brand=quadrortx,driver>=470,driver<471 brand=titan,driver>=470,driver<471 brand=titanrtx,driver>=470,driver<471 brand=tesla,driver>=525,driver<526 brand=unknown,driver>=525,driver<526 brand=nvidia,driver>=525,driver<526 brand=nvidiartx,driver>=525,driver<526 brand=geforce,driver>=525,driver<526 brand=geforcertx,driver>=525,driver<526 brand=quadro,driver>=525,driver<526 brand=quadrortx,driver>=525,driver<526 brand=titan,driver>=525,driver<526 brand=titanrtx,driver>=525,driver<526\n",
            "NV_LIBCUBLAS_DEV_PACKAGE=libcublas-dev-12-2=12.2.5.6-1\n",
            "NV_NVTX_VERSION=12.2.140-1\n",
            "COLAB_JUPYTER_IP=172.28.0.12\n",
            "NV_CUDA_CUDART_DEV_VERSION=12.2.140-1\n",
            "NV_LIBCUSPARSE_VERSION=12.1.2.141-1\n",
            "COLAB_LANGUAGE_SERVER_PROXY_ROOT_URL=http://172.28.0.1:8013/\n",
            "NV_LIBNPP_VERSION=12.2.1.4-1\n",
            "NCCL_VERSION=2.19.3-1\n",
            "KMP_LISTEN_PORT=6000\n",
            "TF_FORCE_GPU_ALLOW_GROWTH=true\n",
            "ENV=/root/.bashrc\n",
            "PWD=/content\n",
            "TBE_EPHEM_CREDS_ADDR=172.28.0.1:8009\n",
            "COLAB_LANGUAGE_SERVER_PROXY_REQUEST_TIMEOUT=30s\n",
            "TBE_CREDS_ADDR=172.28.0.1:8008\n",
            "NV_CUDNN_PACKAGE=libcudnn8=8.9.6.50-1+cuda12.2\n",
            "NVIDIA_DRIVER_CAPABILITIES=compute,utility\n",
            "COLAB_JUPYTER_TOKEN=\n",
            "LAST_FORCED_REBUILD=20240627\n",
            "NV_NVPROF_DEV_PACKAGE=cuda-nvprof-12-2=12.2.142-1\n",
            "NV_LIBNPP_PACKAGE=libnpp-12-2=12.2.1.4-1\n",
            "NV_LIBNCCL_DEV_PACKAGE_NAME=libnccl-dev\n",
            "TCLLIBPATH=/usr/share/tcltk/tcllib1.20\n",
            "NV_LIBCUBLAS_DEV_VERSION=12.2.5.6-1\n",
            "COLAB_KERNEL_MANAGER_PROXY_HOST=172.28.0.12\n",
            "NVIDIA_PRODUCT_NAME=CUDA\n",
            "NV_LIBCUBLAS_DEV_PACKAGE_NAME=libcublas-dev-12-2\n",
            "USE_AUTH_EPHEM=1\n",
            "NV_CUDA_CUDART_VERSION=12.2.140-1\n",
            "COLAB_WARMUP_DEFAULTS=1\n",
            "HOME=/root\n",
            "LANG=en_US.UTF-8\n",
            "COLUMNS=100\n",
            "CUDA_VERSION=12.2.2\n",
            "CLOUDSDK_CONFIG=/content/.config\n",
            "NV_LIBCUBLAS_PACKAGE=libcublas-12-2=12.2.5.6-1\n",
            "NV_CUDA_NSIGHT_COMPUTE_DEV_PACKAGE=cuda-nsight-compute-12-2=12.2.2-1\n",
            "COLAB_RELEASE_TAG=release-colab_20240905-060129_RC01\n",
            "PYDEVD_USE_FRAME_EVAL=NO\n",
            "KMP_TARGET_PORT=9000\n",
            "CLICOLOR=1\n",
            "KMP_EXTRA_ARGS=--logtostderr --listen_host=172.28.0.12 --target_host=172.28.0.12 --tunnel_background_save_url=https://colab.research.google.com/tun/m/cc48301118ce562b961b3c22d803539adc1e0c19/m-s-3euxk7gdus8vd --tunnel_background_save_delay=10s --tunnel_periodic_background_save_frequency=30m0s --enable_output_coalescing=true --output_coalescing_required=true --log_code_content\n",
            "NV_LIBNPP_DEV_PACKAGE=libnpp-dev-12-2=12.2.1.4-1\n",
            "COLAB_LANGUAGE_SERVER_PROXY_LSP_DIRS=/datalab/web/pyright/typeshed-fallback/stdlib,/usr/local/lib/python3.10/dist-packages\n",
            "NV_LIBCUBLAS_PACKAGE_NAME=libcublas-12-2\n",
            "COLAB_KERNEL_MANAGER_PROXY_PORT=6000\n",
            "CLOUDSDK_PYTHON=python3\n",
            "NV_LIBNPP_DEV_VERSION=12.2.1.4-1\n",
            "ENABLE_DIRECTORYPREFETCHER=1\n",
            "NO_GCE_CHECK=False\n",
            "JPY_PARENT_PID=81\n",
            "PYTHONPATH=/env/python\n",
            "TERM=xterm-color\n",
            "NV_LIBCUSPARSE_DEV_VERSION=12.1.2.141-1\n",
            "GIT_PAGER=cat\n",
            "LIBRARY_PATH=/usr/local/cuda/lib64/stubs\n",
            "NV_CUDNN_VERSION=8.9.6.50\n",
            "SHLVL=0\n",
            "PAGER=cat\n",
            "COLAB_LANGUAGE_SERVER_PROXY=/usr/colab/bin/language_service\n",
            "NV_CUDA_LIB_VERSION=12.2.2-1\n",
            "NVARCH=x86_64\n",
            "NV_CUDNN_PACKAGE_DEV=libcudnn8-dev=8.9.6.50-1+cuda12.2\n",
            "NV_CUDA_COMPAT_PACKAGE=cuda-compat-12-2\n",
            "MPLBACKEND=module://ipykernel.pylab.backend_inline\n",
            "NV_LIBNCCL_PACKAGE=libnccl2=2.19.3-1+cuda12.2\n",
            "LD_LIBRARY_PATH=/usr/local/nvidia/lib:/usr/local/nvidia/lib64\n",
            "COLAB_GPU=\n",
            "GCS_READ_CACHE_BLOCK_SIZE_MB=16\n",
            "NV_CUDA_NSIGHT_COMPUTE_VERSION=12.2.2-1\n",
            "OMP_NUM_THREADS=10\n",
            "NV_NVPROF_VERSION=12.2.142-1\n",
            "LC_ALL=en_US.UTF-8\n",
            "COLAB_FILE_HANDLER_ADDR=localhost:3453\n",
            "PATH=/opt/bin:/usr/local/nvidia/bin:/usr/local/cuda/bin:/usr/local/sbin:/usr/local/bin:/usr/sbin:/usr/bin:/sbin:/bin:/tools/node/bin:/tools/google-cloud-sdk/bin\n",
            "NV_LIBNCCL_PACKAGE_NAME=libnccl2\n",
            "COLAB_DEBUG_ADAPTER_MUX_PATH=/usr/local/bin/dap_multiplexer\n",
            "NV_LIBNCCL_PACKAGE_VERSION=2.19.3-1\n",
            "PYTHONWARNINGS=ignore:::pip._internal.cli.base_command\n",
            "DEBIAN_FRONTEND=noninteractive\n",
            "COLAB_BACKEND_VERSION=next\n",
            "OLDPWD=/\n",
            "_=/usr/bin/env\n"
          ]
        }
      ]
    },
    {
      "cell_type": "code",
      "metadata": {
        "id": "GjnLgIQd7-gQ"
      },
      "source": [
        "!gcc -o holamundo_openmp -fopenmp holamundo_openmp.c"
      ],
      "execution_count": 10,
      "outputs": []
    },
    {
      "cell_type": "code",
      "metadata": {
        "id": "dozKqOBWXSPI",
        "outputId": "d854f336-3aed-411a-ff92-1f0101cd059a",
        "colab": {
          "base_uri": "https://localhost:8080/"
        }
      },
      "source": [
        "%env OMP_NUM_THREADS=10\n",
        "!./holamundo_openmp"
      ],
      "execution_count": 11,
      "outputs": [
        {
          "output_type": "stream",
          "name": "stdout",
          "text": [
            "env: OMP_NUM_THREADS=10\n",
            "Hola Mundo... desde hilo = 0 \n",
            "Hola Mundo... desde hilo = 7 \n",
            "Hola Mundo... desde hilo = 6 \n",
            "Hola Mundo... desde hilo = 8 \n",
            "Hola Mundo... desde hilo = 9 \n",
            "Hola Mundo... desde hilo = 5 \n",
            "Hola Mundo... desde hilo = 4 \n",
            "Hola Mundo... desde hilo = 3 \n",
            "Hola Mundo... desde hilo = 2 \n",
            "Hola Mundo... desde hilo = 1 \n"
          ]
        }
      ]
    },
    {
      "cell_type": "markdown",
      "source": [
        "##  Ejemplos\n",
        "\n",
        "### Paralelizando For"
      ],
      "metadata": {
        "id": "J3fIka4dR-L6"
      }
    },
    {
      "cell_type": "code",
      "source": [
        "%%writefile for_openmp1.c\n",
        "\n",
        "#include <omp.h>\n",
        "#include <stdio.h>\n",
        "\n",
        "int main() {\n",
        "  int k;\n",
        "\n",
        "#pragma omp parallel\n",
        "{\n",
        "    for (k = 0; k < 10; k++)\n",
        "      printf(\"Itr: %d tid=%d\\n\", k, omp_get_thread_num());\n",
        "}\n",
        "  return 0;\n",
        "}"
      ],
      "metadata": {
        "colab": {
          "base_uri": "https://localhost:8080/"
        },
        "id": "Nc4SuB_YR9QA",
        "outputId": "66f09191-2564-4030-e91d-e6074568c93c"
      },
      "execution_count": 12,
      "outputs": [
        {
          "output_type": "stream",
          "name": "stdout",
          "text": [
            "Writing for_openmp1.c\n"
          ]
        }
      ]
    },
    {
      "cell_type": "code",
      "source": [
        "!gcc -o for_openmp1 -fopenmp for_openmp1.c"
      ],
      "metadata": {
        "id": "Ab6MJthNSexl"
      },
      "execution_count": 13,
      "outputs": []
    },
    {
      "cell_type": "code",
      "source": [
        "%env OMP_NUM_THREADS=5\n",
        "!./for_openmp1"
      ],
      "metadata": {
        "id": "whyIXzqWStp8",
        "outputId": "314b4102-b18f-4856-87d9-ad0db85eee91",
        "colab": {
          "base_uri": "https://localhost:8080/"
        }
      },
      "execution_count": 14,
      "outputs": [
        {
          "output_type": "stream",
          "name": "stdout",
          "text": [
            "env: OMP_NUM_THREADS=5\n",
            "Itr: 0 tid=2\n",
            "Itr: 1 tid=2\n",
            "Itr: 2 tid=2\n",
            "Itr: 3 tid=2\n",
            "Itr: 4 tid=2\n",
            "Itr: 5 tid=2\n",
            "Itr: 6 tid=2\n",
            "Itr: 7 tid=2\n",
            "Itr: 8 tid=2\n",
            "Itr: 9 tid=2\n",
            "Itr: 0 tid=3\n",
            "Itr: 0 tid=1\n",
            "Itr: 0 tid=4\n",
            "Itr: 0 tid=0\n",
            "Itr: 2 tid=0\n",
            "Itr: 3 tid=4\n",
            "Itr: 6 tid=4\n",
            "Itr: 7 tid=4\n",
            "Itr: 8 tid=4\n",
            "Itr: 9 tid=4\n",
            "Itr: 4 tid=0\n",
            "Itr: 1 tid=3\n",
            "Itr: 5 tid=1\n"
          ]
        }
      ]
    },
    {
      "cell_type": "code",
      "source": [
        "%%writefile for_openmp2.c\n",
        "#include <omp.h>\n",
        "#include <stdio.h>\n",
        "\n",
        "int main() {\n",
        "  int k;\n",
        "\n",
        "#pragma omp parallel\n",
        "{\n",
        "#pragma omp for\n",
        "    for (k = 0; k < 10; k++)\n",
        "      printf(\"Itr: %d tid=%d\\n\", k, omp_get_thread_num());\n",
        "}\n",
        "  return 0;\n",
        "}"
      ],
      "metadata": {
        "colab": {
          "base_uri": "https://localhost:8080/"
        },
        "id": "oRNxact2T94Z",
        "outputId": "551c877c-2f4f-4e74-efca-97d4f9d0b036"
      },
      "execution_count": 15,
      "outputs": [
        {
          "output_type": "stream",
          "name": "stdout",
          "text": [
            "Writing for_openmp2.c\n"
          ]
        }
      ]
    },
    {
      "cell_type": "code",
      "source": [
        "%%writefile for_openmp2.c\n",
        "#include <omp.h>\n",
        "#include <stdio.h>\n",
        "\n",
        "int main() {\n",
        "  int k;\n",
        "\n",
        "#pragma omp parallel for\n",
        "    for (k = 0; k < 10; k++)\n",
        "      printf(\"Itr: %d tid=%d\\n\", k, omp_get_thread_num());\n",
        "\n",
        "  return 0;\n",
        "}"
      ],
      "metadata": {
        "colab": {
          "base_uri": "https://localhost:8080/"
        },
        "id": "DGmPECTKY-fF",
        "outputId": "f49b7a33-931b-4933-9147-9cdd05141d70"
      },
      "execution_count": 20,
      "outputs": [
        {
          "output_type": "stream",
          "name": "stdout",
          "text": [
            "Overwriting for_openmp2.c\n"
          ]
        }
      ]
    },
    {
      "cell_type": "code",
      "source": [
        "!gcc -o for_openmp2 -fopenmp for_openmp2.c"
      ],
      "metadata": {
        "id": "oHTwih_nUPJj"
      },
      "execution_count": 21,
      "outputs": []
    },
    {
      "cell_type": "code",
      "source": [
        "%env OMP_NUM_THREADS=5\n",
        "!./for_openmp2"
      ],
      "metadata": {
        "id": "fhFwWWUkUVUF",
        "outputId": "13c02d46-15c9-43f5-caf1-8183b6243233",
        "colab": {
          "base_uri": "https://localhost:8080/"
        }
      },
      "execution_count": 22,
      "outputs": [
        {
          "output_type": "stream",
          "name": "stdout",
          "text": [
            "env: OMP_NUM_THREADS=5\n",
            "Itr: 0 tid=0\n",
            "Itr: 1 tid=0\n",
            "Itr: 4 tid=2\n",
            "Itr: 5 tid=2\n",
            "Itr: 2 tid=1\n",
            "Itr: 3 tid=1\n",
            "Itr: 6 tid=3\n",
            "Itr: 7 tid=3\n",
            "Itr: 8 tid=4\n",
            "Itr: 9 tid=4\n"
          ]
        }
      ]
    },
    {
      "cell_type": "markdown",
      "source": [
        "## Secciones paralelas"
      ],
      "metadata": {
        "id": "UJzAb80nECKT"
      }
    },
    {
      "cell_type": "code",
      "source": [
        "%%writefile omp_sections.c\n",
        "#include <omp.h>\n",
        "#include <stdio.h>\n",
        "#include <unistd.h>\n",
        "\n",
        "void Work1(){\n",
        "    printf(\"executing work 1 hilo:%d\\n\",  omp_get_thread_num());\n",
        "    sleep(1);\n",
        "}\n",
        "void Work2(){\n",
        "    printf(\"executing work 2 hilo:%d\\n\",  omp_get_thread_num());\n",
        "    sleep(1);\n",
        "}\n",
        "\n",
        "void Work3(){\n",
        "    printf(\"executing work 3 hilo:%d\\n\",  omp_get_thread_num());\n",
        "\n",
        "}\n",
        "void Work4(){\n",
        "    printf(\"executing work 4 hilo:%d\\n\",  omp_get_thread_num());\n",
        "    sleep(1);\n",
        "}\n",
        "\n",
        "int main() {\n",
        "\n",
        "\n",
        " printf(\"Antes de la seccion paralela\\n\");\n",
        "\n",
        " #pragma omp parallel sections\n",
        " {\n",
        "   { Work1(); }\n",
        "   #pragma omp section\n",
        "   { Work2();\n",
        "     Work3();}\n",
        "   #pragma omp section\n",
        "   { Work4(); }\n",
        " }\n",
        "\n",
        " printf(\"Luego de la seccion paralela\\n\");\n",
        "\n",
        " return 0;\n",
        "}"
      ],
      "metadata": {
        "colab": {
          "base_uri": "https://localhost:8080/"
        },
        "id": "kfgnjGZWCqJb",
        "outputId": "7dab6a31-0fff-4e7e-9a9b-a6f163f4ae05"
      },
      "execution_count": 29,
      "outputs": [
        {
          "output_type": "stream",
          "name": "stdout",
          "text": [
            "Overwriting omp_sections.c\n"
          ]
        }
      ]
    },
    {
      "cell_type": "code",
      "source": [
        "!gcc -o omp_sections -fopenmp omp_sections.c"
      ],
      "metadata": {
        "id": "EBW8Fg7mDOxO"
      },
      "execution_count": 31,
      "outputs": []
    },
    {
      "cell_type": "code",
      "source": [
        "%env OMP_NUM_THREADS=2\n",
        "!./omp_sections"
      ],
      "metadata": {
        "id": "NpAzZtPxDY2v",
        "outputId": "e26d19e2-dc27-4694-bab1-db26718b68f8",
        "colab": {
          "base_uri": "https://localhost:8080/"
        }
      },
      "execution_count": 32,
      "outputs": [
        {
          "output_type": "stream",
          "name": "stdout",
          "text": [
            "env: OMP_NUM_THREADS=2\n",
            "Antes de la seccion paralela\n",
            "executing work 1 hilo:1\n",
            "executing work 2 hilo:0\n",
            "executing work 4 hilo:1\n",
            "executing work 3 hilo:0\n",
            "Luego de la seccion paralela\n"
          ]
        }
      ]
    },
    {
      "cell_type": "markdown",
      "source": [
        "## Construcciones unicas"
      ],
      "metadata": {
        "id": "A-Nlc6N7FiPS"
      }
    },
    {
      "cell_type": "code",
      "source": [
        "%%writefile omp_single.c\n",
        "#include <omp.h>\n",
        "#include <stdio.h>\n",
        "#include <unistd.h>\n",
        "\n",
        "void Work1(){\n",
        "    printf(\"executing work 1 hilo:%d\\n\",  omp_get_thread_num());\n",
        "    sleep(1);\n",
        "}\n",
        "void Work2(){\n",
        "    printf(\"executing work 2 hilo:%d\\n\",  omp_get_thread_num());\n",
        "    sleep(1);\n",
        "}\n",
        "\n",
        "void Work3(){\n",
        "    printf(\"executing work 3 hilo:%d\\n\",  omp_get_thread_num());\n",
        "\n",
        "}\n",
        "void Work4(){\n",
        "    printf(\"executing work 4 hilo:%d\\n\",  omp_get_thread_num());\n",
        "    sleep(1);\n",
        "}\n",
        "\n",
        "int main() {\n",
        "\n",
        " #pragma omp parallel\n",
        " {\n",
        "   Work1();\n",
        "   #pragma omp single\n",
        "   { Work2();\n",
        "     Work3();\n",
        "   }\n",
        "    Work4();\n",
        " }\n",
        "\n",
        " return 0;\n",
        "}"
      ],
      "metadata": {
        "colab": {
          "base_uri": "https://localhost:8080/"
        },
        "id": "GawCnw7KHSAo",
        "outputId": "648cc1a2-1849-4ab0-8ef1-94ad71f0a0d1"
      },
      "execution_count": 33,
      "outputs": [
        {
          "output_type": "stream",
          "name": "stdout",
          "text": [
            "Writing omp_single.c\n"
          ]
        }
      ]
    },
    {
      "cell_type": "code",
      "source": [
        "!gcc -o omp_single -fopenmp omp_single.c"
      ],
      "metadata": {
        "id": "-PghoRhYHqyS"
      },
      "execution_count": 34,
      "outputs": []
    },
    {
      "cell_type": "code",
      "source": [
        "%env OMP_NUM_THREADS=5\n",
        "!./omp_single"
      ],
      "metadata": {
        "colab": {
          "base_uri": "https://localhost:8080/"
        },
        "id": "D8VTU13_Hq-w",
        "outputId": "3e33b750-6355-4965-8992-237fe080a6c0"
      },
      "execution_count": 36,
      "outputs": [
        {
          "output_type": "stream",
          "name": "stdout",
          "text": [
            "env: OMP_NUM_THREADS=5\n",
            "executing work 1 hilo:3\n",
            "executing work 1 hilo:4\n",
            "executing work 1 hilo:0\n",
            "executing work 1 hilo:2\n",
            "executing work 1 hilo:1\n",
            "executing work 2 hilo:3\n",
            "executing work 3 hilo:3\n",
            "executing work 4 hilo:0\n",
            "executing work 4 hilo:2\n",
            "executing work 4 hilo:1\n",
            "executing work 4 hilo:3\n",
            "executing work 4 hilo:4\n"
          ]
        }
      ]
    },
    {
      "cell_type": "markdown",
      "source": [
        "## Paralelismo anidado"
      ],
      "metadata": {
        "id": "0KT7TtVyIaYp"
      }
    },
    {
      "cell_type": "code",
      "source": [
        "%%writefile omp_nested.c\n",
        "\n",
        "#include <omp.h>\n",
        "#include <stdio.h>\n",
        "#include <unistd.h>\n",
        "\n",
        "void Work1(){\n",
        "    printf(\"executing work 1 hilo:%d\\n\",  omp_get_thread_num());\n",
        "\n",
        "\n",
        "    sleep(1);\n",
        "}\n",
        "void Work2(){\n",
        "    printf(\"executing work 2 hilo:%d\\n\",  omp_get_thread_num());\n",
        "\n",
        "\n",
        "    sleep(1);\n",
        "}\n",
        "\n",
        "int main() {\n",
        "\n",
        " #pragma omp parallel num_threads(1)\n",
        " {\n",
        "   Work1();\n",
        "\n",
        "   #pragma omp parallel num_threads(5)\n",
        "   {  //1 x 5 = 5 threads\n",
        "      Work2();\n",
        "   }\n",
        " }\n",
        "\n",
        " return 0;\n",
        "}"
      ],
      "metadata": {
        "colab": {
          "base_uri": "https://localhost:8080/"
        },
        "id": "iRmWLds1IeA8",
        "outputId": "65da5dba-c731-4de5-d6ce-22155b5e8579"
      },
      "execution_count": 37,
      "outputs": [
        {
          "output_type": "stream",
          "name": "stdout",
          "text": [
            "Writing omp_nested.c\n"
          ]
        }
      ]
    },
    {
      "cell_type": "code",
      "source": [
        "!gcc -o omp_nested -fopenmp omp_nested.c"
      ],
      "metadata": {
        "id": "0xRNWzHmJQFo"
      },
      "execution_count": 38,
      "outputs": []
    },
    {
      "cell_type": "code",
      "source": [
        "#%env OMP_NUM_THREADS=5\n",
        "!./omp_nested"
      ],
      "metadata": {
        "id": "XEuKxbfuJUMn",
        "outputId": "6c78d5a2-8762-45ca-b617-53fb67e53f53",
        "colab": {
          "base_uri": "https://localhost:8080/"
        }
      },
      "execution_count": 39,
      "outputs": [
        {
          "output_type": "stream",
          "name": "stdout",
          "text": [
            "executing work 1 hilo:0\n",
            "executing work 2 hilo:2\n",
            "executing work 2 hilo:1\n",
            "executing work 2 hilo:0\n",
            "executing work 2 hilo:4\n",
            "executing work 2 hilo:3\n"
          ]
        }
      ]
    },
    {
      "cell_type": "markdown",
      "source": [
        "## Sincronización\n",
        "\n",
        "### Secciones criticas\n",
        "\n"
      ],
      "metadata": {
        "id": "M3TO1ilpZs51"
      }
    },
    {
      "cell_type": "code",
      "source": [
        "%%writefile sync_openmp.c\n",
        "\n",
        "#include <omp.h>\n",
        "#include <stdio.h>\n",
        "#include <stdlib.h>\n",
        "\n",
        "int main() {\n",
        "  int k;\n",
        " int sum=0;\n",
        "\n",
        "#pragma omp parallel for shared(sum)\n",
        "  for (k = 0; k < 100; k++) {\n",
        "    int c=rand()%50;\n",
        "    printf(\"Itr: %d tid=%d, my_contri=%d\\n\", k, omp_get_thread_num(),c);\n",
        "  #pragma omp critical\n",
        "  sum+=c;\n",
        "}\n",
        "\n",
        "printf(\"Sum=%d\",sum);\n",
        "  return 0;\n",
        "}"
      ],
      "metadata": {
        "colab": {
          "base_uri": "https://localhost:8080/"
        },
        "id": "_7Tt7Ew0Z64W",
        "outputId": "e261218b-7263-4053-e641-0f69754df4ec"
      },
      "execution_count": 40,
      "outputs": [
        {
          "output_type": "stream",
          "name": "stdout",
          "text": [
            "Writing sync_openmp.c\n"
          ]
        }
      ]
    },
    {
      "cell_type": "code",
      "source": [
        "!gcc -o sync_openmp -fopenmp sync_openmp.c"
      ],
      "metadata": {
        "id": "QEJN2iENaKry"
      },
      "execution_count": 41,
      "outputs": []
    },
    {
      "cell_type": "code",
      "source": [
        "%env OMP_NUM_THREADS=4\n",
        "!./sync_openmp"
      ],
      "metadata": {
        "colab": {
          "base_uri": "https://localhost:8080/"
        },
        "id": "-99fIdLJaSWJ",
        "outputId": "daee8732-4e05-401e-b0f0-d8bc71aacad3"
      },
      "execution_count": 42,
      "outputs": [
        {
          "output_type": "stream",
          "name": "stdout",
          "text": [
            "env: OMP_NUM_THREADS=4\n",
            "Itr: 50 tid=2, my_contri=33\n",
            "Itr: 51 tid=2, my_contri=36\n",
            "Itr: 52 tid=2, my_contri=27\n",
            "Itr: 53 tid=2, my_contri=15\n",
            "Itr: 54 tid=2, my_contri=43\n",
            "Itr: 55 tid=2, my_contri=35\n",
            "Itr: 56 tid=2, my_contri=36\n",
            "Itr: 57 tid=2, my_contri=42\n",
            "Itr: 58 tid=2, my_contri=49\n",
            "Itr: 59 tid=2, my_contri=21\n",
            "Itr: 60 tid=2, my_contri=12\n",
            "Itr: 61 tid=2, my_contri=27\n",
            "Itr: 62 tid=2, my_contri=40\n",
            "Itr: 63 tid=2, my_contri=9\n",
            "Itr: 64 tid=2, my_contri=13\n",
            "Itr: 65 tid=2, my_contri=26\n",
            "Itr: 66 tid=2, my_contri=40\n",
            "Itr: 67 tid=2, my_contri=26\n",
            "Itr: 68 tid=2, my_contri=22\n",
            "Itr: 69 tid=2, my_contri=36\n",
            "Itr: 70 tid=2, my_contri=11\n",
            "Itr: 71 tid=2, my_contri=18\n",
            "Itr: 72 tid=2, my_contri=17\n",
            "Itr: 73 tid=2, my_contri=29\n",
            "Itr: 74 tid=2, my_contri=32\n",
            "Itr: 75 tid=3, my_contri=30\n",
            "Itr: 76 tid=3, my_contri=12\n",
            "Itr: 77 tid=3, my_contri=23\n",
            "Itr: 78 tid=3, my_contri=17\n",
            "Itr: 79 tid=3, my_contri=35\n",
            "Itr: 80 tid=3, my_contri=29\n",
            "Itr: 81 tid=3, my_contri=2\n",
            "Itr: 82 tid=3, my_contri=22\n",
            "Itr: 83 tid=3, my_contri=8\n",
            "Itr: 84 tid=3, my_contri=19\n",
            "Itr: 85 tid=3, my_contri=17\n",
            "Itr: 86 tid=3, my_contri=43\n",
            "Itr: 87 tid=3, my_contri=6\n",
            "Itr: 88 tid=3, my_contri=11\n",
            "Itr: 89 tid=3, my_contri=42\n",
            "Itr: 90 tid=3, my_contri=29\n",
            "Itr: 91 tid=3, my_contri=23\n",
            "Itr: 92 tid=3, my_contri=21\n",
            "Itr: 93 tid=3, my_contri=19\n",
            "Itr: 94 tid=3, my_contri=34\n",
            "Itr: 95 tid=3, my_contri=37\n",
            "Itr: 96 tid=3, my_contri=48\n",
            "Itr: 97 tid=3, my_contri=24\n",
            "Itr: 98 tid=3, my_contri=15\n",
            "Itr: 99 tid=3, my_contri=20\n",
            "Itr: 25 tid=1, my_contri=13\n",
            "Itr: 26 tid=1, my_contri=26\n",
            "Itr: 27 tid=1, my_contri=41\n",
            "Itr: 28 tid=1, my_contri=30\n",
            "Itr: 29 tid=1, my_contri=6\n",
            "Itr: 30 tid=1, my_contri=23\n",
            "Itr: 31 tid=1, my_contri=12\n",
            "Itr: 32 tid=1, my_contri=20\n",
            "Itr: 33 tid=1, my_contri=46\n",
            "Itr: 34 tid=1, my_contri=31\n",
            "Itr: 35 tid=1, my_contri=5\n",
            "Itr: 36 tid=1, my_contri=25\n",
            "Itr: 37 tid=1, my_contri=34\n",
            "Itr: 38 tid=1, my_contri=27\n",
            "Itr: 39 tid=1, my_contri=36\n",
            "Itr: 40 tid=1, my_contri=5\n",
            "Itr: 41 tid=1, my_contri=46\n",
            "Itr: 42 tid=1, my_contri=29\n",
            "Itr: 43 tid=1, my_contri=13\n",
            "Itr: 44 tid=1, my_contri=7\n",
            "Itr: 45 tid=1, my_contri=24\n",
            "Itr: 46 tid=1, my_contri=45\n",
            "Itr: 47 tid=1, my_contri=32\n",
            "Itr: 48 tid=1, my_contri=45\n",
            "Itr: 49 tid=1, my_contri=14\n",
            "Itr: 0 tid=0, my_contri=17\n",
            "Itr: 1 tid=0, my_contri=34\n",
            "Itr: 2 tid=0, my_contri=14\n",
            "Itr: 3 tid=0, my_contri=43\n",
            "Itr: 4 tid=0, my_contri=0\n",
            "Itr: 5 tid=0, my_contri=37\n",
            "Itr: 6 tid=0, my_contri=8\n",
            "Itr: 7 tid=0, my_contri=26\n",
            "Itr: 8 tid=0, my_contri=28\n",
            "Itr: 9 tid=0, my_contri=38\n",
            "Itr: 10 tid=0, my_contri=34\n",
            "Itr: 11 tid=0, my_contri=3\n",
            "Itr: 12 tid=0, my_contri=1\n",
            "Itr: 13 tid=0, my_contri=4\n",
            "Itr: 14 tid=0, my_contri=49\n",
            "Itr: 15 tid=0, my_contri=32\n",
            "Itr: 16 tid=0, my_contri=10\n",
            "Itr: 17 tid=0, my_contri=26\n",
            "Itr: 18 tid=0, my_contri=18\n",
            "Itr: 19 tid=0, my_contri=39\n",
            "Itr: 20 tid=0, my_contri=12\n",
            "Itr: 21 tid=0, my_contri=26\n",
            "Itr: 22 tid=0, my_contri=36\n",
            "Itr: 23 tid=0, my_contri=44\n",
            "Itr: 24 tid=0, my_contri=39\n",
            "Sum=2534"
          ]
        }
      ]
    },
    {
      "cell_type": "markdown",
      "source": [
        "## Matrix OpenMP"
      ],
      "metadata": {
        "id": "qSNeBKkReI8v"
      }
    },
    {
      "cell_type": "code",
      "source": [
        "%%writefile matrix1_openmp.c\n",
        "\n",
        "/*\n",
        " * Un programa simple para multiplicar matrices\n",
        " * (Matrix_A  X  Matrix_B) => Matrix_C\n",
        " */\n",
        "\n",
        "#include <stdio.h>\n",
        "#include <stdlib.h>\n",
        "#include <omp.h>\n",
        "#include <time.h>\n",
        "\n",
        "\n",
        "#define ARRAY_SIZE 10\n",
        "\n",
        "typedef int matrix_t[ARRAY_SIZE][ARRAY_SIZE];\n",
        "//creamos 3 matrices\n",
        "matrix_t MA,MB,MC;\n",
        "\n",
        "/*\n",
        "Rutina para multiplicar una fila por una columna y colocar un elemento en\n",
        "matriz resultante.\n",
        "*/\n",
        "void mult(int size,\n",
        "\t  int row,\n",
        "\t  int column,\n",
        "\t  matrix_t MA,\n",
        "\t  matrix_t MB,\n",
        "\t  matrix_t MC)\n",
        "{\n",
        "  int position;\n",
        "\n",
        "  MC[row][column] = 0;\n",
        "  for(position = 0; position < size; position++) {\n",
        "    MC[row][column] = MC[row][column] +\n",
        "      ( MA[row][position]  *  MB[position][column] ) ;\n",
        "  }\n",
        "}\n",
        "\n",
        "//colocamos valores random 1-10 en las matrices\n",
        "void inicializamos_matriz(int size,\n",
        "                    matrix_t MX)\n",
        "{\n",
        "    int   row, column;\n",
        "    srand(time(0));\n",
        "    for(row = 0; row < size; row++) {\n",
        "    for (column = 0; column < size; column++) {\n",
        "      MX[row][column]=rand()%10;\n",
        "    }\n",
        "  }\n",
        "}\n",
        "\n",
        "void imprimir_matriz(int size,\n",
        "                    matrix_t MX)\n",
        "{\n",
        "    int   row, column;\n",
        "    for(row = 0; row < size; row ++) {\n",
        "    for (column = 0; column < size; column++) {\n",
        "      printf(\"%5d \",MX[row][column]);\n",
        "    }\n",
        "    printf(\"\\n\");\n",
        "  }\n",
        "}\n",
        "\n",
        "\n",
        "// inicializamos valores y calcula los resultados\n",
        "\n",
        "int main(void)\n",
        "{\n",
        "  int      size, row, column;\n",
        "\n",
        "  size = ARRAY_SIZE;\n",
        "\n",
        "  // inicializamos los valores de la MA\n",
        "  inicializamos_matriz(size, MA);\n",
        "  //inicializamos los valores de la MB\n",
        "  inicializamos_matriz(size, MB);\n",
        "  //imprimimos\n",
        "  printf(\"La matriz A es;\\n\");\n",
        "  imprimir_matriz(size,MA);\n",
        "  printf(\"La matriz B es;\\n\");\n",
        "  imprimir_matriz(size,MB);\n",
        "\n",
        "  // procedemos a realizar la mutiplicacion por filas y columnas\n",
        "\n",
        "for(row = 0; row < size; row++) {\n",
        "    for (column = 0; column < size; column++) {\n",
        "      mult(size, row, column, MA, MB, MC);\n",
        "    }\n",
        "  }\n",
        "  //imprimimos los resultados\n",
        "  printf(\"La matriz resultante C es (serial);\\n\");\n",
        "  imprimir_matriz(size,MC);\n",
        "\n",
        "//multiplicamos en paralelo con openMP\n",
        "//#pragma omp parallel for\n",
        "#pragma omp parallel for collapse(2)\n",
        "  for(row = 0; row < size; row++) {\n",
        "    for (column = 0; column < size; column++) {\n",
        "      mult(size, row, column, MA, MB, MC);\n",
        "      //#pragma omp critical\n",
        "      //printf(\"row: %d col=%d, tid=%d\\n\", row,column, omp_get_thread_num());\n",
        "    }\n",
        "  }\n",
        "//end parallel section\n",
        "\n",
        "  //imprimimos los resultados\n",
        "  printf(\"La matriz resultante C es (openMP);\\n\");\n",
        "  imprimir_matriz(size,MC);\n",
        "\n",
        "  return 0;\n",
        "}"
      ],
      "metadata": {
        "colab": {
          "base_uri": "https://localhost:8080/"
        },
        "id": "MKmWSJefeMjf",
        "outputId": "c3aa5ce4-7105-458c-8baa-bf4ac31c5416"
      },
      "execution_count": 44,
      "outputs": [
        {
          "output_type": "stream",
          "name": "stdout",
          "text": [
            "Overwriting matrix1_openmp.c\n"
          ]
        }
      ]
    },
    {
      "cell_type": "code",
      "source": [
        "!gcc -o matrix1_openmp -fopenmp matrix1_openmp.c"
      ],
      "metadata": {
        "id": "RbXHH1zzeuCK"
      },
      "execution_count": 45,
      "outputs": []
    },
    {
      "cell_type": "code",
      "source": [
        "%env OMP_NUM_THREADS=5\n",
        "!./matrix1_openmp"
      ],
      "metadata": {
        "colab": {
          "base_uri": "https://localhost:8080/"
        },
        "id": "dDjQmm84eynb",
        "outputId": "581544da-4deb-4556-e9d6-fe6e95aa5284"
      },
      "execution_count": 47,
      "outputs": [
        {
          "output_type": "stream",
          "name": "stdout",
          "text": [
            "env: OMP_NUM_THREADS=5\n",
            "La matriz A es;\n",
            "    1     3     3     1     7     6     6     5     4     5 \n",
            "    0     1     9     8     8     3     0     7     9     6 \n",
            "    3     3     2     5     5     6     0     6     8     9 \n",
            "    7     9     4     3     2     4     9     0     9     3 \n",
            "    5     1     4     7     9     5     0     0     2     2 \n",
            "    8     7     5     1     4     0     7     4     9     7 \n",
            "    5     6     8     0     9     0     4     8     0     5 \n",
            "    4     6     6     0     5     5     5     5     7     0 \n",
            "    9     6     7     4     7     4     7     6     8     6 \n",
            "    3     4     2     1     6     4     1     0     4     3 \n",
            "La matriz B es;\n",
            "    1     3     3     1     7     6     6     5     4     5 \n",
            "    0     1     9     8     8     3     0     7     9     6 \n",
            "    3     3     2     5     5     6     0     6     8     9 \n",
            "    7     9     4     3     2     4     9     0     9     3 \n",
            "    5     1     4     7     9     5     0     0     2     2 \n",
            "    8     7     5     1     4     0     7     4     9     7 \n",
            "    5     6     8     0     9     0     4     8     0     5 \n",
            "    4     6     6     0     5     5     5     5     7     0 \n",
            "    9     6     7     4     7     4     7     6     8     6 \n",
            "    3     4     2     1     6     4     1     0     4     3 \n",
            "La matriz resultante C es (serial);\n",
            "  201   183   214   119   272   133   139   165   219   178 \n",
            "  274   249   223   178   287   224   197   162   341   220 \n",
            "  240   230   220   134   274   182   200   150   306   193 \n",
            "  217   219   291   165   343   163   199   264   292   274 \n",
            "  175   155   139   132   204   146   144    88   211   159 \n",
            "  203   207   274   163   363   207   175   249   280   248 \n",
            "  141   146   211   161   310   201    91   187   232   186 \n",
            "  195   178   242   150   290   156   153   225   264   222 \n",
            "  274   275   319   195   418   251   238   279   362   299 \n",
            "  128   104   139   113   190   104    90   103   165   138 \n",
            "La matriz resultante C es (openMP);\n",
            "  201   183   214   119   272   133   139   165   219   178 \n",
            "  274   249   223   178   287   224   197   162   341   220 \n",
            "  240   230   220   134   274   182   200   150   306   193 \n",
            "  217   219   291   165   343   163   199   264   292   274 \n",
            "  175   155   139   132   204   146   144    88   211   159 \n",
            "  203   207   274   163   363   207   175   249   280   248 \n",
            "  141   146   211   161   310   201    91   187   232   186 \n",
            "  195   178   242   150   290   156   153   225   264   222 \n",
            "  274   275   319   195   418   251   238   279   362   299 \n",
            "  128   104   139   113   190   104    90   103   165   138 \n"
          ]
        }
      ]
    }
  ]
}