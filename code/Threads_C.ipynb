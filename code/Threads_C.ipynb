{
  "nbformat": 4,
  "nbformat_minor": 0,
  "metadata": {
    "colab": {
      "provenance": [],
      "authorship_tag": "ABX9TyPbPsdDTGGlkvpNvPaOjgpu",
      "include_colab_link": true
    },
    "kernelspec": {
      "name": "python3",
      "display_name": "Python 3"
    },
    "language_info": {
      "name": "python"
    }
  },
  "cells": [
    {
      "cell_type": "markdown",
      "metadata": {
        "id": "view-in-github",
        "colab_type": "text"
      },
      "source": [
        "<a href=\"https://colab.research.google.com/github/adigenova/uohpmd/blob/main/code/Threads_C.ipynb\" target=\"_parent\"><img src=\"https://colab.research.google.com/assets/colab-badge.svg\" alt=\"Open In Colab\"/></a>"
      ]
    },
    {
      "cell_type": "markdown",
      "source": [
        "# Ejemplo Serial"
      ],
      "metadata": {
        "id": "11voFdhhxyIA"
      }
    },
    {
      "cell_type": "code",
      "execution_count": 1,
      "metadata": {
        "colab": {
          "base_uri": "https://localhost:8080/"
        },
        "id": "d9q2b8tmfTk7",
        "outputId": "19f8f843-4b88-4127-d13a-2d8ad2a75073"
      },
      "outputs": [
        {
          "output_type": "stream",
          "name": "stdout",
          "text": [
            "Writing ejemplo1_nothread.c\n"
          ]
        }
      ],
      "source": [
        "%%writefile ejemplo1_nothread.c\n",
        "\n",
        "#include <stdio.h>\n",
        "\n",
        "void f1(int *);\n",
        "void f2(int *);\n",
        "void merge(int, int);\n",
        "\n",
        "int r1 = 0, r2 = 0;\n",
        "\n",
        "extern int\n",
        "main(void){\n",
        "  f1(&r1);\n",
        "  f2(&r2);\n",
        "  merge(r1, r2);\n",
        "  return 0;\n",
        "}\n",
        "\n",
        "void f1(int *pnum_times)\n",
        "{\n",
        "  int i, j, x;\n",
        "\n",
        "  for (i = 0;    i  <  4;  i++) {\n",
        "    printf(\"f1  iter: %d\\n\",*pnum_times);\n",
        "    for (j = 0; j < 10000; j++) x = x + i;\n",
        "    (*pnum_times)++;\n",
        "  }\n",
        "}\n",
        "\n",
        "void f2(int *pnum_times)\n",
        "{\n",
        "  int i, j, x;\n",
        "\n",
        "  for (i = 0;    i  <  4;  i++) {\n",
        "    printf(\"f2  iter: %d\\n\",*pnum_times);\n",
        "    for (j = 0; j < 10000; j++) x = x + i;\n",
        "    (*pnum_times)++;\n",
        "  }\n",
        "}\n",
        "\n",
        "void merge(int one_times, int another_times)\n",
        "{\n",
        " int total;\n",
        "\n",
        " total = one_times + another_times;\n",
        " printf(\"merge: f1 %d, f2 %d, total %d\\n\",one_times, another_times, total);\n",
        "}\n"
      ]
    },
    {
      "cell_type": "code",
      "source": [
        "!gcc ejemplo1_nothread.c -o ejemplo1_nothread -lpthread"
      ],
      "metadata": {
        "id": "QkUzAayVgaU3"
      },
      "execution_count": 2,
      "outputs": []
    },
    {
      "cell_type": "code",
      "source": [
        "!./ejemplo1_nothread"
      ],
      "metadata": {
        "colab": {
          "base_uri": "https://localhost:8080/"
        },
        "id": "aO9lykBugnUi",
        "outputId": "da3e9309-67df-4a05-add3-719b00ad5e9f"
      },
      "execution_count": 4,
      "outputs": [
        {
          "output_type": "stream",
          "name": "stdout",
          "text": [
            "f1  iter: 0\n",
            "f1  iter: 1\n",
            "f1  iter: 2\n",
            "f1  iter: 3\n",
            "f2  iter: 0\n",
            "f2  iter: 1\n",
            "f2  iter: 2\n",
            "f2  iter: 3\n",
            "merge: f1 4, f2 4, total 8\n"
          ]
        }
      ]
    },
    {
      "cell_type": "markdown",
      "source": [
        "# Ejemplo fork"
      ],
      "metadata": {
        "id": "cfEFXsn-xt9x"
      }
    },
    {
      "cell_type": "code",
      "source": [
        "%%writefile ejemplo1_fork.c\n",
        "\n",
        "#include <stdlib.h>\n",
        "#include <stdio.h>\n",
        "#include <unistd.h>\n",
        "#include <sys/types.h>\n",
        "#include <sys/ipc.h>\n",
        "#include <sys/shm.h>\n",
        "#include <sys/wait.h>\n",
        "\n",
        "\n",
        "\n",
        "void f1(int *);\n",
        "void f2(int *);\n",
        "void merge(int, int);\n",
        "\n",
        "int   shared_mem_id;\n",
        "int   *shared_mem_ptr;\n",
        "int   *r1p;\n",
        "int   *r2p;\n",
        "\n",
        "extern int\n",
        "main(void){\n",
        "\n",
        "  pid_t  child1_pid, child2_pid;\n",
        "  int  status;\n",
        "\n",
        " /* inicializamos el segmento de memoria compartida */\n",
        "  shared_mem_id = shmget(IPC_PRIVATE, 2*sizeof(int), 0660);\n",
        "  shared_mem_ptr = (int *)shmat(shared_mem_id, (void *)0, 0);\n",
        "  r1p = shared_mem_ptr;\n",
        "  r2p = (shared_mem_ptr + 1);\n",
        "\n",
        "  *r1p = 0;\n",
        "  *r2p = 0;\n",
        "  \n",
        "  /* primer hijo */\n",
        "  if ((child1_pid = fork()) == 0) {\n",
        "    f1(r1p);\n",
        "    exit(0);\n",
        "  }\n",
        "\n",
        "  /* segundo hijo */\n",
        "  if ((child2_pid = fork()) == 0) {\n",
        "    f2(r2p);\n",
        "    exit(0);\n",
        "  }\n",
        "\n",
        "  /* el proceso padre (main) espera por los hijos */\n",
        "  waitpid(child1_pid, &status, 0);\n",
        "  waitpid(child2_pid, &status, 0);\n",
        "\n",
        "  merge(*r1p, *r2p);\n",
        "  return 0;\n",
        "}\n",
        "\n",
        "void f1(int *pnum_times)\n",
        "{\n",
        "  int i, j, x;\n",
        "\n",
        "  for (i = 0;    i  <  4;  i++) {\n",
        "    printf(\"f1  iter: %d\\n\",*pnum_times);\n",
        "    for (j = 0; j < 10000000; j++) x = x + i;\n",
        "    (*pnum_times)++;\n",
        "  }\n",
        "}\n",
        "\n",
        "void f2(int *pnum_times)\n",
        "{\n",
        "  int i, j, x;\n",
        "\n",
        "  for (i = 0;    i  <  4;  i++) {\n",
        "    printf(\"f2  iter: %d\\n\",*pnum_times);\n",
        "    for (j = 0; j < 10000000; j++) x = x + i;\n",
        "    (*pnum_times)++;\n",
        "  }\n",
        "}\n",
        "\n",
        "void merge(int one_times, int another_times)\n",
        "{\n",
        " int total;\n",
        "\n",
        " total = one_times + another_times;\n",
        " printf(\"merge: f1 %d, f2 %d, total %d\\n\",one_times, another_times, total);\n",
        "}\n"
      ],
      "metadata": {
        "colab": {
          "base_uri": "https://localhost:8080/"
        },
        "id": "8UzeI8jIvg9j",
        "outputId": "4de5ed76-ff6e-4f12-8993-0a01944296c3"
      },
      "execution_count": 5,
      "outputs": [
        {
          "output_type": "stream",
          "name": "stdout",
          "text": [
            "Writing ejemplo1_fork.c\n"
          ]
        }
      ]
    },
    {
      "cell_type": "code",
      "source": [
        "!gcc ejemplo1_fork.c -o ejemplo1_fork -lpthread"
      ],
      "metadata": {
        "id": "QLpSsRk-xAyr"
      },
      "execution_count": 6,
      "outputs": []
    },
    {
      "cell_type": "code",
      "source": [
        "!./ejemplo1_fork"
      ],
      "metadata": {
        "colab": {
          "base_uri": "https://localhost:8080/"
        },
        "id": "n1Zcv6hfxHWn",
        "outputId": "dbba64e0-f874-4eb3-ad0c-8628e392a61e"
      },
      "execution_count": 9,
      "outputs": [
        {
          "output_type": "stream",
          "name": "stdout",
          "text": [
            "f1  iter: 0\n",
            "f2  iter: 0\n",
            "f2  iter: 1\n",
            "f1  iter: 1\n",
            "f2  iter: 2\n",
            "f1  iter: 2\n",
            "f2  iter: 3\n",
            "f1  iter: 3\n",
            "merge: f1 4, f2 4, total 8\n"
          ]
        }
      ]
    },
    {
      "cell_type": "markdown",
      "source": [
        "# Ejemplo Hilos"
      ],
      "metadata": {
        "id": "BqGl4d_Gx3sq"
      }
    },
    {
      "cell_type": "code",
      "source": [
        "%%writefile ejemplo1_hilos.c\n",
        "\n",
        "#include <stdio.h>\n",
        "#include <pthread.h>\n",
        "\n",
        "void f1(int *);\n",
        "void f2(int *);\n",
        "void merge(int, int);\n",
        "\n",
        "int r1 = 0, r2 = 0;\n",
        "\n",
        "extern int\n",
        "main(void)\n",
        "{\n",
        "  pthread_t thread1,  thread2;\n",
        "\n",
        "  pthread_create(&thread1,\n",
        "          NULL,\n",
        "          (void *) f1,\n",
        "          (void *) &r1);\n",
        "\n",
        "  pthread_create(&thread2,\n",
        "          NULL,\n",
        "          (void *) f2,\n",
        "          (void *) &r2);\n",
        "\n",
        "  pthread_join(thread1,  NULL);\n",
        "  pthread_join(thread2,  NULL);\n",
        "\n",
        "  merge(r1, r2);\n",
        "  return 0;\n",
        "}\n",
        "\n",
        "\n",
        "void f1(int *pnum_times)\n",
        "{\n",
        "  int i, j, x;\n",
        "\n",
        "  for (i = 0;    i  <  4;  i++) {\n",
        "    printf(\"f1  iter: %d\\n\",*pnum_times);\n",
        "    for (j = 0; j < 10000000; j++) x = x + i;\n",
        "    (*pnum_times)++;\n",
        "  }\n",
        "}\n",
        "\n",
        "void f2(int *pnum_times)\n",
        "{\n",
        "  int i, j, x;\n",
        "\n",
        "  for (i = 0;    i  <  4;  i++) {\n",
        "    printf(\"f2  iter: %d\\n\",*pnum_times);\n",
        "    for (j = 0; j < 10000000; j++) x = x + i;\n",
        "    (*pnum_times)++;\n",
        "  }\n",
        "}\n",
        "\n",
        "void merge(int one_times, int another_times)\n",
        "{\n",
        " int total;\n",
        "\n",
        " total = one_times + another_times;\n",
        " printf(\"merge: f1 %d, f2 %d, total %d\\n\",one_times, another_times, total);\n",
        "}"
      ],
      "metadata": {
        "colab": {
          "base_uri": "https://localhost:8080/"
        },
        "id": "Hx4ldPYH6AGx",
        "outputId": "74a8c902-8b5b-49d9-933d-4e7baae46bc5"
      },
      "execution_count": 10,
      "outputs": [
        {
          "output_type": "stream",
          "name": "stdout",
          "text": [
            "Writing ejemplo1_hilos.c\n"
          ]
        }
      ]
    },
    {
      "cell_type": "code",
      "source": [
        "!gcc ejemplo1_hilos.c -o ejemplo1_hilos -lpthread"
      ],
      "metadata": {
        "id": "avXYT9Wo6aYb"
      },
      "execution_count": 11,
      "outputs": []
    },
    {
      "cell_type": "code",
      "source": [
        "!./ejemplo1_hilos"
      ],
      "metadata": {
        "colab": {
          "base_uri": "https://localhost:8080/"
        },
        "id": "f8-Ahl6M6fTG",
        "outputId": "183ce06b-358e-4b6a-b34f-39b80b61a8e8"
      },
      "execution_count": 16,
      "outputs": [
        {
          "output_type": "stream",
          "name": "stdout",
          "text": [
            "f1  iter: 0\n",
            "f2  iter: 0\n",
            "f2  iter: 1\n",
            "f1  iter: 1\n",
            "f2  iter: 2\n",
            "f1  iter: 2\n",
            "f2  iter: 3\n",
            "f1  iter: 3\n",
            "merge: f1 4, f2 4, total 8\n"
          ]
        }
      ]
    },
    {
      "cell_type": "code",
      "source": [
        "%%writefile ejemplo1_hilos_mutex.c\n",
        "\n",
        "#include <stdio.h>\n",
        "#include <pthread.h>\n",
        "\n",
        "void f1(int *);\n",
        "void f2(int *);\n",
        "void merge(int, int);\n",
        "\n",
        "int r1 = 0, r2 = 0;\n",
        "\n",
        "int repeat=5;\n",
        "\n",
        "pthread_mutex_t repeat_mutex=PTHREAD_MUTEX_INITIALIZER;\n",
        "\n",
        "extern int\n",
        "main(void)\n",
        "{\n",
        "  pthread_t thread1,  thread2;\n",
        "\n",
        "  pthread_create(&thread1,\n",
        "          NULL,\n",
        "          (void *) f1,\n",
        "          (void *) &r1);\n",
        "\n",
        "  pthread_create(&thread2,\n",
        "          NULL,\n",
        "          (void *) f2,\n",
        "          (void *) &r2);\n",
        "\n",
        "  pthread_join(thread1,  NULL);\n",
        "  pthread_join(thread2,  NULL);\n",
        "\n",
        "  merge(r1, r2);\n",
        "  return 0;\n",
        "}\n",
        "\n",
        "\n",
        "void f1(int *pnum_times)\n",
        "{\n",
        "  int i, j, x, r;\n",
        "\n",
        " do{\n",
        "  pthread_mutex_lock(&repeat_mutex);\n",
        "  r=repeat;\n",
        "  repeat--;\n",
        "  pthread_mutex_unlock(&repeat_mutex);\n",
        "\n",
        "  //corremos nuestro ciclo\n",
        "  for (i = 0;    i  <  4;  i++) {\n",
        "    printf(\"f1  iter: %d repeat: %d times: %d\\n\",i,r,*pnum_times);\n",
        "    for (j = 0; j < 10000000; j++) x = x + i;\n",
        "    (*pnum_times)++;\n",
        "  }\n",
        "\n",
        " }while(r>1);\n",
        "\n",
        "}\n",
        "\n",
        "void f2(int *pnum_times)\n",
        "{\n",
        "  int i, j, x, r;\n",
        "\n",
        " do{\n",
        "  pthread_mutex_lock(&repeat_mutex);\n",
        "  r=repeat;\n",
        "  repeat--;\n",
        "  pthread_mutex_unlock(&repeat_mutex);\n",
        "\n",
        "  //corremos nuestro ciclo\n",
        "  for (i = 0;    i  <  4;  i++) {\n",
        "    printf(\"f2  iter: %d repeat: %d times: %d\\n\",i,r,*pnum_times);\n",
        "    for (j = 0; j < 10000000; j++) x = x + i;\n",
        "    (*pnum_times)++;\n",
        "  }\n",
        "\n",
        " }while(r>1);\n",
        "\n",
        "}\n",
        "\n",
        "void merge(int one_times, int another_times)\n",
        "{\n",
        " int total;\n",
        "\n",
        " total = one_times + another_times;\n",
        " printf(\"merge: f1 %d, f2 %d, total %d\\n\",one_times, another_times, total);\n",
        "}"
      ],
      "metadata": {
        "colab": {
          "base_uri": "https://localhost:8080/"
        },
        "id": "KpHwv862f65I",
        "outputId": "0d3e9fac-96d0-4e20-f063-ef33dcd1201e"
      },
      "execution_count": 17,
      "outputs": [
        {
          "output_type": "stream",
          "name": "stdout",
          "text": [
            "Writing ejemplo1_hilos_mutex.c\n"
          ]
        }
      ]
    },
    {
      "cell_type": "code",
      "source": [
        "!gcc ejemplo1_hilos_mutex.c -o ejemplo1_hilos_mutex -lpthread"
      ],
      "metadata": {
        "id": "Zin5vsb_hrd9"
      },
      "execution_count": 18,
      "outputs": []
    },
    {
      "cell_type": "code",
      "source": [
        "!./ejemplo1_hilos_mutex"
      ],
      "metadata": {
        "colab": {
          "base_uri": "https://localhost:8080/"
        },
        "id": "pHtYHqULhxA7",
        "outputId": "eefa30f8-1ac1-4419-d018-4f709c7beb75"
      },
      "execution_count": 21,
      "outputs": [
        {
          "output_type": "stream",
          "name": "stdout",
          "text": [
            "f1  iter: 0 repeat: 5 times: 0\n",
            "f2  iter: 0 repeat: 4 times: 0\n",
            "f1  iter: 1 repeat: 5 times: 1\n",
            "f2  iter: 1 repeat: 4 times: 1\n",
            "f1  iter: 2 repeat: 5 times: 2\n",
            "f2  iter: 2 repeat: 4 times: 2\n",
            "f1  iter: 3 repeat: 5 times: 3\n",
            "f2  iter: 3 repeat: 4 times: 3\n",
            "f1  iter: 0 repeat: 3 times: 4\n",
            "f2  iter: 0 repeat: 2 times: 4\n",
            "f1  iter: 1 repeat: 3 times: 5\n",
            "f2  iter: 1 repeat: 2 times: 5\n",
            "f1  iter: 2 repeat: 3 times: 6\n",
            "f2  iter: 2 repeat: 2 times: 6\n",
            "f1  iter: 3 repeat: 3 times: 7\n",
            "f2  iter: 3 repeat: 2 times: 7\n",
            "f1  iter: 0 repeat: 1 times: 8\n",
            "f2  iter: 0 repeat: 0 times: 8\n",
            "f1  iter: 1 repeat: 1 times: 9\n",
            "f2  iter: 1 repeat: 0 times: 9\n",
            "f1  iter: 2 repeat: 1 times: 10\n",
            "f2  iter: 2 repeat: 0 times: 10\n",
            "f1  iter: 3 repeat: 1 times: 11\n",
            "f2  iter: 3 repeat: 0 times: 11\n",
            "merge: f1 12, f2 12, total 24\n"
          ]
        }
      ]
    }
  ]
}