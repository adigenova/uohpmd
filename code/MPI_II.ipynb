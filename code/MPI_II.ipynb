{
  "nbformat": 4,
  "nbformat_minor": 0,
  "metadata": {
    "colab": {
      "provenance": [],
      "collapsed_sections": [],
      "authorship_tag": "ABX9TyN/qjsRd0SqHBI1j49NF/Mj",
      "include_colab_link": true
    },
    "kernelspec": {
      "name": "python3",
      "display_name": "Python 3"
    },
    "language_info": {
      "name": "python"
    }
  },
  "cells": [
    {
      "cell_type": "markdown",
      "metadata": {
        "id": "view-in-github",
        "colab_type": "text"
      },
      "source": [
        "<a href=\"https://colab.research.google.com/github/adigenova/uohpmd/blob/main/code/MPI_II.ipynb\" target=\"_parent\"><img src=\"https://colab.research.google.com/assets/colab-badge.svg\" alt=\"Open In Colab\"/></a>"
      ]
    },
    {
      "cell_type": "code",
      "source": [
        "!apt install mpich"
      ],
      "metadata": {
        "id": "y1rCHrYWAHl9"
      },
      "execution_count": null,
      "outputs": []
    },
    {
      "cell_type": "code",
      "execution_count": 35,
      "metadata": {
        "colab": {
          "base_uri": "https://localhost:8080/"
        },
        "id": "XIF1GL5Y_ue7",
        "outputId": "f3af3167-4c48-4a0e-9142-748411858d8f"
      },
      "outputs": [
        {
          "output_type": "stream",
          "name": "stdout",
          "text": [
            "Overwriting mpi_pi.c\n"
          ]
        }
      ],
      "source": [
        "%%writefile mpi_pi.c\n",
        "\n",
        "//demo of broadcast and reduce functions of MPI for calculating PI\n",
        "\n",
        "#include <stdio.h>\n",
        "#include \"mpi.h\"\n",
        "#include <math.h>\n",
        "\n",
        "int main(int argc, char *argv[])\n",
        "{\n",
        "  int n, myid, numprocs, i;\n",
        "  double PI25DT = 3.141592653589793238462643;\n",
        "  double mypi, pi=0, h, sum, x;\n",
        "  MPI_Init(NULL,NULL);\n",
        "  MPI_Comm_size(MPI_COMM_WORLD, &numprocs);\n",
        "  MPI_Comm_rank(MPI_COMM_WORLD, &myid);\n",
        "\n",
        "  if(myid==0){\n",
        "    n=10000;\n",
        "  }\n",
        "  //comunicamos el numero de intervalos a cada proceso del mundo\n",
        "  //calculamos los intervalos y repetimos si es necesario\n",
        "     printf(\"my id : %d  mypi : %.16f, n=%d\\n\", myid,mypi, n);\n",
        "    MPI_Bcast(&n, 1, MPI_INT, 0, MPI_COMM_WORLD);\n",
        "      printf(\"after my id : %d  mypi : %.16f, n=%d\\n\", myid,mypi, n);\n",
        "      h   = 1.0 / (double) n;\n",
        "      sum = 0.0;\n",
        "      for (i = myid + 1; i <= n; i += numprocs) {\n",
        "            x = h * ((double)i - 0.5);\n",
        "            sum += (4.0 / (1.0 + x*x));\n",
        "      }\n",
        "      mypi = h * sum;\n",
        "      printf(\"my id : %d  mypi : %.16f, n=%d\\n\", myid,mypi, n);\n",
        "      \n",
        "      //colectamos los calculos de cada trabajador usando MPI_Reduce\n",
        "\n",
        "      MPI_Reduce(&mypi, &pi, 1, MPI_DOUBLE, MPI_SUM, 3,\n",
        "                MPI_COMM_WORLD);\n",
        "      //imprimimos el valor luego de sumar\n",
        "      if (myid == 3)\n",
        "          printf(\"pi es aproximadamente %.16f, El error es %.16f\\n\",\n",
        "                pi, fabs(pi - PI25DT));\n",
        "  \n",
        "  MPI_Finalize();\n",
        "  return 0;\n",
        "}"
      ]
    },
    {
      "cell_type": "code",
      "source": [
        "! mpicc -o mpi_pi mpi_pi.c "
      ],
      "metadata": {
        "id": "ZglNe_KXAapq"
      },
      "execution_count": 36,
      "outputs": []
    },
    {
      "cell_type": "code",
      "source": [
        "! mpirun --allow-run-as-root -np 4 ./mpi_pi"
      ],
      "metadata": {
        "colab": {
          "base_uri": "https://localhost:8080/"
        },
        "id": "0UE2yxYyAr8T",
        "outputId": "ce89f47d-6478-4662-f4cb-ebf40ca7fed0"
      },
      "execution_count": 37,
      "outputs": [
        {
          "output_type": "stream",
          "name": "stdout",
          "text": [
            "my id : 3  mypi : 0.0000000000000000, n=-514241024\n",
            "my id : 1  mypi : 0.0000000000000000, n=-1220077568\n",
            "my id : 2  mypi : 0.0000000000000000, n=-747188480\n",
            "my id : 0  mypi : 0.0000000000000000, n=10000\n",
            "after my id : 0  mypi : 0.0000000000000000, n=10000\n",
            "my id : 0  mypi : 0.7854731611068739, n=10000\n",
            "after my id : 1  mypi : 0.0000000000000000, n=10000\n",
            "after my id : 3  mypi : 0.0000000000000000, n=10000\n",
            "my id : 3  mypi : 0.7853231611046871, n=10000\n",
            "my id : 1  mypi : 0.7854231661065627, n=10000\n",
            "after my id : 2  mypi : 0.0000000000000000, n=10000\n",
            "my id : 2  mypi : 0.7853731661050003, n=10000\n",
            "pi es aproximadamente 3.1415926544231239, El error es 0.0000000008333307\n"
          ]
        }
      ]
    },
    {
      "cell_type": "markdown",
      "source": [
        "## Matrix multiplication"
      ],
      "metadata": {
        "id": "hYYrWYdLO67n"
      }
    },
    {
      "cell_type": "code",
      "source": [
        "%%writefile mpi_matrix_mult.c\n",
        "\n",
        "/*\n",
        " * Un programa simple para multiplicar matrices\n",
        " * (Matrix_A  X  Matrix_B) => Matrix_C\n",
        " */\n",
        " \n",
        "#include <stdio.h>\n",
        "#include <stdlib.h>\n",
        "#include <mpi.h>\n",
        "#include <time.h>\n",
        "\n",
        "\n",
        "#define ARRAY_SIZE 10\n",
        "\n",
        "typedef int matrix_t[ARRAY_SIZE][ARRAY_SIZE];\n",
        "\n",
        "matrix_t MA,MB,MC;\n",
        "\n",
        "/*\n",
        "Rutina para multiplicar una fila por una columna y colocar un elemento en\n",
        "matriz resultante.\n",
        "*/\n",
        "void mult(int size,\n",
        "\t  int row,\n",
        "\t  int column,\n",
        "    int rowl,\n",
        "\t  matrix_t MA, \n",
        "\t  matrix_t MB,\n",
        "\t  int *MC)\n",
        "{\n",
        "  int position;\n",
        "  //int row_l=0;\n",
        "  MC[rowl]= 0;\n",
        "  for(position = 0; position < size; position++) {\n",
        "     MC[rowl] = MC[rowl] +\n",
        "     ( MA[row][position]  *  MB[position][column] ) ;\n",
        "\n",
        "  }\n",
        "}\n",
        "\n",
        "//colocamos valores random 1-10 en las matrices\n",
        "void inicializamos_matriz(int size, \n",
        "                    matrix_t MX)\n",
        "{\n",
        "    int   row, column;\n",
        "    srand(time(0));\n",
        "    for(row = 0; row < size; row++) {\n",
        "    for (column = 0; column < size; column++) {\n",
        "      MX[row][column]=rand()%10;\n",
        "    }\n",
        "  }\n",
        "}\n",
        "\n",
        "void imprimir_matriz(int size, \n",
        "                    matrix_t MX)\n",
        "{\n",
        "    int   row, column;\n",
        "    for(row = 0; row < size; row ++) {\n",
        "    for (column = 0; column < size; column++) {\n",
        "      printf(\"%5d \",MX[row][column]);\n",
        "    }\n",
        "    printf(\"\\n\");\n",
        "  }\n",
        "}\n",
        "\n",
        "void imprimir_matriz2(int sizer,int sizec, \n",
        "                    int *MX)\n",
        "{\n",
        "    int   row, column,i=0;\n",
        "    for(row = 0; row < sizer; row++) {\n",
        "    for (column = 0; column < sizec; column++) {\n",
        "      printf(\"%5d \",MX[i]);\n",
        "      i++;\n",
        "    }\n",
        "    printf(\"\\n\");\n",
        "  }\n",
        "}\n",
        "\n",
        "\n",
        "// inicializamos valores y calcula los resultados\n",
        "\n",
        "int main(void)\n",
        "{\n",
        "  int      size, row, column;\n",
        "  \n",
        "  size = ARRAY_SIZE;\n",
        "  \n",
        "//puntero a la matriz resultante\n",
        "int *final_matrix;\n",
        "int num_worker, rank;\n",
        "MPI_Init(NULL, NULL);\n",
        "MPI_Comm_size(MPI_COMM_WORLD, &num_worker);\n",
        "MPI_Comm_rank(MPI_COMM_WORLD, &rank);\n",
        "\n",
        "if(rank == 0){\n",
        "  // inicializamos los valores de la MA\n",
        "  inicializamos_matriz(size, MA);\n",
        "  //inicializamos los valores de la MB \n",
        "  inicializamos_matriz(size, MB);\n",
        "  //imprimimos\n",
        "  printf(\"La matriz A es;\\n\");\n",
        "  imprimir_matriz(size,MA);\n",
        "  printf(\"La matriz B es;\\n\");\n",
        "  imprimir_matriz(size,MB);\n",
        "  //reservamos la memoria para la matriz final\n",
        "    final_matrix = (int *) malloc(sizeof(int*) * size*size);\n",
        "}\n",
        "\n",
        "\n",
        "MPI_Bcast(MA, size*size , MPI_INT, 0, MPI_COMM_WORLD);\n",
        "MPI_Bcast(MB, size*size , MPI_INT, 0, MPI_COMM_WORLD);\n",
        "\n",
        "//chequeamos si proceso 1 recibio la información\n",
        "if(rank == 1){\n",
        "  printf(\"id:%d La matriz A es;\\n\",rank);\n",
        "  imprimir_matriz(size,MA);\n",
        "  printf(\"id:%d La matriz B es;\\n\",rank);\n",
        "  imprimir_matriz(size,MB);  \n",
        "}\n",
        "\n",
        "// determinamos la fila de inicio y fin para la proceso trabajador  \n",
        "int startrow = rank * ( size / num_worker);\n",
        "int endrow = ((rank + 1) * ( size / num_worker)) -1; \n",
        "//calculamos las sub-matrices\n",
        "int number_of_rows = size / num_worker;\n",
        "int *result_matrix = (int *) malloc(sizeof(int*) * number_of_rows * size);\n",
        "    //multiplicamos\n",
        "    int rowl=0;\n",
        "    for(row = startrow; row <= endrow; row++) {\n",
        "     for (column = 0; column < size; column++) {\n",
        "      mult(size, row, column,rowl, MA, MB, result_matrix);\n",
        "      rowl++;\n",
        "      }\n",
        "    }\n",
        "   // log information\n",
        "   if(rank==1){\n",
        "      printf(\"id:%d  startrow=%d, endrow=%d,work=%d;\\n\",rank,startrow,endrow,number_of_rows*size); \n",
        "      imprimir_matriz2(number_of_rows,size,result_matrix);\n",
        "   }\n",
        "   \n",
        "\n",
        "//recolectamos los resutlados de la matriz\n",
        "    MPI_Gather(result_matrix, number_of_rows*size, MPI_INT,\n",
        "           final_matrix, number_of_rows*size,  MPI_INT, 0, MPI_COMM_WORLD);\n",
        "  \n",
        "  //imprimimos la matriz luego de recolectar los resultados\n",
        "  if(rank == 0){\n",
        "  printf(\"La matriz resultante C es (MPI);\\n\");  \n",
        "  imprimir_matriz2(size,size,final_matrix);\n",
        "  }\n",
        "\n",
        " MPI_Finalize();\n",
        "\n",
        "  return 0;\n",
        "}\n",
        "\n"
      ],
      "metadata": {
        "colab": {
          "base_uri": "https://localhost:8080/"
        },
        "id": "tDrhLK1i7ixU",
        "outputId": "15133ef6-389d-4535-fdca-b3d8c9b36795"
      },
      "execution_count": 38,
      "outputs": [
        {
          "output_type": "stream",
          "name": "stdout",
          "text": [
            "Writing mpi_matrix_mult.c\n"
          ]
        }
      ]
    },
    {
      "cell_type": "code",
      "source": [
        "! mpicc -o mpi_matrix_mult mpi_matrix_mult.c "
      ],
      "metadata": {
        "id": "R4q4sJO_Rcgl"
      },
      "execution_count": 39,
      "outputs": []
    },
    {
      "cell_type": "code",
      "source": [
        "! mpirun --allow-run-as-root -np 5 ./mpi_matrix_mult"
      ],
      "metadata": {
        "colab": {
          "base_uri": "https://localhost:8080/"
        },
        "id": "2GF_bHjmRe6q",
        "outputId": "80a9453c-6d7d-4402-ae33-326d4adde87f"
      },
      "execution_count": 40,
      "outputs": [
        {
          "output_type": "stream",
          "name": "stdout",
          "text": [
            "La matriz A es;\n",
            "    6     1     5     0     3     4     4     1     4     8 \n",
            "    1     0     3     4     9     8     4     4     6     2 \n",
            "    9     0     5     9     9     9     8     9     2     0 \n",
            "    8     1     1     5     1     7     0     7     8     6 \n",
            "    5     1     8     0     5     7     0     1     4     9 \n",
            "    4     3     9     1     4     0     0     2     1     4 \n",
            "    4     9     5     6     7     8     3     9     5     3 \n",
            "    5     3     5     6     5     2     3     6     4     9 \n",
            "    5     0     4     6     1     9     6     3     3     7 \n",
            "    7     8     9     5     6     6     3     1     5     9 \n",
            "La matriz B es;\n",
            "    6     1     5     0     3     4     4     1     4     8 \n",
            "    1     0     3     4     9     8     4     4     6     2 \n",
            "    9     0     5     9     9     9     8     9     2     0 \n",
            "    8     1     1     5     1     7     0     7     8     6 \n",
            "    5     1     8     0     5     7     0     1     4     9 \n",
            "    4     3     9     1     4     0     0     2     1     4 \n",
            "    4     9     5     6     7     8     3     9     5     3 \n",
            "    5     3     5     6     5     2     3     6     4     9 \n",
            "    5     0     4     6     1     9     6     3     3     7 \n",
            "    7     8     9     5     6     6     3     1     5     9 \n",
            "id:1 La matriz A es;\n",
            "    6     1     5     0     3     4     4     1     4     8 \n",
            "    1     0     3     4     9     8     4     4     6     2 \n",
            "    9     0     5     9     9     9     8     9     2     0 \n",
            "    8     1     1     5     1     7     0     7     8     6 \n",
            "    5     1     8     0     5     7     0     1     4     9 \n",
            "    4     3     9     1     4     0     0     2     1     4 \n",
            "    4     9     5     6     7     8     3     9     5     3 \n",
            "    5     3     5     6     5     2     3     6     4     9 \n",
            "    5     0     4     6     1     9     6     3     3     7 \n",
            "    7     8     9     5     6     6     3     1     5     9 \n",
            "id:1 La matriz B es;\n",
            "    6     1     5     0     3     4     4     1     4     8 \n",
            "    1     0     3     4     9     8     4     4     6     2 \n",
            "    9     0     5     9     9     9     8     9     2     0 \n",
            "    8     1     1     5     1     7     0     7     8     6 \n",
            "    5     1     8     0     5     7     0     1     4     9 \n",
            "    4     3     9     1     4     0     0     2     1     4 \n",
            "    4     9     5     6     7     8     3     9     5     3 \n",
            "    5     3     5     6     5     2     3     6     4     9 \n",
            "    5     0     4     6     1     9     6     3     3     7 \n",
            "    7     8     9     5     6     6     3     1     5     9 \n",
            "id:1  startrow=2, endrow=3,work=20;\n",
            "  339   153   325   213   265   307   139   276   245   362 \n",
            "  248   104   245   165   159   213   131   143   173   306 \n",
            "La matriz resultante C es (MPI);\n",
            "  210   124   231   147   188   216   131   128   132   214 \n",
            "  222   102   250   149   177   228    94   161   150   253 \n",
            "  339   153   325   213   265   307   139   276   245   362 \n",
            "  248   104   245   165   159   213   131   143   173   306 \n",
            "  244   106   273   158   212   227   142   127   130   233 \n",
            "  179    47   157   136   176   193   124   127   107   141 \n",
            "  296   119   313   236   300   329   167   249   245   333 \n",
            "  284   139   265   212   235   292   150   197   214   307 \n",
            "  258   158   260   182   200   228   118   190   175   250 \n",
            "  330   138   332   243   318   375   201   230   243   314 \n"
          ]
        }
      ]
    },
    {
      "cell_type": "markdown",
      "source": [
        "## Enviado estructuras de datos"
      ],
      "metadata": {
        "id": "Z86dbnsGTvRJ"
      }
    },
    {
      "cell_type": "code",
      "source": [
        "%%writefile mpi_send_struct.c\n",
        "\n",
        "/*\n",
        " * enviado una strucutura\n",
        " */\n",
        "\n",
        "#include <stdio.h>\n",
        "#include <stdlib.h>\n",
        "#include <mpi.h>\n",
        "#include <time.h>\n",
        "\n",
        "int main(int argc, char** argv) {\n",
        "    int ProcRank, ProcNum, mTag = 0;\n",
        "    struct { int x;\n",
        "        int y;\n",
        "        int z;\n",
        "        } point;\n",
        "    MPI_Datatype ptype;\n",
        "    MPI_Status status;\n",
        "    MPI_Init(NULL, NULL); \n",
        "    MPI_Comm_rank(MPI_COMM_WORLD, &ProcRank);\n",
        "    MPI_Type_contiguous(3, MPI_INT, &ptype);\n",
        "    MPI_Type_commit(&ptype);\n",
        "    if (ProcRank == 1) {\n",
        "        point.x = 45; point.y = 36; point.z = 0;\n",
        "        MPI_Send(&point, 1, ptype, 0, mTag, MPI_COMM_WORLD);\n",
        "    }\n",
        "    if (ProcRank == 0) {\n",
        "        MPI_Recv(&point, 1, ptype, 1, mTag, MPI_COMM_WORLD, &status);\n",
        "        printf(\"Proceso: %d recibio punto con  coordenadas (%d; %d; %d)\\n\", ProcRank, point.x, point.y, point.z);\n",
        "    }\n",
        "    MPI_Finalize(); \n",
        "}"
      ],
      "metadata": {
        "colab": {
          "base_uri": "https://localhost:8080/"
        },
        "id": "u9BXMPgHSeiF",
        "outputId": "86ced78d-007b-447c-dc73-865b5bce2e46"
      },
      "execution_count": 42,
      "outputs": [
        {
          "output_type": "stream",
          "name": "stdout",
          "text": [
            "Overwriting mpi_send_struct.c\n"
          ]
        }
      ]
    },
    {
      "cell_type": "code",
      "source": [
        "! mpicc -o mpi_send_struct mpi_send_struct.c "
      ],
      "metadata": {
        "id": "hHPcQ_n7S-PR"
      },
      "execution_count": 43,
      "outputs": []
    },
    {
      "cell_type": "code",
      "source": [
        "! mpirun --allow-run-as-root -np 2 ./mpi_send_struct"
      ],
      "metadata": {
        "colab": {
          "base_uri": "https://localhost:8080/"
        },
        "id": "BPx_3rSTTDk7",
        "outputId": "3d8d60d4-4d20-42ad-bc3f-79b80b83d96f"
      },
      "execution_count": 44,
      "outputs": [
        {
          "output_type": "stream",
          "name": "stdout",
          "text": [
            "Proceso: 0 recibio punto con  coordenadas (45; 36; 0)\n"
          ]
        }
      ]
    }
  ]
}