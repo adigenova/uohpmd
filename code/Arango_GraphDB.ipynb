{
  "nbformat": 4,
  "nbformat_minor": 0,
  "metadata": {
    "colab": {
      "provenance": [],
      "collapsed_sections": [],
      "authorship_tag": "ABX9TyPt21XK+v3MwMGtyovhK2dj",
      "include_colab_link": true
    },
    "kernelspec": {
      "name": "python3",
      "display_name": "Python 3"
    },
    "language_info": {
      "name": "python"
    }
  },
  "cells": [
    {
      "cell_type": "markdown",
      "metadata": {
        "id": "view-in-github",
        "colab_type": "text"
      },
      "source": [
        "<a href=\"https://colab.research.google.com/github/adigenova/uohpmd/blob/main/code/Arango_GraphDB.ipynb\" target=\"_parent\"><img src=\"https://colab.research.google.com/assets/colab-badge.svg\" alt=\"Open In Colab\"/></a>"
      ]
    },
    {
      "cell_type": "markdown",
      "metadata": {
        "id": "XIHPS095d50h"
      },
      "source": [
        "# ArangoDB Trabajando con grafos"
      ]
    },
    {
      "cell_type": "markdown",
      "metadata": {
        "id": "Brl97lYwd50i"
      },
      "source": [
        "ArangoDB es una base de datos multimodelo  con modelos de datos flexibles para documentos, grafos y clave/valor. Posee el lenguaje AQL que es similar al SQL para realizar consultas."
      ]
    },
    {
      "cell_type": "markdown",
      "metadata": {
        "id": "cTIT0ffjd50i"
      },
      "source": [
        "# Configuración"
      ]
    },
    {
      "cell_type": "markdown",
      "metadata": {
        "id": "Pmp2AMIhd50j"
      },
      "source": [
        "Antes de comenzar con ArangoDB, debemos preparar nuestro entorno y crear una base de datos temporal en el Servicio Oasis."
      ]
    },
    {
      "cell_type": "code",
      "execution_count": 1,
      "metadata": {
        "id": "r2KGTMwUlvFn"
      },
      "outputs": [],
      "source": [
        "%%capture\n",
        "!git clone https://github.com/joerg84/ArangoDBUniversity.git\n",
        "!rsync -av ArangoDBUniversity/ ./ --exclude=.git\n",
        "!pip3 install pyarango\n",
        "!pip3 install \"python-arango>=5.0\""
      ]
    },
    {
      "cell_type": "code",
      "execution_count": 2,
      "metadata": {
        "id": "hdHIAso1lvFo"
      },
      "outputs": [],
      "source": [
        "import json\n",
        "import requests\n",
        "import sys\n",
        "import oasis\n",
        "import time\n",
        "from IPython.display import JSON\n",
        "\n",
        "from arango import ArangoClient"
      ]
    },
    {
      "cell_type": "markdown",
      "metadata": {
        "id": "fuQ6phTMd50m"
      },
      "source": [
        "Creamos una base de datos temporal"
      ]
    },
    {
      "cell_type": "code",
      "execution_count": 3,
      "metadata": {
        "id": "wag0VrQDlvFp",
        "colab": {
          "base_uri": "https://localhost:8080/"
        },
        "outputId": "150b614a-3c40-4957-ceab-7b4cbe8ceb49"
      },
      "outputs": [
        {
          "output_type": "stream",
          "name": "stdout",
          "text": [
            "Requesting new temp credentials.\n",
            "Temp database ready to use.\n"
          ]
        }
      ],
      "source": [
        "# Retrieve tmp credentials from ArangoDB Tutorial Service\n",
        "login = oasis.getTempCredentials(tutorialName=\"Pregel\", credentialProvider='https://tutorials.arangodb.cloud:8529/_db/_system/tutorialDB/tutorialDB')\n",
        "\n",
        "# Connect to the temp database\n",
        "db = oasis.connect_python_arango(login)"
      ]
    },
    {
      "cell_type": "code",
      "execution_count": 4,
      "metadata": {
        "id": "pxnn2UBSlvFq",
        "colab": {
          "base_uri": "https://localhost:8080/"
        },
        "outputId": "92a0284d-d3e6-4a1f-d19b-100b33e7dbfa"
      },
      "outputs": [
        {
          "output_type": "stream",
          "name": "stdout",
          "text": [
            "https://tutorials.arangodb.cloud:8529\n",
            "Username: TUTqgv02hwotei9n8jzqat7l\n",
            "Password: TUTbnn6oxil354wmda8zwt9s\n",
            "Database: TUTxry648yhncmgknxhbv8xkt\n"
          ]
        }
      ],
      "source": [
        "print(\"https://{}:{}\".format(login[\"hostname\"], login[\"port\"]))\n",
        "print(\"Username: \" + login[\"username\"])\n",
        "print(\"Password: \" + login[\"password\"])\n",
        "print(\"Database: \" + login[\"dbName\"])"
      ]
    },
    {
      "cell_type": "markdown",
      "metadata": {
        "id": "7Q0YpfHvd50n"
      },
      "source": [
        "Podemos usar la URL anterior para revisar nuestra base de datos arango temporal.\n",
        "\n"
      ]
    },
    {
      "cell_type": "markdown",
      "source": [
        "# Cargando datos en arangoDB"
      ],
      "metadata": {
        "id": "VVdqQnsApX-e"
      }
    },
    {
      "cell_type": "code",
      "source": [
        "! zcat /content/aeropuertos.csv.gz | wc -l\n",
        "! zcat /content/vuelos.csv.gz | wc -l \n",
        "! zcat /content/aeropuertos.csv.gz > /content/aeropuertos.csv\n",
        "! zcat /content/vuelos.csv.gz > /content/vuelos.csv\n",
        "! echo \":::AEROPUERTOS:::\"\n",
        "! head /content/aeropuertos.csv\n",
        "! echo \":::VUELOS:::\"\n",
        "! head /content/vuelos.csv"
      ],
      "metadata": {
        "colab": {
          "base_uri": "https://localhost:8080/"
        },
        "id": "cOJT7vyApfB3",
        "outputId": "9b2b9dc4-94d0-4c0d-961c-d8eb7edd5142"
      },
      "execution_count": 5,
      "outputs": [
        {
          "output_type": "stream",
          "name": "stdout",
          "text": [
            "3376\n",
            "286464\n",
            ":::AEROPUERTOS:::\n",
            "\"_key\",\"name\",\"city\",\"state\",\"country\",\"lat\",\"long\",\"vip\"\n",
            "\"00M\",\"Thigpen \",\"Bay Springs\",\"MS\",\"USA\",31.95376472,-89.23450472,false\n",
            "\"00R\",\"Livingston Municipal\",\"Livingston\",\"TX\",\"USA\",30.68586111,-95.01792778,false\n",
            "\"00V\",\"Meadow Lake\",\"Colorado Springs\",\"CO\",\"USA\",38.94574889,-104.5698933,false\n",
            "\"01G\",\"Perry-Warsaw\",\"Perry\",\"NY\",\"USA\",42.74134667,-78.05208056,false\n",
            "\"01J\",\"Hilliard Airpark\",\"Hilliard\",\"FL\",\"USA\",30.6880125,-81.90594389,false\n",
            "\"01M\",\"Tishomingo County\",\"Belmont\",\"MS\",\"USA\",34.49166667,-88.20111111,false\n",
            "\"02A\",\"Gragg-Wade \",\"Clanton\",\"AL\",\"USA\",32.85048667,-86.61145333,false\n",
            "\"02C\",\"Capitol\",\"Brookfield\",\"WI\",\"USA\",43.08751,-88.17786917,false\n",
            "\"02G\",\"Columbiana County\",\"East Liverpool\",\"OH\",\"USA\",40.67331278,-80.64140639,false\n",
            ":::VUELOS:::\n",
            "\"_from\",\"_to\",\"Year\",\"Month\",\"Day\",\"DayOfWeek\",\"DepTime\",\"ArrTime\",\"DepTimeUTC\",\"ArrTimeUTC\",\"UniqueCarrier\",\"FlightNum\",\"TailNum\",\"Distance\"\n",
            "\"airports/ATL\",\"airports/CHS\",2008,1,1,2,2,57,\"2008-01-01T05:02:00.000Z\",\"2008-01-01T05:57:00.000Z\",\"FL\",579,\"N937AT\",259\n",
            "\"airports/CLE\",\"airports/SAT\",2008,1,1,2,3,230,\"2008-01-01T05:03:00.000Z\",\"2008-01-01T08:30:00.000Z\",\"XE\",2895,\"N14158\",1241\n",
            "\"airports/IAD\",\"airports/CLE\",2008,1,1,2,5,132,\"2008-01-01T05:05:00.000Z\",\"2008-01-01T06:32:00.000Z\",\"YV\",7185,\"N592ML\",288\n",
            "\"airports/JFK\",\"airports/PBI\",2008,1,1,2,8,332,\"2008-01-01T05:08:00.000Z\",\"2008-01-01T08:32:00.000Z\",\"B6\",859,\"N505JB\",1028\n",
            "\"airports/CVG\",\"airports/MHT\",2008,1,1,2,9,215,\"2008-01-01T05:09:00.000Z\",\"2008-01-01T07:15:00.000Z\",\"OH\",5169,\"N669CA\",741\n",
            "\"airports/JFK\",\"airports/SFO\",2008,1,1,2,11,327,\"2008-01-01T05:11:00.000Z\",\"2008-01-01T11:27:00.000Z\",\"UA\",9,\"N555UA\",2586\n",
            "\"airports/MIA\",\"airports/TPA\",2008,1,1,2,14,105,\"2008-01-01T05:14:00.000Z\",\"2008-01-01T06:05:00.000Z\",\"AA\",1831,\"N3CHAA\",204\n",
            "\"airports/CVG\",\"airports/GSO\",2008,1,1,2,25,148,\"2008-01-01T05:25:00.000Z\",\"2008-01-01T06:48:00.000Z\",\"OH\",5448,\"N398CA\",330\n",
            "\"airports/FLL\",\"airports/JFK\",2008,1,1,2,26,250,\"2008-01-01T05:26:00.000Z\",\"2008-01-01T07:50:00.000Z\",\"B6\",878,\"N656JB\",1069\n"
          ]
        }
      ]
    },
    {
      "cell_type": "code",
      "execution_count": 6,
      "metadata": {
        "id": "2CEzdVMJkCrd",
        "colab": {
          "base_uri": "https://localhost:8080/"
        },
        "outputId": "991de659-a26d-4d91-da4f-08decf31be18"
      },
      "outputs": [
        {
          "output_type": "stream",
          "name": "stdout",
          "text": [
            "Connected to ArangoDB 'http+ssl://tutorials.arangodb.cloud:8529, database: 'TUTxry648yhncmgknxhbv8xkt', username: 'TUTqgv02hwotei9n8jzqat7l'\n",
            "----------------------------------------\n",
            "database:               TUTxry648yhncmgknxhbv8xkt\n",
            "collection:             airports\n",
            "create:                 yes\n",
            "create database:        no\n",
            "source filename:        /content/aeropuertos.csv\n",
            "file type:              csv\n",
            "quote:                  \"\n",
            "separator:              \n",
            "threads:                2\n",
            "connect timeout:        5\n",
            "request timeout:        1200\n",
            "----------------------------------------\n",
            "Starting CSV import...\n",
            "\u001b[0m2022-11-07T14:37:35Z [179] INFO [9ddf3] processed 32768 bytes (3%) of input file\n",
            "\u001b[0m\u001b[0m2022-11-07T14:37:35Z [179] INFO [9ddf3] processed 65536 bytes (15%) of input file\n",
            "\u001b[0m\u001b[0m2022-11-07T14:37:35Z [179] INFO [9ddf3] processed 98304 bytes (27%) of input file\n",
            "\u001b[0m\u001b[0m2022-11-07T14:37:35Z [179] INFO [9ddf3] processed 131072 bytes (40%) of input file\n",
            "\u001b[0m\u001b[0m2022-11-07T14:37:35Z [179] INFO [9ddf3] processed 163840 bytes (52%) of input file\n",
            "\u001b[0m\u001b[0m2022-11-07T14:37:35Z [179] INFO [9ddf3] processed 196608 bytes (64%) of input file\n",
            "\u001b[0m\u001b[0m2022-11-07T14:37:35Z [179] INFO [9ddf3] processed 229376 bytes (77%) of input file\n",
            "\u001b[0m\u001b[0m2022-11-07T14:37:35Z [179] INFO [9ddf3] processed 262144 bytes (89%) of input file\n",
            "\u001b[0m\n",
            "created:          3375\n",
            "warnings/errors:  0\n",
            "updated/replaced: 0\n",
            "ignored:          0\n",
            "lines read:       3377\n"
          ]
        }
      ],
      "source": [
        "# cargamos los aeropuertos A LA db\n",
        "! ./tools/arangoimport  -c none --server.endpoint http+ssl://{login[\"hostname\"]}:{login[\"port\"]} --server.username {login[\"username\"]} --server.database {login[\"dbName\"]} --server.password {login[\"password\"]} --file /content/aeropuertos.csv --collection airports --create-collection true --type csv"
      ]
    },
    {
      "cell_type": "code",
      "source": [
        "# CARGAMOS los vuelos a la DB\n",
        "! ./tools/arangoimport  -c none --server.endpoint http+ssl://{login[\"hostname\"]}:{login[\"port\"]} --server.username {login[\"username\"]} --server.database {login[\"dbName\"]} --server.password {login[\"password\"]} --file /content/vuelos.csv --collection flights --create-collection true --type csv --create-collection-type edge"
      ],
      "metadata": {
        "colab": {
          "base_uri": "https://localhost:8080/"
        },
        "id": "3mg6ec5xo3oC",
        "outputId": "990685fa-9fcc-40d5-802b-96b44d452855"
      },
      "execution_count": 7,
      "outputs": [
        {
          "output_type": "stream",
          "name": "stdout",
          "text": [
            "Connected to ArangoDB 'http+ssl://tutorials.arangodb.cloud:8529, database: 'TUTxry648yhncmgknxhbv8xkt', username: 'TUTqgv02hwotei9n8jzqat7l'\n",
            "----------------------------------------\n",
            "database:               TUTxry648yhncmgknxhbv8xkt\n",
            "collection:             flights\n",
            "create:                 yes\n",
            "create database:        no\n",
            "source filename:        /content/vuelos.csv\n",
            "file type:              csv\n",
            "quote:                  \"\n",
            "separator:              \n",
            "threads:                2\n",
            "connect timeout:        5\n",
            "request timeout:        1200\n",
            "----------------------------------------\n",
            "Starting CSV import...\n",
            "\u001b[0m2022-11-07T14:37:51Z [189] INFO [9ddf3] processed 1114112 bytes (3%) of input file\n",
            "\u001b[0m\u001b[0m2022-11-07T14:37:51Z [189] INFO [9ddf3] processed 2195456 bytes (6%) of input file\n",
            "\u001b[0m\u001b[0m2022-11-07T14:37:53Z [189] INFO [9ddf3] processed 3309568 bytes (9%) of input file\n",
            "\u001b[0m\u001b[0m2022-11-07T14:37:53Z [189] INFO [9ddf3] processed 4390912 bytes (12%) of input file\n",
            "\u001b[0m\u001b[0m2022-11-07T14:37:55Z [189] INFO [9ddf3] processed 5505024 bytes (15%) of input file\n",
            "\u001b[0m\u001b[0m2022-11-07T14:37:56Z [189] INFO [9ddf3] processed 6586368 bytes (18%) of input file\n",
            "\u001b[0m\u001b[0m2022-11-07T14:37:58Z [189] INFO [9ddf3] processed 7700480 bytes (21%) of input file\n",
            "\u001b[0m\u001b[0m2022-11-07T14:37:59Z [189] INFO [9ddf3] processed 8781824 bytes (24%) of input file\n",
            "\u001b[0m\u001b[0m2022-11-07T14:38:02Z [189] INFO [9ddf3] processed 9895936 bytes (27%) of input file\n",
            "\u001b[0m\u001b[0m2022-11-07T14:38:03Z [189] INFO [9ddf3] processed 10977280 bytes (30%) of input file\n",
            "\u001b[0m\u001b[0m2022-11-07T14:38:04Z [189] INFO [9ddf3] processed 12091392 bytes (33%) of input file\n",
            "\u001b[0m\u001b[0m2022-11-07T14:38:06Z [189] INFO [9ddf3] processed 13172736 bytes (36%) of input file\n",
            "\u001b[0m\u001b[0m2022-11-07T14:38:07Z [189] INFO [9ddf3] processed 14286848 bytes (39%) of input file\n",
            "\u001b[0m\u001b[0m2022-11-07T14:38:08Z [189] INFO [9ddf3] processed 15368192 bytes (42%) of input file\n",
            "\u001b[0m\u001b[0m2022-11-07T14:38:11Z [189] INFO [9ddf3] processed 16482304 bytes (45%) of input file\n",
            "\u001b[0m\u001b[0m2022-11-07T14:38:11Z [189] INFO [9ddf3] processed 17563648 bytes (48%) of input file\n",
            "\u001b[0m\u001b[0m2022-11-07T14:38:13Z [189] INFO [9ddf3] processed 18677760 bytes (51%) of input file\n",
            "\u001b[0m\u001b[0m2022-11-07T14:38:15Z [189] INFO [9ddf3] processed 19759104 bytes (54%) of input file\n",
            "\u001b[0m\u001b[0m2022-11-07T14:38:17Z [189] INFO [9ddf3] processed 20873216 bytes (57%) of input file\n",
            "\u001b[0m\u001b[0m2022-11-07T14:38:18Z [189] INFO [9ddf3] processed 21954560 bytes (60%) of input file\n",
            "\u001b[0m\u001b[0m2022-11-07T14:38:20Z [189] INFO [9ddf3] processed 23068672 bytes (63%) of input file\n",
            "\u001b[0m\u001b[0m2022-11-07T14:38:22Z [189] INFO [9ddf3] processed 24150016 bytes (66%) of input file\n",
            "\u001b[0m\u001b[0m2022-11-07T14:38:22Z [189] INFO [9ddf3] processed 25264128 bytes (69%) of input file\n",
            "\u001b[0m\u001b[0m2022-11-07T14:38:24Z [189] INFO [9ddf3] processed 26345472 bytes (72%) of input file\n",
            "\u001b[0m\u001b[0m2022-11-07T14:38:26Z [189] INFO [9ddf3] processed 27459584 bytes (75%) of input file\n",
            "\u001b[0m\u001b[0m2022-11-07T14:38:27Z [189] INFO [9ddf3] processed 28540928 bytes (78%) of input file\n",
            "\u001b[0m\u001b[0m2022-11-07T14:38:28Z [189] INFO [9ddf3] processed 29655040 bytes (81%) of input file\n",
            "\u001b[0m\u001b[0m2022-11-07T14:38:29Z [189] INFO [9ddf3] processed 30736384 bytes (84%) of input file\n",
            "\u001b[0m\u001b[0m2022-11-07T14:38:31Z [189] INFO [9ddf3] processed 31850496 bytes (87%) of input file\n",
            "\u001b[0m\u001b[0m2022-11-07T14:38:31Z [189] INFO [9ddf3] processed 32931840 bytes (90%) of input file\n",
            "\u001b[0m\u001b[0m2022-11-07T14:38:33Z [189] INFO [9ddf3] processed 34045952 bytes (93%) of input file\n",
            "\u001b[0m\u001b[0m2022-11-07T14:38:34Z [189] INFO [9ddf3] processed 35127296 bytes (96%) of input file\n",
            "\u001b[0m\u001b[0m2022-11-07T14:38:35Z [189] INFO [9ddf3] processed 36241408 bytes (99%) of input file\n",
            "\u001b[0m\n",
            "created:          286463\n",
            "warnings/errors:  0\n",
            "updated/replaced: 0\n",
            "ignored:          0\n",
            "lines read:       286465\n"
          ]
        }
      ]
    },
    {
      "cell_type": "code",
      "source": [
        "aql = db.aql"
      ],
      "metadata": {
        "id": "2tGHFK0HiadV"
      },
      "execution_count": 8,
      "outputs": []
    },
    {
      "cell_type": "code",
      "source": [
        "#Determine los nombres de todos los aeropuertos a los que se puede llegar directamente (1 paso) \n",
        "# desde LAX.\n",
        "query = \"\"\"\n",
        "WITH airports\n",
        "FOR a IN 1..1 OUTBOUND 'airports/LAX' flights\n",
        "RETURN DISTINCT [a._key,a.name,a.city]\n",
        "\"\"\"\n",
        "query_result = aql.execute(query) \n",
        "for doc in  query_result:\n",
        " print(doc)"
      ],
      "metadata": {
        "colab": {
          "base_uri": "https://localhost:8080/"
        },
        "id": "KM65tI5khu7c",
        "outputId": "5de2992e-2dd1-4a59-9e00-c8f47cef1f1c"
      },
      "execution_count": 24,
      "outputs": [
        {
          "output_type": "stream",
          "name": "stdout",
          "text": [
            "['JFK', 'John F Kennedy Intl', 'New York']\n",
            "['SNA', 'John Wayne /Orange Co', 'Santa Ana']\n",
            "['DEN', 'Denver Intl', 'Denver']\n",
            "['CVG', 'Cincinnati Northern Kentucky Intl', 'Covington']\n",
            "['SMF', 'Sacramento International', 'Sacramento']\n",
            "['ATL', 'William B Hartsfield-Atlanta Intl', 'Atlanta']\n",
            "['IYK', 'Inyokern', 'Inyokern']\n",
            "['MSP', 'Minneapolis-St Paul Intl', 'Minneapolis']\n",
            "['DFW', 'Dallas-Fort Worth International', 'Dallas-Fort Worth']\n",
            "['PHL', 'Philadelphia Intl', 'Philadelphia']\n",
            "['IAH', 'George Bush Intercontinental', 'Houston']\n",
            "['TUS', 'Tucson International', 'Tucson']\n",
            "['IPL', 'Imperial County', 'Imperial']\n",
            "['ORD', \"Chicago O'Hare International\", 'Chicago']\n",
            "['SBA', 'Santa Barbara Municipal', 'Santa Barbara']\n",
            "['SAN', 'San Diego International-Lindbergh ', 'San Diego']\n",
            "['FAT', 'Fresno Yosemite International', 'Fresno']\n",
            "['SJC', 'San Jose International', 'San Jose']\n",
            "['SEA', 'Seattle-Tacoma Intl', 'Seattle']\n",
            "['OAK', 'Metropolitan Oakland International', 'Oakland']\n",
            "['LAS', 'McCarran International', 'Las Vegas']\n",
            "['OXR', 'Oxnard', 'Oxnard']\n",
            "['MCI', 'Kansas City International', 'Kansas City']\n",
            "['HOU', 'William P Hobby', 'Houston']\n",
            "['SAT', 'San Antonio International', 'San Antonio']\n",
            "['SFO', 'San Francisco International', 'San Francisco']\n",
            "['BOI', 'Boise Air Terminal', 'Boise']\n",
            "['SLC', 'Salt Lake City Intl', 'Salt Lake City']\n",
            "['MIA', 'Miami International', 'Miami']\n",
            "['STL', 'Lambert-St Louis International', 'St Louis']\n",
            "['DTW', 'Detroit Metropolitan-Wayne County', 'Detroit']\n",
            "['MSY', 'New Orleans International ', 'New Orleans']\n",
            "['SMX', 'Santa Maria Pub/Capt G Allan Hancock ', 'Santa Maria']\n",
            "['MOD', 'Modesto City-County-Harry Sham ', 'Modesto']\n",
            "['BNA', 'Nashville International', 'Nashville']\n",
            "['MRY', 'Monterey Peninsula', 'Monterey']\n",
            "['EWR', 'Newark Intl', 'Newark']\n",
            "['PDX', 'Portland Intl', 'Portland']\n",
            "['IAD', 'Washington Dulles International', 'Chantilly']\n",
            "['PSP', 'Palm Springs International', 'Palm Springs']\n",
            "['PHX', 'Phoenix Sky Harbor International', 'Phoenix']\n",
            "['COS', 'City of Colorado Springs Muni', 'Colorado Springs']\n",
            "['ONT', 'Ontario International', 'Ontario']\n",
            "['MDW', 'Chicago Midway', 'Chicago']\n",
            "['SBP', 'San Luis Obispo Co-McChesney ', 'San Luis Obispo']\n",
            "['ASE', 'Aspen-Pitkin Co/Sardy ', 'Aspen']\n",
            "['FLL', \"Fort Lauderdale-Hollywood Int'l\", 'Ft. Lauderdale']\n",
            "['AUS', 'Austin-Bergstrom International', 'Austin']\n",
            "['DCA', 'Ronald Reagan Washington National', 'Arlington']\n",
            "['OGG', 'Kahului', 'Kahului']\n",
            "['ABQ', 'Albuquerque International', 'Albuquerque']\n",
            "['CLE', 'Cleveland-Hopkins Intl', 'Cleveland']\n",
            "['CLT', 'Charlotte/Douglas International', 'Charlotte']\n",
            "['ELP', 'El Paso International', 'El Paso']\n",
            "['CLD', 'MC Clellan-Palomar Airport', 'NA']\n",
            "['MEM', 'Memphis International', 'Memphis']\n",
            "['LIH', 'Lihue', 'Lihue']\n",
            "['SGU', 'St George Muni', 'St George']\n",
            "['BFL', 'Meadows ', 'Bakersfield']\n",
            "['ICT', 'Wichita Mid-Continent', 'Wichita']\n",
            "['HNL', 'Honolulu International', 'Honolulu']\n",
            "['YUM', 'Yuma MCAS-Yuma International', 'Yuma']\n",
            "['BOS', 'Gen Edw L Logan Intl', 'Boston']\n",
            "['EUG', 'Mahlon Sweet ', 'Eugene']\n",
            "['RNO', 'Reno/Tahoe International', 'Reno']\n",
            "['MCO', 'Orlando International', 'Orlando']\n",
            "['KOA', 'Kona International At Keahole', 'Kailua/Kona']\n",
            "['BWI', 'Baltimore-Washington International', 'Baltimore']\n",
            "['IND', 'Indianapolis International', 'Indianapolis']\n",
            "['TPA', 'Tampa International ', 'Tampa']\n",
            "['OKC', 'Will Rogers World', 'Oklahoma City']\n",
            "['EGE', 'Eagle County Regional', 'Eagle']\n",
            "['GEG', 'Spokane Intl', 'Spokane']\n",
            "['BDL', 'Bradley International', 'Windsor Locks']\n",
            "['JAX', 'Jacksonville International', 'Jacksonville']\n",
            "['CMH', 'Port Columbus Intl', 'Columbus']\n",
            "['PIT', 'Pittsburgh International', 'Pittsburgh']\n",
            "['RDU', 'Raleigh-Durham International', 'Raleigh']\n",
            "['SJU', 'Luis Munoz Marin International', 'San Juan']\n",
            "['XNA', 'Northwest Arkansas Regional', 'Fayetteville/Springdale/Rogers']\n",
            "['MTJ', 'Montrose Regional', 'Montrose']\n",
            "['JAC', 'Jackson Hole', 'Jackson']\n"
          ]
        }
      ]
    },
    {
      "cell_type": "code",
      "source": [
        "# Listar todos l\n",
        "query = \"\"\"\n",
        "WITH airports\n",
        "FOR airport, flight IN ANY 'airports/LAX' flights\n",
        "FILTER flight.Month == 1 AND flight.Day >= 5 AND flight.Day <= 7\n",
        "RETURN { city: airport.city, time: flight.ArrTimeUTC }\n",
        "\"\"\"\n",
        "query_result = aql.execute(query) \n",
        "for doc in  query_result:\n",
        " print(doc)"
      ],
      "metadata": {
        "id": "R09Xoz08jqAM"
      },
      "execution_count": null,
      "outputs": []
    },
    {
      "cell_type": "code",
      "source": [
        "# Listar todos los vuelos del avion N238JB\n",
        "query = \"\"\"\n",
        "FOR flight IN flights\n",
        "FILTER flight.TailNum == \"N238JB\" \n",
        "RETURN flight\n",
        "\"\"\"\n",
        "query_result = aql.execute(query) \n",
        "for doc in  query_result:\n",
        " print(doc)\n",
        " "
      ],
      "metadata": {
        "id": "vzOITyrVkNVY"
      },
      "execution_count": null,
      "outputs": []
    },
    {
      "cell_type": "code",
      "source": [
        "# Determinar todos los aeropuertos directamente accesibles desde LAX\n",
        "query = \"\"\"\n",
        "WITH airports\n",
        "FOR airport IN OUTBOUND 'airports/LAX' flights \n",
        " OPTIONS { bfs: true, uniqueVertices: 'global' } \n",
        "  RETURN airport\n",
        "\"\"\"\n",
        "query_result = aql.execute(query) \n",
        "for doc in  query_result:\n",
        " print(doc)\n"
      ],
      "metadata": {
        "colab": {
          "base_uri": "https://localhost:8080/"
        },
        "id": "N0PINBy4kzKn",
        "outputId": "ce4b9a7b-1c20-4971-d265-7a595c8234c2"
      },
      "execution_count": 20,
      "outputs": [
        {
          "output_type": "stream",
          "name": "stdout",
          "text": [
            "{'_key': 'JFK', '_id': 'airports/JFK', '_rev': '_fDIEcqS--0', 'name': 'John F Kennedy Intl', 'city': 'New York', 'state': 'NY', 'country': 'USA', 'lat': 40.63975111, 'long': -73.77892556, 'vip': True}\n",
            "{'_key': 'SNA', '_id': 'airports/SNA', '_rev': '_fDIEcrG-_A', 'name': 'John Wayne /Orange Co', 'city': 'Santa Ana', 'state': 'CA', 'country': 'USA', 'lat': 33.67565861, 'long': -117.8682225, 'vip': False}\n",
            "{'_key': 'DEN', '_id': 'airports/DEN', '_rev': '_fDIEcpy-_O', 'name': 'Denver Intl', 'city': 'Denver', 'state': 'CO', 'country': 'USA', 'lat': 39.85840806, 'long': -104.6670019, 'vip': False}\n",
            "{'_key': 'CVG', '_id': 'airports/CVG', '_rev': '_fDIEcpy--S', 'name': 'Cincinnati Northern Kentucky Intl', 'city': 'Covington', 'state': 'KY', 'country': 'USA', 'lat': 39.04614278, 'long': -84.6621725, 'vip': False}\n",
            "{'_key': 'SMF', '_id': 'airports/SMF', '_rev': '_fDIEcrG--6', 'name': 'Sacramento International', 'city': 'Sacramento', 'state': 'CA', 'country': 'USA', 'lat': 38.69542167, 'long': -121.5907669, 'vip': False}\n",
            "{'_key': 'ATL', '_id': 'airports/ATL', '_rev': '_fDIEcpi--Y', 'name': 'William B Hartsfield-Atlanta Intl', 'city': 'Atlanta', 'state': 'GA', 'country': 'USA', 'lat': 33.64044444, 'long': -84.42694444, 'vip': True}\n",
            "{'_key': 'IYK', '_id': 'airports/IYK', '_rev': '_fDIEcqS--l', 'name': 'Inyokern', 'city': 'Inyokern', 'state': 'CA', 'country': 'USA', 'lat': 35.65884306, 'long': -117.8295122, 'vip': False}\n",
            "{'_key': 'MSP', '_id': 'airports/MSP', '_rev': '_fDIEcqm--z', 'name': 'Minneapolis-St Paul Intl', 'city': 'Minneapolis', 'state': 'MN', 'country': 'USA', 'lat': 44.88054694, 'long': -93.2169225, 'vip': False}\n",
            "{'_key': 'DFW', '_id': 'airports/DFW', '_rev': '_fDIEcpy-_T', 'name': 'Dallas-Fort Worth International', 'city': 'Dallas-Fort Worth', 'state': 'TX', 'country': 'USA', 'lat': 32.89595056, 'long': -97.0372, 'vip': True}\n",
            "{'_key': 'PHL', '_id': 'airports/PHL', '_rev': '_fDIEcq2--H', 'name': 'Philadelphia Intl', 'city': 'Philadelphia', 'state': 'PA', 'country': 'USA', 'lat': 39.87195278, 'long': -75.24114083, 'vip': False}\n",
            "{'_key': 'IAH', '_id': 'airports/IAH', '_rev': '_fDIEcqO--4', 'name': 'George Bush Intercontinental', 'city': 'Houston', 'state': 'TX', 'country': 'USA', 'lat': 29.98047222, 'long': -95.33972222, 'vip': False}\n",
            "{'_key': 'TUS', '_id': 'airports/TUS', '_rev': '_fDIEcrO--r', 'name': 'Tucson International', 'city': 'Tucson', 'state': 'AZ', 'country': 'USA', 'lat': 32.11608333, 'long': -110.9410278, 'vip': False}\n",
            "{'_key': 'IPL', '_id': 'airports/IPL', '_rev': '_fDIEcqS--Q', 'name': 'Imperial County', 'city': 'Imperial', 'state': 'CA', 'country': 'USA', 'lat': 32.83422028, 'long': -115.5787456, 'vip': False}\n",
            "{'_key': 'ORD', '_id': 'airports/ORD', '_rev': '_fDIEcqy--J', 'name': \"Chicago O'Hare International\", 'city': 'Chicago', 'state': 'IL', 'country': 'USA', 'lat': 41.979595, 'long': -87.90446417, 'vip': True}\n",
            "{'_key': 'SBA', '_id': 'airports/SBA', '_rev': '_fDIEcrC--9', 'name': 'Santa Barbara Municipal', 'city': 'Santa Barbara', 'state': 'CA', 'country': 'USA', 'lat': 34.42621194, 'long': -119.8403733, 'vip': False}\n",
            "{'_key': 'SAN', '_id': 'airports/SAN', '_rev': '_fDIEcrC--3', 'name': 'San Diego International-Lindbergh ', 'city': 'San Diego', 'state': 'CA', 'country': 'USA', 'lat': 32.73355611, 'long': -117.1896567, 'vip': False}\n",
            "{'_key': 'FAT', '_id': 'airports/FAT', '_rev': '_fDIEcq---z', 'name': 'Fresno Yosemite International', 'city': 'Fresno', 'state': 'CA', 'country': 'USA', 'lat': 36.77619444, 'long': -119.7181389, 'vip': False}\n",
            "{'_key': 'SJC', '_id': 'airports/SJC', '_rev': '_fDIEcrG--m', 'name': 'San Jose International', 'city': 'San Jose', 'state': 'CA', 'country': 'USA', 'lat': 37.36186194, 'long': -121.9290089, 'vip': False}\n",
            "{'_key': 'SEA', '_id': 'airports/SEA', '_rev': '_fDIEcrG--A', 'name': 'Seattle-Tacoma Intl', 'city': 'Seattle', 'state': 'WA', 'country': 'USA', 'lat': 47.44898194, 'long': -122.3093131, 'vip': False}\n",
            "{'_key': 'OAK', '_id': 'airports/OAK', '_rev': '_fDIEcqu--c', 'name': 'Metropolitan Oakland International', 'city': 'Oakland', 'state': 'CA', 'country': 'USA', 'lat': 37.72129083, 'long': -122.2207167, 'vip': False}\n",
            "{'_key': 'LAS', '_id': 'airports/LAS', '_rev': '_fDIEcqa--Q', 'name': 'McCarran International', 'city': 'Las Vegas', 'state': 'NV', 'country': 'USA', 'lat': 36.08036111, 'long': -115.1523333, 'vip': False}\n",
            "{'_key': 'OXR', '_id': 'airports/OXR', '_rev': '_fDIEcqy--p', 'name': 'Oxnard', 'city': 'Oxnard', 'state': 'CA', 'country': 'USA', 'lat': 34.20080083, 'long': -119.2072164, 'vip': False}\n",
            "{'_key': 'MCI', '_id': 'airports/MCI', '_rev': '_fDIEcqi--S', 'name': 'Kansas City International', 'city': 'Kansas City', 'state': 'MO', 'country': 'USA', 'lat': 39.29760528, 'long': -94.71390556, 'vip': False}\n",
            "{'_key': 'HOU', '_id': 'airports/HOU', '_rev': '_fDIEcqK--u', 'name': 'William P Hobby', 'city': 'Houston', 'state': 'TX', 'country': 'USA', 'lat': 29.64541861, 'long': -95.27888889, 'vip': False}\n",
            "{'_key': 'SAT', '_id': 'airports/SAT', '_rev': '_fDIEcrC--5', 'name': 'San Antonio International', 'city': 'San Antonio', 'state': 'TX', 'country': 'USA', 'lat': 29.53369444, 'long': -98.46977778, 'vip': False}\n",
            "{'_key': 'SFO', '_id': 'airports/SFO', '_rev': '_fDIEcrG--N', 'name': 'San Francisco International', 'city': 'San Francisco', 'state': 'CA', 'country': 'USA', 'lat': 37.61900194, 'long': -122.3748433, 'vip': True}\n",
            "{'_key': 'BOI', '_id': 'airports/BOI', '_rev': '_fDIEcpm--t', 'name': 'Boise Air Terminal', 'city': 'Boise', 'state': 'ID', 'country': 'USA', 'lat': 43.56444444, 'long': -116.2227778, 'vip': False}\n",
            "{'_key': 'SLC', '_id': 'airports/SLC', '_rev': '_fDIEcrG--w', 'name': 'Salt Lake City Intl', 'city': 'Salt Lake City', 'state': 'UT', 'country': 'USA', 'lat': 40.78838778, 'long': -111.9777731, 'vip': False}\n",
            "{'_key': 'MIA', '_id': 'airports/MIA', '_rev': '_fDIEcqi--7', 'name': 'Miami International', 'city': 'Miami', 'state': 'FL', 'country': 'USA', 'lat': 25.79325, 'long': -80.29055556, 'vip': False}\n",
            "{'_key': 'STL', '_id': 'airports/STL', '_rev': '_fDIEcrK--K', 'name': 'Lambert-St Louis International', 'city': 'St Louis', 'state': 'MO', 'country': 'USA', 'lat': 38.74768694, 'long': -90.35998972, 'vip': False}\n",
            "{'_key': 'DTW', '_id': 'airports/DTW', '_rev': '_fDIEcp2--e', 'name': 'Detroit Metropolitan-Wayne County', 'city': 'Detroit', 'state': 'MI', 'country': 'USA', 'lat': 42.21205889, 'long': -83.34883583, 'vip': False}\n",
            "{'_key': 'MSY', '_id': 'airports/MSY', '_rev': '_fDIEcqm--2', 'name': 'New Orleans International ', 'city': 'New Orleans', 'state': 'LA', 'country': 'USA', 'lat': 29.99338889, 'long': -90.25802778, 'vip': False}\n",
            "{'_key': 'SMX', '_id': 'airports/SMX', '_rev': '_fDIEcrG-__', 'name': 'Santa Maria Pub/Capt G Allan Hancock ', 'city': 'Santa Maria', 'state': 'CA', 'country': 'USA', 'lat': 34.89924833, 'long': -120.4575825, 'vip': False}\n",
            "{'_key': 'MOD', '_id': 'airports/MOD', '_rev': '_fDIEcqm--V', 'name': 'Modesto City-County-Harry Sham ', 'city': 'Modesto', 'state': 'CA', 'country': 'USA', 'lat': 37.62581722, 'long': -120.9544214, 'vip': False}\n",
            "{'_key': 'BNA', '_id': 'airports/BNA', '_rev': '_fDIEcpm--n', 'name': 'Nashville International', 'city': 'Nashville', 'state': 'TN', 'country': 'USA', 'lat': 36.12447667, 'long': -86.67818222, 'vip': False}\n",
            "{'_key': 'MRY', '_id': 'airports/MRY', '_rev': '_fDIEcqm--u', 'name': 'Monterey Peninsula', 'city': 'Monterey', 'state': 'CA', 'country': 'USA', 'lat': 36.5869825, 'long': -121.8429478, 'vip': False}\n",
            "{'_key': 'EWR', '_id': 'airports/EWR', '_rev': '_fDIEcq---_', 'name': 'Newark Intl', 'city': 'Newark', 'state': 'NJ', 'country': 'USA', 'lat': 40.69249722, 'long': -74.16866056, 'vip': False}\n",
            "{'_key': 'PDX', '_id': 'airports/PDX', '_rev': '_fDIEcqy-_K', 'name': 'Portland Intl', 'city': 'Portland', 'state': 'OR', 'country': 'USA', 'lat': 45.58872222, 'long': -122.5975, 'vip': False}\n",
            "{'_key': 'IAD', '_id': 'airports/IAD', '_rev': '_fDIEcqO--2', 'name': 'Washington Dulles International', 'city': 'Chantilly', 'state': 'VA', 'country': 'USA', 'lat': 38.94453194, 'long': -77.45580972, 'vip': False}\n",
            "{'_key': 'PSP', '_id': 'airports/PSP', '_rev': '_fDIEcq6--O', 'name': 'Palm Springs International', 'city': 'Palm Springs', 'state': 'CA', 'country': 'USA', 'lat': 33.82921556, 'long': -116.5062531, 'vip': False}\n",
            "{'_key': 'PHX', '_id': 'airports/PHX', '_rev': '_fDIEcq2--M', 'name': 'Phoenix Sky Harbor International', 'city': 'Phoenix', 'state': 'AZ', 'country': 'USA', 'lat': 33.43416667, 'long': -112.0080556, 'vip': False}\n",
            "{'_key': 'COS', '_id': 'airports/COS', '_rev': '_fDIEcpu--6', 'name': 'City of Colorado Springs Muni', 'city': 'Colorado Springs', 'state': 'CO', 'country': 'USA', 'lat': 38.80580556, 'long': -104.70025, 'vip': False}\n",
            "{'_key': 'ONT', '_id': 'airports/ONT', '_rev': '_fDIEcqu-_R', 'name': 'Ontario International', 'city': 'Ontario', 'state': 'CA', 'country': 'USA', 'lat': 34.056, 'long': -117.6011944, 'vip': False}\n",
            "{'_key': 'MDW', '_id': 'airports/MDW', '_rev': '_fDIEcqi--f', 'name': 'Chicago Midway', 'city': 'Chicago', 'state': 'IL', 'country': 'USA', 'lat': 41.7859825, 'long': -87.75242444, 'vip': False}\n",
            "{'_key': 'SBP', '_id': 'airports/SBP', '_rev': '_fDIEcrC-_C', 'name': 'San Luis Obispo Co-McChesney ', 'city': 'San Luis Obispo', 'state': 'CA', 'country': 'USA', 'lat': 35.23705806, 'long': -120.6423931, 'vip': False}\n",
            "{'_key': 'ASE', '_id': 'airports/ASE', '_rev': '_fDIEcpi--N', 'name': 'Aspen-Pitkin Co/Sardy ', 'city': 'Aspen', 'state': 'CO', 'country': 'USA', 'lat': 39.22316, 'long': -106.868845, 'vip': False}\n",
            "{'_key': 'FLL', '_id': 'airports/FLL', '_rev': '_fDIEcqC---', 'name': \"Fort Lauderdale-Hollywood Int'l\", 'city': 'Ft. Lauderdale', 'state': 'FL', 'country': 'USA', 'lat': 26.07258333, 'long': -80.15275, 'vip': False}\n",
            "{'_key': 'AUS', '_id': 'airports/AUS', '_rev': '_fDIEcpi--i', 'name': 'Austin-Bergstrom International', 'city': 'Austin', 'state': 'TX', 'country': 'USA', 'lat': 30.19453278, 'long': -97.66987194, 'vip': False}\n",
            "{'_key': 'DCA', '_id': 'airports/DCA', '_rev': '_fDIEcpy-_E', 'name': 'Ronald Reagan Washington National', 'city': 'Arlington', 'state': 'VA', 'country': 'USA', 'lat': 38.85208333, 'long': -77.03772222, 'vip': False}\n",
            "{'_key': 'OGG', '_id': 'airports/OGG', '_rev': '_fDIEcqu--u', 'name': 'Kahului', 'city': 'Kahului', 'state': 'HI', 'country': 'USA', 'lat': 20.89864972, 'long': -156.4304578, 'vip': False}\n",
            "{'_key': 'ABQ', '_id': 'airports/ABQ', '_rev': '_fDIEcpe---', 'name': 'Albuquerque International', 'city': 'Albuquerque', 'state': 'NM', 'country': 'USA', 'lat': 35.04022222, 'long': -106.6091944, 'vip': False}\n",
            "{'_key': 'CLE', '_id': 'airports/CLE', '_rev': '_fDIEcpu--d', 'name': 'Cleveland-Hopkins Intl', 'city': 'Cleveland', 'state': 'OH', 'country': 'USA', 'lat': 41.41089417, 'long': -81.84939667, 'vip': False}\n",
            "{'_key': 'CLT', '_id': 'airports/CLT', '_rev': '_fDIEcpu--k', 'name': 'Charlotte/Douglas International', 'city': 'Charlotte', 'state': 'NC', 'country': 'USA', 'lat': 35.21401111, 'long': -80.94312583, 'vip': False}\n",
            "{'_key': 'ELP', '_id': 'airports/ELP', '_rev': '_fDIEcp6--n', 'name': 'El Paso International', 'city': 'El Paso', 'state': 'TX', 'country': 'USA', 'lat': 31.80666667, 'long': -106.3778056, 'vip': False}\n",
            "{'_key': 'CLD', '_id': 'airports/CLD', '_rev': '_fDIEcpu--c', 'name': 'MC Clellan-Palomar Airport', 'city': 'NA', 'state': 'NA', 'country': 'USA', 'lat': 33.127231, 'long': -117.278727, 'vip': False}\n",
            "{'_key': 'MEM', '_id': 'airports/MEM', '_rev': '_fDIEcqi--k', 'name': 'Memphis International', 'city': 'Memphis', 'state': 'TN', 'country': 'USA', 'lat': 35.04241667, 'long': -89.97666667, 'vip': False}\n",
            "{'_key': 'LIH', '_id': 'airports/LIH', '_rev': '_fDIEcqa--0', 'name': 'Lihue', 'city': 'Lihue', 'state': 'HI', 'country': 'USA', 'lat': 21.97598306, 'long': -159.3389581, 'vip': False}\n",
            "{'_key': 'SGU', '_id': 'airports/SGU', '_rev': '_fDIEcrG--X', 'name': 'St George Muni', 'city': 'St George', 'state': 'UT', 'country': 'USA', 'lat': 37.09058333, 'long': -113.5930556, 'vip': False}\n",
            "{'_key': 'BFL', '_id': 'airports/BFL', '_rev': '_fDIEcpm---', 'name': 'Meadows ', 'city': 'Bakersfield', 'state': 'CA', 'country': 'USA', 'lat': 35.43359806, 'long': -119.0567681, 'vip': False}\n",
            "{'_key': 'ICT', '_id': 'airports/ICT', '_rev': '_fDIEcqO--8', 'name': 'Wichita Mid-Continent', 'city': 'Wichita', 'state': 'KS', 'country': 'USA', 'lat': 37.64995889, 'long': -97.43304583, 'vip': False}\n",
            "{'_key': 'HNL', '_id': 'airports/HNL', '_rev': '_fDIEcqK--j', 'name': 'Honolulu International', 'city': 'Honolulu', 'state': 'HI', 'country': 'USA', 'lat': 21.31869111, 'long': -157.9224072, 'vip': False}\n",
            "{'_key': 'YUM', '_id': 'airports/YUM', '_rev': '_fDIEcrW-_J', 'name': 'Yuma MCAS-Yuma International', 'city': 'Yuma', 'state': 'AZ', 'country': 'USA', 'lat': 32.65658333, 'long': -114.6059722, 'vip': False}\n",
            "{'_key': 'BOS', '_id': 'airports/BOS', '_rev': '_fDIEcpm--v', 'name': 'Gen Edw L Logan Intl', 'city': 'Boston', 'state': 'MA', 'country': 'USA', 'lat': 42.3643475, 'long': -71.00517917, 'vip': False}\n",
            "{'_key': 'EUG', '_id': 'airports/EUG', '_rev': '_fDIEcp6-_H', 'name': 'Mahlon Sweet ', 'city': 'Eugene', 'state': 'OR', 'country': 'USA', 'lat': 44.12326, 'long': -123.2186856, 'vip': False}\n",
            "{'_key': 'RNO', '_id': 'airports/RNO', '_rev': '_fDIEcr---x', 'name': 'Reno/Tahoe International', 'city': 'Reno', 'state': 'NV', 'country': 'USA', 'lat': 39.49857611, 'long': -119.7680647, 'vip': False}\n",
            "{'_key': 'MCO', '_id': 'airports/MCO', '_rev': '_fDIEcqi--V', 'name': 'Orlando International', 'city': 'Orlando', 'state': 'FL', 'country': 'USA', 'lat': 28.42888889, 'long': -81.31602778, 'vip': False}\n",
            "{'_key': 'KOA', '_id': 'airports/KOA', '_rev': '_fDIEcqW--s', 'name': 'Kona International At Keahole', 'city': 'Kailua/Kona', 'state': 'HI', 'country': 'USA', 'lat': 19.73876583, 'long': -156.0456314, 'vip': False}\n",
            "{'_key': 'BWI', '_id': 'airports/BWI', '_rev': '_fDIEcpm-_U', 'name': 'Baltimore-Washington International', 'city': 'Baltimore', 'state': 'MD', 'country': 'USA', 'lat': 39.17540167, 'long': -76.66819833, 'vip': False}\n",
            "{'_key': 'IND', '_id': 'airports/IND', '_rev': '_fDIEcqS--I', 'name': 'Indianapolis International', 'city': 'Indianapolis', 'state': 'IN', 'country': 'USA', 'lat': 39.71732917, 'long': -86.29438417, 'vip': False}\n",
            "{'_key': 'TPA', '_id': 'airports/TPA', '_rev': '_fDIEcrO--V', 'name': 'Tampa International ', 'city': 'Tampa', 'state': 'FL', 'country': 'USA', 'lat': 27.97547222, 'long': -82.53325, 'vip': False}\n",
            "{'_key': 'OKC', '_id': 'airports/OKC', '_rev': '_fDIEcqu--4', 'name': 'Will Rogers World', 'city': 'Oklahoma City', 'state': 'OK', 'country': 'USA', 'lat': 35.39308833, 'long': -97.60073389, 'vip': False}\n",
            "{'_key': 'EGE', '_id': 'airports/EGE', '_rev': '_fDIEcp6--Q', 'name': 'Eagle County Regional', 'city': 'Eagle', 'state': 'CO', 'country': 'USA', 'lat': 39.64256778, 'long': -106.9176953, 'vip': False}\n",
            "{'_key': 'GEG', '_id': 'airports/GEG', '_rev': '_fDIEcqC-_J', 'name': 'Spokane Intl', 'city': 'Spokane', 'state': 'WA', 'country': 'USA', 'lat': 47.61985556, 'long': -117.5338425, 'vip': False}\n",
            "{'_key': 'BDL', '_id': 'airports/BDL', '_rev': '_fDIEcpi-_N', 'name': 'Bradley International', 'city': 'Windsor Locks', 'state': 'CT', 'country': 'USA', 'lat': 41.93887417, 'long': -72.68322833, 'vip': False}\n",
            "{'_key': 'JAX', '_id': 'airports/JAX', '_rev': '_fDIEcqS--t', 'name': 'Jacksonville International', 'city': 'Jacksonville', 'state': 'FL', 'country': 'USA', 'lat': 30.49405556, 'long': -81.68786111, 'vip': False}\n",
            "{'_key': 'CMH', '_id': 'airports/CMH', '_rev': '_fDIEcpu--n', 'name': 'Port Columbus Intl', 'city': 'Columbus', 'state': 'OH', 'country': 'USA', 'lat': 39.99798528, 'long': -82.89188278, 'vip': False}\n",
            "{'_key': 'PIT', '_id': 'airports/PIT', '_rev': '_fDIEcq2--U', 'name': 'Pittsburgh International', 'city': 'Pittsburgh', 'state': 'PA', 'country': 'USA', 'lat': 40.49146583, 'long': -80.23287083, 'vip': False}\n",
            "{'_key': 'RDU', '_id': 'airports/RDU', '_rev': '_fDIEcr---V', 'name': 'Raleigh-Durham International', 'city': 'Raleigh', 'state': 'NC', 'country': 'USA', 'lat': 35.87763889, 'long': -78.78747222, 'vip': False}\n",
            "{'_key': 'SJU', '_id': 'airports/SJU', '_rev': '_fDIEcrG--p', 'name': 'Luis Munoz Marin International', 'city': 'San Juan', 'state': 'PR', 'country': 'USA', 'lat': 18.43941667, 'long': -66.00183333, 'vip': False}\n",
            "{'_key': 'XNA', '_id': 'airports/XNA', '_rev': '_fDIEcrW--v', 'name': 'Northwest Arkansas Regional', 'city': 'Fayetteville/Springdale/Rogers', 'state': 'AR', 'country': 'USA', 'lat': 36.28186944, 'long': -94.30681111, 'vip': False}\n",
            "{'_key': 'MTJ', '_id': 'airports/MTJ', '_rev': '_fDIEcqm--4', 'name': 'Montrose Regional', 'city': 'Montrose', 'state': 'CO', 'country': 'USA', 'lat': 38.50886722, 'long': -107.8938333, 'vip': False}\n",
            "{'_key': 'JAC', '_id': 'airports/JAC', '_rev': '_fDIEcqS--p', 'name': 'Jackson Hole', 'city': 'Jackson', 'state': 'WY', 'country': 'USA', 'lat': 43.60732417, 'long': -110.7377389, 'vip': False}\n"
          ]
        }
      ]
    },
    {
      "cell_type": "code",
      "source": [
        "# Encuentre la ruta más corta entre el aeropuerto BIS y el aeropuerto JFK y \n",
        "# devuelva los nombres de los aeropuertos en la ruta.\n",
        "\n",
        "query = \"\"\"\n",
        "WITH airports\n",
        "FOR v IN OUTBOUND SHORTEST_PATH 'airports/BIS' TO 'airports/JFK' flights RETURN v.name\n",
        "\"\"\"\n",
        "query_result = aql.execute(query) \n",
        "for doc in  query_result:\n",
        " print(doc)\n"
      ],
      "metadata": {
        "colab": {
          "base_uri": "https://localhost:8080/"
        },
        "id": "ABhTKcKglfwk",
        "outputId": "5fe0dea5-c4e3-4ad9-e034-36c6c57d93c5"
      },
      "execution_count": 22,
      "outputs": [
        {
          "output_type": "stream",
          "name": "stdout",
          "text": [
            "Bismarck Municipal\n",
            "Denver Intl\n",
            "John F Kennedy Intl\n"
          ]
        }
      ]
    }
  ]
}