{
  "nbformat": 4,
  "nbformat_minor": 0,
  "metadata": {
    "colab": {
      "provenance": [],
      "authorship_tag": "ABX9TyNa534njfFEg8RgkxsSDyKg",
      "include_colab_link": true
    },
    "kernelspec": {
      "name": "python3",
      "display_name": "Python 3"
    },
    "language_info": {
      "name": "python"
    }
  },
  "cells": [
    {
      "cell_type": "markdown",
      "metadata": {
        "id": "view-in-github",
        "colab_type": "text"
      },
      "source": [
        "<a href=\"https://colab.research.google.com/github/adigenova/uohpmd/blob/main/code/OMP2.ipynb\" target=\"_parent\"><img src=\"https://colab.research.google.com/assets/colab-badge.svg\" alt=\"Open In Colab\"/></a>"
      ]
    },
    {
      "cell_type": "markdown",
      "source": [
        "# OpenMP II"
      ],
      "metadata": {
        "id": "696g3zWAlb4A"
      }
    },
    {
      "cell_type": "markdown",
      "source": [
        "## Ejemplos intermedios"
      ],
      "metadata": {
        "id": "yv4bA78llgtV"
      }
    },
    {
      "cell_type": "code",
      "execution_count": 1,
      "metadata": {
        "colab": {
          "base_uri": "https://localhost:8080/"
        },
        "id": "sC8LBvsWlbUu",
        "outputId": "fd914388-c7de-4016-cedb-dfe0b7c94065"
      },
      "outputs": [
        {
          "output_type": "stream",
          "name": "stdout",
          "text": [
            "Reading package lists... Done\n",
            "Building dependency tree... Done\n",
            "Reading state information... Done\n",
            "The following additional packages will be installed:\n",
            "  libomp-14-dev libomp5-14\n",
            "Suggested packages:\n",
            "  libomp-14-doc\n",
            "The following NEW packages will be installed:\n",
            "  libomp-14-dev libomp-dev libomp5-14\n",
            "0 upgraded, 3 newly installed, 0 to remove and 18 not upgraded.\n",
            "Need to get 738 kB of archives.\n",
            "After this operation, 8,991 kB of additional disk space will be used.\n",
            "Get:1 http://archive.ubuntu.com/ubuntu jammy-updates/universe amd64 libomp5-14 amd64 1:14.0.0-1ubuntu1.1 [389 kB]\n",
            "Get:2 http://archive.ubuntu.com/ubuntu jammy-updates/universe amd64 libomp-14-dev amd64 1:14.0.0-1ubuntu1.1 [347 kB]\n",
            "Get:3 http://archive.ubuntu.com/ubuntu jammy/universe amd64 libomp-dev amd64 1:14.0-55~exp2 [3,074 B]\n",
            "Fetched 738 kB in 1s (872 kB/s)\n",
            "Selecting previously unselected package libomp5-14:amd64.\n",
            "(Reading database ... 120895 files and directories currently installed.)\n",
            "Preparing to unpack .../libomp5-14_1%3a14.0.0-1ubuntu1.1_amd64.deb ...\n",
            "Unpacking libomp5-14:amd64 (1:14.0.0-1ubuntu1.1) ...\n",
            "Selecting previously unselected package libomp-14-dev.\n",
            "Preparing to unpack .../libomp-14-dev_1%3a14.0.0-1ubuntu1.1_amd64.deb ...\n",
            "Unpacking libomp-14-dev (1:14.0.0-1ubuntu1.1) ...\n",
            "Selecting previously unselected package libomp-dev:amd64.\n",
            "Preparing to unpack .../libomp-dev_1%3a14.0-55~exp2_amd64.deb ...\n",
            "Unpacking libomp-dev:amd64 (1:14.0-55~exp2) ...\n",
            "Setting up libomp5-14:amd64 (1:14.0.0-1ubuntu1.1) ...\n",
            "Setting up libomp-14-dev (1:14.0.0-1ubuntu1.1) ...\n",
            "Setting up libomp-dev:amd64 (1:14.0-55~exp2) ...\n",
            "Processing triggers for libc-bin (2.35-0ubuntu3.1) ...\n",
            "/sbin/ldconfig.real: /usr/local/lib/libtbbbind_2_0.so.3 is not a symbolic link\n",
            "\n",
            "/sbin/ldconfig.real: /usr/local/lib/libtbb.so.12 is not a symbolic link\n",
            "\n",
            "/sbin/ldconfig.real: /usr/local/lib/libtbbmalloc_proxy.so.2 is not a symbolic link\n",
            "\n",
            "/sbin/ldconfig.real: /usr/local/lib/libtbbmalloc.so.2 is not a symbolic link\n",
            "\n",
            "/sbin/ldconfig.real: /usr/local/lib/libtbbbind.so.3 is not a symbolic link\n",
            "\n",
            "/sbin/ldconfig.real: /usr/local/lib/libtbbbind_2_5.so.3 is not a symbolic link\n",
            "\n"
          ]
        }
      ],
      "source": [
        "!apt install libomp-dev"
      ]
    },
    {
      "cell_type": "markdown",
      "source": [
        "## Ejemplo 1\n",
        "cómo calcular la suma de elementos en un arreglo utilizando múltiples hilos:"
      ],
      "metadata": {
        "id": "f0wdidjamANu"
      }
    },
    {
      "cell_type": "code",
      "source": [
        "%%writefile ejem1.c\n",
        "\n",
        "#include <stdio.h>\n",
        "#include <omp.h>\n",
        "\n",
        "int main() {\n",
        "    int arr[] = {1, 2, 3, 4, 5, 6, 7, 8, 9, 10};\n",
        "    int n = 10;\n",
        "    int sum = 0;\n",
        "    //\n",
        "    #pragma omp parallel for reduction(+:sum)\n",
        "    for (int i = 0; i < n; i++) {\n",
        "        sum += arr[i];\n",
        "        printf(\"Thread %d: arr[%d] = %d\\n\", omp_get_thread_num(), i, arr[i]);\n",
        "    }\n",
        "\n",
        "    printf(\"Sum = %d\\n\", sum);\n",
        "    return 0;\n",
        "}\n"
      ],
      "metadata": {
        "colab": {
          "base_uri": "https://localhost:8080/"
        },
        "id": "p8ot3erPlqK6",
        "outputId": "c5b0ee61-b7a4-45ee-bbd1-dabff581350c"
      },
      "execution_count": 2,
      "outputs": [
        {
          "output_type": "stream",
          "name": "stdout",
          "text": [
            "Writing ejem1.c\n"
          ]
        }
      ]
    },
    {
      "cell_type": "code",
      "source": [
        "!gcc -o ejem1 -fopenmp ejem1.c\n",
        "%env OMP_NUM_THREADS=8\n",
        "!./ejem1"
      ],
      "metadata": {
        "id": "CS-PprjdmOX5"
      },
      "execution_count": null,
      "outputs": []
    },
    {
      "cell_type": "markdown",
      "source": [
        "## Ejemplo2\n",
        "\n"
      ],
      "metadata": {
        "id": "H9_sPW4YmwjZ"
      }
    },
    {
      "cell_type": "code",
      "source": [
        "%%writefile ejem2.c\n",
        "\n",
        "#include <stdio.h>\n",
        "#include <omp.h>\n",
        "\n",
        "#define N 10000\n",
        "double data[N];\n",
        "\n",
        "// Función para calcular el promedio de un subconjunto del arreglo\n",
        "double calcularPromedio(int start, int end) {\n",
        "    double sum = 0.0;\n",
        "    for (int i = start; i < end; i++) {\n",
        "        sum += data[i];\n",
        "    }\n",
        "    return sum / (end - start);\n",
        "}\n",
        "\n",
        "int main() {\n",
        "    // Inicializar el arreglo de datos\n",
        "    for (int i = 0; i < N; i++) {\n",
        "        data[i] = i;\n",
        "    }\n",
        "\n",
        "    int num_threads = 4; // Número de hilos a utilizar\n",
        "    double total_average = 0.0;\n",
        "\n",
        "    #pragma omp parallel num_threads(num_threads)\n",
        "    {\n",
        "        int thread_id = omp_get_thread_num();\n",
        "        int chunk_size = N / num_threads;\n",
        "        int start = thread_id * chunk_size;\n",
        "        int end = (thread_id == num_threads - 1) ? N : start + chunk_size;\n",
        "\n",
        "        double local_average = calcularPromedio(start, end);\n",
        "\n",
        "        #pragma omp critical\n",
        "        total_average += local_average;\n",
        "\n",
        "        printf(\"Thread %d: Local Average = %f\\n\", thread_id, local_average);\n",
        "    }\n",
        "\n",
        "    total_average /= num_threads;\n",
        "    printf(\"Total Average = %f\\n\", total_average);\n",
        "\n",
        "    return 0;\n",
        "}\n"
      ],
      "metadata": {
        "colab": {
          "base_uri": "https://localhost:8080/"
        },
        "id": "w4AzgMOWmzIY",
        "outputId": "66eb24e6-43a9-4733-e5c9-16583802b5a9"
      },
      "execution_count": 9,
      "outputs": [
        {
          "output_type": "stream",
          "name": "stdout",
          "text": [
            "Overwriting ejem2.c\n"
          ]
        }
      ]
    },
    {
      "cell_type": "code",
      "source": [
        "!gcc -o ejem2 -fopenmp ejem2.c\n",
        "%env OMP_NUM_THREADS=8\n",
        "!./ejem2"
      ],
      "metadata": {
        "id": "vlcAVtrZnF62"
      },
      "execution_count": null,
      "outputs": []
    },
    {
      "cell_type": "markdown",
      "source": [
        "## Ejemplo 3\n",
        "Contando caracteres en paralelo"
      ],
      "metadata": {
        "id": "T9NBIq_wsXFc"
      }
    },
    {
      "cell_type": "code",
      "source": [
        "%%writefile ejem3.c\n",
        "\n",
        "#include <stdio.h>\n",
        "#include <string.h>\n",
        "#include <omp.h>\n",
        "\n",
        "#define MAX_TEXT_SIZE 10000\n",
        "\n",
        "// Función para contar la frecuencia de caracteres en un texto\n",
        "void countCharacterFrequency(const char* text, int* charCount) {\n",
        "    int chartmp[256] = {0};\n",
        "    for (int i = 0; text[i] != '\\0'; i++) {\n",
        "        char c = text[i];\n",
        "        chartmp[c]++;\n",
        "    }\n",
        "    //sumamos el resultado en charCount\n",
        "    #pragma omp critical\n",
        "    for(int j = 0; j<256; j++){\n",
        "        charCount[j]+=chartmp[j];\n",
        "    }\n",
        "\n",
        "}\n",
        "\n",
        "int main() {\n",
        "    char text[MAX_TEXT_SIZE];\n",
        "    int charCount[256] = {0}; // 256  caracteres asccii\n",
        "    // Texto\n",
        "    const char* inputText = \"Los recursos en línea ofrecen una variedad de textos en español para mejorar la comprensión y el aprendizaje del idioma. Estos textos pueden ser útiles para estudiantes de diferentes niveles de habilidad.\";\n",
        "\n",
        "    // Divide the text into two segments\n",
        "    char* segment1 = strncpy(text, inputText, strlen(inputText) / 2);\n",
        "    char* segment2 = strncpy(text + (strlen(inputText) / 2), inputText + ( strlen(inputText) / 2),  strlen(inputText) / 2);\n",
        "\n",
        "    #pragma omp parallel\n",
        "    {\n",
        "        #pragma omp sections\n",
        "        {\n",
        "            #pragma omp section\n",
        "            {\n",
        "                countCharacterFrequency(segment1, charCount);\n",
        "            }\n",
        "            #pragma omp section\n",
        "            {\n",
        "                countCharacterFrequency(segment2, charCount);\n",
        "            }\n",
        "        }\n",
        "    }\n",
        "\n",
        "    printf(\"Frecuencia de caracteres:\\n\");\n",
        "    for (int i = 0; i < 256; i++) {\n",
        "        if (charCount[i] > 0) {\n",
        "            printf(\"Caracter '%c' aparece %d veces\\n\", (char)i, charCount[i]);\n",
        "        }\n",
        "    }\n",
        "\n",
        "    return 0;\n",
        "}\n"
      ],
      "metadata": {
        "colab": {
          "base_uri": "https://localhost:8080/"
        },
        "id": "usVnoFnjscGY",
        "outputId": "199388d0-5100-4d3b-8bd5-aa1b376d8a9c"
      },
      "execution_count": 25,
      "outputs": [
        {
          "output_type": "stream",
          "name": "stdout",
          "text": [
            "Overwriting ejem3.c\n"
          ]
        }
      ]
    },
    {
      "cell_type": "code",
      "source": [
        "!gcc -o ejem3 -fopenmp ejem3.c\n",
        "%env OMP_NUM_THREADS=4\n",
        "!./ejem3"
      ],
      "metadata": {
        "id": "kjXjudTTuj-1"
      },
      "execution_count": null,
      "outputs": []
    },
    {
      "cell_type": "markdown",
      "source": [
        "## Ejemplos Avanzados\n",
        "\n"
      ],
      "metadata": {
        "id": "VMIerjF8w1ds"
      }
    },
    {
      "cell_type": "markdown",
      "source": [
        "Ordenar en paralelo los numeros de un arreglo"
      ],
      "metadata": {
        "id": "d8T3_yHJw7YL"
      }
    },
    {
      "cell_type": "code",
      "source": [
        "%%writefile ejem4.c\n",
        "\n",
        "#include <stdio.h>\n",
        "#include <stdlib.h>\n",
        "#include <omp.h>\n",
        "\n",
        "#define ARRAY_SIZE 2000000\n",
        "\n",
        "void quickSort(int arr[], int left, int right) {\n",
        "    if (left < right) {\n",
        "        int pivot = arr[right];\n",
        "        int i = left - 1;\n",
        "\n",
        "        for (int j = left; j < right; j++) {\n",
        "            if (arr[j] < pivot) {\n",
        "                i++;\n",
        "                int temp = arr[i];\n",
        "                arr[i] = arr[j];\n",
        "                arr[j] = temp;\n",
        "            }\n",
        "        }\n",
        "\n",
        "        int temp = arr[i + 1];\n",
        "        arr[i + 1] = arr[right];\n",
        "        arr[right] = temp;\n",
        "\n",
        "        int partition = i + 1;\n",
        "\n",
        "        #pragma omp parallel sections\n",
        "        {\n",
        "            #pragma omp section\n",
        "            quickSort(arr, left, partition - 1);\n",
        "            #pragma omp section\n",
        "            quickSort(arr, partition + 1, right);\n",
        "        }\n",
        "    }\n",
        "}\n",
        "\n",
        "int main() {\n",
        "    int arr[ARRAY_SIZE];\n",
        "\n",
        "    // Inicializar el arreglo con números aleatorios\n",
        "    for (int i = 0; i < ARRAY_SIZE; i++) {\n",
        "        arr[i] = rand() % 10000;\n",
        "    }\n",
        "\n",
        "    printf(\"Arreglo no ordenado:\\n\");\n",
        "    for (int i = 0; i < 100; i++) {\n",
        "        printf(\"%d \", arr[i]);\n",
        "    }\n",
        "    printf(\"\\n\");\n",
        "\n",
        "    // Ordenar el arreglo usando Quick Sort paralelizado\n",
        "    #pragma omp parallel\n",
        "    {\n",
        "        #pragma omp single\n",
        "        quickSort(arr, 0, ARRAY_SIZE - 1);\n",
        "    }\n",
        "\n",
        "    printf(\"Arreglo ordenado:\\n\");\n",
        "    for (int i = 0; i < 100; i++) {\n",
        "        printf(\"%d \", arr[i]);\n",
        "    }\n",
        "    printf(\"\\n\");\n",
        "\n",
        "    return 0;\n",
        "}\n"
      ],
      "metadata": {
        "colab": {
          "base_uri": "https://localhost:8080/"
        },
        "id": "zebRfxexxEXK",
        "outputId": "66f7d1da-e57c-464f-9e7d-761321ae0841"
      },
      "execution_count": 61,
      "outputs": [
        {
          "output_type": "stream",
          "name": "stdout",
          "text": [
            "Overwriting ejem4.c\n"
          ]
        }
      ]
    },
    {
      "cell_type": "code",
      "source": [
        "!gcc -o ejem4 -fopenmp ejem4.c\n",
        "%env OMP_NUM_THREADS=4\n",
        "!time ./ejem4"
      ],
      "metadata": {
        "id": "4mI23gSlxJPA"
      },
      "execution_count": null,
      "outputs": []
    },
    {
      "cell_type": "code",
      "source": [],
      "metadata": {
        "id": "HLJs-lqizKs0"
      },
      "execution_count": null,
      "outputs": []
    },
    {
      "cell_type": "code",
      "source": [
        "%%writefile ejem5.c\n",
        "\n",
        "#include <stdio.h>\n",
        "#include <stdlib.h>\n",
        "#include <unistd.h>\n",
        "#include <omp.h>\n",
        "#include <time.h>\n",
        "\n",
        "#define NUM_TURTLES 5\n",
        "#define RACE_DISTANCE 40\n",
        "\n",
        "int race_track[RACE_DISTANCE];\n",
        "\n",
        "void initializeRaceTrack() {\n",
        "    for (int i = 0; i < RACE_DISTANCE; i++) {\n",
        "        race_track[i] = -1; // Inicializar la pista con -1 (sin tortugas)\n",
        "    }\n",
        "}\n",
        "\n",
        "void printRaceTrack() {\n",
        "    printf(\"Pista: \");\n",
        "    for (int i = 0; i < RACE_DISTANCE; i++) {\n",
        "        if (race_track[i] == -1) {\n",
        "            printf(\".\");\n",
        "        } else {\n",
        "            printf(\"%d\", race_track[i]);\n",
        "        }\n",
        "    }\n",
        "    printf(\"\\n\");\n",
        "}\n",
        "\n",
        "int main() {\n",
        "    //srand(time(NULL));\n",
        "    int winner = -1;\n",
        "\n",
        "    initializeRaceTrack();\n",
        "\n",
        "    #pragma omp parallel\n",
        "    {\n",
        "        int turtle_id = omp_get_thread_num();\n",
        "        int position = -1;\n",
        "\n",
        "        for (int i = 0; i < RACE_DISTANCE; i++) {\n",
        "            int move = rand() % 4;\n",
        "            sleep(move/2);\n",
        "            #pragma omp critical\n",
        "            {\n",
        "                race_track[position] = -1;\n",
        "                position += move;\n",
        "                if (position >= RACE_DISTANCE) {\n",
        "                    position = RACE_DISTANCE - 1;\n",
        "                    if (winner == -1) {\n",
        "                        winner = turtle_id;\n",
        "                    }\n",
        "                }\n",
        "                race_track[position] = turtle_id;\n",
        "                printRaceTrack();\n",
        "            }\n",
        "        }\n",
        "    }\n",
        "\n",
        "    printf(\"¡La tortuga ganadora es la número %d!\\n\", winner);\n",
        "\n",
        "    return 0;\n",
        "}\n",
        "\n"
      ],
      "metadata": {
        "colab": {
          "base_uri": "https://localhost:8080/"
        },
        "id": "kcoNE-w20BkU",
        "outputId": "1e22541f-b6d0-47a5-e235-332753d4885b"
      },
      "execution_count": 93,
      "outputs": [
        {
          "output_type": "stream",
          "name": "stdout",
          "text": [
            "Overwriting ejem5.c\n"
          ]
        }
      ]
    },
    {
      "cell_type": "code",
      "source": [
        "!gcc -o ejem5 -fopenmp ejem5.c\n",
        "%env OMP_NUM_THREADS=6\n",
        "!time ./ejem5"
      ],
      "metadata": {
        "id": "jRCp-bNX0Ipc"
      },
      "execution_count": null,
      "outputs": []
    }
  ]
}