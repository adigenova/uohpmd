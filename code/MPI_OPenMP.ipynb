{
  "nbformat": 4,
  "nbformat_minor": 0,
  "metadata": {
    "colab": {
      "provenance": [],
      "authorship_tag": "ABX9TyMH97kO+//i61i/Own0bzJm",
      "include_colab_link": true
    },
    "kernelspec": {
      "name": "python3",
      "display_name": "Python 3"
    },
    "language_info": {
      "name": "python"
    }
  },
  "cells": [
    {
      "cell_type": "markdown",
      "metadata": {
        "id": "view-in-github",
        "colab_type": "text"
      },
      "source": [
        "<a href=\"https://colab.research.google.com/github/adigenova/uohpmd/blob/main/code/MPI_OPenMP.ipynb\" target=\"_parent\"><img src=\"https://colab.research.google.com/assets/colab-badge.svg\" alt=\"Open In Colab\"/></a>"
      ]
    },
    {
      "cell_type": "code",
      "source": [
        "!apt install mpich libomp-dev"
      ],
      "metadata": {
        "id": "y1rCHrYWAHl9"
      },
      "execution_count": null,
      "outputs": []
    },
    {
      "cell_type": "code",
      "source": [
        "%%writefile mpi_openmp_e1.c\n",
        "\n",
        "#include <stdio.h>\n",
        "#include <stdlib.h>\n",
        "//we load omp/mpi\n",
        "#include <omp.h>\n",
        "#include <mpi.h>\n",
        "// defines the MPI_THREADS_MODE\n",
        "#define MPI_THREAD_STRING(level)  \\\n",
        "        ( level==MPI_THREAD_SERIALIZED ? \"THREAD_SERIALIZED\" : \\\n",
        "                ( level==MPI_THREAD_MULTIPLE ? \"THREAD_MULTIPLE\" : \\\n",
        "                        ( level==MPI_THREAD_FUNNELED ? \"THREAD_FUNNELED\" : \\\n",
        "                                ( level==MPI_THREAD_SINGLE ? \"THREAD_SINGLE\" : \"THIS_IS_IMPOSSIBLE\" ) ) ) )\n",
        "\n",
        "int main(int argc, char ** argv)\n",
        "{\n",
        "    /* Estos son los soportes de hilos deseados y disponibles.\n",
        "        Se puede utilizar un código híbrido en el que todas las llamadas MPI se realizan desde el hilo principal (FUNNELED).\n",
        "        Si los hilos realizan llamadas MPI, MULTIPLE es el apropiado. */\n",
        "    int requested=MPI_THREAD_FUNNELED, provided;\n",
        "\n",
        "    /* Intentamos activar los hilos MPI usando el modo requerido: MPI_THREAD_FUNNELED*/\n",
        "    MPI_Init_thread(&argc, &argv, requested, &provided);\n",
        "    if (provided<requested)\n",
        "    {\n",
        "        printf(\"MPI_Init_thread provee %s cuando %s fue solicitado.  Terminando el programa. \\n\",\n",
        "               MPI_THREAD_STRING(provided), MPI_THREAD_STRING(requested) );\n",
        "        exit(1);\n",
        "    }\n",
        "\n",
        "    int world_size, world_rank;\n",
        "\n",
        "    MPI_Comm_size(MPI_COMM_WORLD,&world_size);\n",
        "    MPI_Comm_rank(MPI_COMM_WORLD,&world_rank);\n",
        "\n",
        "    printf(\"Hola desde %d de total :%d  procesos\\n\", world_rank, world_size);\n",
        "\n",
        "    //ocupamos openMP para crear una seccion paralela\n",
        "    #pragma omp parallel\n",
        "    {\n",
        "        int omp_id  =omp_get_thread_num();\n",
        "        int omp_num =omp_get_num_threads();\n",
        "        printf(\"MPI rank # %2d OpenMP thread # %2d of %2d \\n\", world_rank, omp_id, omp_num);\n",
        "        fflush(stdout);\n",
        "    }\n",
        "\n",
        "    MPI_Finalize();\n",
        "    return 0;\n",
        "}"
      ],
      "metadata": {
        "colab": {
          "base_uri": "https://localhost:8080/"
        },
        "id": "EiC5VveUqyCJ",
        "outputId": "6178c6cd-c3c7-4147-efd5-074824ed79fb"
      },
      "execution_count": 2,
      "outputs": [
        {
          "output_type": "stream",
          "name": "stdout",
          "text": [
            "Writing mpi_openmp_e1.c\n"
          ]
        }
      ]
    },
    {
      "cell_type": "code",
      "source": [
        "! mpicc -o mpi_openmp_e1 mpi_openmp_e1.c  -fopenmp"
      ],
      "metadata": {
        "id": "4r2QvEGYrnFQ"
      },
      "execution_count": 3,
      "outputs": []
    },
    {
      "cell_type": "code",
      "source": [
        "%env OMP_NUM_THREADS=3\n",
        "! mpirun --oversubscribe --allow-run-as-root -np 4 ./mpi_openmp_e1"
      ],
      "metadata": {
        "id": "FnR5FGSotINR",
        "colab": {
          "base_uri": "https://localhost:8080/"
        },
        "outputId": "cd7a618e-1233-4d3d-8c4e-8519684ed1bc"
      },
      "execution_count": 5,
      "outputs": [
        {
          "output_type": "stream",
          "name": "stdout",
          "text": [
            "env: OMP_NUM_THREADS=3\n",
            "Hola desde 0 de total :4  procesos\n",
            "Hola desde 1 de total :4  procesos\n",
            "Hola desde 3 de total :4  procesos\n",
            "Hola desde 2 de total :4  procesos\n",
            "MPI rank #  1 OpenMP thread #  1 of  3 \n",
            "MPI rank #  1 OpenMP thread #  2 of  3 \n",
            "MPI rank #  2 OpenMP thread #  1 of  3 \n",
            "MPI rank #  1 OpenMP thread #  0 of  3 \n",
            "MPI rank #  2 OpenMP thread #  2 of  3 \n",
            "MPI rank #  2 OpenMP thread #  0 of  3 \n",
            "MPI rank #  0 OpenMP thread #  0 of  3 \n",
            "MPI rank #  0 OpenMP thread #  1 of  3 \n",
            "MPI rank #  0 OpenMP thread #  2 of  3 \n",
            "MPI rank #  3 OpenMP thread #  0 of  3 \n",
            "MPI rank #  3 OpenMP thread #  1 of  3 \n",
            "MPI rank #  3 OpenMP thread #  2 of  3 \n"
          ]
        }
      ]
    },
    {
      "cell_type": "markdown",
      "source": [
        "## Producto Punto"
      ],
      "metadata": {
        "id": "mgzxnj4VekiR"
      }
    },
    {
      "cell_type": "code",
      "source": [
        "%%writefile ppunto.c\n",
        "\n",
        "#include <stdio.h>\n",
        "#include <stdlib.h>\n",
        "#include <mpi.h>\n",
        "#include <omp.h>\n",
        "\n",
        "#define VECTOR_SIZE 1000\n",
        "\n",
        "int main(int argc, char* argv[]) {\n",
        "    int rank, size;\n",
        "    int local_size, local_start, local_end;\n",
        "    double* vectorA, * vectorB;\n",
        "    double local_sum = 0.0, global_sum = 0.0;\n",
        "\n",
        "    MPI_Init(&argc, &argv);\n",
        "    MPI_Comm_rank(MPI_COMM_WORLD, &rank);\n",
        "    MPI_Comm_size(MPI_COMM_WORLD, &size);\n",
        "\n",
        "    // Calcular el tamaño local de los vectores\n",
        "    local_size = VECTOR_SIZE / size;\n",
        "    local_start = rank * local_size;\n",
        "    local_end = local_start + local_size;\n",
        "\n",
        "    // Asignar memoria para los vectores locales\n",
        "    vectorA = (double*)malloc(local_size * sizeof(double));\n",
        "    vectorB = (double*)malloc(local_size * sizeof(double));\n",
        "\n",
        "    // Inicializar vectores locales\n",
        "    #pragma omp parallel for\n",
        "    for (int i = local_start; i < local_end; i++) {\n",
        "        vectorA[i - local_start] = 1.0;  // Inicializar vectorA con 1.0\n",
        "        vectorB[i - local_start] = 2.0;  // Inicializar vectorB con 2.0\n",
        "    }\n",
        "\n",
        "    // Calcular el producto escalar local\n",
        "    #pragma omp parallel for reduction(+:local_sum)\n",
        "    for (int i = 0; i < local_size; i++) {\n",
        "        local_sum += vectorA[i] * vectorB[i];\n",
        "    }\n",
        "\n",
        "    printf(\"El producto escalar local es: %lf %d\\n\", local_sum, rank);\n",
        "    // Reducir los resultados locales en un resultado global\n",
        "    MPI_Reduce(&local_sum, &global_sum, 1, MPI_DOUBLE, MPI_SUM, 0, MPI_COMM_WORLD);\n",
        "\n",
        "    // El proceso 0 imprime el resultado\n",
        "    if (rank == 0) {\n",
        "        printf(\"El producto escalar global es: %lf\\n\", global_sum);\n",
        "    }\n",
        "\n",
        "    // Liberar memoria y finalizar MPI\n",
        "    free(vectorA);\n",
        "    free(vectorB);\n",
        "    MPI_Finalize();\n",
        "\n",
        "    return 0;\n",
        "}\n"
      ],
      "metadata": {
        "colab": {
          "base_uri": "https://localhost:8080/"
        },
        "id": "2YxxGq4-enH7",
        "outputId": "43ad9a4c-b98f-492b-cf10-3f93416a8a27"
      },
      "execution_count": 9,
      "outputs": [
        {
          "output_type": "stream",
          "name": "stdout",
          "text": [
            "Overwriting ppunto.c\n"
          ]
        }
      ]
    },
    {
      "cell_type": "code",
      "source": [
        "! mpicc -o ppunto ppunto.c  -fopenmp"
      ],
      "metadata": {
        "id": "aQhy19BWevmH"
      },
      "execution_count": 10,
      "outputs": []
    },
    {
      "cell_type": "code",
      "source": [
        "%env OMP_NUM_THREADS=4\n",
        "! mpirun --oversubscribe --allow-run-as-root -np 4 ./ppunto"
      ],
      "metadata": {
        "colab": {
          "base_uri": "https://localhost:8080/"
        },
        "id": "f1NCf9cwe46E",
        "outputId": "a7f33ad7-27cd-4d89-d799-dd528b3d7766"
      },
      "execution_count": 11,
      "outputs": [
        {
          "output_type": "stream",
          "name": "stdout",
          "text": [
            "env: OMP_NUM_THREADS=4\n",
            "El producto escalar local es: 500.000000 0\n",
            "El producto escalar local es: 500.000000 3\n",
            "El producto escalar local es: 500.000000 2\n",
            "El producto escalar local es: 500.000000 1\n",
            "El producto escalar global es: 2000.000000\n"
          ]
        }
      ]
    },
    {
      "cell_type": "code",
      "source": [
        "%%writefile ppunto_pt.c\n",
        "#include <stdio.h>\n",
        "#include <stdlib.h>\n",
        "#include <mpi.h>\n",
        "#include <pthread.h>\n",
        "\n",
        "#define ARRAY_SIZE 1000000\n",
        "\n",
        "// Estructura que contiene los datos que se pasan a cada hilo\n",
        "struct ThreadData {\n",
        "    int* array;\n",
        "    int local_size;\n",
        "    int local_sum;\n",
        "};\n",
        "\n",
        "// Función que se ejecuta en cada hilo para calcular la suma local\n",
        "void* calculateSum(void* arg) {\n",
        "    struct ThreadData* data = (struct ThreadData*)arg;\n",
        "    for (int i = 0; i < data->local_size; i++) {\n",
        "        data->local_sum += data->array[i];\n",
        "    }\n",
        "    return NULL;\n",
        "}\n",
        "\n",
        "int main(int argc, char* argv[]) {\n",
        "    int rank, size;\n",
        "    int* data;\n",
        "    int local_size, local_start, local_end;\n",
        "    int local_sum = 0;\n",
        "    pthread_t* threads;\n",
        "\n",
        "    MPI_Init(&argc, &argv);\n",
        "    MPI_Comm_rank(MPI_COMM_WORLD, &rank);\n",
        "    MPI_Comm_size(MPI_COMM_WORLD, &size);\n",
        "\n",
        "    // Calcular el tamaño local del array\n",
        "    local_size = ARRAY_SIZE / size;\n",
        "    local_start = rank * local_size;\n",
        "    local_end = local_start + local_size;\n",
        "\n",
        "    // Asignar memoria para el array local\n",
        "    data = (int*)malloc(local_size * sizeof(int));\n",
        "    threads = (pthread_t*)malloc(size * sizeof(pthread_t));\n",
        "\n",
        "    // Inicializar el array local con valores aleatorios\n",
        "    for (int i = 0; i < local_size; i++) {\n",
        "        data[i] = rand() % 10; // Valores aleatorios entre 0 y 9\n",
        "    }\n",
        "\n",
        "    // Crear hilos para calcular la suma local en paralelo\n",
        "    struct ThreadData threadData;\n",
        "    threadData.array = data;\n",
        "    threadData.local_size = local_size;\n",
        "    threadData.local_sum = 0;\n",
        "\n",
        "    pthread_create(&threads[rank], NULL, calculateSum, &threadData);\n",
        "\n",
        "    // Esperar a que todos los hilos terminen\n",
        "    pthread_join(threads[rank], NULL);\n",
        "\n",
        "    // Realizar una operación de reducción para obtener la suma global\n",
        "    MPI_Reduce(&threadData.local_sum, &local_sum, 1, MPI_INT, MPI_SUM, 0, MPI_COMM_WORLD);\n",
        "\n",
        "    // El proceso 0 imprime la suma global\n",
        "    if (rank == 0) {\n",
        "        printf(\"Suma global: %d\\n\", local_sum);\n",
        "    }\n",
        "\n",
        "    // Liberar memoria y finalizar MPI\n",
        "    free(data);\n",
        "    free(threads);\n",
        "    MPI_Finalize();\n",
        "\n",
        "    return 0;\n",
        "}\n"
      ],
      "metadata": {
        "colab": {
          "base_uri": "https://localhost:8080/"
        },
        "id": "tqTAheX0gnlw",
        "outputId": "5487e1ac-8ef8-423a-d9a0-485168a5a0d9"
      },
      "execution_count": 12,
      "outputs": [
        {
          "output_type": "stream",
          "name": "stdout",
          "text": [
            "Writing ppunto_pt.c\n"
          ]
        }
      ]
    },
    {
      "cell_type": "code",
      "source": [
        "! mpicc -o ppunto_pt ppunto_pt.c -lpthread"
      ],
      "metadata": {
        "id": "6gPYmsSBgusJ"
      },
      "execution_count": 13,
      "outputs": []
    },
    {
      "cell_type": "code",
      "source": [
        "! mpirun --oversubscribe --allow-run-as-root -np 4 ./ppunto_pt"
      ],
      "metadata": {
        "colab": {
          "base_uri": "https://localhost:8080/"
        },
        "id": "HEmJzgumgu2L",
        "outputId": "f1cd9917-6d70-427d-bf24-97e2eb03862c"
      },
      "execution_count": 14,
      "outputs": [
        {
          "output_type": "stream",
          "name": "stdout",
          "text": [
            "Suma global: 4501204\n"
          ]
        }
      ]
    },
    {
      "cell_type": "code",
      "source": [
        "%%writefile ppunto_ptv2.c\n",
        "#include <stdio.h>\n",
        "#include <stdlib.h>\n",
        "#include <mpi.h>\n",
        "#include <pthread.h>\n",
        "\n",
        "#define ARRAY_SIZE 1000000\n",
        "#define NUM_THREADS_PER_PROCESS 4\n",
        "\n",
        "// Estructura que contiene los datos que se pasan a cada hilo\n",
        "struct ThreadData {\n",
        "    int* array;\n",
        "    int local_size;\n",
        "    int local_start;\n",
        "    int local_sum;\n",
        "};\n",
        "\n",
        "// Función que se ejecuta en cada hilo para calcular la suma local\n",
        "void* calculateSum(void* arg) {\n",
        "    struct ThreadData* data = (struct ThreadData*)arg;\n",
        "    for (int i = data->local_start; i < data->local_start + data->local_size; i++) {\n",
        "        data->local_sum += data->array[i];\n",
        "    }\n",
        "    return NULL;\n",
        "}\n",
        "\n",
        "int main(int argc, char* argv[]) {\n",
        "    int rank, size;\n",
        "    int* data;\n",
        "    int local_size, local_start, local_end;\n",
        "    int local_sum = 0;\n",
        "    pthread_t threads[NUM_THREADS_PER_PROCESS];\n",
        "    struct ThreadData threadData[NUM_THREADS_PER_PROCESS];\n",
        "\n",
        "    MPI_Init(&argc, &argv);\n",
        "    MPI_Comm_rank(MPI_COMM_WORLD, &rank);\n",
        "    MPI_Comm_size(MPI_COMM_WORLD, &size);\n",
        "\n",
        "    // Calcular el tamaño local del array\n",
        "    local_size = ARRAY_SIZE / (size * NUM_THREADS_PER_PROCESS);\n",
        "    local_start = rank * local_size * NUM_THREADS_PER_PROCESS;\n",
        "    local_end = local_start + local_size * NUM_THREADS_PER_PROCESS;\n",
        "\n",
        "    // Asignar memoria para el array local\n",
        "    data = (int*)malloc(local_size * NUM_THREADS_PER_PROCESS * sizeof(int));\n",
        "\n",
        "    // Inicializar el array local con valores aleatorios\n",
        "    for (int i = 0; i < local_size * NUM_THREADS_PER_PROCESS; i++) {\n",
        "        data[i] = rand() % 10; // Valores aleatorios entre 0 y 9\n",
        "    }\n",
        "\n",
        "    // Crear y lanzar múltiples hilos para calcular la suma local en paralelo\n",
        "    for (int i = 0; i < NUM_THREADS_PER_PROCESS; i++) {\n",
        "        threadData[i].array = data;\n",
        "        threadData[i].local_size = local_size;\n",
        "        threadData[i].local_start = i * local_size;\n",
        "        threadData[i].local_sum = 0;\n",
        "\n",
        "        pthread_create(&threads[i], NULL, calculateSum, &threadData[i]);\n",
        "    }\n",
        "\n",
        "    // Esperar a que todos los hilos terminen\n",
        "    for (int i = 0; i < NUM_THREADS_PER_PROCESS; i++) {\n",
        "        pthread_join(threads[i], NULL);\n",
        "        local_sum += threadData[i].local_sum;\n",
        "    }\n",
        "\n",
        "    // Realizar una operación de reducción para obtener la suma global\n",
        "    int global_sum = 0;\n",
        "    MPI_Reduce(&local_sum, &global_sum, 1, MPI_INT, MPI_SUM, 0, MPI_COMM_WORLD);\n",
        "\n",
        "    // El proceso 0 imprime la suma global\n",
        "    if (rank == 0) {\n",
        "        printf(\"Suma global: %d\\n\", global_sum);\n",
        "    }\n",
        "\n",
        "    // Liberar memoria y finalizar MPI\n",
        "    free(data);\n",
        "    MPI_Finalize();\n",
        "\n",
        "    return 0;\n",
        "}\n"
      ],
      "metadata": {
        "colab": {
          "base_uri": "https://localhost:8080/"
        },
        "id": "t4f9GFMZhkmn",
        "outputId": "413b59a0-90ef-4f84-cb94-14a72dcf4f38"
      },
      "execution_count": 18,
      "outputs": [
        {
          "output_type": "stream",
          "name": "stdout",
          "text": [
            "Overwriting ppunto_ptv2.c\n"
          ]
        }
      ]
    },
    {
      "cell_type": "code",
      "source": [
        "! mpicc -o ppunto_ptv2 ppunto_ptv2.c -lpthread"
      ],
      "metadata": {
        "id": "nr0tR6xHhsRn"
      },
      "execution_count": 19,
      "outputs": []
    },
    {
      "cell_type": "code",
      "source": [
        "! mpirun --oversubscribe --allow-run-as-root -np 4 ./ppunto_ptv2"
      ],
      "metadata": {
        "id": "r4BK-THlhsgh"
      },
      "execution_count": null,
      "outputs": []
    },
    {
      "cell_type": "markdown",
      "source": [
        "## Matrix multiplication with MPI and OpenMP"
      ],
      "metadata": {
        "id": "hYYrWYdLO67n"
      }
    },
    {
      "cell_type": "code",
      "source": [
        "%%writefile mpi_openmp_matrix_mult.c\n",
        "\n",
        "/*\n",
        " * Un programa simple para multiplicar matrices\n",
        " * (Matrix_A  X  Matrix_B) => Matrix_C\n",
        " */\n",
        "\n",
        "#include <stdio.h>\n",
        "#include <stdlib.h>\n",
        "#include <mpi.h>\n",
        "#include <omp.h>\n",
        "\n",
        "#include <time.h>\n",
        "\n",
        "\n",
        "#define ARRAY_SIZE 10\n",
        "\n",
        "typedef int matrix_t[ARRAY_SIZE][ARRAY_SIZE];\n",
        "\n",
        "matrix_t MA,MB,MC;\n",
        "\n",
        "/*\n",
        "Rutina para multiplicar una fila por una columna y colocar un elemento en\n",
        "matriz resultante.\n",
        "*/\n",
        "void mult(int size,\n",
        "\t  int row,\n",
        "\t  int column,\n",
        "    int rowl,\n",
        "\t  matrix_t MA,\n",
        "\t  matrix_t MB,\n",
        "\t  int *MC)\n",
        "{\n",
        "  int position;\n",
        "  //int row_l=0;\n",
        "  MC[rowl]= 0;\n",
        "  for(position = 0; position < size; position++) {\n",
        "     MC[rowl] = MC[rowl] +\n",
        "     ( MA[row][position]  *  MB[position][column] ) ;\n",
        "\n",
        "  }\n",
        "}\n",
        "\n",
        "//colocamos valores random 1-10 en las matrices\n",
        "void inicializamos_matriz(int size,\n",
        "                    matrix_t MX)\n",
        "{\n",
        "    int   row, column;\n",
        "    srand(time(0));\n",
        "    for(row = 0; row < size; row++) {\n",
        "    for (column = 0; column < size; column++) {\n",
        "      MX[row][column]=rand()%10;\n",
        "    }\n",
        "  }\n",
        "}\n",
        "\n",
        "void imprimir_matriz(int size,\n",
        "                    matrix_t MX)\n",
        "{\n",
        "    int   row, column;\n",
        "    for(row = 0; row < size; row ++) {\n",
        "    for (column = 0; column < size; column++) {\n",
        "      printf(\"%5d \",MX[row][column]);\n",
        "    }\n",
        "    printf(\"\\n\");\n",
        "  }\n",
        "}\n",
        "\n",
        "void imprimir_matriz2(int sizer,int sizec,\n",
        "                    int *MX)\n",
        "{\n",
        "    int   row, column,i=0;\n",
        "    for(row = 0; row < sizer; row++) {\n",
        "    for (column = 0; column < sizec; column++) {\n",
        "      printf(\"%5d \",MX[i]);\n",
        "      i++;\n",
        "    }\n",
        "    printf(\"\\n\");\n",
        "  }\n",
        "}\n",
        "\n",
        "\n",
        "// inicializamos valores y calcula los resultados\n",
        "\n",
        "int main(void)\n",
        "{\n",
        "  int      size, row, column;\n",
        "\n",
        "  size = ARRAY_SIZE;\n",
        "\n",
        "//puntero a la matriz resultante\n",
        "int *final_matrix;\n",
        "int num_worker, rank;\n",
        "MPI_Init(NULL, NULL);\n",
        "MPI_Comm_size(MPI_COMM_WORLD, &num_worker);\n",
        "MPI_Comm_rank(MPI_COMM_WORLD, &rank);\n",
        "\n",
        "if(rank == 0){\n",
        "  // inicializamos los valores de la MA\n",
        "  inicializamos_matriz(size, MA);\n",
        "  //inicializamos los valores de la MB\n",
        "  inicializamos_matriz(size, MB);\n",
        "  //imprimimos\n",
        "  printf(\"La matriz A es;\\n\");\n",
        "  imprimir_matriz(size,MA);\n",
        "  printf(\"La matriz B es;\\n\");\n",
        "  imprimir_matriz(size,MB);\n",
        "  //reservamos la memoria para la matriz final\n",
        "    final_matrix = (int *) malloc(sizeof(int*) * size*size);\n",
        "}\n",
        "\n",
        "\n",
        "MPI_Bcast(MA, size*size , MPI_INT, 0, MPI_COMM_WORLD);\n",
        "MPI_Bcast(MB, size*size , MPI_INT, 0, MPI_COMM_WORLD);\n",
        "\n",
        "//chequeamos si proceso 1 recibio la información\n",
        "if(rank == 1){\n",
        "  printf(\"id:%d La matriz A es;\\n\",rank);\n",
        "  imprimir_matriz(size,MA);\n",
        "  printf(\"id:%d La matriz B es;\\n\",rank);\n",
        "  imprimir_matriz(size,MB);\n",
        "}\n",
        "\n",
        "// determinamos la fila de inicio y fin para la proceso trabajador\n",
        "int startrow = rank * ( size / num_worker);\n",
        "int endrow = ((rank + 1) * ( size / num_worker)) -1;\n",
        "//calculamos las sub-matrices\n",
        "int number_of_rows = size / num_worker;\n",
        "int *result_matrix = (int *) malloc(sizeof(int*) * number_of_rows * size);\n",
        "    //multiplicamos\n",
        "    int rowl=0;\n",
        "    #pragma omp parallel for collapse(2)\n",
        "    for(row = startrow;  row <= endrow; row++) {\n",
        "     for (column = 0; column < size; column++) {\n",
        "      mult(size, row, column,rowl, MA, MB, result_matrix);\n",
        "      rowl++;\n",
        "      int omp_id  =omp_get_thread_num();\n",
        "      int omp_num =omp_get_num_threads();\n",
        "      #pragma omp critical\n",
        "      printf(\"row: %d col=%d, OpenMP_hilo=%d MPI_rank_process=%d\\n\", row,column, omp_get_thread_num(),rank);\n",
        "      fflush(stdout);\n",
        "      }\n",
        "    }\n",
        "\n",
        "\n",
        "\n",
        "//recolectamos los resutlados de la matriz\n",
        "    MPI_Gather(result_matrix, number_of_rows*size, MPI_INT,\n",
        "           final_matrix, number_of_rows*size,  MPI_INT, 0, MPI_COMM_WORLD);\n",
        "\n",
        "  //imprimimos la matriz luego de recolectar los resultados\n",
        "  if(rank == 0){\n",
        "  printf(\"La matriz resultante C es (MPI/OpenMP);\\n\");\n",
        "  imprimir_matriz2(size,size,final_matrix);\n",
        "  }\n",
        "\n",
        " MPI_Finalize();\n",
        "\n",
        "  return 0;\n",
        "}\n",
        "\n"
      ],
      "metadata": {
        "colab": {
          "base_uri": "https://localhost:8080/"
        },
        "id": "tDrhLK1i7ixU",
        "outputId": "e25c0e8a-a5bf-47f6-d564-3c50a274d4da"
      },
      "execution_count": 21,
      "outputs": [
        {
          "output_type": "stream",
          "name": "stdout",
          "text": [
            "Writing mpi_openmp_matrix_mult.c\n"
          ]
        }
      ]
    },
    {
      "cell_type": "code",
      "source": [
        " ! mpicc -o mpi_openmp_matrix_mult mpi_openmp_matrix_mult.c  -fopenmp"
      ],
      "metadata": {
        "id": "R4q4sJO_Rcgl"
      },
      "execution_count": 22,
      "outputs": []
    },
    {
      "cell_type": "code",
      "source": [
        "%env OMP_NUM_THREADS=3\n",
        "! mpirun --oversubscribe --allow-run-as-root -np 5 ./mpi_openmp_matrix_mult"
      ],
      "metadata": {
        "id": "2GF_bHjmRe6q"
      },
      "execution_count": null,
      "outputs": []
    }
  ]
}