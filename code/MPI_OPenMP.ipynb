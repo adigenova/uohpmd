{
  "nbformat": 4,
  "nbformat_minor": 0,
  "metadata": {
    "colab": {
      "provenance": [],
      "collapsed_sections": [],
      "authorship_tag": "ABX9TyPi1Y5oQF2/oENtCfsBv+At",
      "include_colab_link": true
    },
    "kernelspec": {
      "name": "python3",
      "display_name": "Python 3"
    },
    "language_info": {
      "name": "python"
    }
  },
  "cells": [
    {
      "cell_type": "markdown",
      "metadata": {
        "id": "view-in-github",
        "colab_type": "text"
      },
      "source": [
        "<a href=\"https://colab.research.google.com/github/adigenova/uohpmd/blob/main/code/MPI_OPenMP.ipynb\" target=\"_parent\"><img src=\"https://colab.research.google.com/assets/colab-badge.svg\" alt=\"Open In Colab\"/></a>"
      ]
    },
    {
      "cell_type": "code",
      "source": [
        "!apt install mpich libomp-dev"
      ],
      "metadata": {
        "id": "y1rCHrYWAHl9"
      },
      "execution_count": null,
      "outputs": []
    },
    {
      "cell_type": "code",
      "source": [
        "%%writefile mpi_openmp_e1.c\n",
        "\n",
        "#include <stdio.h>\n",
        "#include <stdlib.h>\n",
        "//we load omp/mpi\n",
        "#include <omp.h>\n",
        "#include <mpi.h>\n",
        "// defines the MPI_THREADS_MODE\n",
        "#define MPI_THREAD_STRING(level)  \\\n",
        "        ( level==MPI_THREAD_SERIALIZED ? \"THREAD_SERIALIZED\" : \\\n",
        "                ( level==MPI_THREAD_MULTIPLE ? \"THREAD_MULTIPLE\" : \\\n",
        "                        ( level==MPI_THREAD_FUNNELED ? \"THREAD_FUNNELED\" : \\\n",
        "                                ( level==MPI_THREAD_SINGLE ? \"THREAD_SINGLE\" : \"THIS_IS_IMPOSSIBLE\" ) ) ) )\n",
        "\n",
        "int main(int argc, char ** argv)\n",
        "{\n",
        "    /* Estos son los soportes de hilos deseados y disponibles.\n",
        "        Se puede utilizar un código híbrido en el que todas las llamadas MPI se realizan desde el hilo principal (FUNNELED).\n",
        "        Si los hilos realizan llamadas MPI, MULTIPLE es el apropiado. */\n",
        "    int requested=MPI_THREAD_FUNNELED, provided;\n",
        "\n",
        "    /* Intentamos activar los hilos MPI usando el modo requerido: MPI_THREAD_FUNNELED*/\n",
        "    MPI_Init_thread(&argc, &argv, requested, &provided);\n",
        "    if (provided<requested)\n",
        "    {\n",
        "        printf(\"MPI_Init_thread provee %s cuando %s fue solicitado.  Terminando el programa. \\n\",\n",
        "               MPI_THREAD_STRING(provided), MPI_THREAD_STRING(requested) );\n",
        "        exit(1);\n",
        "    }\n",
        "\n",
        "    int world_size, world_rank;\n",
        "\n",
        "    MPI_Comm_size(MPI_COMM_WORLD,&world_size);\n",
        "    MPI_Comm_rank(MPI_COMM_WORLD,&world_rank);\n",
        "\n",
        "    printf(\"Hola desde %d de total :%d  procesos\\n\", world_rank, world_size);\n",
        "\n",
        "    //ocupamos openMP para crear una seccion paralela\n",
        "    #pragma omp parallel\n",
        "    {\n",
        "        int omp_id  =omp_get_thread_num();\n",
        "        int omp_num =omp_get_num_threads();\n",
        "        printf(\"MPI rank # %2d OpenMP thread # %2d of %2d \\n\", world_rank, omp_id, omp_num);\n",
        "        fflush(stdout);\n",
        "    }\n",
        "    \n",
        "    MPI_Finalize();\n",
        "    return 0;\n",
        "}"
      ],
      "metadata": {
        "colab": {
          "base_uri": "https://localhost:8080/"
        },
        "id": "EiC5VveUqyCJ",
        "outputId": "34e8d2cb-63d0-4a1e-8fa3-bc8e216e0a2d"
      },
      "execution_count": 2,
      "outputs": [
        {
          "output_type": "stream",
          "name": "stdout",
          "text": [
            "Overwriting mpi_openmp_e1.c\n"
          ]
        }
      ]
    },
    {
      "cell_type": "code",
      "source": [
        "! ! mpicc -o mpi_openmp_e1 mpi_openmp_e1.c  -fopenmp "
      ],
      "metadata": {
        "id": "4r2QvEGYrnFQ"
      },
      "execution_count": 5,
      "outputs": []
    },
    {
      "cell_type": "code",
      "source": [
        "%env OMP_NUM_THREADS=3\n",
        "! mpirun --allow-run-as-root -np 4 ./mpi_openmp_e1"
      ],
      "metadata": {
        "id": "FnR5FGSotINR"
      },
      "execution_count": null,
      "outputs": []
    },
    {
      "cell_type": "markdown",
      "source": [
        "## Matrix multiplication with MPI and OpenMP"
      ],
      "metadata": {
        "id": "hYYrWYdLO67n"
      }
    },
    {
      "cell_type": "code",
      "source": [
        "%%writefile mpi_openmp_matrix_mult.c\n",
        "\n",
        "/*\n",
        " * Un programa simple para multiplicar matrices\n",
        " * (Matrix_A  X  Matrix_B) => Matrix_C\n",
        " */\n",
        " \n",
        "#include <stdio.h>\n",
        "#include <stdlib.h>\n",
        "#include <mpi.h>\n",
        "#include <omp.h>\n",
        "\n",
        "#include <time.h>\n",
        "\n",
        "\n",
        "#define ARRAY_SIZE 10\n",
        "\n",
        "typedef int matrix_t[ARRAY_SIZE][ARRAY_SIZE];\n",
        "\n",
        "matrix_t MA,MB,MC;\n",
        "\n",
        "/*\n",
        "Rutina para multiplicar una fila por una columna y colocar un elemento en\n",
        "matriz resultante.\n",
        "*/\n",
        "void mult(int size,\n",
        "\t  int row,\n",
        "\t  int column,\n",
        "    int rowl,\n",
        "\t  matrix_t MA, \n",
        "\t  matrix_t MB,\n",
        "\t  int *MC)\n",
        "{\n",
        "  int position;\n",
        "  //int row_l=0;\n",
        "  MC[rowl]= 0;\n",
        "  for(position = 0; position < size; position++) {\n",
        "     MC[rowl] = MC[rowl] +\n",
        "     ( MA[row][position]  *  MB[position][column] ) ;\n",
        "\n",
        "  }\n",
        "}\n",
        "\n",
        "//colocamos valores random 1-10 en las matrices\n",
        "void inicializamos_matriz(int size, \n",
        "                    matrix_t MX)\n",
        "{\n",
        "    int   row, column;\n",
        "    srand(time(0));\n",
        "    for(row = 0; row < size; row++) {\n",
        "    for (column = 0; column < size; column++) {\n",
        "      MX[row][column]=rand()%10;\n",
        "    }\n",
        "  }\n",
        "}\n",
        "\n",
        "void imprimir_matriz(int size, \n",
        "                    matrix_t MX)\n",
        "{\n",
        "    int   row, column;\n",
        "    for(row = 0; row < size; row ++) {\n",
        "    for (column = 0; column < size; column++) {\n",
        "      printf(\"%5d \",MX[row][column]);\n",
        "    }\n",
        "    printf(\"\\n\");\n",
        "  }\n",
        "}\n",
        "\n",
        "void imprimir_matriz2(int sizer,int sizec, \n",
        "                    int *MX)\n",
        "{\n",
        "    int   row, column,i=0;\n",
        "    for(row = 0; row < sizer; row++) {\n",
        "    for (column = 0; column < sizec; column++) {\n",
        "      printf(\"%5d \",MX[i]);\n",
        "      i++;\n",
        "    }\n",
        "    printf(\"\\n\");\n",
        "  }\n",
        "}\n",
        "\n",
        "\n",
        "// inicializamos valores y calcula los resultados\n",
        "\n",
        "int main(void)\n",
        "{\n",
        "  int      size, row, column;\n",
        "  \n",
        "  size = ARRAY_SIZE;\n",
        "  \n",
        "//puntero a la matriz resultante\n",
        "int *final_matrix;\n",
        "int num_worker, rank;\n",
        "MPI_Init(NULL, NULL);\n",
        "MPI_Comm_size(MPI_COMM_WORLD, &num_worker);\n",
        "MPI_Comm_rank(MPI_COMM_WORLD, &rank);\n",
        "\n",
        "if(rank == 0){\n",
        "  // inicializamos los valores de la MA\n",
        "  inicializamos_matriz(size, MA);\n",
        "  //inicializamos los valores de la MB \n",
        "  inicializamos_matriz(size, MB);\n",
        "  //imprimimos\n",
        "  printf(\"La matriz A es;\\n\");\n",
        "  imprimir_matriz(size,MA);\n",
        "  printf(\"La matriz B es;\\n\");\n",
        "  imprimir_matriz(size,MB);\n",
        "  //reservamos la memoria para la matriz final\n",
        "    final_matrix = (int *) malloc(sizeof(int*) * size*size);\n",
        "}\n",
        "\n",
        "\n",
        "MPI_Bcast(MA, size*size , MPI_INT, 0, MPI_COMM_WORLD);\n",
        "MPI_Bcast(MB, size*size , MPI_INT, 0, MPI_COMM_WORLD);\n",
        "\n",
        "//chequeamos si proceso 1 recibio la información\n",
        "if(rank == 1){\n",
        "  printf(\"id:%d La matriz A es;\\n\",rank);\n",
        "  imprimir_matriz(size,MA);\n",
        "  printf(\"id:%d La matriz B es;\\n\",rank);\n",
        "  imprimir_matriz(size,MB);  \n",
        "}\n",
        "\n",
        "// determinamos la fila de inicio y fin para la proceso trabajador  \n",
        "int startrow = rank * ( size / num_worker);\n",
        "int endrow = ((rank + 1) * ( size / num_worker)) -1; \n",
        "//calculamos las sub-matrices\n",
        "int number_of_rows = size / num_worker;\n",
        "int *result_matrix = (int *) malloc(sizeof(int*) * number_of_rows * size);\n",
        "    //multiplicamos\n",
        "    int rowl=0;\n",
        "    #pragma omp parallel for collapse(2)\n",
        "    for(row = startrow;  row <= endrow; row++) {\n",
        "     for (column = 0; column < size; column++) {\n",
        "      mult(size, row, column,rowl, MA, MB, result_matrix);\n",
        "      rowl++;\n",
        "      int omp_id  =omp_get_thread_num();\n",
        "      int omp_num =omp_get_num_threads();\n",
        "      #pragma omp critical\n",
        "      printf(\"row: %d col=%d, OpenMP_hilo=%d MPI_rank_process=%d\\n\", row,column, omp_get_thread_num(),rank);\n",
        "      fflush(stdout);\n",
        "      }\n",
        "    }\n",
        "   \n",
        "   \n",
        "\n",
        "//recolectamos los resutlados de la matriz\n",
        "    MPI_Gather(result_matrix, number_of_rows*size, MPI_INT,\n",
        "           final_matrix, number_of_rows*size,  MPI_INT, 0, MPI_COMM_WORLD);\n",
        "  \n",
        "  //imprimimos la matriz luego de recolectar los resultados\n",
        "  if(rank == 0){\n",
        "  printf(\"La matriz resultante C es (MPI/OpenMP);\\n\");  \n",
        "  imprimir_matriz2(size,size,final_matrix);\n",
        "  }\n",
        "\n",
        " MPI_Finalize();\n",
        "\n",
        "  return 0;\n",
        "}\n",
        "\n"
      ],
      "metadata": {
        "colab": {
          "base_uri": "https://localhost:8080/"
        },
        "id": "tDrhLK1i7ixU",
        "outputId": "15daff44-b0d3-41a5-c514-60fca10b2bc9"
      },
      "execution_count": 35,
      "outputs": [
        {
          "output_type": "stream",
          "name": "stdout",
          "text": [
            "Overwriting mpi_openmp_matrix_mult.c\n"
          ]
        }
      ]
    },
    {
      "cell_type": "code",
      "source": [
        " ! mpicc -o mpi_openmp_matrix_mult mpi_openmp_matrix_mult.c  -fopenmp "
      ],
      "metadata": {
        "id": "R4q4sJO_Rcgl"
      },
      "execution_count": 36,
      "outputs": []
    },
    {
      "cell_type": "code",
      "source": [
        "%env OMP_NUM_THREADS=3\n",
        "! mpirun --allow-run-as-root -np 5 ./mpi_openmp_matrix_mult"
      ],
      "metadata": {
        "id": "2GF_bHjmRe6q"
      },
      "execution_count": null,
      "outputs": []
    }
  ]
}