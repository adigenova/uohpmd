{
  "nbformat": 4,
  "nbformat_minor": 0,
  "metadata": {
    "colab": {
      "provenance": [],
      "authorship_tag": "ABX9TyM4gGiB63V4/+ikP2WO6HZR",
      "include_colab_link": true
    },
    "kernelspec": {
      "name": "python3",
      "display_name": "Python 3"
    },
    "language_info": {
      "name": "python"
    }
  },
  "cells": [
    {
      "cell_type": "markdown",
      "metadata": {
        "id": "view-in-github",
        "colab_type": "text"
      },
      "source": [
        "<a href=\"https://colab.research.google.com/github/adigenova/uohpmd/blob/main/code/MPI_OPenMP.ipynb\" target=\"_parent\"><img src=\"https://colab.research.google.com/assets/colab-badge.svg\" alt=\"Open In Colab\"/></a>"
      ]
    },
    {
      "cell_type": "code",
      "source": [
        "# instalamos ambas librerias MPI y OpenMP\n",
        "!apt install mpich libomp-dev"
      ],
      "metadata": {
        "id": "y1rCHrYWAHl9",
        "outputId": "36eb15e9-d2a1-4dfb-d3fb-bdd7b2009b75",
        "colab": {
          "base_uri": "https://localhost:8080/"
        }
      },
      "execution_count": 1,
      "outputs": [
        {
          "output_type": "stream",
          "name": "stdout",
          "text": [
            "Reading package lists... Done\n",
            "Building dependency tree... Done\n",
            "Reading state information... Done\n",
            "The following additional packages will be installed:\n",
            "  hwloc-nox libmpich-dev libmpich12 libomp-14-dev libomp5-14 libslurm37\n",
            "Suggested packages:\n",
            "  libomp-14-doc mpich-doc\n",
            "The following NEW packages will be installed:\n",
            "  hwloc-nox libmpich-dev libmpich12 libomp-14-dev libomp-dev libomp5-14 libslurm37 mpich\n",
            "0 upgraded, 8 newly installed, 0 to remove and 49 not upgraded.\n",
            "Need to get 14.9 MB of archives.\n",
            "After this operation, 111 MB of additional disk space will be used.\n",
            "Get:1 http://archive.ubuntu.com/ubuntu jammy-updates/universe amd64 libomp5-14 amd64 1:14.0.0-1ubuntu1.1 [389 kB]\n",
            "Get:2 http://archive.ubuntu.com/ubuntu jammy-updates/universe amd64 libomp-14-dev amd64 1:14.0.0-1ubuntu1.1 [347 kB]\n",
            "Get:3 http://archive.ubuntu.com/ubuntu jammy/universe amd64 libslurm37 amd64 21.08.5-2ubuntu1 [542 kB]\n",
            "Get:4 http://archive.ubuntu.com/ubuntu jammy-updates/universe amd64 hwloc-nox amd64 2.7.0-2ubuntu1 [205 kB]\n",
            "Get:5 http://archive.ubuntu.com/ubuntu jammy/universe amd64 libmpich12 amd64 4.0-3 [5,866 kB]\n",
            "Get:6 http://archive.ubuntu.com/ubuntu jammy/universe amd64 mpich amd64 4.0-3 [197 kB]\n",
            "Get:7 http://archive.ubuntu.com/ubuntu jammy/universe amd64 libmpich-dev amd64 4.0-3 [7,375 kB]\n",
            "Get:8 http://archive.ubuntu.com/ubuntu jammy/universe amd64 libomp-dev amd64 1:14.0-55~exp2 [3,074 B]\n",
            "Fetched 14.9 MB in 1s (11.2 MB/s)\n",
            "Selecting previously unselected package libomp5-14:amd64.\n",
            "(Reading database ... 123621 files and directories currently installed.)\n",
            "Preparing to unpack .../0-libomp5-14_1%3a14.0.0-1ubuntu1.1_amd64.deb ...\n",
            "Unpacking libomp5-14:amd64 (1:14.0.0-1ubuntu1.1) ...\n",
            "Selecting previously unselected package libomp-14-dev.\n",
            "Preparing to unpack .../1-libomp-14-dev_1%3a14.0.0-1ubuntu1.1_amd64.deb ...\n",
            "Unpacking libomp-14-dev (1:14.0.0-1ubuntu1.1) ...\n",
            "Selecting previously unselected package libslurm37.\n",
            "Preparing to unpack .../2-libslurm37_21.08.5-2ubuntu1_amd64.deb ...\n",
            "Unpacking libslurm37 (21.08.5-2ubuntu1) ...\n",
            "Selecting previously unselected package hwloc-nox.\n",
            "Preparing to unpack .../3-hwloc-nox_2.7.0-2ubuntu1_amd64.deb ...\n",
            "Unpacking hwloc-nox (2.7.0-2ubuntu1) ...\n",
            "Selecting previously unselected package libmpich12:amd64.\n",
            "Preparing to unpack .../4-libmpich12_4.0-3_amd64.deb ...\n",
            "Unpacking libmpich12:amd64 (4.0-3) ...\n",
            "Selecting previously unselected package mpich.\n",
            "Preparing to unpack .../5-mpich_4.0-3_amd64.deb ...\n",
            "Unpacking mpich (4.0-3) ...\n",
            "Selecting previously unselected package libmpich-dev:amd64.\n",
            "Preparing to unpack .../6-libmpich-dev_4.0-3_amd64.deb ...\n",
            "Unpacking libmpich-dev:amd64 (4.0-3) ...\n",
            "Selecting previously unselected package libomp-dev:amd64.\n",
            "Preparing to unpack .../7-libomp-dev_1%3a14.0-55~exp2_amd64.deb ...\n",
            "Unpacking libomp-dev:amd64 (1:14.0-55~exp2) ...\n",
            "Setting up libomp5-14:amd64 (1:14.0.0-1ubuntu1.1) ...\n",
            "Setting up libslurm37 (21.08.5-2ubuntu1) ...\n",
            "Setting up hwloc-nox (2.7.0-2ubuntu1) ...\n",
            "Setting up libmpich12:amd64 (4.0-3) ...\n",
            "Setting up libomp-14-dev (1:14.0.0-1ubuntu1.1) ...\n",
            "Setting up libomp-dev:amd64 (1:14.0-55~exp2) ...\n",
            "Setting up mpich (4.0-3) ...\n",
            "Setting up libmpich-dev:amd64 (4.0-3) ...\n",
            "Processing triggers for man-db (2.10.2-1) ...\n",
            "Processing triggers for libc-bin (2.35-0ubuntu3.4) ...\n",
            "/sbin/ldconfig.real: /usr/local/lib/libtbb.so.12 is not a symbolic link\n",
            "\n",
            "/sbin/ldconfig.real: /usr/local/lib/libtbbbind_2_0.so.3 is not a symbolic link\n",
            "\n",
            "/sbin/ldconfig.real: /usr/local/lib/libur_adapter_opencl.so.0 is not a symbolic link\n",
            "\n",
            "/sbin/ldconfig.real: /usr/local/lib/libtbbbind.so.3 is not a symbolic link\n",
            "\n",
            "/sbin/ldconfig.real: /usr/local/lib/libtbbbind_2_5.so.3 is not a symbolic link\n",
            "\n",
            "/sbin/ldconfig.real: /usr/local/lib/libur_adapter_level_zero.so.0 is not a symbolic link\n",
            "\n",
            "/sbin/ldconfig.real: /usr/local/lib/libtbbmalloc_proxy.so.2 is not a symbolic link\n",
            "\n",
            "/sbin/ldconfig.real: /usr/local/lib/libtbbmalloc.so.2 is not a symbolic link\n",
            "\n",
            "/sbin/ldconfig.real: /usr/local/lib/libur_loader.so.0 is not a symbolic link\n",
            "\n"
          ]
        }
      ]
    },
    {
      "cell_type": "code",
      "source": [
        "%%writefile mpi_openmp_e1.c\n",
        "\n",
        "#include <stdio.h>\n",
        "#include <stdlib.h>\n",
        "//we load omp/mpi\n",
        "#include <omp.h>\n",
        "#include <mpi.h>\n",
        "#include <unistd.h>\n",
        "// defines the MPI_THREADS_MODE\n",
        "#define MPI_THREAD_STRING(level)  \\\n",
        "        ( level==MPI_THREAD_SERIALIZED ? \"THREAD_SERIALIZED\" : \\\n",
        "                ( level==MPI_THREAD_MULTIPLE ? \"THREAD_MULTIPLE\" : \\\n",
        "                        ( level==MPI_THREAD_FUNNELED ? \"THREAD_FUNNELED\" : \\\n",
        "                                ( level==MPI_THREAD_SINGLE ? \"THREAD_SINGLE\" : \"THIS_IS_IMPOSSIBLE\" ) ) ) )\n",
        "\n",
        "int main(int argc, char ** argv)\n",
        "{\n",
        "    /* Estos son los soportes de hilos deseados y disponibles.\n",
        "        Se puede utilizar un código híbrido en el que todas las llamadas MPI se realizan desde el hilo principal (FUNNELED).\n",
        "        Si los hilos realizan llamadas MPI, MULTIPLE es el apropiado. */\n",
        "    int requested=MPI_THREAD_FUNNELED, provided;\n",
        "\n",
        "    /* Intentamos activar los hilos MPI usando el modo requerido: MPI_THREAD_FUNNELED*/\n",
        "    MPI_Init_thread(&argc, &argv, requested, &provided);\n",
        "    if (provided<requested)\n",
        "    {\n",
        "        printf(\"MPI_Init_thread provee %s cuando %s fue solicitado.  Terminando el programa. \\n\",\n",
        "               MPI_THREAD_STRING(provided), MPI_THREAD_STRING(requested) );\n",
        "        exit(1);\n",
        "    }\n",
        "\n",
        "    int world_size, world_rank;\n",
        "\n",
        "    MPI_Comm_size(MPI_COMM_WORLD,&world_size);\n",
        "    MPI_Comm_rank(MPI_COMM_WORLD,&world_rank);\n",
        "\n",
        "    printf(\"MPI: Hola desde %d de total :%d  procesos\\n\", world_rank, world_size);\n",
        "\n",
        "    //ocupamos openMP para crear una seccion paralela\n",
        "    #pragma omp parallel\n",
        "    {\n",
        "        int omp_id  =omp_get_thread_num();\n",
        "        int omp_num =omp_get_num_threads();\n",
        "        if(world_rank == 1){\n",
        "          printf(\"OPenMP: MPI rank # %2d OpenMP thread # %2d of %2d \\n\", world_rank, omp_id, omp_num);\n",
        "        }else{\n",
        "          sleep(world_rank);\n",
        "          printf(\"OPenMP: MPI rank # %2d OpenMP thread # %2d of %2d \\n\", world_rank, omp_id, omp_num);\n",
        "        }\n",
        "       fflush(stdout);\n",
        "    }\n",
        "\n",
        "    MPI_Finalize();\n",
        "    return 0;\n",
        "}"
      ],
      "metadata": {
        "colab": {
          "base_uri": "https://localhost:8080/"
        },
        "id": "EiC5VveUqyCJ",
        "outputId": "fb9633e3-f77f-4f1b-ccca-0278468e7f07"
      },
      "execution_count": 19,
      "outputs": [
        {
          "output_type": "stream",
          "name": "stdout",
          "text": [
            "Overwriting mpi_openmp_e1.c\n"
          ]
        }
      ]
    },
    {
      "cell_type": "code",
      "source": [
        "! mpicc -o mpi_openmp_e1 mpi_openmp_e1.c  -fopenmp"
      ],
      "metadata": {
        "id": "4r2QvEGYrnFQ"
      },
      "execution_count": 20,
      "outputs": []
    },
    {
      "cell_type": "code",
      "source": [
        "# hilos OpenMP = 4\n",
        "# procesos MPI  = 4 (-np number of processes)\n",
        "%env OMP_NUM_THREADS=4\n",
        "! mpirun --oversubscribe --allow-run-as-root -np 4 ./mpi_openmp_e1"
      ],
      "metadata": {
        "id": "FnR5FGSotINR",
        "colab": {
          "base_uri": "https://localhost:8080/"
        },
        "outputId": "c06bb392-c700-4525-f739-22b1fa3624ad"
      },
      "execution_count": 21,
      "outputs": [
        {
          "output_type": "stream",
          "name": "stdout",
          "text": [
            "env: OMP_NUM_THREADS=4\n",
            "MPI: Hola desde 3 de total :4  procesos\n",
            "MPI: Hola desde 0 de total :4  procesos\n",
            "MPI: Hola desde 2 de total :4  procesos\n",
            "MPI: Hola desde 1 de total :4  procesos\n",
            "OPenMP: MPI rank #  0 OpenMP thread #  0 of  4 \n",
            "OPenMP: MPI rank #  0 OpenMP thread #  1 of  4 \n",
            "OPenMP: MPI rank #  0 OpenMP thread #  2 of  4 \n",
            "OPenMP: MPI rank #  0 OpenMP thread #  3 of  4 \n",
            "OPenMP: MPI rank #  1 OpenMP thread #  0 of  4 \n",
            "OPenMP: MPI rank #  1 OpenMP thread #  1 of  4 \n",
            "OPenMP: MPI rank #  1 OpenMP thread #  3 of  4 \n",
            "OPenMP: MPI rank #  1 OpenMP thread #  2 of  4 \n",
            "OPenMP: MPI rank #  2 OpenMP thread #  0 of  4 \n",
            "OPenMP: MPI rank #  2 OpenMP thread #  3 of  4 \n",
            "OPenMP: MPI rank #  2 OpenMP thread #  2 of  4 \n",
            "OPenMP: MPI rank #  2 OpenMP thread #  1 of  4 \n",
            "OPenMP: MPI rank #  3 OpenMP thread #  3 of  4 \n",
            "OPenMP: MPI rank #  3 OpenMP thread #  2 of  4 \n",
            "OPenMP: MPI rank #  3 OpenMP thread #  0 of  4 \n",
            "OPenMP: MPI rank #  3 OpenMP thread #  1 of  4 \n"
          ]
        }
      ]
    },
    {
      "cell_type": "markdown",
      "source": [
        "## Producto Punto"
      ],
      "metadata": {
        "id": "mgzxnj4VekiR"
      }
    },
    {
      "cell_type": "code",
      "source": [
        "%%writefile ppunto.c\n",
        "\n",
        "\n",
        "#include <stdio.h>\n",
        "#include <stdlib.h>\n",
        "#include <mpi.h>\n",
        "#include <omp.h>\n",
        "\n",
        "#define VECTOR_SIZE 1000000000\n",
        "\n",
        "int main(int argc, char* argv[]) {\n",
        "    int rank, size; //MPI\n",
        "    int local_size, local_start, local_end;//MPI\n",
        "    char* vectorA, * vectorB; //OpenMP\n",
        "    double local_sum = 0.0, global_sum = 0.0; //OpenMP - MPI\n",
        "    //MPI inicia el comunicador y el mundo por lo tanto luego de este codigo\n",
        "    // ya podemos diferenciar entre procesos MPI\n",
        "    MPI_Init(&argc, &argv);\n",
        "    MPI_Comm_rank(MPI_COMM_WORLD, &rank);\n",
        "    MPI_Comm_size(MPI_COMM_WORLD, &size);\n",
        "    // Codigo que ejecutan los procesos MPI\n",
        "    // Calcular el tamaño local de los vectores\n",
        "    local_size = VECTOR_SIZE / size; // dividir el vector por el numero de procesos MPI\n",
        "    //diviendo el vector entre los procesos MPI\n",
        "    local_start = rank * local_size;  //rank 0 = 0 ->2.5M, rank 2 = 5M - 7.5M\n",
        "    local_end = local_start + local_size;\n",
        "\n",
        "    // Asignar memoria para los vectores locales en la maquina actual\n",
        "    vectorA = (char*)malloc(local_size * sizeof(char));\n",
        "    vectorB = (char*)malloc(local_size * sizeof(char));\n",
        "\n",
        "    // Inicializar vectores locales\n",
        "    #pragma omp parallel for\n",
        "    for (int i = 0; i < local_size; i++) {\n",
        "        vectorA[i] = (char)rand()%255;  // Inicializar vectorA con 1.0\n",
        "        vectorB[i] = (char)rand()%255;  // Inicializar vectorB con 2.0\n",
        "    }\n",
        "    // barrera que espera   que todos los hilos OPenMP completen el for\n",
        "    //imprimo 10 valores de cada vector\n",
        "    if(rank == 0){\n",
        "      for(int j=0; j<10;j++){\n",
        "        printf(\"%d %d\\n\", (int)vectorA[j],(int)vectorB[j]);\n",
        "      }\n",
        "    }\n",
        "    // Calcular el producto escalar local\n",
        "    #pragma omp parallel for reduction(+:local_sum)\n",
        "    for (int i = 0; i < local_size; i++) {\n",
        "        local_sum += (double)((int)vectorA[i] * (int)vectorB[i]);\n",
        "    }\n",
        "\n",
        "    printf(\"El producto escalar local es: %lf %d\\n\", local_sum, rank);\n",
        "    // Reducir los resultados locales en un resultado global\n",
        "    MPI_Reduce(&local_sum, &global_sum, 1, MPI_DOUBLE, MPI_SUM, 0, MPI_COMM_WORLD);\n",
        "\n",
        "    // El proceso 0 imprime el resultado\n",
        "    if (rank == 0) {\n",
        "        printf(\"El producto escalar global es: %lf %d\\n\", global_sum,rank);\n",
        "    }else{\n",
        "        printf(\"El producto escalar global es: %lf %d\\n\", global_sum, rank);\n",
        "    }\n",
        "\n",
        "    // Liberar memoria y finalizar MPI\n",
        "    free(vectorA);\n",
        "    free(vectorB);\n",
        "    MPI_Finalize();\n",
        "\n",
        "    return 0;\n",
        "}\n",
        "\n"
      ],
      "metadata": {
        "colab": {
          "base_uri": "https://localhost:8080/"
        },
        "id": "2YxxGq4-enH7",
        "outputId": "2c7433c1-e59c-49ac-d4e6-4532f21f6883"
      },
      "execution_count": 60,
      "outputs": [
        {
          "output_type": "stream",
          "name": "stdout",
          "text": [
            "Overwriting ppunto.c\n"
          ]
        }
      ]
    },
    {
      "cell_type": "code",
      "source": [
        "! mpicc -o ppunto ppunto.c  -fopenmp"
      ],
      "metadata": {
        "id": "aQhy19BWevmH"
      },
      "execution_count": 61,
      "outputs": []
    },
    {
      "cell_type": "code",
      "source": [
        "%env OMP_NUM_THREADS=4\n",
        "! mpirun --oversubscribe --allow-run-as-root -np 4 ./ppunto"
      ],
      "metadata": {
        "colab": {
          "base_uri": "https://localhost:8080/"
        },
        "id": "f1NCf9cwe46E",
        "outputId": "1412985f-b2b7-4bb4-8378-141e9882d5cb"
      },
      "execution_count": 62,
      "outputs": [
        {
          "output_type": "stream",
          "name": "stdout",
          "text": [
            "env: OMP_NUM_THREADS=4\n",
            "-58 105\n",
            "115 81\n",
            "-1 74\n",
            "-20 41\n",
            "-51 -70\n",
            "-85 -14\n",
            "-5 -29\n",
            "70 124\n",
            "-62 84\n",
            "-8 27\n",
            "El producto escalar local es: 82485989.000000 0\n",
            "El producto escalar local es: 140394153.000000 3\n",
            "El producto escalar global es: 0.000000 3\n",
            "El producto escalar local es: 79555903.000000 1\n",
            "El producto escalar global es: 0.000000 1\n",
            "El producto escalar local es: 36156282.000000 2\n",
            "El producto escalar global es: 0.000000 2\n",
            "El producto escalar global es: 338592327.000000 0\n"
          ]
        }
      ]
    },
    {
      "cell_type": "code",
      "source": [
        "%%writefile ppunto_pt.c\n",
        "#include <stdio.h>\n",
        "#include <stdlib.h>\n",
        "#include <mpi.h>\n",
        "#include <pthread.h>\n",
        "\n",
        "#define ARRAY_SIZE 1000000\n",
        "\n",
        "// Estructura que contiene los datos que se pasan a cada hilo\n",
        "struct ThreadData {\n",
        "    int* array;\n",
        "    int local_size;\n",
        "    int local_sum;\n",
        "};\n",
        "\n",
        "// Función que se ejecuta en cada hilo para calcular la suma local\n",
        "void* calculateSum(void* arg) {\n",
        "    struct ThreadData* data = (struct ThreadData*)arg;\n",
        "    for (int i = 0; i < data->local_size; i++) {\n",
        "        data->local_sum += data->array[i];\n",
        "    }\n",
        "    return NULL;\n",
        "}\n",
        "\n",
        "int main(int argc, char* argv[]) {\n",
        "    int rank, size;\n",
        "    int* data;\n",
        "    int local_size, local_start, local_end;\n",
        "    int local_sum = 0;\n",
        "    pthread_t* threads;\n",
        "\n",
        "    MPI_Init(&argc, &argv);\n",
        "    MPI_Comm_rank(MPI_COMM_WORLD, &rank);\n",
        "    MPI_Comm_size(MPI_COMM_WORLD, &size);\n",
        "\n",
        "    // Calcular el tamaño local del array\n",
        "    local_size = ARRAY_SIZE / size;\n",
        "    local_start = rank * local_size;\n",
        "    local_end = local_start + local_size;\n",
        "\n",
        "    // Asignar memoria para el array local\n",
        "    data = (int*)malloc(local_size * sizeof(int));\n",
        "    threads = (pthread_t*)malloc(size * sizeof(pthread_t));\n",
        "\n",
        "    // Inicializar el array local con valores aleatorios\n",
        "    for (int i = 0; i < local_size; i++) {\n",
        "        data[i] = rand() % 10; // Valores aleatorios entre 0 y 9\n",
        "    }\n",
        "\n",
        "    // Crear hilos para calcular la suma local en paralelo\n",
        "    struct ThreadData threadData;\n",
        "    threadData.array = data;\n",
        "    threadData.local_size = local_size;\n",
        "    threadData.local_sum = 0;\n",
        "\n",
        "    pthread_create(&threads[rank], NULL, calculateSum, &threadData);\n",
        "\n",
        "    // Esperar a que todos los hilos terminen\n",
        "    pthread_join(threads[rank], NULL);\n",
        "\n",
        "    // Realizar una operación de reducción para obtener la suma global\n",
        "    MPI_Reduce(&threadData.local_sum, &local_sum, 1, MPI_INT, MPI_SUM, 0, MPI_COMM_WORLD);\n",
        "\n",
        "    // El proceso 0 imprime la suma global\n",
        "    if (rank == 0) {\n",
        "        printf(\"Suma global: %d\\n\", local_sum);\n",
        "    }\n",
        "\n",
        "    // Liberar memoria y finalizar MPI\n",
        "    free(data);\n",
        "    free(threads);\n",
        "    MPI_Finalize();\n",
        "\n",
        "    return 0;\n",
        "}\n"
      ],
      "metadata": {
        "colab": {
          "base_uri": "https://localhost:8080/"
        },
        "id": "tqTAheX0gnlw",
        "outputId": "5487e1ac-8ef8-423a-d9a0-485168a5a0d9"
      },
      "execution_count": null,
      "outputs": [
        {
          "output_type": "stream",
          "name": "stdout",
          "text": [
            "Writing ppunto_pt.c\n"
          ]
        }
      ]
    },
    {
      "cell_type": "code",
      "source": [
        "! mpicc -o ppunto_pt ppunto_pt.c -lpthread"
      ],
      "metadata": {
        "id": "6gPYmsSBgusJ"
      },
      "execution_count": null,
      "outputs": []
    },
    {
      "cell_type": "code",
      "source": [
        "! mpirun --oversubscribe --allow-run-as-root -np 4 ./ppunto_pt"
      ],
      "metadata": {
        "colab": {
          "base_uri": "https://localhost:8080/"
        },
        "id": "HEmJzgumgu2L",
        "outputId": "f1cd9917-6d70-427d-bf24-97e2eb03862c"
      },
      "execution_count": null,
      "outputs": [
        {
          "output_type": "stream",
          "name": "stdout",
          "text": [
            "Suma global: 4501204\n"
          ]
        }
      ]
    },
    {
      "cell_type": "code",
      "source": [
        "%%writefile ppunto_ptv2.c\n",
        "#include <stdio.h>\n",
        "#include <stdlib.h>\n",
        "#include <mpi.h>\n",
        "#include <pthread.h>\n",
        "\n",
        "#define ARRAY_SIZE 1000000\n",
        "#define NUM_THREADS_PER_PROCESS 4\n",
        "\n",
        "// Estructura que contiene los datos que se pasan a cada hilo\n",
        "struct ThreadData {\n",
        "    int* array;\n",
        "    int local_size;\n",
        "    int local_start;\n",
        "    int local_sum;\n",
        "};\n",
        "\n",
        "// Función que se ejecuta en cada hilo para calcular la suma local\n",
        "void* calculateSum(void* arg) {\n",
        "    struct ThreadData* data = (struct ThreadData*)arg;\n",
        "    for (int i = data->local_start; i < data->local_start + data->local_size; i++) {\n",
        "        data->local_sum += data->array[i];\n",
        "    }\n",
        "    return NULL;\n",
        "}\n",
        "\n",
        "int main(int argc, char* argv[]) {\n",
        "    int rank, size;\n",
        "    int* data;\n",
        "    int local_size, local_start, local_end;\n",
        "    int local_sum = 0;\n",
        "    pthread_t threads[NUM_THREADS_PER_PROCESS];\n",
        "    struct ThreadData threadData[NUM_THREADS_PER_PROCESS];\n",
        "\n",
        "    MPI_Init(&argc, &argv);\n",
        "    MPI_Comm_rank(MPI_COMM_WORLD, &rank);\n",
        "    MPI_Comm_size(MPI_COMM_WORLD, &size);\n",
        "\n",
        "    // Calcular el tamaño local del array\n",
        "    local_size = ARRAY_SIZE / (size * NUM_THREADS_PER_PROCESS);\n",
        "    local_start = rank * local_size * NUM_THREADS_PER_PROCESS;\n",
        "    local_end = local_start + local_size * NUM_THREADS_PER_PROCESS;\n",
        "\n",
        "    // Asignar memoria para el array local\n",
        "    data = (int*)malloc(local_size * NUM_THREADS_PER_PROCESS * sizeof(int));\n",
        "\n",
        "    // Inicializar el array local con valores aleatorios\n",
        "    for (int i = 0; i < local_size * NUM_THREADS_PER_PROCESS; i++) {\n",
        "        data[i] = rand() % 10; // Valores aleatorios entre 0 y 9\n",
        "    }\n",
        "\n",
        "    // Crear y lanzar múltiples hilos para calcular la suma local en paralelo\n",
        "    for (int i = 0; i < NUM_THREADS_PER_PROCESS; i++) {\n",
        "        threadData[i].array = data;\n",
        "        threadData[i].local_size = local_size;\n",
        "        threadData[i].local_start = i * local_size;\n",
        "        threadData[i].local_sum = 0;\n",
        "\n",
        "        pthread_create(&threads[i], NULL, calculateSum, &threadData[i]);\n",
        "    }\n",
        "\n",
        "    // Esperar a que todos los hilos terminen\n",
        "    for (int i = 0; i < NUM_THREADS_PER_PROCESS; i++) {\n",
        "        pthread_join(threads[i], NULL);\n",
        "        local_sum += threadData[i].local_sum;\n",
        "    }\n",
        "\n",
        "    // Realizar una operación de reducción para obtener la suma global\n",
        "    int global_sum = 0;\n",
        "    MPI_Reduce(&local_sum, &global_sum, 1, MPI_INT, MPI_SUM, 0, MPI_COMM_WORLD);\n",
        "\n",
        "    // El proceso 0 imprime la suma global\n",
        "    if (rank == 0) {\n",
        "        printf(\"Suma global: %d\\n\", global_sum);\n",
        "    }\n",
        "\n",
        "    // Liberar memoria y finalizar MPI\n",
        "    free(data);\n",
        "    MPI_Finalize();\n",
        "\n",
        "    return 0;\n",
        "}\n"
      ],
      "metadata": {
        "colab": {
          "base_uri": "https://localhost:8080/"
        },
        "id": "t4f9GFMZhkmn",
        "outputId": "413b59a0-90ef-4f84-cb94-14a72dcf4f38"
      },
      "execution_count": null,
      "outputs": [
        {
          "output_type": "stream",
          "name": "stdout",
          "text": [
            "Overwriting ppunto_ptv2.c\n"
          ]
        }
      ]
    },
    {
      "cell_type": "code",
      "source": [
        "! mpicc -o ppunto_ptv2 ppunto_ptv2.c -lpthread"
      ],
      "metadata": {
        "id": "nr0tR6xHhsRn"
      },
      "execution_count": null,
      "outputs": []
    },
    {
      "cell_type": "code",
      "source": [
        "! mpirun --oversubscribe --allow-run-as-root -np 4 ./ppunto_ptv2"
      ],
      "metadata": {
        "id": "r4BK-THlhsgh"
      },
      "execution_count": null,
      "outputs": []
    },
    {
      "cell_type": "markdown",
      "source": [
        "## Matrix multiplication with MPI and OpenMP"
      ],
      "metadata": {
        "id": "hYYrWYdLO67n"
      }
    },
    {
      "cell_type": "code",
      "source": [
        "%%writefile mpi_openmp_matrix_mult.c\n",
        "\n",
        "/*\n",
        " * Un programa simple para multiplicar matrices\n",
        " * (Matrix_A  X  Matrix_B) => Matrix_C\n",
        " */\n",
        "\n",
        "#include <stdio.h>\n",
        "#include <stdlib.h>\n",
        "#include <mpi.h>\n",
        "#include <omp.h>\n",
        "\n",
        "#include <time.h>\n",
        "\n",
        "\n",
        "#define ARRAY_SIZE 10\n",
        "\n",
        "typedef int matrix_t[ARRAY_SIZE][ARRAY_SIZE];\n",
        "\n",
        "matrix_t MA,MB,MC;\n",
        "\n",
        "/*\n",
        "Rutina para multiplicar una fila por una columna y colocar un elemento en\n",
        "matriz resultante.\n",
        "*/\n",
        "void mult(int size,\n",
        "\t  int row,\n",
        "\t  int column,\n",
        "    int rowl,\n",
        "\t  matrix_t MA,\n",
        "\t  matrix_t MB,\n",
        "\t  int *MC)\n",
        "{\n",
        "  int position;\n",
        "  //int row_l=0;\n",
        "  MC[rowl]= 0;\n",
        "  for(position = 0; position < size; position++) {\n",
        "     MC[rowl] = MC[rowl] +\n",
        "     ( MA[row][position]  *  MB[position][column] ) ;\n",
        "\n",
        "  }\n",
        "}\n",
        "\n",
        "//colocamos valores random 1-10 en las matrices\n",
        "void inicializamos_matriz(int size,\n",
        "                    matrix_t MX)\n",
        "{\n",
        "    int   row, column;\n",
        "    srand(time(0));\n",
        "    for(row = 0; row < size; row++) {\n",
        "    for (column = 0; column < size; column++) {\n",
        "      MX[row][column]=rand()%10;\n",
        "    }\n",
        "  }\n",
        "}\n",
        "\n",
        "void imprimir_matriz(int size,\n",
        "                    matrix_t MX)\n",
        "{\n",
        "    int   row, column;\n",
        "    for(row = 0; row < size; row ++) {\n",
        "    for (column = 0; column < size; column++) {\n",
        "      printf(\"%5d \",MX[row][column]);\n",
        "    }\n",
        "    printf(\"\\n\");\n",
        "  }\n",
        "}\n",
        "\n",
        "void imprimir_matriz2(int sizer,int sizec,\n",
        "                    int *MX)\n",
        "{\n",
        "    int   row, column,i=0;\n",
        "    for(row = 0; row < sizer; row++) {\n",
        "    for (column = 0; column < sizec; column++) {\n",
        "      printf(\"%5d \",MX[i]);\n",
        "      i++;\n",
        "    }\n",
        "    printf(\"\\n\");\n",
        "  }\n",
        "}\n",
        "\n",
        "\n",
        "// inicializamos valores y calcula los resultados\n",
        "\n",
        "int main(void)\n",
        "{\n",
        "  int      size, row, column;\n",
        "\n",
        "  size = ARRAY_SIZE;\n",
        "\n",
        "//puntero a la matriz resultante\n",
        "int *final_matrix;\n",
        "int num_worker, rank;\n",
        "MPI_Init(NULL, NULL);\n",
        "MPI_Comm_size(MPI_COMM_WORLD, &num_worker);\n",
        "MPI_Comm_rank(MPI_COMM_WORLD, &rank);\n",
        "\n",
        "if(rank == 0){\n",
        "  // inicializamos los valores de la MA\n",
        "  inicializamos_matriz(size, MA);\n",
        "  //inicializamos los valores de la MB\n",
        "  inicializamos_matriz(size, MB);\n",
        "  //imprimimos\n",
        "  printf(\"La matriz A es;\\n\");\n",
        "  imprimir_matriz(size,MA);\n",
        "  printf(\"La matriz B es;\\n\");\n",
        "  imprimir_matriz(size,MB);\n",
        "  //reservamos la memoria para la matriz final\n",
        "    final_matrix = (int *) malloc(sizeof(int*) * size*size);\n",
        "}\n",
        "\n",
        "\n",
        "MPI_Bcast(MA, size*size , MPI_INT, 0, MPI_COMM_WORLD);\n",
        "MPI_Bcast(MB, size*size , MPI_INT, 0, MPI_COMM_WORLD);\n",
        "\n",
        "//chequeamos si proceso 1 recibio la información\n",
        "if(rank == 1){\n",
        "  printf(\"id:%d La matriz A es;\\n\",rank);\n",
        "  imprimir_matriz(size,MA);\n",
        "  printf(\"id:%d La matriz B es;\\n\",rank);\n",
        "  imprimir_matriz(size,MB);\n",
        "}\n",
        "\n",
        "// determinamos la fila de inicio y fin para la proceso trabajador\n",
        "int startrow = rank * ( size / num_worker);\n",
        "int endrow = ((rank + 1) * ( size / num_worker)) -1;\n",
        "//calculamos las sub-matrices\n",
        "int number_of_rows = size / num_worker;\n",
        "int *result_matrix = (int *) malloc(sizeof(int*) * number_of_rows * size);\n",
        "    //multiplicamos\n",
        "    int rowl=0;\n",
        "    #pragma omp parallel for collapse(2)\n",
        "    for(row = startrow;  row <= endrow; row++) {\n",
        "     for (column = 0; column < size; column++) {\n",
        "      mult(size, row, column,rowl, MA, MB, result_matrix);\n",
        "      rowl++;\n",
        "      int omp_id  =omp_get_thread_num();\n",
        "      int omp_num =omp_get_num_threads();\n",
        "      #pragma omp critical\n",
        "      printf(\"row: %d col=%d, OpenMP_hilo=%d MPI_rank_process=%d\\n\", row,column, omp_get_thread_num(),rank);\n",
        "      fflush(stdout);\n",
        "      }\n",
        "    }\n",
        "\n",
        "\n",
        "\n",
        "//recolectamos los resutlados de la matriz\n",
        "    MPI_Gather(result_matrix, number_of_rows*size, MPI_INT,\n",
        "           final_matrix, number_of_rows*size,  MPI_INT, 0, MPI_COMM_WORLD);\n",
        "\n",
        "  //imprimimos la matriz luego de recolectar los resultados\n",
        "  if(rank == 0){\n",
        "  printf(\"La matriz resultante C es (MPI/OpenMP);\\n\");\n",
        "  imprimir_matriz2(size,size,final_matrix);\n",
        "  }\n",
        "\n",
        " MPI_Finalize();\n",
        "\n",
        "  return 0;\n",
        "}\n",
        "\n"
      ],
      "metadata": {
        "colab": {
          "base_uri": "https://localhost:8080/"
        },
        "id": "tDrhLK1i7ixU",
        "outputId": "e25c0e8a-a5bf-47f6-d564-3c50a274d4da"
      },
      "execution_count": null,
      "outputs": [
        {
          "output_type": "stream",
          "name": "stdout",
          "text": [
            "Writing mpi_openmp_matrix_mult.c\n"
          ]
        }
      ]
    },
    {
      "cell_type": "code",
      "source": [
        " ! mpicc -o mpi_openmp_matrix_mult mpi_openmp_matrix_mult.c  -fopenmp"
      ],
      "metadata": {
        "id": "R4q4sJO_Rcgl"
      },
      "execution_count": null,
      "outputs": []
    },
    {
      "cell_type": "code",
      "source": [
        "%env OMP_NUM_THREADS=3\n",
        "! mpirun --oversubscribe --allow-run-as-root -np 5 ./mpi_openmp_matrix_mult"
      ],
      "metadata": {
        "id": "2GF_bHjmRe6q"
      },
      "execution_count": null,
      "outputs": []
    }
  ]
}