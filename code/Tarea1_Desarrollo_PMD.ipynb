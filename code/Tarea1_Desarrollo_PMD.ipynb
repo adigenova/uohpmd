{
  "nbformat": 4,
  "nbformat_minor": 0,
  "metadata": {
    "colab": {
      "provenance": [],
      "authorship_tag": "ABX9TyM8j6IQOjLLHOmyLySGZBH3",
      "include_colab_link": true
    },
    "kernelspec": {
      "name": "python3",
      "display_name": "Python 3"
    },
    "language_info": {
      "name": "python"
    }
  },
  "cells": [
    {
      "cell_type": "markdown",
      "metadata": {
        "id": "view-in-github",
        "colab_type": "text"
      },
      "source": [
        "<a href=\"https://colab.research.google.com/github/adigenova/uohpmd/blob/main/code/Tarea1_Desarrollo_PMD.ipynb\" target=\"_parent\"><img src=\"https://colab.research.google.com/assets/colab-badge.svg\" alt=\"Open In Colab\"/></a>"
      ]
    },
    {
      "cell_type": "markdown",
      "source": [
        "# Tarea 1\n",
        "\n",
        "Desarrollo\n",
        "\n",
        "## Parte 1 problemas con ***awk***\n",
        "Resuelva los siguientes problemas utilizando comando Linux:\n",
        "\n",
        "\n",
        "\n",
        "1. Utilizando el archivo “worldcitiespop.csv.gz”, calcule el promedio de habitantes por ciudad y país.\n"
      ],
      "metadata": {
        "id": "MzbhfUE2yCoF"
      }
    },
    {
      "cell_type": "code",
      "execution_count": 64,
      "metadata": {
        "colab": {
          "base_uri": "https://localhost:8080/"
        },
        "id": "n7hLEkR8yBtg",
        "outputId": "c53d9a5f-414a-479a-9e7d-018f7ddd3caa"
      },
      "outputs": [
        {
          "output_type": "stream",
          "name": "stdout",
          "text": [
            "--2024-09-25 13:24:53--  https://github.com/adigenova/uohpmd/raw/refs/heads/main/data/tarea1/worldcitiespop.csv.gz\n",
            "Resolving github.com (github.com)... 140.82.114.3\n",
            "Connecting to github.com (github.com)|140.82.114.3|:443... connected.\n",
            "HTTP request sent, awaiting response... 302 Found\n",
            "Location: https://raw.githubusercontent.com/adigenova/uohpmd/refs/heads/main/data/tarea1/worldcitiespop.csv.gz [following]\n",
            "--2024-09-25 13:24:53--  https://raw.githubusercontent.com/adigenova/uohpmd/refs/heads/main/data/tarea1/worldcitiespop.csv.gz\n",
            "Resolving raw.githubusercontent.com (raw.githubusercontent.com)... 185.199.109.133, 185.199.111.133, 185.199.110.133, ...\n",
            "Connecting to raw.githubusercontent.com (raw.githubusercontent.com)|185.199.109.133|:443... connected.\n",
            "HTTP request sent, awaiting response... 200 OK\n",
            "Length: 41989669 (40M) [application/octet-stream]\n",
            "Saving to: ‘worldcitiespop.csv.gz’\n",
            "\n",
            "worldcitiespop.csv. 100%[===================>]  40.04M   176MB/s    in 0.2s    \n",
            "\n",
            "2024-09-25 13:24:55 (176 MB/s) - ‘worldcitiespop.csv.gz’ saved [41989669/41989669]\n",
            "\n"
          ]
        }
      ],
      "source": [
        "# we donwload the file\n",
        "!wget https://github.com/adigenova/uohpmd/raw/refs/heads/main/data/tarea1/worldcitiespop.csv.gz"
      ]
    },
    {
      "cell_type": "code",
      "source": [
        "#we decompress the file /content/worldcitiespop.csv.gz\n",
        "!gzip -dc /content/worldcitiespop.csv.gz > /content/worldcitiespop.csv"
      ],
      "metadata": {
        "id": "6SIc4eVPzxh_"
      },
      "execution_count": 65,
      "outputs": []
    },
    {
      "cell_type": "code",
      "source": [
        "!head -n 100 /content/worldcitiespop.csv\n"
      ],
      "metadata": {
        "colab": {
          "base_uri": "https://localhost:8080/"
        },
        "id": "rrYxFMjlXG8h",
        "outputId": "2dc7379c-d898-463e-806d-ece420f97018"
      },
      "execution_count": 74,
      "outputs": [
        {
          "output_type": "stream",
          "name": "stdout",
          "text": [
            "Country,City,AccentCity,Region,Population,Latitude,Longitude\n",
            "ad,aixas,Aixàs,06,,42.4833333,1.4666667\n",
            "ad,aixirivali,Aixirivali,06,,42.4666667,1.5\n",
            "ad,aixirivall,Aixirivall,06,,42.4666667,1.5\n",
            "ad,aixirvall,Aixirvall,06,,42.4666667,1.5\n",
            "ad,aixovall,Aixovall,06,,42.4666667,1.4833333\n",
            "ad,andorra,Andorra,07,,42.5,1.5166667\n",
            "ad,andorra la vella,Andorra la Vella,07,20430,42.5,1.5166667\n",
            "ad,andorra-vieille,Andorra-Vieille,07,,42.5,1.5166667\n",
            "ad,andorre,Andorre,07,,42.5,1.5166667\n",
            "ad,andorre-la-vieille,Andorre-la-Vieille,07,,42.5,1.5166667\n",
            "ad,andorre-vieille,Andorre-Vieille,07,,42.5,1.5166667\n",
            "ad,ansalonga,Ansalonga,04,,42.5666667,1.5166667\n",
            "ad,anyos,Anyós,05,,42.5333333,1.5333333\n",
            "ad,arans,Arans,04,,42.5833333,1.5166667\n",
            "ad,arinsal,Arinsal,04,,42.5666667,1.4833333\n",
            "ad,aubinya,Aubinyà,06,,42.45,1.5\n",
            "ad,auvinya,Auvinya,06,,42.45,1.5\n",
            "ad,bicisarri,Biçisarri,06,,42.4833333,1.4666667\n",
            "ad,bixessarri,Bixessarri,06,,42.4833333,1.4666667\n",
            "ad,bixisarri,Bixisarri,06,,42.4833333,1.4666667\n",
            "ad,canillo,Canillo,02,3292,42.5666667,1.6\n",
            "ad,casas vila,Casas Vila,03,,42.5333333,1.5666667\n",
            "ad,certers,Certers,06,,42.4666667,1.5\n",
            "ad,certes,Certés,06,,42.4666667,1.5\n",
            "ad,eixirivall,Eixirivall,06,,42.4666667,1.5\n",
            "ad,el pui,El Pui,04,,42.55,1.5166667\n",
            "ad,els bons,Els Bons,03,,42.5333333,1.5833333\n",
            "ad,el serrat,El Serrat,04,,42.6166667,1.55\n",
            "ad,els plans,Els Plans,02,,42.5833333,1.6333333\n",
            "ad,el tarter,El Tarter,02,,42.5833333,1.65\n",
            "ad,el tremat,El Tremat,03,,42.55,1.5833333\n",
            "ad,el vilar,El Vilar,02,,42.5666667,1.6\n",
            "ad,encamp,Encamp,03,11224,42.5333333,1.5833333\n",
            "ad,engordany,Engordany,08,,42.5166667,1.55\n",
            "ad,ercs,Ercs,04,,42.5666667,1.5\n",
            "ad,ercz,Ercz,04,,42.5666667,1.5\n",
            "ad,erez,Erez,04,,42.5666667,1.5\n",
            "ad,erts,Erts,04,,42.5666667,1.5\n",
            "ad,escaldas,Escaldas,08,,42.5,1.5333333\n",
            "ad,escaldes,Escaldes,08,,42.5,1.5333333\n",
            "ad,escas,Escàs,04,,42.55,1.5166667\n",
            "ad,fontaneda,Fontaneda,06,,42.45,1.4666667\n",
            "ad,juberri,Juberri,06,,42.4333333,1.5\n",
            "ad,juverri,Juverri,06,,42.4333333,1.5\n",
            "ad,la cortinada,La Cortinada,04,,42.5666667,1.5166667\n",
            "ad,la costa,La Costa,02,,42.5833333,1.6333333\n",
            "ad,l'aldosa,L'Aldosa,02,,42.5833333,1.6333333\n",
            "ad,l'aldosa,L'Aldosa,05,,42.55,1.5333333\n",
            "ad,la macana,La Maçana,04,,42.55,1.5166667\n",
            "ad,la massana,La Massana,04,7211,42.55,1.5166667\n",
            "ad,las escadas,Las Escadas,08,,42.5,1.5333333\n",
            "ad,la vieja,la Vieja,07,,42.5,1.5166667\n",
            "ad,les bons,Les Bons,03,,42.5333333,1.5833333\n",
            "ad,les escaldes,Les Escaldes,08,15854,42.5,1.5333333\n",
            "ad,llors,Llors,04,,42.6,1.5333333\n",
            "ad,llorta,Llorta,04,,42.6,1.5333333\n",
            "ad,llorts,Llorts,04,,42.6,1.5333333\n",
            "ad,llumeneres,Llumeneres,06,,42.4666667,1.5166667\n",
            "ad,lors,Lors,04,,42.6,1.5333333\n",
            "ad,lo serrat,Lo Serrat,04,,42.6166667,1.55\n",
            "ad,mas d'alins,Mas d'Alins,06,,42.4333333,1.45\n",
            "ad,mas de ribafeta,Mas de Ribafeta,04,,42.5666667,1.4833333\n",
            "ad,meritxell,Meritxell,02,,42.55,1.6\n",
            "ad,molleres,Molleres,03,,42.55,1.5833333\n",
            "ad,mosquera,Mosquera,03,,42.55,1.5833333\n",
            "ad,nagol,Nagol,06,,42.4666667,1.5\n",
            "ad,ordino,Ordino,05,2553,42.55,1.5333333\n",
            "ad,pal,Pal,04,,42.55,1.4833333\n",
            "ad,pas de la casa,Pas de la Casa,02,,42.55,1.7333333\n",
            "ad,prats,Prats,02,,42.5666667,1.6\n",
            "ad,puiol del piu,Puiol del Piu,04,,42.5666667,1.5\n",
            "ad,ransol,Ransol,02,,42.5833333,1.6333333\n",
            "ad,sanctuaire de meritxeli,Sanctuaire de Meritxeli,02,,42.55,1.6\n",
            "ad,sanctuaire de meritxell,Sanctuaire de Meritxell,02,,42.55,1.6\n",
            "ad,san joan de casettas,San Joan de Casettas,02,,42.5666667,1.6166667\n",
            "ad,san julia,San Juliá,06,,42.4666667,1.5\n",
            "ad,santa coloma,Santa Coloma,07,,42.5,1.5\n",
            "ad,santa julia de loria,Santa Juliá de Loria,06,,42.4666667,1.5\n",
            "ad,sant joan de casellas,Sant Joan de Casellas,02,,42.5666667,1.6166667\n",
            "ad,sant joan de caselles,Sant Joan de Caselles,02,,42.5666667,1.6166667\n",
            "ad,sant julia de loria,Sant Julià de Lòria,06,8020,42.4666667,1.5\n",
            "ad,sant julia,Sant Juliá,06,,42.4666667,1.5\n",
            "ad,sant pere,Sant Pere,02,,42.5833333,1.65\n",
            "ad,santuari de meritxell,Santuari de Meritxell,02,,42.55,1.6\n",
            "ad,segudet,Segudet,05,,42.55,1.5333333\n",
            "ad,sertes,Sertes,06,,42.4666667,1.5\n",
            "ad,sispony,Sispony,04,,42.5333333,1.5166667\n",
            "ad,soldeu,Soldeu,02,,42.5833333,1.6666667\n",
            "ad,sornas,Sornàs,05,,42.5666667,1.5333333\n",
            "ad,vila,Vila,03,,42.5333333,1.5666667\n",
            "ad,vixesarri,Vixesarri,06,,42.4833333,1.4666667\n",
            "ad,xixerella,Xixerella,04,,42.55,1.4833333\n",
            "ae,abu dabi,Abu Dabi,01,,24.466667,54.366667\n",
            "ae,abu dhabi,Abu Dhabi,01,603687,24.466667,54.366667\n",
            "ae,abu hail,Abu Hail,03,,25.285475,55.329611\n",
            "ae,abu zabi,Abu Zabi,01,,24.466667,54.366667\n",
            "ae,abu zabye,Abu Zabye,01,,24.466667,54.366667\n",
            "ae,abu zabyo,Abu Zabyo,01,,24.466667,54.366667\n",
            "ae,ad dharbaniya,Ad Dharbaniya,05,,25.783333,55.933333\n"
          ]
        }
      ]
    },
    {
      "cell_type": "code",
      "source": [
        "# we solve the problem with awk\n",
        "#!head /content/worldcitiespop.csv\n",
        "!awk -F\",\" '{if($5>0 && NR > 1){pais+=$5; ciudad+=$5; nc++; if($1 in np){}else{npc++; np[$1]=1;}}}END{print \"N pais = \"npc\" N ciudades \"nc\" avg pais=\"pais/npc \" avg ciudad=\"ciudad/nc}' /content/worldcitiespop.csv | head"
      ],
      "metadata": {
        "colab": {
          "base_uri": "https://localhost:8080/"
        },
        "id": "zbY458ybz7Eu",
        "outputId": "2a8edff9-27f9-49ba-d5a6-a3f342cee83b"
      },
      "execution_count": 67,
      "outputs": [
        {
          "output_type": "stream",
          "name": "stdout",
          "text": [
            "N pais = 209 N ciudades 47980 avg pais=1.0955e+07 avg ciudad=47719.6\n"
          ]
        }
      ]
    },
    {
      "cell_type": "markdown",
      "source": [
        "2.  Utilizando awk, determine las 10 ciudades con mayor población."
      ],
      "metadata": {
        "id": "oe8qu9fizJZV"
      }
    },
    {
      "cell_type": "code",
      "source": [
        "!awk -F\",\" '{if($5>0 && NR > 1){print $5\" \"$2}}'  /content/worldcitiespop.csv | sort -rn -k1,1 | head -n 20"
      ],
      "metadata": {
        "colab": {
          "base_uri": "https://localhost:8080/"
        },
        "id": "3nm69wOh2jf3",
        "outputId": "879c3e5a-b64d-4bc1-b6cd-1317143681e5"
      },
      "execution_count": 72,
      "outputs": [
        {
          "output_type": "stream",
          "name": "stdout",
          "text": [
            "31480498 tokyo\n",
            "14608512 shanghai\n",
            "12692717 bombay\n",
            "11627378 karachi\n",
            "10928270 new delhi\n",
            "10928270 delhi\n",
            "10443877 manila\n",
            "10381288 moscow\n",
            "10323448 seoul\n",
            "10021437 sao paulo\n",
            "9797536 istanbul\n",
            "8789133 lagos\n",
            "8720916 mexico\n",
            "8540306 jakarta\n",
            "8107916 new york\n",
            "7787832 kinshasa\n",
            "7734602 cairo\n",
            "7646786 lima\n",
            "7480601 peking\n",
            "7421228 london\n"
          ]
        }
      ]
    },
    {
      "cell_type": "markdown",
      "source": [
        "3.  Utilizando awk, determine los 10 países con mayor población.\n"
      ],
      "metadata": {
        "id": "Z5hBXSQkzNKi"
      }
    },
    {
      "cell_type": "code",
      "source": [
        "!awk -F\",\" '{if($5>0 && NR > 1){a[$1]+=$5}}END{for(i in a){print i\" \"a[i]}}'  /content/worldcitiespop.csv | sort -rn -k2,2 | head -n 10"
      ],
      "metadata": {
        "colab": {
          "base_uri": "https://localhost:8080/"
        },
        "id": "mTqlUlkQ3dEh",
        "outputId": "802b1dea-3e58-43ec-8be5-434741ce1c13"
      },
      "execution_count": 76,
      "outputs": [
        {
          "output_type": "stream",
          "name": "stdout",
          "text": [
            "in 259227307\n",
            "cn 218884084\n",
            "us 179123400\n",
            "br 133449921\n",
            "ru 109505345\n",
            "jp 101577008\n",
            "mx 70559152\n",
            "id 62440459\n",
            "de 57920817\n",
            "pk 48519560\n"
          ]
        }
      ]
    },
    {
      "cell_type": "markdown",
      "source": [
        "4.  Calcule el número de habitantes y la ciudad más poblada de América del sur.\n",
        "\n"
      ],
      "metadata": {
        "id": "wlTIhSGQzO3k"
      }
    },
    {
      "cell_type": "code",
      "source": [
        "%%writefile paises_latam.txt\n",
        "ar,Argentina\n",
        "bo,Bolivia\n",
        "br,Brazil\n",
        "cl,Chile\n",
        "co,Colombia\n",
        "ec,Ecuador\n",
        "pe,Peru\n",
        "py,Paraguay\n",
        "uy,Uruguay\n",
        "ve,Venezuela"
      ],
      "metadata": {
        "colab": {
          "base_uri": "https://localhost:8080/"
        },
        "id": "lgRi5q4G3uGK",
        "outputId": "ca834b40-80a4-4019-c49e-e097bd5b2137"
      },
      "execution_count": 77,
      "outputs": [
        {
          "output_type": "stream",
          "name": "stdout",
          "text": [
            "Writing paises_latam.txt\n"
          ]
        }
      ]
    },
    {
      "cell_type": "code",
      "source": [
        "!awk -F\",\" 'BEGIN{while(getline < \"paises_latam.txt\"){latam[$1]=$2;}}{if($5>0 && NR > 1 && $1 in latam){gsub(\" \",\"_\",$2);print $1\" \"$2\" \"$5}}'  /content/worldcitiespop.csv | sort -k3,3 -nr | head"
      ],
      "metadata": {
        "colab": {
          "base_uri": "https://localhost:8080/"
        },
        "id": "uxlT0zXB5Ged",
        "outputId": "d9f9e842-c454-45f7-ee83-6efd807af892"
      },
      "execution_count": 25,
      "outputs": [
        {
          "output_type": "stream",
          "name": "stdout",
          "text": [
            "br sao_paulo 10021437\n",
            "pe lima 7646786\n",
            "co bogota 7102602\n",
            "br rio_de_janeiro 6023742\n",
            "cl santiago 4837248\n",
            "br salvador 2711903\n",
            "br fortaleza 2416920\n",
            "co cali 2392897\n",
            "br belo_horizonte 2373255\n",
            "br brasilia 2207812\n"
          ]
        }
      ]
    },
    {
      "cell_type": "markdown",
      "source": [
        "5.  Determiné el máximo y mínimo por cada columna del archivo “matrix.txt”\n"
      ],
      "metadata": {
        "id": "4xQ6FCF7zQH3"
      }
    },
    {
      "cell_type": "code",
      "source": [
        "#we get the file\n",
        "!wget https://raw.githubusercontent.com/adigenova/uohpmd/refs/heads/main/data/tarea1/matrix.txt"
      ],
      "metadata": {
        "colab": {
          "base_uri": "https://localhost:8080/"
        },
        "id": "o_AJ_IEj6zlZ",
        "outputId": "dba0d299-8f18-4651-99db-325d47f92260"
      },
      "execution_count": 78,
      "outputs": [
        {
          "output_type": "stream",
          "name": "stdout",
          "text": [
            "--2024-09-25 14:17:08--  https://raw.githubusercontent.com/adigenova/uohpmd/refs/heads/main/data/tarea1/matrix.txt\n",
            "Resolving raw.githubusercontent.com (raw.githubusercontent.com)... 185.199.108.133, 185.199.109.133, 185.199.110.133, ...\n",
            "Connecting to raw.githubusercontent.com (raw.githubusercontent.com)|185.199.108.133|:443... connected.\n",
            "HTTP request sent, awaiting response... 200 OK\n",
            "Length: 14499 (14K) [text/plain]\n",
            "Saving to: ‘matrix.txt’\n",
            "\n",
            "matrix.txt          100%[===================>]  14.16K  --.-KB/s    in 0s      \n",
            "\n",
            "2024-09-25 14:17:09 (32.6 MB/s) - ‘matrix.txt’ saved [14499/14499]\n",
            "\n"
          ]
        }
      ]
    },
    {
      "cell_type": "code",
      "source": [
        "! cat /content/matrix.txt | awk '{print NR\" \"NF}' | tail"
      ],
      "metadata": {
        "colab": {
          "base_uri": "https://localhost:8080/"
        },
        "id": "a8XhkWRqi5Cl",
        "outputId": "78139e2c-f909-4d0d-fcd6-f04070247435"
      },
      "execution_count": 83,
      "outputs": [
        {
          "output_type": "stream",
          "name": "stdout",
          "text": [
            "91 50\n",
            "92 50\n",
            "93 50\n",
            "94 50\n",
            "95 50\n",
            "96 50\n",
            "97 50\n",
            "98 50\n",
            "99 50\n",
            "100 50\n"
          ]
        }
      ]
    },
    {
      "cell_type": "code",
      "source": [
        "! awk 'BEGIN{for(i=1; i<50; i++){mx[i]=-1; mn[i]=100000}}{for(i=1; i<NF; i++){if($i > mx[i]){mx[i]=$i} if($i < mn[i]){mn[i]=$i}}}END{ for(i=1; i<NF; i++){print \"colum: \"i\" max=\"mx[i]\" min=\"mn[i]}}' /content/matrix.txt"
      ],
      "metadata": {
        "colab": {
          "base_uri": "https://localhost:8080/"
        },
        "id": "UeZlO6T37ay6",
        "outputId": "c6ff5149-1847-4561-fa8c-3383c87c0ff0"
      },
      "execution_count": 86,
      "outputs": [
        {
          "output_type": "stream",
          "name": "stdout",
          "text": [
            "colum: 1 max=99 min=1\n",
            "colum: 2 max=99 min=0\n",
            "colum: 3 max=97 min=0\n",
            "colum: 4 max=99 min=3\n",
            "colum: 5 max=97 min=0\n",
            "colum: 6 max=99 min=0\n",
            "colum: 7 max=99 min=1\n",
            "colum: 8 max=97 min=0\n",
            "colum: 9 max=98 min=1\n",
            "colum: 10 max=99 min=1\n",
            "colum: 11 max=99 min=1\n",
            "colum: 12 max=99 min=0\n",
            "colum: 13 max=99 min=1\n",
            "colum: 14 max=99 min=0\n",
            "colum: 15 max=99 min=1\n",
            "colum: 16 max=99 min=0\n",
            "colum: 17 max=99 min=0\n",
            "colum: 18 max=98 min=1\n",
            "colum: 19 max=99 min=0\n",
            "colum: 20 max=99 min=0\n",
            "colum: 21 max=97 min=0\n",
            "colum: 22 max=99 min=0\n",
            "colum: 23 max=99 min=0\n",
            "colum: 24 max=97 min=0\n",
            "colum: 25 max=98 min=0\n",
            "colum: 26 max=99 min=1\n",
            "colum: 27 max=98 min=0\n",
            "colum: 28 max=99 min=2\n",
            "colum: 29 max=99 min=0\n",
            "colum: 30 max=99 min=0\n",
            "colum: 31 max=99 min=0\n",
            "colum: 32 max=99 min=0\n",
            "colum: 33 max=98 min=1\n",
            "colum: 34 max=98 min=0\n",
            "colum: 35 max=99 min=0\n",
            "colum: 36 max=99 min=0\n",
            "colum: 37 max=98 min=0\n",
            "colum: 38 max=99 min=0\n",
            "colum: 39 max=97 min=0\n",
            "colum: 40 max=99 min=0\n",
            "colum: 41 max=97 min=1\n",
            "colum: 42 max=96 min=0\n",
            "colum: 43 max=99 min=1\n",
            "colum: 44 max=99 min=1\n",
            "colum: 45 max=99 min=0\n",
            "colum: 46 max=98 min=0\n",
            "colum: 47 max=99 min=0\n",
            "colum: 48 max=99 min=2\n",
            "colum: 49 max=99 min=0\n"
          ]
        }
      ]
    },
    {
      "cell_type": "markdown",
      "source": [
        "6.  Intercambie el orden de las columnas del archivo “matrix.txt” de forma reversa (50 .. 1)\n"
      ],
      "metadata": {
        "id": "i527rjOgzRhX"
      }
    },
    {
      "cell_type": "code",
      "source": [
        "!awk '{for(i=NF; i>0 ; i--){a=$i\" \"a} print a; a=\"\"}' /content/matrix.txt"
      ],
      "metadata": {
        "colab": {
          "base_uri": "https://localhost:8080/"
        },
        "id": "exEfJbh5U4xQ",
        "outputId": "885dc251-98a3-4c03-bf2a-736106a88b88"
      },
      "execution_count": 11,
      "outputs": [
        {
          "output_type": "stream",
          "name": "stdout",
          "text": [
            "84 39 78 79 91 19 33 76 27 55 47 62 36 51 95 91 63 71 14 60 1 24 13 80 15 40 12 10 99 21 51 83 61 29 63 52 49 97 29 77 52 76 40 89 28 35 80 91 6 94 \n",
            "52 8 19 66 89 34 6 2 45 6 23 97 90 85 26 53 37 76 51 66 53 3 43 93 93 72 28 73 63 35 68 16 44 88 82 33 22 89 35 68 95 58 65 85 43 92 39 81 68 91 \n",
            "48 21 95 92 14 88 64 43 61 28 78 30 44 22 18 27 55 41 16 90 10 12 49 76 98 93 68 38 74 36 29 23 58 24 15 73 12 79 16 74 7 95 5 52 17 24 79 73 65 96 \n",
            "63 75 9 13 52 7 6 20 46 81 57 75 5 15 99 20 88 12 99 5 87 7 0 92 59 18 16 39 91 81 35 55 57 45 68 9 53 75 30 99 57 87 74 62 3 74 83 92 87 83 \n",
            "97 74 90 98 66 49 16 83 88 7 64 24 62 22 70 31 32 23 7 63 22 65 51 97 28 54 71 11 47 59 94 45 33 84 43 0 34 59 83 23 67 48 48 30 71 18 62 4 41 69 \n",
            "67 63 34 18 60 62 73 32 74 20 92 68 65 25 53 8 26 87 68 9 11 36 57 59 66 28 77 28 32 18 98 0 82 33 18 43 95 91 76 69 12 68 38 77 94 91 86 20 79 54 \n",
            "29 90 90 87 49 57 16 27 86 49 46 84 49 29 18 68 72 13 60 49 83 72 17 22 49 12 13 36 32 93 90 62 83 81 49 33 39 65 60 25 15 7 10 64 36 28 33 9 42 93 \n",
            "58 26 65 76 48 15 88 62 51 20 55 42 82 39 24 32 72 63 98 33 89 13 41 0 78 77 29 11 86 72 4 44 98 70 21 47 86 9 9 38 30 65 80 13 5 5 45 78 69 44 \n",
            "11 58 57 52 59 36 30 88 47 16 60 52 61 59 23 82 7 9 92 16 48 22 82 29 35 87 34 81 65 3 25 77 62 83 30 22 19 61 10 67 78 71 20 40 31 43 23 38 53 15 \n",
            "55 1 38 38 30 73 26 64 55 91 68 80 69 31 64 0 53 84 61 64 51 40 36 71 80 67 15 3 6 68 18 61 70 56 0 0 30 26 65 85 18 34 66 87 65 31 88 18 15 50 \n",
            "82 67 90 19 39 70 86 54 73 93 23 92 55 93 49 55 93 79 81 59 65 99 93 32 87 58 63 75 77 79 26 60 47 16 79 86 87 66 41 61 59 64 53 14 57 3 70 51 83 51 \n",
            "11 48 51 4 81 38 63 45 14 41 24 40 1 71 57 81 58 44 47 99 5 7 64 59 22 21 63 92 73 46 43 85 95 94 89 76 33 53 21 47 94 46 88 96 18 45 78 76 90 25 \n",
            "76 96 33 40 56 55 62 19 47 36 65 91 21 60 86 10 37 19 64 59 67 59 5 56 56 24 1 34 0 92 60 77 88 93 17 44 48 79 63 96 15 29 88 36 89 74 47 27 94 12 \n",
            "86 62 71 92 18 28 16 20 62 17 12 22 94 1 16 11 46 64 91 10 61 7 39 49 43 29 24 91 56 19 3 43 81 75 35 99 3 52 20 66 69 32 88 64 34 5 76 80 69 68 \n",
            "90 31 75 29 80 18 59 5 10 15 24 13 58 5 88 94 5 92 46 25 58 16 58 47 81 92 52 58 72 22 26 63 53 1 93 34 20 52 40 30 67 64 44 26 70 33 21 75 25 68 \n",
            "1 84 85 60 32 66 52 84 25 25 7 51 88 61 53 82 95 73 34 35 4 2 0 48 29 70 82 50 46 7 19 48 92 4 8 24 71 61 9 96 86 16 47 75 77 0 57 73 74 92 \n",
            "9 78 94 10 27 23 80 9 74 27 17 93 76 9 98 84 34 69 45 43 65 32 60 12 8 37 13 65 11 88 58 21 66 52 31 94 76 12 3 51 39 21 45 16 30 43 0 64 12 46 \n",
            "8 78 78 68 91 86 6 4 52 17 92 10 38 59 63 70 53 40 82 57 92 22 78 37 38 9 80 38 74 93 84 83 71 63 51 62 50 57 67 2 75 59 13 14 19 77 84 73 18 66 \n",
            "31 10 88 10 47 27 19 28 65 94 22 50 77 93 14 29 56 64 87 23 67 62 83 81 77 2 59 61 76 77 28 7 88 17 17 35 44 37 64 10 32 86 60 10 80 74 39 36 39 27 \n",
            "59 6 90 43 88 67 46 47 29 22 24 57 30 12 74 48 48 19 85 13 29 18 0 90 28 80 65 68 17 4 95 77 11 86 20 99 53 66 46 82 89 71 40 19 83 15 67 32 34 53 \n",
            "45 64 71 46 54 0 26 19 69 44 23 65 21 34 51 42 34 5 9 80 87 98 52 28 18 35 43 85 68 78 38 14 42 10 60 96 10 86 15 80 31 39 45 53 74 97 95 8 2 5 \n",
            "89 89 3 41 18 21 77 62 7 46 40 45 60 83 56 20 80 67 7 96 47 38 35 93 91 10 90 87 19 92 92 8 82 96 50 0 18 28 62 26 74 3 72 35 87 28 55 67 95 62 \n",
            "63 43 0 99 36 92 9 26 80 29 18 72 38 0 69 88 1 88 17 63 14 92 67 87 27 54 15 82 22 11 45 86 54 46 85 90 38 95 17 18 24 36 91 62 36 61 51 37 50 69 \n",
            "1 65 61 69 52 89 24 67 72 46 78 17 32 33 63 18 24 2 13 41 21 38 77 12 1 14 74 53 52 24 22 54 89 84 23 41 73 47 9 46 94 88 64 26 21 27 44 45 30 58 \n",
            "87 51 97 65 64 98 79 38 51 32 63 74 86 53 58 9 95 32 57 4 78 51 92 42 78 13 70 23 59 0 81 47 52 79 12 16 77 92 55 29 24 19 3 11 72 61 21 67 93 78 \n",
            "72 72 30 64 15 9 78 85 32 38 86 14 85 39 93 98 55 70 90 11 0 15 30 3 26 3 64 47 71 58 26 43 31 57 8 46 66 86 32 98 24 19 12 10 58 6 8 14 76 98 \n",
            "25 76 14 56 80 41 59 44 89 31 3 15 74 34 73 82 81 39 69 14 37 93 34 50 4 92 56 12 6 33 11 32 10 25 88 90 66 48 35 55 80 39 71 54 74 44 37 55 84 6 \n",
            "70 22 0 4 72 4 96 29 16 3 63 28 36 73 53 24 64 20 73 0 76 53 39 48 8 13 92 45 69 76 52 39 98 53 43 71 57 40 1 74 44 64 3 80 38 56 5 3 77 79 \n",
            "3 53 32 42 2 41 56 94 87 25 71 39 65 70 93 8 42 51 49 43 26 94 8 29 74 47 86 80 50 63 59 54 17 92 97 19 34 53 14 21 79 86 61 44 56 54 53 99 5 3 \n",
            "43 32 97 51 61 72 99 47 52 50 10 12 4 28 5 2 47 39 55 62 60 35 48 21 79 5 76 32 4 82 35 48 14 32 99 75 5 99 22 57 49 33 70 54 62 75 56 10 14 11 \n",
            "72 74 47 21 96 26 26 72 59 31 54 94 79 69 27 79 44 32 78 67 90 27 1 60 81 63 36 38 74 50 50 46 25 97 67 21 23 94 94 82 25 48 77 5 17 4 84 62 37 63 \n",
            "30 28 90 31 89 72 95 25 10 69 75 60 16 1 58 84 22 81 78 16 64 4 65 41 9 83 46 94 46 83 57 76 12 48 8 1 21 3 26 32 73 2 93 90 4 51 74 26 32 53 \n",
            "43 96 57 9 38 67 92 84 62 38 68 19 14 80 68 23 82 89 26 9 21 0 11 14 90 16 65 64 42 98 18 86 95 75 95 33 43 88 17 6 26 86 25 41 66 93 64 48 82 91 \n",
            "57 4 91 69 19 82 85 84 47 28 83 65 15 78 41 10 11 84 98 29 90 25 15 16 67 82 10 31 31 93 23 89 97 15 59 16 97 45 1 44 74 84 9 89 63 50 99 74 35 98 \n",
            "4 26 23 20 42 90 3 52 22 34 46 45 24 43 61 83 60 58 29 61 3 3 46 13 93 9 64 92 84 99 90 88 25 14 8 68 4 12 21 27 46 67 72 71 11 33 55 71 92 84 \n",
            "33 96 88 79 9 81 88 73 74 72 73 65 61 99 79 70 67 84 82 89 11 29 57 84 0 68 18 55 40 11 40 73 7 28 52 17 10 41 90 84 14 63 49 75 62 29 46 30 13 28 \n",
            "19 25 57 77 10 57 46 28 13 86 39 53 59 47 81 12 64 91 54 55 76 69 18 25 44 81 55 91 12 68 19 32 94 77 9 4 35 55 33 48 41 72 1 1 20 83 14 84 75 69 \n",
            "40 51 38 59 77 83 40 32 74 52 1 93 84 95 71 94 0 6 49 33 54 91 6 56 93 26 40 7 11 16 77 51 67 15 10 45 98 51 78 73 4 79 67 88 75 38 83 76 44 32 \n",
            "9 99 23 15 56 16 42 97 24 54 13 1 6 81 17 17 26 16 68 5 89 72 84 56 61 60 95 44 36 40 77 46 39 0 62 96 17 4 93 42 59 6 44 65 87 62 82 14 78 50 \n",
            "19 67 23 4 24 84 65 19 29 2 59 6 48 99 7 11 95 25 15 89 68 74 96 12 40 84 74 22 98 52 73 18 20 96 23 45 81 89 64 10 92 24 17 40 23 24 51 19 50 67 \n",
            "8 18 42 4 30 82 88 5 5 87 58 78 6 78 74 30 23 56 19 88 67 11 12 84 52 35 9 4 55 59 72 63 77 15 68 8 98 57 13 3 44 71 81 51 50 56 81 74 13 1 \n",
            "62 80 13 75 65 66 10 74 71 66 33 44 29 11 59 98 19 57 55 33 60 0 4 42 52 55 98 34 29 11 36 92 92 49 67 57 16 78 31 88 44 65 32 74 77 92 72 96 49 28 \n",
            "30 10 28 35 52 81 90 51 15 20 63 51 12 55 1 80 12 17 58 44 6 2 10 38 77 87 30 49 84 80 78 14 90 6 49 43 88 39 94 3 59 58 54 72 13 55 52 26 73 11 \n",
            "71 79 13 81 18 91 68 49 40 52 29 18 67 20 25 16 63 14 55 58 17 15 16 71 88 29 27 40 56 1 51 28 81 65 9 0 56 78 49 97 31 79 16 98 99 42 14 62 56 70 \n",
            "20 73 86 37 45 74 66 73 15 23 75 66 51 56 32 61 56 89 40 6 86 71 85 3 70 85 45 85 48 2 56 69 75 42 6 21 16 73 94 32 96 69 99 48 26 31 10 83 21 50 \n",
            "89 7 22 75 11 92 60 56 78 8 59 34 78 34 77 84 56 93 57 51 26 54 21 25 3 47 56 13 30 78 63 20 85 85 95 97 78 56 54 57 65 13 91 43 48 68 27 4 62 85 \n",
            "55 88 39 77 14 42 24 71 56 55 49 20 76 35 5 72 32 84 28 86 41 94 99 33 37 47 2 65 52 65 50 8 54 90 85 68 33 10 39 89 66 88 9 42 23 15 14 55 0 43 \n",
            "42 41 37 42 75 75 89 78 40 41 43 90 50 97 80 35 65 13 45 5 3 11 93 12 53 17 28 68 73 28 12 15 69 50 57 45 25 47 23 66 89 66 56 39 64 37 74 30 51 20 \n",
            "35 54 31 29 67 85 47 95 54 20 23 66 36 93 17 94 39 42 42 62 8 31 29 65 71 94 3 46 24 55 66 60 10 97 90 77 82 37 73 36 58 96 3 95 90 20 89 29 63 32 \n",
            "92 72 63 22 38 35 16 41 81 41 97 47 2 7 45 92 85 28 30 58 65 89 55 69 84 46 89 74 75 53 6 68 25 70 90 63 5 7 5 87 48 2 34 51 10 80 43 95 8 74 \n",
            "53 74 63 9 43 48 55 32 22 31 85 29 99 11 99 90 75 5 97 80 92 46 83 27 97 93 7 41 89 16 16 42 91 80 52 34 28 7 67 50 38 53 80 38 64 79 28 39 84 26 \n",
            "20 77 73 3 4 71 97 12 13 86 29 29 29 20 9 81 54 37 89 21 88 28 74 68 66 39 48 95 79 33 21 99 10 94 3 14 66 0 27 79 87 56 8 16 76 18 98 30 55 88 \n",
            "52 44 16 27 13 82 66 61 77 45 94 99 45 4 94 48 19 60 48 46 39 36 2 48 53 79 66 51 9 22 40 62 67 56 89 80 39 56 42 17 2 36 17 47 41 11 96 61 71 45 \n",
            "7 11 81 10 59 34 89 26 86 99 48 26 62 15 83 52 96 23 8 38 40 11 74 57 59 16 69 55 77 40 0 85 52 82 96 11 16 85 38 2 85 86 29 47 2 13 99 98 36 8 \n",
            "36 76 20 11 34 79 27 3 35 5 44 36 90 96 18 86 8 35 72 46 38 58 33 67 6 35 81 6 33 17 15 70 93 35 81 28 15 9 31 50 14 75 87 5 72 5 92 81 41 65 \n",
            "28 79 23 61 47 29 96 28 36 30 45 51 1 39 86 82 67 1 92 99 52 6 75 40 12 47 46 4 29 87 69 57 66 93 18 14 23 15 42 59 46 88 10 47 27 97 29 95 99 22 \n",
            "94 52 29 69 92 41 17 38 46 46 25 16 3 92 9 22 6 33 37 49 92 83 37 3 30 65 0 60 60 0 83 54 52 12 24 45 53 41 83 0 88 9 16 91 2 26 13 8 60 51 \n",
            "58 52 35 96 56 66 61 57 27 22 57 10 77 10 22 1 55 76 43 38 76 31 48 93 23 50 20 36 59 80 88 17 33 23 13 89 89 75 46 16 97 4 27 74 14 49 76 69 26 19 \n",
            "8 3 50 56 97 73 6 17 10 65 98 99 83 32 22 96 22 12 72 68 29 69 73 56 44 87 5 20 57 32 39 65 35 89 22 32 63 28 49 74 94 48 73 77 80 96 74 2 8 46 \n",
            "71 37 15 45 94 59 32 0 79 90 32 19 55 67 8 77 99 72 6 49 47 0 98 20 78 78 17 52 81 25 98 53 63 14 98 57 73 31 57 53 21 89 72 77 57 81 54 56 54 61 \n",
            "5 1 62 3 22 40 82 39 92 64 64 91 18 28 5 17 86 78 48 44 32 70 34 5 47 91 86 2 47 40 63 53 42 26 57 64 66 40 3 58 5 68 49 24 97 55 41 83 33 90 \n",
            "27 66 60 61 71 7 53 58 10 1 98 73 55 41 99 12 5 66 53 8 25 58 77 75 83 74 30 24 58 64 14 85 30 75 47 2 82 1 60 93 2 59 67 57 0 67 70 5 33 24 \n",
            "14 58 82 91 33 65 66 64 90 24 28 5 10 59 80 57 61 63 59 21 56 61 80 23 19 80 90 89 86 23 13 0 82 96 92 16 62 58 80 53 82 8 58 93 67 38 51 29 1 10 \n",
            "50 58 71 30 81 91 11 72 81 97 96 95 97 78 91 90 95 54 48 75 8 31 84 66 24 52 5 75 81 7 85 31 65 57 62 46 49 74 19 30 71 15 25 69 93 17 59 89 72 8 \n",
            "64 80 40 48 46 64 1 52 40 82 59 26 13 24 84 76 71 33 50 90 63 22 5 88 92 99 6 52 89 78 60 53 58 1 2 5 65 3 57 6 85 17 32 99 41 16 76 13 50 27 \n",
            "3 13 50 9 2 42 9 8 94 98 86 55 52 45 56 54 50 22 58 8 29 44 25 61 44 67 78 21 80 28 48 84 42 98 94 44 41 3 53 35 2 39 91 55 85 48 9 36 71 68 \n",
            "44 0 13 70 61 57 38 40 78 18 69 27 3 11 25 97 56 66 1 9 2 4 49 94 59 34 43 69 70 14 37 15 14 50 85 76 8 23 16 86 42 85 14 45 97 39 42 53 6 44 \n",
            "63 9 48 12 4 7 46 47 76 16 61 13 31 75 64 17 52 72 40 68 59 83 54 73 28 52 13 71 5 20 16 68 30 64 81 34 71 27 82 48 44 43 62 76 19 26 93 71 99 34 \n",
            "40 58 17 95 32 46 47 46 18 53 67 34 22 97 98 3 32 70 30 14 18 75 58 80 51 77 6 44 49 6 78 90 65 96 85 97 42 32 44 61 85 11 95 7 8 93 10 40 64 41 \n",
            "55 82 16 13 62 67 91 69 12 41 75 90 31 41 87 16 38 29 48 83 90 33 94 86 41 3 79 52 44 44 93 99 26 9 13 89 77 4 58 89 45 34 80 76 75 67 93 14 97 41 \n",
            "98 88 75 92 74 16 96 54 68 40 98 62 40 25 72 53 14 49 58 73 39 4 8 20 81 84 87 74 98 85 16 97 74 91 89 48 8 86 3 77 26 2 39 66 27 12 20 42 62 79 \n",
            "15 1 83 23 22 64 8 9 39 6 95 55 3 69 46 93 18 55 79 22 32 6 24 72 73 52 85 94 95 47 73 10 49 56 34 71 21 42 81 60 49 76 15 53 46 62 47 64 18 27 \n",
            "86 51 34 11 24 7 64 9 1 59 56 75 70 5 31 5 76 53 48 57 14 97 34 29 51 80 92 99 45 10 26 32 61 60 43 86 68 8 95 70 67 51 45 37 57 77 43 33 31 91 \n",
            "91 45 88 26 74 40 7 67 39 52 78 66 84 40 27 28 26 95 36 21 66 4 72 12 42 30 89 85 64 20 76 56 65 65 82 40 5 89 8 45 42 86 11 26 26 39 55 53 34 91 \n",
            "74 1 96 47 13 38 77 3 23 41 23 99 97 89 65 80 30 70 69 39 16 11 25 28 38 52 67 94 5 2 86 80 3 82 27 16 20 5 19 44 46 43 43 44 33 9 24 64 79 94 \n",
            "3 96 6 28 24 45 81 91 39 87 93 25 67 97 7 94 14 28 99 34 72 46 78 16 91 11 25 16 75 5 10 79 1 17 7 25 63 89 17 2 76 11 28 43 8 35 38 23 64 38 \n",
            "57 36 85 35 53 76 47 78 93 22 83 4 1 85 21 9 10 84 99 28 87 75 39 15 19 48 51 58 71 15 96 29 52 82 64 5 58 11 84 51 34 67 56 36 53 77 45 63 62 45 \n",
            "92 49 20 31 65 40 80 16 98 51 32 95 80 85 77 45 90 36 56 75 88 90 43 44 27 96 21 72 60 84 17 52 33 38 84 98 78 64 15 77 16 48 72 96 33 49 42 24 85 98 \n",
            "99 73 89 42 17 16 38 39 89 99 23 7 51 57 45 35 56 24 0 71 2 16 19 74 13 53 24 55 77 9 54 77 83 43 19 1 60 58 40 50 57 63 57 9 20 3 45 76 28 45 \n",
            "48 30 62 68 5 75 21 29 30 99 39 84 76 23 28 96 24 89 55 64 39 13 28 96 22 49 0 68 26 28 13 75 59 76 43 64 51 65 94 82 64 33 67 41 56 96 38 80 85 93 \n",
            "45 24 6 74 21 29 23 21 97 50 50 11 25 9 87 68 74 39 34 68 21 98 1 89 40 58 85 78 39 70 72 84 95 79 58 17 9 82 39 7 32 89 19 58 99 6 26 73 46 60 \n",
            "41 68 59 43 57 0 1 42 79 40 13 51 25 9 31 84 26 40 66 65 47 99 55 66 57 55 73 84 28 19 45 70 87 5 13 44 5 14 87 84 55 0 36 80 10 67 65 36 7 31 \n",
            "2 55 31 58 22 89 13 95 74 42 15 19 13 2 25 26 47 30 41 35 15 97 36 52 78 46 19 43 83 27 75 86 82 6 44 4 96 58 0 70 1 15 90 14 18 15 41 66 46 82 \n",
            "1 62 79 38 14 57 84 33 1 68 61 76 54 44 82 99 48 79 58 49 49 59 64 40 73 83 56 15 49 2 97 51 64 77 89 78 35 74 12 36 42 74 12 97 18 95 96 66 75 54 \n",
            "16 25 13 80 65 87 64 21 2 13 24 0 64 89 78 54 67 14 28 80 51 71 54 64 68 72 60 64 39 35 18 55 60 32 36 26 20 0 47 23 14 72 24 79 61 3 33 29 17 61 \n",
            "9 68 32 64 33 1 37 93 65 77 28 84 33 89 17 69 15 38 70 63 61 85 35 86 64 96 89 97 25 7 59 35 76 92 0 9 93 37 2 59 14 31 44 47 20 61 17 36 0 88 \n",
            "99 62 73 34 48 38 31 38 36 57 45 95 92 22 88 93 31 82 30 34 41 45 66 86 93 87 48 10 23 48 99 22 10 73 57 58 12 88 97 48 45 43 44 38 65 32 31 97 15 62 \n",
            "32 57 7 98 43 0 85 91 11 9 39 11 32 49 85 89 8 97 78 5 45 24 48 89 62 14 22 94 11 37 56 43 94 64 42 38 65 28 29 77 37 69 88 69 18 73 59 27 70 37 \n",
            "33 16 61 82 5 24 96 27 19 8 65 76 52 60 40 94 98 5 22 27 82 60 96 71 30 15 44 89 43 15 27 76 31 89 59 37 13 55 65 33 64 30 9 16 90 49 10 89 55 33 \n",
            "16 38 94 13 9 25 29 54 15 72 70 42 49 2 31 8 39 45 64 4 78 28 35 87 44 26 37 55 15 93 89 32 31 83 45 41 8 75 96 24 47 66 66 96 68 98 4 8 44 68 \n",
            "12 23 96 48 10 41 75 48 96 90 41 86 23 73 70 69 14 79 44 10 3 91 77 69 88 46 68 92 54 12 61 67 35 58 15 46 0 90 95 97 81 36 83 5 10 53 74 24 32 18 \n",
            "35 35 10 13 5 99 59 73 91 13 85 53 80 21 11 96 67 11 87 62 8 69 99 92 74 9 45 48 34 77 67 70 13 78 83 18 77 43 91 69 57 77 23 37 98 35 34 65 46 22 \n",
            "28 55 91 28 48 65 38 93 14 72 71 82 43 84 61 27 3 39 70 94 8 27 71 31 65 70 66 99 36 13 22 64 69 13 93 18 79 31 11 94 3 83 76 47 68 38 74 71 77 44 \n",
            "66 86 71 38 18 37 8 85 37 44 99 59 9 69 72 2 87 51 33 99 45 37 82 22 84 51 61 58 22 38 3 88 25 75 27 43 12 35 29 49 79 28 9 89 97 81 91 85 33 25 \n",
            "84 79 62 67 2 47 18 63 6 41 2 10 30 27 85 57 71 98 92 0 48 72 29 57 61 27 39 53 12 72 78 97 52 41 64 55 89 83 18 95 24 21 5 54 49 91 12 20 89 5 \n",
            "21 37 77 51 95 39 78 34 92 91 7 71 88 60 12 52 15 2 36 34 97 60 55 3 15 5 94 28 25 84 33 47 22 10 98 17 49 77 51 42 68 59 14 56 19 26 9 34 29 45 \n",
            "69 26 6 24 30 22 29 25 50 55 9 83 3 31 94 2 49 44 79 1 86 48 60 0 4 80 27 14 14 56 60 83 83 67 8 14 89 38 39 39 94 49 23 97 80 17 0 29 61 80 \n",
            "30 48 28 91 49 33 71 77 47 86 33 7 70 17 75 79 32 64 17 71 4 11 20 27 9 1 45 10 31 6 90 62 55 18 53 4 51 24 81 99 11 15 7 81 33 82 60 65 46 78 \n",
            "36 50 90 57 78 0 58 23 10 89 30 0 51 85 19 5 89 70 30 71 69 41 87 76 23 20 59 83 85 5 62 22 56 52 79 34 52 38 58 62 28 88 63 79 74 82 84 64 53 14 \n",
            "35 23 56 22 0 79 43 59 63 29 64 25 51 21 77 31 56 30 69 14 92 97 3 56 77 77 39 62 41 92 77 77 15 33 0 16 13 43 75 76 72 40 1 24 61 79 55 17 9 25 \n"
          ]
        }
      ]
    },
    {
      "cell_type": "markdown",
      "source": [
        "7.  Seleccione las filas del archivo “matrix.txt” con un promedio mayor al promedio general.\n",
        "\n"
      ],
      "metadata": {
        "id": "3xoYa0jszSz0"
      }
    },
    {
      "cell_type": "code",
      "source": [
        "! awk 'BEGIN{b=0; while(getline < \"/content/matrix.txt\"){for(i=1; i<NF; i++){a+=$i;b++}}}{for(i=1; i<NF; i++){c+=$i} if(c/NF > a/b){print c/NF\" \"a/b\" \"$0} c=0;}' /content/matrix.txt"
      ],
      "metadata": {
        "colab": {
          "base_uri": "https://localhost:8080/"
        },
        "id": "fHIihST5VviA",
        "outputId": "7f416a09-6c45-4de5-bc7c-055931ed4c4e"
      },
      "execution_count": 87,
      "outputs": [
        {
          "output_type": "stream",
          "name": "stdout",
          "text": [
            "51.48 49.3571 84 39 78 79 91 19 33 76 27 55 47 62 36 51 95 91 63 71 14 60 1 24 13 80 15 40 12 10 99 21 51 83 61 29 63 52 49 97 29 77 52 76 40 89 28 35 80 91 6 94\n",
            "53.16 49.3571 52 8 19 66 89 34 6 2 45 6 23 97 90 85 26 53 37 76 51 66 53 3 43 93 93 72 28 73 63 35 68 16 44 88 82 33 22 89 35 68 95 58 65 85 43 92 39 81 68 91\n",
            "49.64 49.3571 63 75 9 13 52 7 6 20 46 81 57 75 5 15 99 20 88 12 99 5 87 7 0 92 59 18 16 39 91 81 35 55 57 45 68 9 53 75 30 99 57 87 74 62 3 74 83 92 87 83\n",
            "51.72 49.3571 67 63 34 18 60 62 73 32 74 20 92 68 65 25 53 8 26 87 68 9 11 36 57 59 66 28 77 28 32 18 98 0 82 33 18 43 95 91 76 69 12 68 38 77 94 91 86 20 79 54\n",
            "62.06 49.3571 82 67 90 19 39 70 86 54 73 93 23 92 55 93 49 55 93 79 81 59 65 99 93 32 87 58 63 75 77 79 26 60 47 16 79 86 87 66 41 61 59 64 53 14 57 3 70 51 83 51\n",
            "52.74 49.3571 11 48 51 4 81 38 63 45 14 41 24 40 1 71 57 81 58 44 47 99 5 7 64 59 22 21 63 92 73 46 43 85 95 94 89 76 33 53 21 47 94 46 88 96 18 45 78 76 90 25\n",
            "51.8 49.3571 76 96 33 40 56 55 62 19 47 36 65 91 21 60 86 10 37 19 64 59 67 59 5 56 56 24 1 34 0 92 60 77 88 93 17 44 48 79 63 96 15 29 88 36 89 74 47 27 94 12\n",
            "52.7 49.3571 8 78 78 68 91 86 6 4 52 17 92 10 38 59 63 70 53 40 82 57 92 22 78 37 38 9 80 38 74 93 84 83 71 63 51 62 50 57 67 2 75 59 13 14 19 77 84 73 18 66\n",
            "51.74 49.3571 89 89 3 41 18 21 77 62 7 46 40 45 60 83 56 20 80 67 7 96 47 38 35 93 91 10 90 87 19 92 92 8 82 96 50 0 18 28 62 26 74 3 72 35 87 28 55 67 95 62\n",
            "52.2 49.3571 87 51 97 65 64 98 79 38 51 32 63 74 86 53 58 9 95 32 57 4 78 51 92 42 78 13 70 23 59 0 81 47 52 79 12 16 77 92 55 29 24 19 3 11 72 61 21 67 93 78\n",
            "50.4 49.3571 3 53 32 42 2 41 56 94 87 25 71 39 65 70 93 8 42 51 49 43 26 94 8 29 74 47 86 80 50 63 59 54 17 92 97 19 34 53 14 21 79 86 61 44 56 54 53 99 5 3\n",
            "52.5 49.3571 72 74 47 21 96 26 26 72 59 31 54 94 79 69 27 79 44 32 78 67 90 27 1 60 81 63 36 38 74 50 50 46 25 97 67 21 23 94 94 82 25 48 77 5 17 4 84 62 37 63\n",
            "51.44 49.3571 43 96 57 9 38 67 92 84 62 38 68 19 14 80 68 23 82 89 26 9 21 0 11 14 90 16 65 64 42 98 18 86 95 75 95 33 43 88 17 6 26 86 25 41 66 93 64 48 82 91\n",
            "52.06 49.3571 57 4 91 69 19 82 85 84 47 28 83 65 15 78 41 10 11 84 98 29 90 25 15 16 67 82 10 31 31 93 23 89 97 15 59 16 97 45 1 44 74 84 9 89 63 50 99 74 35 98\n",
            "53.16 49.3571 33 96 88 79 9 81 88 73 74 72 73 65 61 99 79 70 67 84 82 89 11 29 57 84 0 68 18 55 40 11 40 73 7 28 52 17 10 41 90 84 14 63 49 75 62 29 46 30 13 28\n",
            "51.82 49.3571 40 51 38 59 77 83 40 32 74 52 1 93 84 95 71 94 0 6 49 33 54 91 6 56 93 26 40 7 11 16 77 51 67 15 10 45 98 51 78 73 4 79 67 88 75 38 83 76 44 32\n",
            "52.24 49.3571 62 80 13 75 65 66 10 74 71 66 33 44 29 11 59 98 19 57 55 33 60 0 4 42 52 55 98 34 29 11 36 92 92 49 67 57 16 78 31 88 44 65 32 74 77 92 72 96 49 28\n",
            "51.82 49.3571 20 73 86 37 45 74 66 73 15 23 75 66 51 56 32 61 56 89 40 6 86 71 85 3 70 85 45 85 48 2 56 69 75 42 6 21 16 73 94 32 96 69 99 48 26 31 10 83 21 50\n",
            "51.7 49.3571 89 7 22 75 11 92 60 56 78 8 59 34 78 34 77 84 56 93 57 51 26 54 21 25 3 47 56 13 30 78 63 20 85 85 95 97 78 56 54 57 65 13 91 43 48 68 27 4 62 85\n",
            "52.56 49.3571 35 54 31 29 67 85 47 95 54 20 23 66 36 93 17 94 39 42 42 62 8 31 29 65 71 94 3 46 24 55 66 60 10 97 90 77 82 37 73 36 58 96 3 95 90 20 89 29 63 32\n",
            "49.76 49.3571 92 72 63 22 38 35 16 41 81 41 97 47 2 7 45 92 85 28 30 58 65 89 55 69 84 46 89 74 75 53 6 68 25 70 90 63 5 7 5 87 48 2 34 51 10 80 43 95 8 74\n",
            "53.22 49.3571 53 74 63 9 43 48 55 32 22 31 85 29 99 11 99 90 75 5 97 80 92 46 83 27 97 93 7 41 89 16 16 42 91 80 52 34 28 7 67 50 38 53 80 38 64 79 28 39 84 26\n",
            "50.18 49.3571 8 3 50 56 97 73 6 17 10 65 98 99 83 32 22 96 22 12 72 68 29 69 73 56 44 87 5 20 57 32 39 65 35 89 22 32 63 28 49 74 94 48 73 77 80 96 74 2 8 46\n",
            "53.2 49.3571 71 37 15 45 94 59 32 0 79 90 32 19 55 67 8 77 99 72 6 49 47 0 98 20 78 78 17 52 81 25 98 53 63 14 98 57 73 31 57 53 21 89 72 77 57 81 54 56 54 61\n",
            "52.32 49.3571 14 58 82 91 33 65 66 64 90 24 28 5 10 59 80 57 61 63 59 21 56 61 80 23 19 80 90 89 86 23 13 0 82 96 92 16 62 58 80 53 82 8 58 93 67 38 51 29 1 10\n",
            "58.44 49.3571 50 58 71 30 81 91 11 72 81 97 96 95 97 78 91 90 95 54 48 75 8 31 84 66 24 52 5 75 81 7 85 31 65 57 62 46 49 74 19 30 71 15 25 69 93 17 59 89 72 8\n",
            "49.72 49.3571 40 58 17 95 32 46 47 46 18 53 67 34 22 97 98 3 32 70 30 14 18 75 58 80 51 77 6 44 49 6 78 90 65 96 85 97 42 32 44 61 85 11 95 7 8 93 10 40 64 41\n",
            "55 49.3571 55 82 16 13 62 67 91 69 12 41 75 90 31 41 87 16 38 29 48 83 90 33 94 86 41 3 79 52 44 44 93 99 26 9 13 89 77 4 58 89 45 34 80 76 75 67 93 14 97 41\n",
            "54.2 49.3571 98 88 75 92 74 16 96 54 68 40 98 62 40 25 72 53 14 49 58 73 39 4 8 20 81 84 87 74 98 85 16 97 74 91 89 48 8 86 3 77 26 2 39 66 27 12 20 42 62 79\n",
            "50.18 49.3571 57 36 85 35 53 76 47 78 93 22 83 4 1 85 21 9 10 84 99 28 87 75 39 15 19 48 51 58 71 15 96 29 52 82 64 5 58 11 84 51 34 67 56 36 53 77 45 63 62 45\n",
            "57.18 49.3571 92 49 20 31 65 40 80 16 98 51 32 95 80 85 77 45 90 36 56 75 88 90 43 44 27 96 21 72 60 84 17 52 33 38 84 98 78 64 15 77 16 48 72 96 33 49 42 24 85 98\n",
            "51.92 49.3571 48 30 62 68 5 75 21 29 30 99 39 84 76 23 28 96 24 89 55 64 39 13 28 96 22 49 0 68 26 28 13 75 59 76 43 64 51 65 94 82 64 33 67 41 56 96 38 80 85 93\n",
            "55.3 49.3571 1 62 79 38 14 57 84 33 1 68 61 76 54 44 82 99 48 79 58 49 49 59 64 40 73 83 56 15 49 2 97 51 64 77 89 78 35 74 12 36 42 74 12 97 18 95 96 66 75 54\n",
            "52.98 49.3571 99 62 73 34 48 38 31 38 36 57 45 95 92 22 88 93 31 82 30 34 41 45 66 86 93 87 48 10 23 48 99 22 10 73 57 58 12 88 97 48 45 43 44 38 65 32 31 97 15 62\n",
            "52.2 49.3571 12 23 96 48 10 41 75 48 96 90 41 86 23 73 70 69 14 79 44 10 3 91 77 69 88 46 68 92 54 12 61 67 35 58 15 46 0 90 95 97 81 36 83 5 10 53 74 24 32 18\n",
            "52.84 49.3571 35 35 10 13 5 99 59 73 91 13 85 53 80 21 11 96 67 11 87 62 8 69 99 92 74 9 45 48 34 77 67 70 13 78 83 18 77 43 91 69 57 77 23 37 98 35 34 65 46 22\n",
            "52.46 49.3571 28 55 91 28 48 65 38 93 14 72 71 82 43 84 61 27 3 39 70 94 8 27 71 31 65 70 66 99 36 13 22 64 69 13 93 18 79 31 11 94 3 83 76 47 68 38 74 71 77 44\n",
            "50.96 49.3571 66 86 71 38 18 37 8 85 37 44 99 59 9 69 72 2 87 51 33 99 45 37 82 22 84 51 61 58 22 38 3 88 25 75 27 43 12 35 29 49 79 28 9 89 97 81 91 85 33 25\n",
            "52.38 49.3571 36 50 90 57 78 0 58 23 10 89 30 0 51 85 19 5 89 70 30 71 69 41 87 76 23 20 59 83 85 5 62 22 56 52 79 34 52 38 58 62 28 88 63 79 74 82 84 64 53 14\n"
          ]
        }
      ]
    },
    {
      "cell_type": "markdown",
      "source": [
        "8.  Cuantos números impares tiene el archivo “matrix.txt”.\n"
      ],
      "metadata": {
        "id": "KksNZxI_zUBA"
      }
    },
    {
      "cell_type": "code",
      "source": [
        "! awk '{for(i=1; i<NF; i++){if($i%2==0){}else{impar++}}}END{print impar}' /content/matrix.txt"
      ],
      "metadata": {
        "colab": {
          "base_uri": "https://localhost:8080/"
        },
        "id": "BsgL0jM7XNs0",
        "outputId": "bd62a484-b62b-4c3a-9e26-a672132161ab"
      },
      "execution_count": 88,
      "outputs": [
        {
          "output_type": "stream",
          "name": "stdout",
          "text": [
            "2460\n"
          ]
        }
      ]
    },
    {
      "cell_type": "markdown",
      "source": [
        "9.  Cuantos números divisibles por 4 y 9 tiene el archivo “matrix.txt”\n"
      ],
      "metadata": {
        "id": "jFIdHpklzVeZ"
      }
    },
    {
      "cell_type": "code",
      "source": [
        "! awk '{for(i=1; i<NF; i++){if($i%4==0){four++}; if($i%9==0){nine++}}}END{print four\" \"nine}' /content/matrix.txt"
      ],
      "metadata": {
        "colab": {
          "base_uri": "https://localhost:8080/"
        },
        "id": "GwV2ipc-Xe8k",
        "outputId": "bec39a88-a446-4be5-a300-1eb36963ec07"
      },
      "execution_count": 18,
      "outputs": [
        {
          "output_type": "stream",
          "name": "stdout",
          "text": [
            "1267 570\n"
          ]
        }
      ]
    },
    {
      "cell_type": "markdown",
      "source": [
        "10.  Imprima la fila del archivo “matrix.txt” con la mayor suma acumulada."
      ],
      "metadata": {
        "id": "BXv_KyZuzWzE"
      }
    },
    {
      "cell_type": "code",
      "source": [
        "! awk 'BEGIN{t=0}{for(i=1; i<NF; i++){acu+=$i} if(acu > t){t=acu; l=$0} acu=0}END{print t\" \"l}' /content/matrix.txt"
      ],
      "metadata": {
        "colab": {
          "base_uri": "https://localhost:8080/"
        },
        "id": "ln3Dzc0UXziO",
        "outputId": "e7aae806-cc61-4555-9c46-1831ac4fc0c6"
      },
      "execution_count": 89,
      "outputs": [
        {
          "output_type": "stream",
          "name": "stdout",
          "text": [
            "3103 82 67 90 19 39 70 86 54 73 93 23 92 55 93 49 55 93 79 81 59 65 99 93 32 87 58 63 75 77 79 26 60 47 16 79 86 87 66 41 61 59 64 53 14 57 3 70 51 83 51\n"
          ]
        }
      ]
    },
    {
      "cell_type": "markdown",
      "source": [
        "## Parte2 contando k-mers"
      ],
      "metadata": {
        "id": "SvNGa_Y-YNea"
      }
    },
    {
      "cell_type": "markdown",
      "source": [
        "### Python"
      ],
      "metadata": {
        "id": "1HU3SnoOHA5H"
      }
    },
    {
      "cell_type": "code",
      "source": [
        "%%writefile kc1.py\n",
        "\n",
        "#!/usr/bin/env python\n",
        "\n",
        "import sys\n",
        "#to read compressed files\n",
        "import gzip\n",
        "\n",
        "base_for = \"ACGT\"\n",
        "base_rev = \"TGCA\"\n",
        "comp_tab = str.maketrans(base_for, base_rev)\n",
        "\n",
        "def count_kmer(h, k, seq):\n",
        "\tl = len(seq)\n",
        "\tif l < k: return\n",
        "\tfor i in range(l - k + 1):\n",
        "\t\tkmer_for = seq[i:(i+k)]\n",
        "\t\tif 'N' in kmer_for: continue\n",
        "\t\tkmer_rev = kmer_for.translate(comp_tab)[::-1]\n",
        "\t\tif kmer_for < kmer_rev: kmer = kmer_for\n",
        "\t\telse: kmer = kmer_rev\n",
        "\t\tif kmer in h:\n",
        "\t\t\th[kmer] += 1\n",
        "\t\telse: h[kmer] = 1\n",
        "\n",
        "def count_stdin(k):\n",
        "\tcounter = {}\n",
        "\tseq = []\n",
        "\tfor line in sys.stdin:\n",
        "\t\tif line[0] == '>':\n",
        "\t\t\tif len(seq) > 0:\n",
        "\t\t\t\tcount_kmer(counter, k, ''.join(seq).upper())\n",
        "\t\t\t\tseq = []\n",
        "\t\telse:\n",
        "\t\t\tseq.append(line[:-1])\n",
        "\tif len(seq) > 0:\n",
        "\t\tcount_kmer(counter, k, ''.join(seq).upper())\n",
        "\treturn counter\n",
        "\n",
        "\n",
        "def count_file(file, k):\n",
        "\tseqs=open(file,\"r\")\n",
        "\tseq=[]\n",
        "\tcounter = {}\n",
        "\tfor line in seqs:\n",
        "\t\tif line[0] == '>':\n",
        "\t\t\tif len(seq) > 0:\n",
        "\t\t\t\tcount_kmer(counter,k,''.join(seq).upper())\n",
        "\t\t\t\tseq = []\n",
        "\t\telse:\n",
        "\t\t\tseq.append(line[:-1])\n",
        "\tif len(seq) > 0:\n",
        "\t\tcount_kmer(counter,k,''.join(seq).upper())\n",
        "\n",
        "\tseqs.close()\n",
        "\treturn counter\n",
        "\n",
        "\n",
        "\n",
        "def count_filegz(file, k):\n",
        "\tseqs=gzip.open(file,\"rt\")\n",
        "\tseq=[]\n",
        "\tcounter = {}\n",
        "\tfor line in seqs:\n",
        "\t\tif line[0] == '>':\n",
        "\t\t\tif len(seq) > 0:\n",
        "\t\t\t\tcount_kmer(counter,k,''.join(seq).upper())\n",
        "\t\t\t\tseq = []\n",
        "\t\telse:\n",
        "\t\t\tseq.append(line[:-1])\n",
        "\tif len(seq) > 0:\n",
        "\t\tcount_kmer(counter,k,''.join(seq).upper())\n",
        "\n",
        "\tseqs.close()\n",
        "\treturn counter\n",
        "\n",
        "\n",
        "def print_hist(counter):\n",
        "\thist = [0] * 256\n",
        "\tfor kmer in counter:\n",
        "\t\tcnt = counter[kmer]\n",
        "\t\tif cnt > 255: cnt = 255\n",
        "\t\thist[cnt] += 1\n",
        "\tfor i in range(1, 20):\n",
        "\t\tprint(\"{}\\t{}\".format(i, hist[i]))\n",
        "\n",
        "\n",
        "\n",
        "counter = count_stdin(int(sys.argv[1]))\n",
        "#counter = count_filegz(sys.argv[1],22)\n",
        "#counter= count_file(sys.argv[1],22)\n",
        "#print(counter)\n",
        "print_hist(counter)"
      ],
      "metadata": {
        "colab": {
          "base_uri": "https://localhost:8080/"
        },
        "id": "g2gERWeFHC-z",
        "outputId": "aef25c4b-1c05-4ef8-a878-7e2f6af9b3f8"
      },
      "execution_count": 48,
      "outputs": [
        {
          "output_type": "stream",
          "name": "stdout",
          "text": [
            "Overwriting kc1.py\n"
          ]
        }
      ]
    },
    {
      "cell_type": "code",
      "source": [
        "#donwload files\n",
        "! wget https://raw.githubusercontent.com/adigenova/wengan_demo/master/ecoli/reference/ecoli-k12-ref.fna\n",
        "! wget https://github.com/adigenova/wengan_demo/raw/refs/heads/master/ecoli/reads/EC.50X.R1.fastq.gz"
      ],
      "metadata": {
        "colab": {
          "base_uri": "https://localhost:8080/"
        },
        "id": "otPcS-H_ILrb",
        "outputId": "fc264b9f-374c-45a4-adca-c321d911f68c"
      },
      "execution_count": 7,
      "outputs": [
        {
          "output_type": "stream",
          "name": "stdout",
          "text": [
            "--2024-09-25 12:35:43--  https://raw.githubusercontent.com/adigenova/wengan_demo/master/ecoli/reference/ecoli-k12-ref.fna\n",
            "Resolving raw.githubusercontent.com (raw.githubusercontent.com)... 185.199.110.133, 185.199.108.133, 185.199.111.133, ...\n",
            "Connecting to raw.githubusercontent.com (raw.githubusercontent.com)|185.199.110.133|:443... connected.\n",
            "HTTP request sent, awaiting response... 200 OK\n",
            "Length: 4699745 (4.5M) [text/plain]\n",
            "Saving to: ‘ecoli-k12-ref.fna’\n",
            "\n",
            "ecoli-k12-ref.fna   100%[===================>]   4.48M  --.-KB/s    in 0.05s   \n",
            "\n",
            "2024-09-25 12:35:44 (86.3 MB/s) - ‘ecoli-k12-ref.fna’ saved [4699745/4699745]\n",
            "\n",
            "--2024-09-25 12:35:44--  https://github.com/adigenova/wengan_demo/raw/refs/heads/master/ecoli/reads/EC.50X.R1.fastq.gz\n",
            "Resolving github.com (github.com)... 140.82.112.4\n",
            "Connecting to github.com (github.com)|140.82.112.4|:443... connected.\n",
            "HTTP request sent, awaiting response... 302 Found\n",
            "Location: https://raw.githubusercontent.com/adigenova/wengan_demo/refs/heads/master/ecoli/reads/EC.50X.R1.fastq.gz [following]\n",
            "--2024-09-25 12:35:44--  https://raw.githubusercontent.com/adigenova/wengan_demo/refs/heads/master/ecoli/reads/EC.50X.R1.fastq.gz\n",
            "Resolving raw.githubusercontent.com (raw.githubusercontent.com)... 185.199.111.133, 185.199.110.133, 185.199.108.133, ...\n",
            "Connecting to raw.githubusercontent.com (raw.githubusercontent.com)|185.199.111.133|:443... connected.\n",
            "HTTP request sent, awaiting response... 200 OK\n",
            "Length: 83923660 (80M) [application/octet-stream]\n",
            "Saving to: ‘EC.50X.R1.fastq.gz.1’\n",
            "\n",
            "EC.50X.R1.fastq.gz. 100%[===================>]  80.04M   261MB/s    in 0.3s    \n",
            "\n",
            "2024-09-25 12:35:45 (261 MB/s) - ‘EC.50X.R1.fastq.gz.1’ saved [83923660/83923660]\n",
            "\n"
          ]
        }
      ]
    },
    {
      "cell_type": "code",
      "source": [
        "! time cat /content/ecoli-k12-ref.fna | python3 ./kc1.py 12\n",
        "#! time  gzip -dc /content/EC.50X.R1.fastq.gz |  python3 ./kc1.py"
      ],
      "metadata": {
        "colab": {
          "base_uri": "https://localhost:8080/"
        },
        "id": "kodyEe_WHKGs",
        "outputId": "b5dabf07-5aa6-4760-d8b1-3017a571bf6a"
      },
      "execution_count": 49,
      "outputs": [
        {
          "output_type": "stream",
          "name": "stdout",
          "text": [
            "1\t1835964\n",
            "2\t613189\n",
            "3\t224172\n",
            "4\t89791\n",
            "5\t39363\n",
            "6\t18625\n",
            "7\t12149\n",
            "8\t6159\n",
            "9\t3103\n",
            "10\t1621\n",
            "11\t1286\n",
            "12\t978\n",
            "13\t573\n",
            "14\t370\n",
            "15\t222\n",
            "16\t147\n",
            "17\t86\n",
            "18\t81\n",
            "19\t51\n",
            "\n",
            "real\t0m9.668s\n",
            "user\t0m9.031s\n",
            "sys\t0m0.559s\n"
          ]
        }
      ]
    },
    {
      "cell_type": "markdown",
      "source": [
        "# C"
      ],
      "metadata": {
        "id": "eR3HLQzoJguJ"
      }
    },
    {
      "cell_type": "code",
      "source": [
        "%%writefile kseq.h\n",
        "\n",
        "#ifndef AC_KSEQ_H\n",
        "#define AC_KSEQ_H\n",
        "\n",
        "#include <ctype.h>\n",
        "#include <string.h>\n",
        "#include <stdlib.h>\n",
        "\n",
        "#define KS_SEP_SPACE 0 // isspace(): \\t, \\n, \\v, \\f, \\r\n",
        "#define KS_SEP_TAB   1 // isspace() && !' '\n",
        "#define KS_SEP_LINE  2 // line separator: \"\\n\" (Unix) or \"\\r\\n\" (Windows)\n",
        "#define KS_SEP_MAX   2\n",
        "\n",
        "#ifndef klib_unused\n",
        "#if (defined __clang__ && __clang_major__ >= 3) || (defined __GNUC__ && __GNUC__ >= 3)\n",
        "#define klib_unused __attribute__ ((__unused__))\n",
        "#else\n",
        "#define klib_unused\n",
        "#endif\n",
        "#endif /* klib_unused */\n",
        "\n",
        "#define __KS_TYPE(type_t) \\\n",
        "\ttypedef struct __kstream_t { \\\n",
        "\t\tint begin, end; \\\n",
        "\t\tint is_eof:2, bufsize:30; \\\n",
        "\t\ttype_t f; \\\n",
        "\t\tunsigned char *buf; \\\n",
        "\t} kstream_t;\n",
        "\n",
        "#define ks_eof(ks) ((ks)->is_eof && (ks)->begin >= (ks)->end)\n",
        "#define ks_rewind(ks) ((ks)->is_eof = (ks)->begin = (ks)->end = 0)\n",
        "\n",
        "#define __KS_BASIC(SCOPE, type_t, __bufsize) \\\n",
        "\tSCOPE kstream_t *ks_init(type_t f) \\\n",
        "\t{ \\\n",
        "\t\tkstream_t *ks = (kstream_t*)calloc(1, sizeof(kstream_t)); \\\n",
        "\t\tks->f = f; ks->bufsize = __bufsize; \\\n",
        "\t\tks->buf = (unsigned char*)malloc(__bufsize); \\\n",
        "\t\treturn ks; \\\n",
        "\t} \\\n",
        "\tSCOPE void ks_destroy(kstream_t *ks) \\\n",
        "\t{ \\\n",
        "\t\tif (!ks) return; \\\n",
        "\t\tfree(ks->buf); \\\n",
        "\t\tfree(ks); \\\n",
        "\t}\n",
        "\n",
        "#define __KS_INLINED(__read) \\\n",
        "\tstatic inline klib_unused int ks_getc(kstream_t *ks) \\\n",
        "\t{ \\\n",
        "\t\tif (ks->is_eof && ks->begin >= ks->end) return -1; \\\n",
        "\t\tif (ks->begin >= ks->end) { \\\n",
        "\t\t\tks->begin = 0; \\\n",
        "\t\t\tks->end = __read(ks->f, ks->buf, ks->bufsize); \\\n",
        "\t\t\tif (ks->end < ks->bufsize) ks->is_eof = 1; \\\n",
        "\t\t\tif (ks->end == 0) return -1; \\\n",
        "\t\t} \\\n",
        "\t\treturn (int)ks->buf[ks->begin++]; \\\n",
        "\t} \\\n",
        "\tstatic inline int ks_getuntil(kstream_t *ks, int delimiter, kstring_t *str, int *dret) \\\n",
        "\t{ return ks_getuntil2(ks, delimiter, str, dret, 0); }\n",
        "\n",
        "#ifndef KSTRING_T\n",
        "#define KSTRING_T kstring_t\n",
        "typedef struct __kstring_t {\n",
        "\tunsigned l, m;\n",
        "\tchar *s;\n",
        "} kstring_t;\n",
        "#endif\n",
        "\n",
        "#ifndef kroundup32\n",
        "#define kroundup32(x) (--(x), (x)|=(x)>>1, (x)|=(x)>>2, (x)|=(x)>>4, (x)|=(x)>>8, (x)|=(x)>>16, ++(x))\n",
        "#endif\n",
        "\n",
        "#define __KS_GETUNTIL(SCOPE, __read) \\\n",
        "\tSCOPE int ks_getuntil2(kstream_t *ks, int delimiter, kstring_t *str, int *dret, int append) \\\n",
        "\t{ \\\n",
        "\t\tif (dret) *dret = 0; \\\n",
        "\t\tstr->l = append? str->l : 0; \\\n",
        "\t\tif (ks->begin >= ks->end && ks->is_eof) return -1; \\\n",
        "\t\tfor (;;) { \\\n",
        "\t\t\tint i; \\\n",
        "\t\t\tif (ks->begin >= ks->end) { \\\n",
        "\t\t\t\tif (!ks->is_eof) { \\\n",
        "\t\t\t\t\tks->begin = 0; \\\n",
        "\t\t\t\t\tks->end = __read(ks->f, ks->buf, ks->bufsize); \\\n",
        "\t\t\t\t\tif (ks->end < ks->bufsize) ks->is_eof = 1; \\\n",
        "\t\t\t\t\tif (ks->end == 0) break; \\\n",
        "\t\t\t\t} else break; \\\n",
        "\t\t\t} \\\n",
        "\t\t\tif (delimiter == KS_SEP_LINE) { \\\n",
        "\t\t\t\tfor (i = ks->begin; i < ks->end; ++i) \\\n",
        "\t\t\t\t\tif (ks->buf[i] == '\\n') break; \\\n",
        "\t\t\t} else if (delimiter > KS_SEP_MAX) { \\\n",
        "\t\t\t\tfor (i = ks->begin; i < ks->end; ++i) \\\n",
        "\t\t\t\t\tif (ks->buf[i] == delimiter) break; \\\n",
        "\t\t\t} else if (delimiter == KS_SEP_SPACE) { \\\n",
        "\t\t\t\tfor (i = ks->begin; i < ks->end; ++i) \\\n",
        "\t\t\t\t\tif (isspace(ks->buf[i])) break; \\\n",
        "\t\t\t} else if (delimiter == KS_SEP_TAB) { \\\n",
        "\t\t\t\tfor (i = ks->begin; i < ks->end; ++i) \\\n",
        "\t\t\t\t\tif (isspace(ks->buf[i]) && ks->buf[i] != ' ') break; \\\n",
        "\t\t\t} else i = 0; /* never come to here! */ \\\n",
        "\t\t\tif (str->m - str->l < (size_t)(i - ks->begin + 1)) { \\\n",
        "\t\t\t\tstr->m = str->l + (i - ks->begin) + 1; \\\n",
        "\t\t\t\tkroundup32(str->m); \\\n",
        "\t\t\t\tstr->s = (char*)realloc(str->s, str->m); \\\n",
        "\t\t\t} \\\n",
        "\t\t\tmemcpy(str->s + str->l, ks->buf + ks->begin, i - ks->begin); \\\n",
        "\t\t\tstr->l = str->l + (i - ks->begin); \\\n",
        "\t\t\tks->begin = i + 1; \\\n",
        "\t\t\tif (i < ks->end) { \\\n",
        "\t\t\t\tif (dret) *dret = ks->buf[i]; \\\n",
        "\t\t\t\tbreak; \\\n",
        "\t\t\t} \\\n",
        "\t\t} \\\n",
        "\t\tif (str->s == 0) { \\\n",
        "\t\t\tstr->m = 1; \\\n",
        "\t\t\tstr->s = (char*)calloc(1, 1); \\\n",
        "\t\t} else if (delimiter == KS_SEP_LINE && str->l > 1 && str->s[str->l-1] == '\\r') --str->l; \\\n",
        "\t\tstr->s[str->l] = '\\0'; \\\n",
        "\t\treturn str->l; \\\n",
        "\t}\n",
        "\n",
        "#define KSTREAM_INIT2(SCOPE, type_t, __read, __bufsize) \\\n",
        "\t__KS_TYPE(type_t) \\\n",
        "\t__KS_BASIC(SCOPE, type_t, __bufsize) \\\n",
        "\t__KS_GETUNTIL(SCOPE, __read) \\\n",
        "\t__KS_INLINED(__read)\n",
        "\n",
        "#define KSTREAM_INIT(type_t, __read, __bufsize) KSTREAM_INIT2(static, type_t, __read, __bufsize)\n",
        "\n",
        "#define KSTREAM_DECLARE(type_t, __read) \\\n",
        "\t__KS_TYPE(type_t) \\\n",
        "\textern int ks_getuntil2(kstream_t *ks, int delimiter, kstring_t *str, int *dret, int append); \\\n",
        "\textern kstream_t *ks_init(type_t f); \\\n",
        "\textern void ks_destroy(kstream_t *ks); \\\n",
        "\t__KS_INLINED(__read)\n",
        "\n",
        "/******************\n",
        " * FASTA/Q parser *\n",
        " ******************/\n",
        "\n",
        "#define kseq_rewind(ks) ((ks)->last_char = (ks)->f->is_eof = (ks)->f->begin = (ks)->f->end = 0)\n",
        "\n",
        "#define __KSEQ_BASIC(SCOPE, type_t) \\\n",
        "\tSCOPE kseq_t *kseq_init(type_t fd) \\\n",
        "\t{ \\\n",
        "\t\tkseq_t *s = (kseq_t*)calloc(1, sizeof(kseq_t)); \\\n",
        "\t\ts->f = ks_init(fd); \\\n",
        "\t\treturn s; \\\n",
        "\t} \\\n",
        "\tSCOPE void kseq_destroy(kseq_t *ks) \\\n",
        "\t{ \\\n",
        "\t\tif (!ks) return; \\\n",
        "\t\tfree(ks->name.s); free(ks->comment.s); free(ks->seq.s);\tfree(ks->qual.s); \\\n",
        "\t\tks_destroy(ks->f); \\\n",
        "\t\tfree(ks); \\\n",
        "\t}\n",
        "\n",
        "/* Return value:\n",
        "   >=0  length of the sequence (normal)\n",
        "   -1   end-of-file\n",
        "   -2   truncated quality string\n",
        " */\n",
        "#define __KSEQ_READ(SCOPE) \\\n",
        "\tSCOPE int kseq_read(kseq_t *seq) \\\n",
        "\t{ \\\n",
        "\t\tint c; \\\n",
        "\t\tkstream_t *ks = seq->f; \\\n",
        "\t\tif (seq->last_char == 0) { /* then jump to the next header line */ \\\n",
        "\t\t\twhile ((c = ks_getc(ks)) != -1 && c != '>' && c != '@'); \\\n",
        "\t\t\tif (c == -1) return -1; /* end of file */ \\\n",
        "\t\t\tseq->last_char = c; \\\n",
        "\t\t} /* else: the first header char has been read in the previous call */ \\\n",
        "\t\tseq->comment.l = seq->seq.l = seq->qual.l = 0; /* reset all members */ \\\n",
        "\t\tif (ks_getuntil(ks, 0, &seq->name, &c) < 0) return -1; /* normal exit: EOF */ \\\n",
        "\t\tif (c != '\\n') ks_getuntil(ks, KS_SEP_LINE, &seq->comment, 0); /* read FASTA/Q comment */ \\\n",
        "\t\tif (seq->seq.s == 0) { /* we can do this in the loop below, but that is slower */ \\\n",
        "\t\t\tseq->seq.m = 256; \\\n",
        "\t\t\tseq->seq.s = (char*)malloc(seq->seq.m); \\\n",
        "\t\t} \\\n",
        "\t\twhile ((c = ks_getc(ks)) != -1 && c != '>' && c != '+' && c != '@') { \\\n",
        "\t\t\tif (c == '\\n') continue; /* skip empty lines */ \\\n",
        "\t\t\tseq->seq.s[seq->seq.l++] = c; /* this is safe: we always have enough space for 1 char */ \\\n",
        "\t\t\tks_getuntil2(ks, KS_SEP_LINE, &seq->seq, 0, 1); /* read the rest of the line */ \\\n",
        "\t\t} \\\n",
        "\t\tif (c == '>' || c == '@') seq->last_char = c; /* the first header char has been read */ \\\n",
        "\t\tif (seq->seq.l + 1 >= seq->seq.m) { /* seq->seq.s[seq->seq.l] below may be out of boundary */ \\\n",
        "\t\t\tseq->seq.m = seq->seq.l + 2; \\\n",
        "\t\t\tkroundup32(seq->seq.m); /* rounded to the next closest 2^k */ \\\n",
        "\t\t\tseq->seq.s = (char*)realloc(seq->seq.s, seq->seq.m); \\\n",
        "\t\t} \\\n",
        "\t\tseq->seq.s[seq->seq.l] = 0;\t/* null terminated string */ \\\n",
        "\t\tif (c != '+') return seq->seq.l; /* FASTA */ \\\n",
        "\t\tif (seq->qual.m < seq->seq.m) {\t/* allocate memory for qual in case insufficient */ \\\n",
        "\t\t\tseq->qual.m = seq->seq.m; \\\n",
        "\t\t\tseq->qual.s = (char*)realloc(seq->qual.s, seq->qual.m); \\\n",
        "\t\t} \\\n",
        "\t\twhile ((c = ks_getc(ks)) != -1 && c != '\\n'); /* skip the rest of '+' line */ \\\n",
        "\t\tif (c == -1) return -2; /* error: no quality string */ \\\n",
        "\t\twhile (ks_getuntil2(ks, KS_SEP_LINE, &seq->qual, 0, 1) >= 0 && seq->qual.l < seq->seq.l); \\\n",
        "\t\tseq->last_char = 0;\t/* we have not come to the next header line */ \\\n",
        "\t\tif (seq->seq.l != seq->qual.l) return -2; /* error: qual string is of a different length */ \\\n",
        "\t\treturn seq->seq.l; \\\n",
        "\t}\n",
        "\n",
        "#define __KSEQ_TYPE(type_t) \\\n",
        "\ttypedef struct { \\\n",
        "\t\tkstring_t name, comment, seq, qual; \\\n",
        "\t\tint last_char; \\\n",
        "\t\tkstream_t *f; \\\n",
        "\t} kseq_t;\n",
        "\n",
        "#define KSEQ_INIT2(SCOPE, type_t, __read) \\\n",
        "\tKSTREAM_INIT2(SCOPE, type_t, __read, 16384) \\\n",
        "\t__KSEQ_TYPE(type_t) \\\n",
        "\t__KSEQ_BASIC(SCOPE, type_t) \\\n",
        "\t__KSEQ_READ(SCOPE)\n",
        "\n",
        "#define KSEQ_INIT(type_t, __read) KSEQ_INIT2(static, type_t, __read)\n",
        "\n",
        "#define KSEQ_DECLARE(type_t) \\\n",
        "\t__KS_TYPE(type_t) \\\n",
        "\t__KSEQ_TYPE(type_t) \\\n",
        "\textern kseq_t *kseq_init(type_t fd); \\\n",
        "\tvoid kseq_destroy(kseq_t *ks); \\\n",
        "\tint kseq_read(kseq_t *seq);\n",
        "\n",
        "#endif\n"
      ],
      "metadata": {
        "colab": {
          "base_uri": "https://localhost:8080/"
        },
        "id": "xD5-TEtQJj91",
        "outputId": "ce5f2106-358f-459e-bd4d-ac43283423ef"
      },
      "execution_count": 90,
      "outputs": [
        {
          "output_type": "stream",
          "name": "stdout",
          "text": [
            "Overwriting kseq.h\n"
          ]
        }
      ]
    },
    {
      "cell_type": "code",
      "source": [
        "%%writefile kc_serial.c\n",
        "\n",
        "#include <stdio.h>\n",
        "#include <stdint.h>\n",
        "#include <zlib.h>\n",
        "\n",
        "//libreria para leer archivos FASTA/FASTQ\n",
        "#include \"kseq.h\"\n",
        "\n",
        "// Iniciamos las funciones de lectura de archivos comprimidos en el caso de ser necesario.\n",
        "KSEQ_INIT(gzFile, gzread)\n",
        "//we work with k=12 then 4^12\n",
        "\n",
        "int total_kmers=16777216;\n",
        "char k12[16777216]={0};\n",
        "\n",
        "// Function to convert a DNA sequence to a number\n",
        "unsigned int dna_to_number(const char *dna_sequence) {\n",
        "    // Assign numerical values to each nucleotide\n",
        "    int nucleotide_map[255] = {0};\n",
        "    nucleotide_map['A'] = 1;\n",
        "    nucleotide_map['C'] = 2;\n",
        "    nucleotide_map['G'] = 3;\n",
        "    nucleotide_map['T'] = 4;\n",
        "\n",
        "    nucleotide_map['a'] = 1;\n",
        "    nucleotide_map['c'] = 2;\n",
        "    nucleotide_map['g'] = 3;\n",
        "    nucleotide_map['t'] = 4;\n",
        "\n",
        "    nucleotide_map['N'] = 5;\n",
        "    nucleotide_map['n'] = 5;\n",
        "\n",
        "    // Initialize the hash value\n",
        "    unsigned int hash_value = 0;\n",
        "    unsigned int prime = 31;\n",
        "    // Use a prime number for combining values\n",
        "\n",
        "    // Convert each nucleotide in the sequence to its numerical value\n",
        "    for (size_t i = 0; i < strlen(dna_sequence); i++) {\n",
        "        hash_value = hash_value * prime + nucleotide_map[(int)dna_sequence[i]];\n",
        "    }\n",
        "\n",
        "    return hash_value;\n",
        "}\n",
        "\n",
        "int main(int argc, char *argv[])\n",
        "{\n",
        "\n",
        "gzFile fp;\n",
        "kseq_t *ks;\n",
        "if ((fp = gzopen(argv[1], \"r\")) == 0) return 0;\n",
        "ks = kseq_init(fp);\n",
        "char sseq[13];\n",
        "printf(\"%s\\n\",argv[1]);\n",
        "int k=12;\n",
        "\n",
        "while (kseq_read(ks) >= 0){\n",
        "  //dividimos la secuencia en kmers\n",
        "  for(int i=0; i<ks->seq.l-k;i++){\n",
        "     strncpy(sseq,ks->seq.s+i,k);\n",
        "     //printf(\"%s %d %s\\n\",ks->name.s, i, sseq);\n",
        "     unsigned int hashed_value = dna_to_number(sseq);\n",
        "     k12[hashed_value%total_kmers]++;\n",
        "     printf(\"%s %d %d %s\\n\",ks->name.s, i, hashed_value%total_kmers, sseq);\n",
        "  }\n",
        "}\n",
        "kseq_destroy(ks);\n",
        "gzclose(fp);\n",
        "//we count the k-mers histogram\n",
        "int hist[101]={0};\n",
        "for(int i=0; i < total_kmers; i++ ){\n",
        "    if(k12[i]<100){\n",
        "       hist[(int)k12[i]]++;\n",
        "    }else{\n",
        "      hist[101]++;\n",
        "    }\n",
        "}\n",
        "\n",
        "//we print the histogram for k\n",
        "for(int i=1; i<10; i++){\n",
        "   printf(\"%d %d \\n\", i,hist[i]);\n",
        "}\n",
        "return 0;\n",
        "}"
      ],
      "metadata": {
        "colab": {
          "base_uri": "https://localhost:8080/"
        },
        "id": "d5B3YN6dJrzz",
        "outputId": "52b3eea2-7a21-4425-a088-b35d8ed53aed"
      },
      "execution_count": 91,
      "outputs": [
        {
          "output_type": "stream",
          "name": "stdout",
          "text": [
            "Overwriting kc_serial.c\n"
          ]
        }
      ]
    },
    {
      "cell_type": "code",
      "source": [
        "!gcc kc_serial.c -o kc_serial -g -Wall -O2 -lz"
      ],
      "metadata": {
        "id": "KKj6b-qkMikN"
      },
      "execution_count": 92,
      "outputs": []
    },
    {
      "cell_type": "code",
      "source": [
        "! ./kc_serial /content/ecoli-k12-ref.fna | tail -n 30"
      ],
      "metadata": {
        "colab": {
          "base_uri": "https://localhost:8080/"
        },
        "id": "ZKZC0mD3OHks",
        "outputId": "6bd55274-e74d-4ac4-9965-5c80246151d5"
      },
      "execution_count": 93,
      "outputs": [
        {
          "output_type": "stream",
          "name": "stdout",
          "text": [
            "NC_000913.3 4641619 16496253 ACCAAATAAAAA\n",
            "NC_000913.3 4641620 16257699 CCAAATAAAAAA\n",
            "NC_000913.3 4641621 275645 CAAATAAAAAAC\n",
            "NC_000913.3 4641622 8148452 AAATAAAAAACG\n",
            "NC_000913.3 4641623 9134109 AATAAAAAACGC\n",
            "NC_000913.3 4641624 6135044 ATAAAAAACGCC\n",
            "NC_000913.3 4641625 13827327 TAAAAAACGCCT\n",
            "NC_000913.3 4641626 8423649 AAAAAACGCCTT\n",
            "NC_000913.3 4641627 887999 AAAAACGCCTTA\n",
            "NC_000913.3 4641628 2163875 AAAACGCCTTAG\n",
            "NC_000913.3 4641629 8161600 AAACGCCTTAGT\n",
            "NC_000913.3 4641630 9541696 AACGCCTTAGTA\n",
            "NC_000913.3 4641631 1993024 ACGCCTTAGTAA\n",
            "NC_000913.3 4641632 2865218 CGCCTTAGTAAG\n",
            "NC_000913.3 4641633 4539136 GCCTTAGTAAGT\n",
            "NC_000913.3 4641634 14289278 CCTTAGTAAGTA\n",
            "NC_000913.3 4641635 6363460 CTTAGTAAGTAT\n",
            "NC_000913.3 4641636 12321342 TTAGTAAGTATT\n",
            "NC_000913.3 4641637 12069762 TAGTAAGTATTT\n",
            "NC_000913.3 4641638 4270782 AGTAAGTATTTT\n",
            "NC_000913.3 4641639 6366853 GTAAGTATTTTT\n",
            "1 1689348 \n",
            "2 654414 \n",
            "3 258278 \n",
            "4 102526 \n",
            "5 43739 \n",
            "6 18271 \n",
            "7 7545 \n",
            "8 3551 \n",
            "9 1913 \n"
          ]
        }
      ]
    },
    {
      "cell_type": "code",
      "source": [
        "%%writefile kc_threads.c\n",
        "\n",
        "#include <stdio.h>\n",
        "#include <stdint.h>\n",
        "#include <zlib.h>\n",
        "\n",
        "//libreria para leer archivos FASTA/FASTQ\n",
        "#include \"kseq.h\"\n",
        "\n",
        "// Iniciamos las funciones de lectura de archivos comprimidos en el caso de ser necesario.\n",
        "KSEQ_INIT(gzFile, gzread)\n",
        "//we work with k=12 then 4^12\n",
        "\n",
        "//inicializamos el mutex\n",
        "pthread_mutex_t write_lock=PTHREAD_MUTEX_INITIALIZER;\n",
        "\n",
        "int total_kmers=16777216;\n",
        "char k12[16777216]={0};\n",
        "\n",
        "// Function to convert a DNA sequence to a number\n",
        "unsigned int dna_to_number(const char *dna_sequence) {\n",
        "    // Assign numerical values to each nucleotide\n",
        "    int nucleotide_map[128] = {0};\n",
        "    nucleotide_map['A'] = 1;\n",
        "    nucleotide_map['C'] = 2;\n",
        "    nucleotide_map['G'] = 3;\n",
        "    nucleotide_map['T'] = 4;\n",
        "\n",
        "    // Initialize the hash value\n",
        "    unsigned int hash_value = 0;\n",
        "    unsigned int prime = 31;\n",
        "    // Use a prime number for combining values\n",
        "\n",
        "    // Convert each nucleotide in the sequence to its numerical value\n",
        "    for (size_t i = 0; i < strlen(dna_sequence); i++) {\n",
        "        hash_value = hash_value * prime + nucleotide_map[(int)dna_sequence[i]];\n",
        "    }\n",
        "\n",
        "    return hash_value;\n",
        "}\n",
        "\n",
        "int main(int argc, char *argv[])\n",
        "{\n",
        "\n",
        "gzFile fp;\n",
        "kseq_t *ks;\n",
        "if ((fp = gzopen(argv[1], \"r\")) == 0) return 0;\n",
        "ks = kseq_init(fp);\n",
        "char sseq[13];\n",
        "printf(\"%s\\n\",argv[1]);\n",
        "int k=12;\n",
        "\n",
        "\n",
        "\n",
        "  pthread_t *threads;   //puntero a los hilos\n",
        "\n",
        "  //creamos un hilo para cada elemento de la matriz\n",
        "  int num_threads = 5, i;\n",
        "   threads = (pthread_t *)malloc((num_threads)*sizeof(pthread_t));\n",
        "\n",
        "  //creamos los hilos\n",
        "  for(i=0; i<num_threads; i++){\n",
        "      pthread_create(&threads[i],\n",
        "\t\t     NULL,\n",
        "\t\t     insert_values_hash,\n",
        "\t\t     (void *) (long)i);\n",
        "  }\n",
        "\n",
        "  //esperamos que todos los hilos terminen\n",
        "  for (i = 0; i < num_threads; i++) {\n",
        "    pthread_join(threads[i], NULL);\n",
        "  }\n",
        "\n",
        "\n",
        "\n",
        "while (kseq_read(ks) >= 0){\n",
        "  //dividimos la secuencia en kmers\n",
        "  for(int i=0; i<ks->seq.l-k;i++){\n",
        "     strncpy(sseq,ks->seq.s+i,k);\n",
        "     //printf(\"%s %d %s\\n\",ks->name.s, i, sseq);\n",
        "     unsigned int hashed_value = dna_to_number(sseq);\n",
        "     k12[hashed_value%total_kmers]++;\n",
        "     printf(\"%s %d %d %s\\n\",ks->name.s, i, hashed_value%total_kmers, sseq);\n",
        "  }\n",
        "}\n",
        "kseq_destroy(ks);\n",
        "gzclose(fp);\n",
        "//we count the k-mers histogram\n",
        "int hist[101]={0};\n",
        "for(int i=0; i < total_kmers; i++ ){\n",
        "    if(k12[i]<100){\n",
        "       hist[(int)k12[i]]++;\n",
        "    }else{\n",
        "      hist[101]++;\n",
        "    }\n",
        "}\n",
        "\n",
        "//we print the histogram for k\n",
        "for(int i=1; i<10; i++){\n",
        "   printf(\"%d %d \\n\", i,hist[i]);\n",
        "}\n",
        "return 0;\n",
        "}"
      ],
      "metadata": {
        "colab": {
          "base_uri": "https://localhost:8080/"
        },
        "id": "kKUSZOaIZjm1",
        "outputId": "e9fe5e0c-fa66-481e-9e9a-1ed07b582e33"
      },
      "execution_count": 20,
      "outputs": [
        {
          "output_type": "stream",
          "name": "stdout",
          "text": [
            "Writing counts_kmers_serial.c\n"
          ]
        }
      ]
    }
  ]
}