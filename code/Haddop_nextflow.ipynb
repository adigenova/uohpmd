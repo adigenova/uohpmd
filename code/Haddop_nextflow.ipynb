{
  "nbformat": 4,
  "nbformat_minor": 0,
  "metadata": {
    "colab": {
      "provenance": [],
      "authorship_tag": "ABX9TyP+NYZXM0/dDRqVApxoEjFR",
      "include_colab_link": true
    },
    "kernelspec": {
      "name": "python3",
      "display_name": "Python 3"
    },
    "language_info": {
      "name": "python"
    }
  },
  "cells": [
    {
      "cell_type": "markdown",
      "metadata": {
        "id": "view-in-github",
        "colab_type": "text"
      },
      "source": [
        "<a href=\"https://colab.research.google.com/github/adigenova/uohpmd/blob/main/code/Haddop_nextflow.ipynb\" target=\"_parent\"><img src=\"https://colab.research.google.com/assets/colab-badge.svg\" alt=\"Open In Colab\"/></a>"
      ]
    },
    {
      "cell_type": "markdown",
      "source": [
        "# Hadoop"
      ],
      "metadata": {
        "id": "AAGthCib0wAA"
      }
    },
    {
      "cell_type": "markdown",
      "source": [
        "## Calcular el promedio"
      ],
      "metadata": {
        "id": "a413hri_2QO0"
      }
    },
    {
      "cell_type": "code",
      "execution_count": 1,
      "metadata": {
        "colab": {
          "base_uri": "https://localhost:8080/"
        },
        "id": "IBLxe96H0uj6",
        "outputId": "c65642b6-bbdc-481c-88a1-b2b9b7c40818"
      },
      "outputs": [
        {
          "output_type": "stream",
          "name": "stdout",
          "text": [
            "Writing mapper1.py\n"
          ]
        }
      ],
      "source": [
        "%%writefile mapper1.py\n",
        "#!/usr/bin/env python\n",
        "import sys\n",
        "\n",
        "# Lee líneas de entrada desde la entrada estándar\n",
        "for line in sys.stdin:\n",
        "    number = float(line.strip())\n",
        "    # Emite el número como clave y valor\n",
        "    print(\"Total\", number)\n",
        "    print(\"Count\", 1)"
      ]
    },
    {
      "cell_type": "code",
      "source": [
        "!chmod 777 /content/mapper1.py /content/reducer1.py"
      ],
      "metadata": {
        "id": "pmaRS4vM1oFB"
      },
      "execution_count": 16,
      "outputs": []
    },
    {
      "cell_type": "code",
      "source": [
        "%%writefile reducer1.py\n",
        "#!/usr/bin/env python\n",
        "import sys\n",
        "\n",
        "current_key = None\n",
        "total = 0\n",
        "count = 0\n",
        "\n",
        "# Lee líneas de entrada desde la entrada estándar\n",
        "for line in sys.stdin:\n",
        "    key, value = line.strip().split(\" \")\n",
        "    value = float(value)\n",
        "\n",
        "    if key == \"Total\":\n",
        "        total += value\n",
        "    elif key == \"Count\":\n",
        "        count += int(value)\n",
        "\n",
        "# Calcula el promedio\n",
        "average = total / count\n",
        "print(\"Average\", average)\n"
      ],
      "metadata": {
        "colab": {
          "base_uri": "https://localhost:8080/"
        },
        "id": "IotudhkJ05UJ",
        "outputId": "c49c29e3-3ddc-47b7-e61a-69bb383299cf"
      },
      "execution_count": 15,
      "outputs": [
        {
          "output_type": "stream",
          "name": "stdout",
          "text": [
            "Overwriting reducer1.py\n"
          ]
        }
      ]
    },
    {
      "cell_type": "code",
      "source": [
        "!seq 1 10 | python mapper1.py"
      ],
      "metadata": {
        "colab": {
          "base_uri": "https://localhost:8080/"
        },
        "id": "rDNdZu3k0_lr",
        "outputId": "d6512220-2017-455d-a295-e8d126decec8"
      },
      "execution_count": 19,
      "outputs": [
        {
          "output_type": "stream",
          "name": "stdout",
          "text": [
            "Total 1.0\n",
            "Count 1\n",
            "Total 2.0\n",
            "Count 1\n",
            "Total 3.0\n",
            "Count 1\n",
            "Total 4.0\n",
            "Count 1\n",
            "Total 5.0\n",
            "Count 1\n",
            "Total 6.0\n",
            "Count 1\n",
            "Total 7.0\n",
            "Count 1\n",
            "Total 8.0\n",
            "Count 1\n",
            "Total 9.0\n",
            "Count 1\n",
            "Total 10.0\n",
            "Count 1\n"
          ]
        }
      ]
    },
    {
      "cell_type": "code",
      "source": [
        "!seq 1  10 | python mapper1.py | python reducer1.py"
      ],
      "metadata": {
        "colab": {
          "base_uri": "https://localhost:8080/"
        },
        "id": "9gt6B_6x1yN1",
        "outputId": "8ab893cd-a2d0-4bea-b261-71b897f41b91"
      },
      "execution_count": 21,
      "outputs": [
        {
          "output_type": "stream",
          "name": "stdout",
          "text": [
            "Average 5.5\n"
          ]
        }
      ]
    },
    {
      "cell_type": "markdown",
      "source": [
        "## ventas por producto"
      ],
      "metadata": {
        "id": "c4NAeoec4KDv"
      }
    },
    {
      "cell_type": "code",
      "source": [
        "%%writefile data.txt\n",
        "Fecha,Producto,Cantidad,PrecioUnitario\n",
        "2023-10-23,ProductoA,5,10.0\n",
        "2023-10-23,ProductoB,3,15.0\n",
        "2023-10-24,ProductoA,2,10.0\n",
        "2023-10-24,ProductoC,1,20.0\n",
        "2023-10-25,ProductoB,4,15.0\n",
        "2023-10-25,ProductoC,2,20.0\n",
        "2023-10-26,ProductoA,3,10.0\n",
        "2023-10-26,ProductoB,2,15.0\n",
        "2023-10-27,ProductoC,3,20.0\n",
        "2023-10-27,ProductoD,1,25.0\n"
      ],
      "metadata": {
        "colab": {
          "base_uri": "https://localhost:8080/"
        },
        "id": "fH-Nnc_o2iq2",
        "outputId": "b9c8c3b7-0b5a-4c6a-fd17-9b5911f07873"
      },
      "execution_count": 34,
      "outputs": [
        {
          "output_type": "stream",
          "name": "stdout",
          "text": [
            "Overwriting data.txt\n"
          ]
        }
      ]
    },
    {
      "cell_type": "code",
      "source": [
        "%%writefile mapper2.py\n",
        "\n",
        "#!/usr/bin/env python\n",
        "import sys\n",
        "\n",
        "# Lee líneas de entrada desde la entrada estándar\n",
        "for line in sys.stdin:\n",
        "    # Divide la línea en campos\n",
        "    fields = line.strip().split(\",\")\n",
        "    if len(fields) == 4:\n",
        "        date, product, quantity, price = fields\n",
        "        # Emite el producto como clave y la cantidad como valor\n",
        "        print(f\"{product}\\t{quantity}\")\n"
      ],
      "metadata": {
        "colab": {
          "base_uri": "https://localhost:8080/"
        },
        "id": "sXuT20u020nf",
        "outputId": "aa87a487-97f1-44db-851b-6ef4441c4642"
      },
      "execution_count": 22,
      "outputs": [
        {
          "output_type": "stream",
          "name": "stdout",
          "text": [
            "Writing mapper2.py\n"
          ]
        }
      ]
    },
    {
      "cell_type": "code",
      "source": [
        "%%writefile reducer2.py\n",
        "\n",
        "#!/usr/bin/env python\n",
        "import sys\n",
        "\n",
        "current_product = None\n",
        "total_quantity = 0\n",
        "\n",
        "# Lee líneas de entrada desde la entrada estándar\n",
        "for line in sys.stdin:\n",
        "    product, quantity = line.strip().split(\"\\t\")\n",
        "    quantity = int(quantity)\n",
        "\n",
        "    if product == current_product:\n",
        "        total_quantity += quantity\n",
        "    else:\n",
        "        if current_product:\n",
        "            print(f\"{current_product}\\t{total_quantity}\")\n",
        "        current_product = product\n",
        "        total_quantity = quantity\n",
        "\n",
        "if current_product:\n",
        "    print(f\"{current_product}\\t{total_quantity}\")\n"
      ],
      "metadata": {
        "colab": {
          "base_uri": "https://localhost:8080/"
        },
        "id": "OILDNIsv29P3",
        "outputId": "9d4122fe-30be-4dfa-cecb-4cb00e3747ac"
      },
      "execution_count": 29,
      "outputs": [
        {
          "output_type": "stream",
          "name": "stdout",
          "text": [
            "Overwriting reducer2.py\n"
          ]
        }
      ]
    },
    {
      "cell_type": "code",
      "source": [
        "!cat data.txt | grep -v \"Fecha\" | python mapper2.py |python reducer2.py"
      ],
      "metadata": {
        "colab": {
          "base_uri": "https://localhost:8080/"
        },
        "id": "cBvqdaaJ3E9Z",
        "outputId": "d5e48fae-c0e7-4748-abf7-8a48065f27cf"
      },
      "execution_count": 37,
      "outputs": [
        {
          "output_type": "stream",
          "name": "stdout",
          "text": [
            "ProductoA\t5\n",
            "ProductoB\t3\n",
            "ProductoA\t2\n",
            "ProductoC\t1\n",
            "ProductoB\t4\n",
            "ProductoC\t2\n",
            "ProductoA\t3\n",
            "ProductoB\t2\n",
            "ProductoC\t3\n",
            "ProductoD\t1\n"
          ]
        }
      ]
    },
    {
      "cell_type": "markdown",
      "source": [
        "## Puntajes de Peliculas."
      ],
      "metadata": {
        "id": "r4UvV3e64mVJ"
      }
    },
    {
      "cell_type": "code",
      "source": [
        "%%writefile movie_data.txt\n",
        "UserID,MovieID,Rating,Timestamp\n",
        "1,101,4,964982703\n",
        "1,102,3,964982703\n",
        "1,103,5,964982703\n",
        "2,101,5,964982703\n",
        "2,103,2,964982703\n",
        "2,104,4,964982703\n",
        "3,102,4,964982703\n",
        "3,104,3,964982703\n",
        "3,105,2,964982703\n",
        "4,101,3,964982703\n",
        "4,105,5,964982703\n",
        "4,106,4,964982703\n",
        "5,102,4,964982703\n",
        "5,106,5,964982703\n",
        "5,107,2,964982703\n",
        "6,101,4,964982703\n",
        "6,103,3,964982703\n",
        "6,108,5,964982703\n",
        "7,102,5,964982703\n",
        "7,108,4,964982703\n",
        "7,109,3,964982703\n",
        "8,101,2,964982703\n",
        "8,103,4,964982703\n",
        "8,110,5,964982703\n",
        "9,102,4,964982703\n",
        "9,110,3,964982703\n",
        "9,111,2,964982703\n",
        "10,101,5,964982703\n",
        "10,111,3,964982703\n",
        "10,112,4,964982703\n",
        "11,103,5,964982703\n",
        "11,112,4,964982703\n",
        "11,113,3,964982703\n",
        "12,101,2,964982703\n",
        "12,113,5,964982703\n",
        "12,114,4,964982703\n",
        "13,102,3,964982703\n",
        "13,114,5,964982703\n",
        "13,115,4,964982703\n",
        "14,101,4,964982703\n",
        "14,103,5,964982703\n",
        "14,115,3,964982703\n",
        "15,102,2,964982703\n",
        "15,116,4,964982703\n",
        "15,117,5,964982703\n",
        "16,101,3,964982703\n",
        "16,116,4,964982703\n",
        "16,118,5,964982703\n",
        "17,102,4,964982703\n",
        "17,118,3,964982703\n",
        "17,119,2,964982703\n",
        "18,101,5,964982703\n",
        "18,103,4,964982703\n",
        "18,119,3,964982703\n",
        "19,102,3,964982703\n",
        "19,119,4,964982703\n",
        "19,120,5,964982703\n",
        "20,101,2,964982703\n",
        "20,103,5,964982703\n",
        "20,120,4,964982703\n",
        "21,102,4,964982703\n",
        "21,120,5,964982703\n",
        "21,121,3,964982703\n",
        "22,101,3,964982703\n",
        "22,121,5,964982703\n",
        "22,122,4,964982703\n",
        "23,102,5,964982703\n",
        "23,122,3,964982703\n",
        "23,123,2,964982703\n",
        "24,101,4,964982703\n",
        "24,123,5,964982703\n",
        "24,124,3,964982703\n",
        "25,102,2,964982703\n",
        "25,124,4,964982703\n",
        "25,125,5,964982703"
      ],
      "metadata": {
        "colab": {
          "base_uri": "https://localhost:8080/"
        },
        "id": "UReQSiv84zor",
        "outputId": "01ed30dd-f068-4b99-d5d6-482e76d7b7f2"
      },
      "execution_count": 40,
      "outputs": [
        {
          "output_type": "stream",
          "name": "stdout",
          "text": [
            "Writing movie_data.txt\n"
          ]
        }
      ]
    },
    {
      "cell_type": "code",
      "source": [
        "%%writefile mapper3.py\n",
        "\n",
        "#!/usr/bin/env python\n",
        "import sys\n",
        "\n",
        "# Lee líneas de entrada desde la entrada estándar\n",
        "for line in sys.stdin:\n",
        "    # Divide la línea en campos\n",
        "    fields = line.strip().split(\",\")\n",
        "    if len(fields) == 4:\n",
        "        user, movie, rating, timestamp = fields\n",
        "        # Emite el MovieID como clave y la calificación como valor\n",
        "        print(f\"{movie}\\t{rating}\")\n"
      ],
      "metadata": {
        "colab": {
          "base_uri": "https://localhost:8080/"
        },
        "id": "eftaIFrI4s1e",
        "outputId": "66c1cd41-6a24-4cd8-db3c-e39914bc2603"
      },
      "execution_count": 38,
      "outputs": [
        {
          "output_type": "stream",
          "name": "stdout",
          "text": [
            "Writing mapper3.py\n"
          ]
        }
      ]
    },
    {
      "cell_type": "code",
      "source": [
        "%%writefile reducer3.py\n",
        "#!/usr/bin/env python\n",
        "import sys\n",
        "\n",
        "current_movie = None\n",
        "total_rating = 0\n",
        "total_reviews = 0\n",
        "\n",
        "# Lee líneas de entrada desde la entrada estándar\n",
        "for line in sys.stdin:\n",
        "    movie, rating = line.strip().split(\"\\t\")\n",
        "    rating = int(rating)\n",
        "\n",
        "    if movie == current_movie:\n",
        "        total_rating += rating\n",
        "        total_reviews += 1\n",
        "    else:\n",
        "        if current_movie:\n",
        "            average_rating = total_rating / total_reviews\n",
        "            print(f\"{current_movie}\\t{average_rating:.2f}\")\n",
        "        current_movie = movie\n",
        "        total_rating = rating\n",
        "        total_reviews = 1\n",
        "\n",
        "if current_movie:\n",
        "    average_rating = total_rating / total_reviews\n",
        "    print(f\"{current_movie}\\t{average_rating:.2f}\")\n"
      ],
      "metadata": {
        "colab": {
          "base_uri": "https://localhost:8080/"
        },
        "id": "4ahYwUip447c",
        "outputId": "021b8524-0a00-4ac8-8680-1c532214d805"
      },
      "execution_count": 39,
      "outputs": [
        {
          "output_type": "stream",
          "name": "stdout",
          "text": [
            "Writing reducer3.py\n"
          ]
        }
      ]
    },
    {
      "cell_type": "code",
      "source": [
        "!cat movie_data.txt  | python mapper3.py |python reducer2.py"
      ],
      "metadata": {
        "colab": {
          "base_uri": "https://localhost:8080/"
        },
        "id": "0u82-pXD5Q8a",
        "outputId": "31b1411d-8bd3-4f59-cdcf-cfd5d04acc40"
      },
      "execution_count": 43,
      "outputs": [
        {
          "output_type": "stream",
          "name": "stdout",
          "text": [
            "101\t46\n",
            "102\t43\n",
            "103\t33\n",
            "104\t7\n",
            "105\t7\n",
            "106\t9\n",
            "107\t2\n",
            "108\t9\n",
            "109\t3\n",
            "110\t8\n",
            "111\t5\n",
            "112\t8\n",
            "113\t8\n",
            "114\t9\n",
            "115\t7\n",
            "116\t8\n",
            "117\t5\n",
            "118\t8\n",
            "119\t9\n",
            "120\t14\n",
            "121\t8\n",
            "122\t7\n",
            "123\t7\n",
            "124\t7\n",
            "125\t5\n"
          ]
        }
      ]
    },
    {
      "cell_type": "markdown",
      "source": [
        "## Multiplicacion de matrices con Hadoop"
      ],
      "metadata": {
        "id": "rv-6M3tc9khg"
      }
    },
    {
      "cell_type": "code",
      "source": [
        "!seq 1 100 | awk '{i++;print \"A,\"i\",\"int(rand()*20); if(i==10){i=0}}' > matrix_in.txt\n",
        "!seq 1 100 | awk '{i++;print \"B,\"i\",\"int(rand()*20); if(i==10){i=0}}' >> matrix_in.txt\n",
        "! head matrix_in.txt\n",
        "! tail matrix_in.txt"
      ],
      "metadata": {
        "colab": {
          "base_uri": "https://localhost:8080/"
        },
        "id": "u0cxCksN9zYl",
        "outputId": "f6379414-82e5-45d7-c641-438e858c773f"
      },
      "execution_count": 58,
      "outputs": [
        {
          "output_type": "stream",
          "name": "stdout",
          "text": [
            "A,1,6\n",
            "A,2,12\n",
            "A,3,17\n",
            "A,4,1\n",
            "A,5,8\n",
            "A,6,10\n",
            "A,7,10\n",
            "A,8,0\n",
            "A,9,12\n",
            "A,10,5\n",
            "B,1,2\n",
            "B,2,8\n",
            "B,3,4\n",
            "B,4,2\n",
            "B,5,15\n",
            "B,6,9\n",
            "B,7,5\n",
            "B,8,7\n",
            "B,9,12\n",
            "B,10,3\n"
          ]
        }
      ]
    }
  ]
}