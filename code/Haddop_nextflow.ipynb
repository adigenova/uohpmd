{
  "nbformat": 4,
  "nbformat_minor": 0,
  "metadata": {
    "colab": {
      "provenance": [],
      "authorship_tag": "ABX9TyN1I/1Q7x7xXUrQm0r+GtNU",
      "include_colab_link": true
    },
    "kernelspec": {
      "name": "python3",
      "display_name": "Python 3"
    },
    "language_info": {
      "name": "python"
    }
  },
  "cells": [
    {
      "cell_type": "markdown",
      "metadata": {
        "id": "view-in-github",
        "colab_type": "text"
      },
      "source": [
        "<a href=\"https://colab.research.google.com/github/adigenova/uohpmd/blob/main/code/Haddop_nextflow.ipynb\" target=\"_parent\"><img src=\"https://colab.research.google.com/assets/colab-badge.svg\" alt=\"Open In Colab\"/></a>"
      ]
    },
    {
      "cell_type": "markdown",
      "source": [
        "# Hadoop"
      ],
      "metadata": {
        "id": "AAGthCib0wAA"
      }
    },
    {
      "cell_type": "markdown",
      "source": [
        "## Calcular el promedio"
      ],
      "metadata": {
        "id": "a413hri_2QO0"
      }
    },
    {
      "cell_type": "code",
      "execution_count": 1,
      "metadata": {
        "colab": {
          "base_uri": "https://localhost:8080/"
        },
        "id": "IBLxe96H0uj6",
        "outputId": "e4947048-6cec-4c90-dfc0-2d2a7a520b37"
      },
      "outputs": [
        {
          "output_type": "stream",
          "name": "stdout",
          "text": [
            "Writing mapper1.py\n"
          ]
        }
      ],
      "source": [
        "%%writefile mapper1.py\n",
        "#!/usr/bin/env python\n",
        "import sys\n",
        "\n",
        "# Lee líneas de entrada desde la entrada estándar\n",
        "for line in sys.stdin:\n",
        "    number = float(line.strip())\n",
        "    # Emite el número como clave y valor\n",
        "    print(\"Total\", number)\n",
        "    print(\"Count\", 1)"
      ]
    },
    {
      "cell_type": "code",
      "source": [
        "!chmod 777 /content/mapper1.py /content/reducer1.py"
      ],
      "metadata": {
        "id": "pmaRS4vM1oFB",
        "outputId": "6cef0f46-d03e-4b38-c7b9-0a01c10da4c6",
        "colab": {
          "base_uri": "https://localhost:8080/"
        }
      },
      "execution_count": 2,
      "outputs": [
        {
          "output_type": "stream",
          "name": "stdout",
          "text": [
            "chmod: cannot access '/content/reducer1.py': No such file or directory\n"
          ]
        }
      ]
    },
    {
      "cell_type": "code",
      "source": [
        "%%writefile reducer1.py\n",
        "#!/usr/bin/env python\n",
        "import sys\n",
        "\n",
        "current_key = None\n",
        "total = 0\n",
        "count = 0\n",
        "\n",
        "# Lee líneas de entrada desde la entrada estándar\n",
        "for line in sys.stdin:\n",
        "    key, value = line.strip().split(\" \")\n",
        "    value = float(value)\n",
        "\n",
        "    if key == \"Total\":\n",
        "        total += value\n",
        "    elif key == \"Count\":\n",
        "        count += int(value)\n",
        "\n",
        "# Calcula el promedio\n",
        "average = total / count\n",
        "print(\"Average\", average)\n"
      ],
      "metadata": {
        "colab": {
          "base_uri": "https://localhost:8080/"
        },
        "id": "IotudhkJ05UJ",
        "outputId": "c004977c-9c12-4a60-b216-50269bc89293"
      },
      "execution_count": 3,
      "outputs": [
        {
          "output_type": "stream",
          "name": "stdout",
          "text": [
            "Writing reducer1.py\n"
          ]
        }
      ]
    },
    {
      "cell_type": "code",
      "source": [
        "!seq 1 100 | python mapper1.py"
      ],
      "metadata": {
        "colab": {
          "base_uri": "https://localhost:8080/"
        },
        "id": "rDNdZu3k0_lr",
        "outputId": "092a6757-9d13-4417-c0a6-7c7be8dc3e59"
      },
      "execution_count": 5,
      "outputs": [
        {
          "output_type": "stream",
          "name": "stdout",
          "text": [
            "Total 1.0\n",
            "Count 1\n",
            "Total 2.0\n",
            "Count 1\n",
            "Total 3.0\n",
            "Count 1\n",
            "Total 4.0\n",
            "Count 1\n",
            "Total 5.0\n",
            "Count 1\n",
            "Total 6.0\n",
            "Count 1\n",
            "Total 7.0\n",
            "Count 1\n",
            "Total 8.0\n",
            "Count 1\n",
            "Total 9.0\n",
            "Count 1\n",
            "Total 10.0\n",
            "Count 1\n",
            "Total 11.0\n",
            "Count 1\n",
            "Total 12.0\n",
            "Count 1\n",
            "Total 13.0\n",
            "Count 1\n",
            "Total 14.0\n",
            "Count 1\n",
            "Total 15.0\n",
            "Count 1\n",
            "Total 16.0\n",
            "Count 1\n",
            "Total 17.0\n",
            "Count 1\n",
            "Total 18.0\n",
            "Count 1\n",
            "Total 19.0\n",
            "Count 1\n",
            "Total 20.0\n",
            "Count 1\n",
            "Total 21.0\n",
            "Count 1\n",
            "Total 22.0\n",
            "Count 1\n",
            "Total 23.0\n",
            "Count 1\n",
            "Total 24.0\n",
            "Count 1\n",
            "Total 25.0\n",
            "Count 1\n",
            "Total 26.0\n",
            "Count 1\n",
            "Total 27.0\n",
            "Count 1\n",
            "Total 28.0\n",
            "Count 1\n",
            "Total 29.0\n",
            "Count 1\n",
            "Total 30.0\n",
            "Count 1\n",
            "Total 31.0\n",
            "Count 1\n",
            "Total 32.0\n",
            "Count 1\n",
            "Total 33.0\n",
            "Count 1\n",
            "Total 34.0\n",
            "Count 1\n",
            "Total 35.0\n",
            "Count 1\n",
            "Total 36.0\n",
            "Count 1\n",
            "Total 37.0\n",
            "Count 1\n",
            "Total 38.0\n",
            "Count 1\n",
            "Total 39.0\n",
            "Count 1\n",
            "Total 40.0\n",
            "Count 1\n",
            "Total 41.0\n",
            "Count 1\n",
            "Total 42.0\n",
            "Count 1\n",
            "Total 43.0\n",
            "Count 1\n",
            "Total 44.0\n",
            "Count 1\n",
            "Total 45.0\n",
            "Count 1\n",
            "Total 46.0\n",
            "Count 1\n",
            "Total 47.0\n",
            "Count 1\n",
            "Total 48.0\n",
            "Count 1\n",
            "Total 49.0\n",
            "Count 1\n",
            "Total 50.0\n",
            "Count 1\n",
            "Total 51.0\n",
            "Count 1\n",
            "Total 52.0\n",
            "Count 1\n",
            "Total 53.0\n",
            "Count 1\n",
            "Total 54.0\n",
            "Count 1\n",
            "Total 55.0\n",
            "Count 1\n",
            "Total 56.0\n",
            "Count 1\n",
            "Total 57.0\n",
            "Count 1\n",
            "Total 58.0\n",
            "Count 1\n",
            "Total 59.0\n",
            "Count 1\n",
            "Total 60.0\n",
            "Count 1\n",
            "Total 61.0\n",
            "Count 1\n",
            "Total 62.0\n",
            "Count 1\n",
            "Total 63.0\n",
            "Count 1\n",
            "Total 64.0\n",
            "Count 1\n",
            "Total 65.0\n",
            "Count 1\n",
            "Total 66.0\n",
            "Count 1\n",
            "Total 67.0\n",
            "Count 1\n",
            "Total 68.0\n",
            "Count 1\n",
            "Total 69.0\n",
            "Count 1\n",
            "Total 70.0\n",
            "Count 1\n",
            "Total 71.0\n",
            "Count 1\n",
            "Total 72.0\n",
            "Count 1\n",
            "Total 73.0\n",
            "Count 1\n",
            "Total 74.0\n",
            "Count 1\n",
            "Total 75.0\n",
            "Count 1\n",
            "Total 76.0\n",
            "Count 1\n",
            "Total 77.0\n",
            "Count 1\n",
            "Total 78.0\n",
            "Count 1\n",
            "Total 79.0\n",
            "Count 1\n",
            "Total 80.0\n",
            "Count 1\n",
            "Total 81.0\n",
            "Count 1\n",
            "Total 82.0\n",
            "Count 1\n",
            "Total 83.0\n",
            "Count 1\n",
            "Total 84.0\n",
            "Count 1\n",
            "Total 85.0\n",
            "Count 1\n",
            "Total 86.0\n",
            "Count 1\n",
            "Total 87.0\n",
            "Count 1\n",
            "Total 88.0\n",
            "Count 1\n",
            "Total 89.0\n",
            "Count 1\n",
            "Total 90.0\n",
            "Count 1\n",
            "Total 91.0\n",
            "Count 1\n",
            "Total 92.0\n",
            "Count 1\n",
            "Total 93.0\n",
            "Count 1\n",
            "Total 94.0\n",
            "Count 1\n",
            "Total 95.0\n",
            "Count 1\n",
            "Total 96.0\n",
            "Count 1\n",
            "Total 97.0\n",
            "Count 1\n",
            "Total 98.0\n",
            "Count 1\n",
            "Total 99.0\n",
            "Count 1\n",
            "Total 100.0\n",
            "Count 1\n"
          ]
        }
      ]
    },
    {
      "cell_type": "code",
      "source": [
        "!seq 1  10000 | python mapper1.py | python reducer1.py"
      ],
      "metadata": {
        "colab": {
          "base_uri": "https://localhost:8080/"
        },
        "id": "9gt6B_6x1yN1",
        "outputId": "73a232b1-0966-4282-fbde-fbbbcb1884a2"
      },
      "execution_count": 8,
      "outputs": [
        {
          "output_type": "stream",
          "name": "stdout",
          "text": [
            "Average 5000.5\n"
          ]
        }
      ]
    },
    {
      "cell_type": "markdown",
      "source": [
        "## ventas por producto"
      ],
      "metadata": {
        "id": "c4NAeoec4KDv"
      }
    },
    {
      "cell_type": "code",
      "source": [
        "%%writefile data.txt\n",
        "Fecha,Producto,Cantidad,PrecioUnitario\n",
        "2023-10-23,ProductoA,5,10.0\n",
        "2023-10-23,ProductoB,3,15.0\n",
        "2023-10-24,ProductoA,2,10.0\n",
        "2023-10-24,ProductoC,1,20.0\n",
        "2023-10-25,ProductoB,4,15.0\n",
        "2023-10-25,ProductoC,2,20.0\n",
        "2023-10-26,ProductoA,3,10.0\n",
        "2023-10-26,ProductoB,2,15.0\n",
        "2023-10-27,ProductoC,3,20.0\n",
        "2023-10-27,ProductoD,1,25.0\n"
      ],
      "metadata": {
        "colab": {
          "base_uri": "https://localhost:8080/"
        },
        "id": "fH-Nnc_o2iq2",
        "outputId": "6f809308-67c5-4b68-ea57-88fec508be35"
      },
      "execution_count": 9,
      "outputs": [
        {
          "output_type": "stream",
          "name": "stdout",
          "text": [
            "Writing data.txt\n"
          ]
        }
      ]
    },
    {
      "cell_type": "code",
      "source": [
        "%%writefile mapper2.py\n",
        "\n",
        "#!/usr/bin/env python\n",
        "import sys\n",
        "\n",
        "# Lee líneas de entrada desde la entrada estándar\n",
        "for line in sys.stdin:\n",
        "    # Divide la línea en campos\n",
        "    fields = line.strip().split(\",\")\n",
        "    if len(fields) == 4:\n",
        "        date, product, quantity, price = fields\n",
        "        # Emite el producto como clave y la cantidad como valor\n",
        "        print(f\"{product}\\t{quantity}\")\n"
      ],
      "metadata": {
        "colab": {
          "base_uri": "https://localhost:8080/"
        },
        "id": "sXuT20u020nf",
        "outputId": "c0b52ff8-7c89-49bb-921d-a49c2c32af8f"
      },
      "execution_count": 10,
      "outputs": [
        {
          "output_type": "stream",
          "name": "stdout",
          "text": [
            "Writing mapper2.py\n"
          ]
        }
      ]
    },
    {
      "cell_type": "code",
      "source": [
        "%%writefile reducer2.py\n",
        "\n",
        "#!/usr/bin/env python\n",
        "import sys\n",
        "\n",
        "current_product = None\n",
        "total_quantity = 0\n",
        "\n",
        "# Lee líneas de entrada desde la entrada estándar\n",
        "for line in sys.stdin:\n",
        "    product, quantity = line.strip().split(\"\\t\")\n",
        "    quantity = int(quantity)\n",
        "\n",
        "    if product == current_product:\n",
        "        total_quantity += quantity\n",
        "    else:\n",
        "        if current_product:\n",
        "            print(f\"{current_product}\\t{total_quantity}\")\n",
        "        current_product = product\n",
        "        total_quantity = quantity\n",
        "\n",
        "if current_product:\n",
        "    print(f\"{current_product}\\t{total_quantity}\")\n"
      ],
      "metadata": {
        "colab": {
          "base_uri": "https://localhost:8080/"
        },
        "id": "OILDNIsv29P3",
        "outputId": "46dc962f-a6d9-4323-e39b-b96558bec108"
      },
      "execution_count": 11,
      "outputs": [
        {
          "output_type": "stream",
          "name": "stdout",
          "text": [
            "Writing reducer2.py\n"
          ]
        }
      ]
    },
    {
      "cell_type": "code",
      "source": [
        "!cat data.txt | grep -v \"Cantidad\" |python mapper2.py | sort -k1,1 |python reducer2.py"
      ],
      "metadata": {
        "colab": {
          "base_uri": "https://localhost:8080/"
        },
        "id": "cBvqdaaJ3E9Z",
        "outputId": "0aee9df9-c3b2-42e9-9e72-c58efec50992"
      },
      "execution_count": 19,
      "outputs": [
        {
          "output_type": "stream",
          "name": "stdout",
          "text": [
            "ProductoA\t10\n",
            "ProductoB\t9\n",
            "ProductoC\t6\n",
            "ProductoD\t1\n"
          ]
        }
      ]
    },
    {
      "cell_type": "markdown",
      "source": [
        "## Puntajes de Peliculas."
      ],
      "metadata": {
        "id": "r4UvV3e64mVJ"
      }
    },
    {
      "cell_type": "code",
      "source": [
        "%%writefile movie_data.txt\n",
        "UserID,MovieID,Rating,Timestamp\n",
        "1,101,4,964982703\n",
        "1,102,3,964982703\n",
        "1,103,5,964982703\n",
        "2,101,5,964982703\n",
        "2,103,2,964982703\n",
        "2,104,4,964982703\n",
        "3,102,4,964982703\n",
        "3,104,3,964982703\n",
        "3,105,2,964982703\n",
        "4,101,3,964982703\n",
        "4,105,5,964982703\n",
        "4,106,4,964982703\n",
        "5,102,4,964982703\n",
        "5,106,5,964982703\n",
        "5,107,2,964982703\n",
        "6,101,4,964982703\n",
        "6,103,3,964982703\n",
        "6,108,5,964982703\n",
        "7,102,5,964982703\n",
        "7,108,4,964982703\n",
        "7,109,3,964982703\n",
        "8,101,2,964982703\n",
        "8,103,4,964982703\n",
        "8,110,5,964982703\n",
        "9,102,4,964982703\n",
        "9,110,3,964982703\n",
        "9,111,2,964982703\n",
        "10,101,5,964982703\n",
        "10,111,3,964982703\n",
        "10,112,4,964982703\n",
        "11,103,5,964982703\n",
        "11,112,4,964982703\n",
        "11,113,3,964982703\n",
        "12,101,2,964982703\n",
        "12,113,5,964982703\n",
        "12,114,4,964982703\n",
        "13,102,3,964982703\n",
        "13,114,5,964982703\n",
        "13,115,4,964982703\n",
        "14,101,4,964982703\n",
        "14,103,5,964982703\n",
        "14,115,3,964982703\n",
        "15,102,2,964982703\n",
        "15,116,4,964982703\n",
        "15,117,5,964982703\n",
        "16,101,3,964982703\n",
        "16,116,4,964982703\n",
        "16,118,5,964982703\n",
        "17,102,4,964982703\n",
        "17,118,3,964982703\n",
        "17,119,2,964982703\n",
        "18,101,5,964982703\n",
        "18,103,4,964982703\n",
        "18,119,3,964982703\n",
        "19,102,3,964982703\n",
        "19,119,4,964982703\n",
        "19,120,5,964982703\n",
        "20,101,2,964982703\n",
        "20,103,5,964982703\n",
        "20,120,4,964982703\n",
        "21,102,4,964982703\n",
        "21,120,5,964982703\n",
        "21,121,3,964982703\n",
        "22,101,3,964982703\n",
        "22,121,5,964982703\n",
        "22,122,4,964982703\n",
        "23,102,5,964982703\n",
        "23,122,3,964982703\n",
        "23,123,2,964982703\n",
        "24,101,4,964982703\n",
        "24,123,5,964982703\n",
        "24,124,3,964982703\n",
        "25,102,2,964982703\n",
        "25,124,4,964982703\n",
        "25,125,5,964982703"
      ],
      "metadata": {
        "colab": {
          "base_uri": "https://localhost:8080/"
        },
        "id": "UReQSiv84zor",
        "outputId": "6538dc25-b6fa-45e6-ec66-9121e8c3294f"
      },
      "execution_count": 20,
      "outputs": [
        {
          "output_type": "stream",
          "name": "stdout",
          "text": [
            "Writing movie_data.txt\n"
          ]
        }
      ]
    },
    {
      "cell_type": "code",
      "source": [
        "%%writefile mapper3.py\n",
        "\n",
        "#!/usr/bin/env python\n",
        "import sys\n",
        "\n",
        "# Lee líneas de entrada desde la entrada estándar\n",
        "for line in sys.stdin:\n",
        "    # Divide la línea en campos\n",
        "    fields = line.strip().split(\",\")\n",
        "    if len(fields) == 4:\n",
        "        user, movie, rating, timestamp = fields\n",
        "        # Emite el MovieID como clave y la calificación como valor\n",
        "        print(f\"{movie}\\t{rating}\")\n"
      ],
      "metadata": {
        "colab": {
          "base_uri": "https://localhost:8080/"
        },
        "id": "eftaIFrI4s1e",
        "outputId": "303c8136-bff6-445d-b1fe-83c042f559cb"
      },
      "execution_count": 21,
      "outputs": [
        {
          "output_type": "stream",
          "name": "stdout",
          "text": [
            "Writing mapper3.py\n"
          ]
        }
      ]
    },
    {
      "cell_type": "code",
      "source": [
        "%%writefile reducer3.py\n",
        "#!/usr/bin/env python\n",
        "import sys\n",
        "\n",
        "current_movie = None\n",
        "total_rating = 0\n",
        "total_reviews = 0\n",
        "\n",
        "# Lee líneas de entrada desde la entrada estándar\n",
        "for line in sys.stdin:\n",
        "    movie, rating = line.strip().split(\"\\t\")\n",
        "    rating = int(rating)\n",
        "\n",
        "    if movie == current_movie:\n",
        "        total_rating += rating\n",
        "        total_reviews += 1\n",
        "    else:\n",
        "        if current_movie:\n",
        "            average_rating = total_rating / total_reviews\n",
        "            print(f\"{current_movie}\\t{average_rating:.2f}\")\n",
        "        current_movie = movie\n",
        "        total_rating = rating\n",
        "        total_reviews = 1\n",
        "\n",
        "if current_movie:\n",
        "    average_rating = total_rating / total_reviews\n",
        "    print(f\"{current_movie}\\t{average_rating:.2f}\")\n"
      ],
      "metadata": {
        "colab": {
          "base_uri": "https://localhost:8080/"
        },
        "id": "4ahYwUip447c",
        "outputId": "c3d8ca9a-bc58-4289-fa00-91b08e96acdd"
      },
      "execution_count": 22,
      "outputs": [
        {
          "output_type": "stream",
          "name": "stdout",
          "text": [
            "Writing reducer3.py\n"
          ]
        }
      ]
    },
    {
      "cell_type": "code",
      "source": [
        "!cat movie_data.txt  | python mapper3.py |grep -v \"Movie\" | sort -k1,1 | python reducer3.py | sort -nr -k2,2"
      ],
      "metadata": {
        "colab": {
          "base_uri": "https://localhost:8080/"
        },
        "id": "0u82-pXD5Q8a",
        "outputId": "0defc770-ba6a-4685-d51b-88a2cdac6b23"
      },
      "execution_count": 30,
      "outputs": [
        {
          "output_type": "stream",
          "name": "stdout",
          "text": [
            "125\t5.00\n",
            "117\t5.00\n",
            "120\t4.67\n",
            "114\t4.50\n",
            "108\t4.50\n",
            "106\t4.50\n",
            "103\t4.12\n",
            "121\t4.00\n",
            "118\t4.00\n",
            "116\t4.00\n",
            "113\t4.00\n",
            "112\t4.00\n",
            "110\t4.00\n",
            "102\t3.58\n",
            "101\t3.54\n",
            "124\t3.50\n",
            "123\t3.50\n",
            "122\t3.50\n",
            "115\t3.50\n",
            "105\t3.50\n",
            "104\t3.50\n",
            "119\t3.00\n",
            "109\t3.00\n",
            "111\t2.50\n",
            "107\t2.00\n"
          ]
        }
      ]
    },
    {
      "cell_type": "markdown",
      "source": [
        "## Multiplicacion de matrices con Hadoop"
      ],
      "metadata": {
        "id": "rv-6M3tc9khg"
      }
    },
    {
      "cell_type": "code",
      "source": [
        "!seq 1 100 | awk '{i++;print \"A,\"i\",\"int(rand()*20); if(i==10){i=0}}' > matrix_in.txt\n",
        "!seq 1 100 | awk '{i++;print \"B,\"i\",\"int(rand()*20); if(i==10){i=0}}' >> matrix_in.txt\n",
        "! head matrix_in.txt\n",
        "! tail matrix_in.txt"
      ],
      "metadata": {
        "colab": {
          "base_uri": "https://localhost:8080/"
        },
        "id": "u0cxCksN9zYl",
        "outputId": "1571e1f5-19fe-4fce-9b2f-1dbda53db45a"
      },
      "execution_count": 31,
      "outputs": [
        {
          "output_type": "stream",
          "name": "stdout",
          "text": [
            "A,1,10\n",
            "A,2,14\n",
            "A,3,7\n",
            "A,4,13\n",
            "A,5,6\n",
            "A,6,0\n",
            "A,7,2\n",
            "A,8,7\n",
            "A,9,1\n",
            "A,10,4\n",
            "B,1,5\n",
            "B,2,7\n",
            "B,3,5\n",
            "B,4,14\n",
            "B,5,14\n",
            "B,6,12\n",
            "B,7,2\n",
            "B,8,17\n",
            "B,9,11\n",
            "B,10,11\n"
          ]
        }
      ]
    }
  ]
}