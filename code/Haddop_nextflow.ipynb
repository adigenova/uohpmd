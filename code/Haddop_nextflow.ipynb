{
  "nbformat": 4,
  "nbformat_minor": 0,
  "metadata": {
    "colab": {
      "provenance": [],
      "authorship_tag": "ABX9TyMnEelPpBODZmP9ct0lXWGh",
      "include_colab_link": true
    },
    "kernelspec": {
      "name": "python3",
      "display_name": "Python 3"
    },
    "language_info": {
      "name": "python"
    }
  },
  "cells": [
    {
      "cell_type": "markdown",
      "metadata": {
        "id": "view-in-github",
        "colab_type": "text"
      },
      "source": [
        "<a href=\"https://colab.research.google.com/github/adigenova/uohpmd/blob/main/code/Haddop_nextflow.ipynb\" target=\"_parent\"><img src=\"https://colab.research.google.com/assets/colab-badge.svg\" alt=\"Open In Colab\"/></a>"
      ]
    },
    {
      "cell_type": "markdown",
      "source": [
        "# Hadoop"
      ],
      "metadata": {
        "id": "AAGthCib0wAA"
      }
    },
    {
      "cell_type": "markdown",
      "source": [
        "## Calcular el promedio"
      ],
      "metadata": {
        "id": "a413hri_2QO0"
      }
    },
    {
      "cell_type": "code",
      "execution_count": null,
      "metadata": {
        "colab": {
          "base_uri": "https://localhost:8080/"
        },
        "id": "IBLxe96H0uj6",
        "outputId": "e4947048-6cec-4c90-dfc0-2d2a7a520b37"
      },
      "outputs": [
        {
          "output_type": "stream",
          "name": "stdout",
          "text": [
            "Writing mapper1.py\n"
          ]
        }
      ],
      "source": [
        "%%writefile mapper1.py\n",
        "#!/usr/bin/env python\n",
        "import sys\n",
        "\n",
        "# Lee líneas de entrada desde la entrada estándar\n",
        "for line in sys.stdin:\n",
        "    number = float(line.strip())\n",
        "    # Emite el número como clave y valor\n",
        "    print(\"Total\", number)\n",
        "    print(\"Count\", 1)"
      ]
    },
    {
      "cell_type": "code",
      "source": [
        "!chmod 777 /content/mapper1.py /content/reducer1.py"
      ],
      "metadata": {
        "id": "pmaRS4vM1oFB",
        "outputId": "6cef0f46-d03e-4b38-c7b9-0a01c10da4c6",
        "colab": {
          "base_uri": "https://localhost:8080/"
        }
      },
      "execution_count": null,
      "outputs": [
        {
          "output_type": "stream",
          "name": "stdout",
          "text": [
            "chmod: cannot access '/content/reducer1.py': No such file or directory\n"
          ]
        }
      ]
    },
    {
      "cell_type": "code",
      "source": [
        "%%writefile reducer1.py\n",
        "#!/usr/bin/env python\n",
        "import sys\n",
        "\n",
        "current_key = None\n",
        "total = 0\n",
        "count = 0\n",
        "\n",
        "# Lee líneas de entrada desde la entrada estándar\n",
        "for line in sys.stdin:\n",
        "    key, value = line.strip().split(\" \")\n",
        "    value = float(value)\n",
        "\n",
        "    if key == \"Total\":\n",
        "        total += value\n",
        "    elif key == \"Count\":\n",
        "        count += int(value)\n",
        "\n",
        "# Calcula el promedio\n",
        "average = total / count\n",
        "print(\"Average\", average)\n"
      ],
      "metadata": {
        "colab": {
          "base_uri": "https://localhost:8080/"
        },
        "id": "IotudhkJ05UJ",
        "outputId": "c004977c-9c12-4a60-b216-50269bc89293"
      },
      "execution_count": null,
      "outputs": [
        {
          "output_type": "stream",
          "name": "stdout",
          "text": [
            "Writing reducer1.py\n"
          ]
        }
      ]
    },
    {
      "cell_type": "code",
      "source": [
        "!seq 1 100 | python mapper1.py"
      ],
      "metadata": {
        "colab": {
          "base_uri": "https://localhost:8080/"
        },
        "id": "rDNdZu3k0_lr",
        "outputId": "092a6757-9d13-4417-c0a6-7c7be8dc3e59"
      },
      "execution_count": null,
      "outputs": [
        {
          "output_type": "stream",
          "name": "stdout",
          "text": [
            "Total 1.0\n",
            "Count 1\n",
            "Total 2.0\n",
            "Count 1\n",
            "Total 3.0\n",
            "Count 1\n",
            "Total 4.0\n",
            "Count 1\n",
            "Total 5.0\n",
            "Count 1\n",
            "Total 6.0\n",
            "Count 1\n",
            "Total 7.0\n",
            "Count 1\n",
            "Total 8.0\n",
            "Count 1\n",
            "Total 9.0\n",
            "Count 1\n",
            "Total 10.0\n",
            "Count 1\n",
            "Total 11.0\n",
            "Count 1\n",
            "Total 12.0\n",
            "Count 1\n",
            "Total 13.0\n",
            "Count 1\n",
            "Total 14.0\n",
            "Count 1\n",
            "Total 15.0\n",
            "Count 1\n",
            "Total 16.0\n",
            "Count 1\n",
            "Total 17.0\n",
            "Count 1\n",
            "Total 18.0\n",
            "Count 1\n",
            "Total 19.0\n",
            "Count 1\n",
            "Total 20.0\n",
            "Count 1\n",
            "Total 21.0\n",
            "Count 1\n",
            "Total 22.0\n",
            "Count 1\n",
            "Total 23.0\n",
            "Count 1\n",
            "Total 24.0\n",
            "Count 1\n",
            "Total 25.0\n",
            "Count 1\n",
            "Total 26.0\n",
            "Count 1\n",
            "Total 27.0\n",
            "Count 1\n",
            "Total 28.0\n",
            "Count 1\n",
            "Total 29.0\n",
            "Count 1\n",
            "Total 30.0\n",
            "Count 1\n",
            "Total 31.0\n",
            "Count 1\n",
            "Total 32.0\n",
            "Count 1\n",
            "Total 33.0\n",
            "Count 1\n",
            "Total 34.0\n",
            "Count 1\n",
            "Total 35.0\n",
            "Count 1\n",
            "Total 36.0\n",
            "Count 1\n",
            "Total 37.0\n",
            "Count 1\n",
            "Total 38.0\n",
            "Count 1\n",
            "Total 39.0\n",
            "Count 1\n",
            "Total 40.0\n",
            "Count 1\n",
            "Total 41.0\n",
            "Count 1\n",
            "Total 42.0\n",
            "Count 1\n",
            "Total 43.0\n",
            "Count 1\n",
            "Total 44.0\n",
            "Count 1\n",
            "Total 45.0\n",
            "Count 1\n",
            "Total 46.0\n",
            "Count 1\n",
            "Total 47.0\n",
            "Count 1\n",
            "Total 48.0\n",
            "Count 1\n",
            "Total 49.0\n",
            "Count 1\n",
            "Total 50.0\n",
            "Count 1\n",
            "Total 51.0\n",
            "Count 1\n",
            "Total 52.0\n",
            "Count 1\n",
            "Total 53.0\n",
            "Count 1\n",
            "Total 54.0\n",
            "Count 1\n",
            "Total 55.0\n",
            "Count 1\n",
            "Total 56.0\n",
            "Count 1\n",
            "Total 57.0\n",
            "Count 1\n",
            "Total 58.0\n",
            "Count 1\n",
            "Total 59.0\n",
            "Count 1\n",
            "Total 60.0\n",
            "Count 1\n",
            "Total 61.0\n",
            "Count 1\n",
            "Total 62.0\n",
            "Count 1\n",
            "Total 63.0\n",
            "Count 1\n",
            "Total 64.0\n",
            "Count 1\n",
            "Total 65.0\n",
            "Count 1\n",
            "Total 66.0\n",
            "Count 1\n",
            "Total 67.0\n",
            "Count 1\n",
            "Total 68.0\n",
            "Count 1\n",
            "Total 69.0\n",
            "Count 1\n",
            "Total 70.0\n",
            "Count 1\n",
            "Total 71.0\n",
            "Count 1\n",
            "Total 72.0\n",
            "Count 1\n",
            "Total 73.0\n",
            "Count 1\n",
            "Total 74.0\n",
            "Count 1\n",
            "Total 75.0\n",
            "Count 1\n",
            "Total 76.0\n",
            "Count 1\n",
            "Total 77.0\n",
            "Count 1\n",
            "Total 78.0\n",
            "Count 1\n",
            "Total 79.0\n",
            "Count 1\n",
            "Total 80.0\n",
            "Count 1\n",
            "Total 81.0\n",
            "Count 1\n",
            "Total 82.0\n",
            "Count 1\n",
            "Total 83.0\n",
            "Count 1\n",
            "Total 84.0\n",
            "Count 1\n",
            "Total 85.0\n",
            "Count 1\n",
            "Total 86.0\n",
            "Count 1\n",
            "Total 87.0\n",
            "Count 1\n",
            "Total 88.0\n",
            "Count 1\n",
            "Total 89.0\n",
            "Count 1\n",
            "Total 90.0\n",
            "Count 1\n",
            "Total 91.0\n",
            "Count 1\n",
            "Total 92.0\n",
            "Count 1\n",
            "Total 93.0\n",
            "Count 1\n",
            "Total 94.0\n",
            "Count 1\n",
            "Total 95.0\n",
            "Count 1\n",
            "Total 96.0\n",
            "Count 1\n",
            "Total 97.0\n",
            "Count 1\n",
            "Total 98.0\n",
            "Count 1\n",
            "Total 99.0\n",
            "Count 1\n",
            "Total 100.0\n",
            "Count 1\n"
          ]
        }
      ]
    },
    {
      "cell_type": "code",
      "source": [
        "!seq 1  10000 | python mapper1.py | python reducer1.py"
      ],
      "metadata": {
        "colab": {
          "base_uri": "https://localhost:8080/"
        },
        "id": "9gt6B_6x1yN1",
        "outputId": "73a232b1-0966-4282-fbde-fbbbcb1884a2"
      },
      "execution_count": null,
      "outputs": [
        {
          "output_type": "stream",
          "name": "stdout",
          "text": [
            "Average 5000.5\n"
          ]
        }
      ]
    },
    {
      "cell_type": "markdown",
      "source": [
        "## ventas por producto"
      ],
      "metadata": {
        "id": "c4NAeoec4KDv"
      }
    },
    {
      "cell_type": "code",
      "source": [
        "%%writefile data.txt\n",
        "Fecha,Producto,Cantidad,PrecioUnitario\n",
        "2023-10-23,ProductoA,5,10.0\n",
        "2023-10-23,ProductoB,3,15.0\n",
        "2023-10-24,ProductoA,2,10.0\n",
        "2023-10-24,ProductoC,1,20.0\n",
        "2023-10-25,ProductoB,4,15.0\n",
        "2023-10-25,ProductoC,2,20.0\n",
        "2023-10-26,ProductoA,3,10.0\n",
        "2023-10-26,ProductoB,2,15.0\n",
        "2023-10-27,ProductoC,3,20.0\n",
        "2023-10-27,ProductoD,1,25.0\n"
      ],
      "metadata": {
        "colab": {
          "base_uri": "https://localhost:8080/"
        },
        "id": "fH-Nnc_o2iq2",
        "outputId": "6f809308-67c5-4b68-ea57-88fec508be35"
      },
      "execution_count": null,
      "outputs": [
        {
          "output_type": "stream",
          "name": "stdout",
          "text": [
            "Writing data.txt\n"
          ]
        }
      ]
    },
    {
      "cell_type": "code",
      "source": [
        "%%writefile mapper2.py\n",
        "\n",
        "#!/usr/bin/env python\n",
        "import sys\n",
        "\n",
        "# Lee líneas de entrada desde la entrada estándar\n",
        "for line in sys.stdin:\n",
        "    # Divide la línea en campos\n",
        "    fields = line.strip().split(\",\")\n",
        "    if len(fields) == 4:\n",
        "        date, product, quantity, price = fields\n",
        "        # Emite el producto como clave y la cantidad como valor\n",
        "        print(f\"{product}\\t{quantity}\")\n"
      ],
      "metadata": {
        "colab": {
          "base_uri": "https://localhost:8080/"
        },
        "id": "sXuT20u020nf",
        "outputId": "c0b52ff8-7c89-49bb-921d-a49c2c32af8f"
      },
      "execution_count": null,
      "outputs": [
        {
          "output_type": "stream",
          "name": "stdout",
          "text": [
            "Writing mapper2.py\n"
          ]
        }
      ]
    },
    {
      "cell_type": "code",
      "source": [
        "%%writefile reducer2.py\n",
        "\n",
        "#!/usr/bin/env python\n",
        "import sys\n",
        "\n",
        "current_product = None\n",
        "total_quantity = 0\n",
        "\n",
        "# Lee líneas de entrada desde la entrada estándar\n",
        "for line in sys.stdin:\n",
        "    product, quantity = line.strip().split(\"\\t\")\n",
        "    quantity = int(quantity)\n",
        "\n",
        "    if product == current_product:\n",
        "        total_quantity += quantity\n",
        "    else:\n",
        "        if current_product:\n",
        "            print(f\"{current_product}\\t{total_quantity}\")\n",
        "        current_product = product\n",
        "        total_quantity = quantity\n",
        "\n",
        "if current_product:\n",
        "    print(f\"{current_product}\\t{total_quantity}\")\n"
      ],
      "metadata": {
        "colab": {
          "base_uri": "https://localhost:8080/"
        },
        "id": "OILDNIsv29P3",
        "outputId": "46dc962f-a6d9-4323-e39b-b96558bec108"
      },
      "execution_count": null,
      "outputs": [
        {
          "output_type": "stream",
          "name": "stdout",
          "text": [
            "Writing reducer2.py\n"
          ]
        }
      ]
    },
    {
      "cell_type": "code",
      "source": [
        "!cat data.txt | grep -v \"Cantidad\" |python mapper2.py | sort -k1,1 |python reducer2.py"
      ],
      "metadata": {
        "colab": {
          "base_uri": "https://localhost:8080/"
        },
        "id": "cBvqdaaJ3E9Z",
        "outputId": "0aee9df9-c3b2-42e9-9e72-c58efec50992"
      },
      "execution_count": null,
      "outputs": [
        {
          "output_type": "stream",
          "name": "stdout",
          "text": [
            "ProductoA\t10\n",
            "ProductoB\t9\n",
            "ProductoC\t6\n",
            "ProductoD\t1\n"
          ]
        }
      ]
    },
    {
      "cell_type": "markdown",
      "source": [
        "## Puntajes de Peliculas."
      ],
      "metadata": {
        "id": "r4UvV3e64mVJ"
      }
    },
    {
      "cell_type": "code",
      "source": [
        "%%writefile movie_data.txt\n",
        "UserID,MovieID,Rating,Timestamp\n",
        "1,101,4,964982703\n",
        "1,102,3,964982703\n",
        "1,103,5,964982703\n",
        "2,101,5,964982703\n",
        "2,103,2,964982703\n",
        "2,104,4,964982703\n",
        "3,102,4,964982703\n",
        "3,104,3,964982703\n",
        "3,105,2,964982703\n",
        "4,101,3,964982703\n",
        "4,105,5,964982703\n",
        "4,106,4,964982703\n",
        "5,102,4,964982703\n",
        "5,106,5,964982703\n",
        "5,107,2,964982703\n",
        "6,101,4,964982703\n",
        "6,103,3,964982703\n",
        "6,108,5,964982703\n",
        "7,102,5,964982703\n",
        "7,108,4,964982703\n",
        "7,109,3,964982703\n",
        "8,101,2,964982703\n",
        "8,103,4,964982703\n",
        "8,110,5,964982703\n",
        "9,102,4,964982703\n",
        "9,110,3,964982703\n",
        "9,111,2,964982703\n",
        "10,101,5,964982703\n",
        "10,111,3,964982703\n",
        "10,112,4,964982703\n",
        "11,103,5,964982703\n",
        "11,112,4,964982703\n",
        "11,113,3,964982703\n",
        "12,101,2,964982703\n",
        "12,113,5,964982703\n",
        "12,114,4,964982703\n",
        "13,102,3,964982703\n",
        "13,114,5,964982703\n",
        "13,115,4,964982703\n",
        "14,101,4,964982703\n",
        "14,103,5,964982703\n",
        "14,115,3,964982703\n",
        "15,102,2,964982703\n",
        "15,116,4,964982703\n",
        "15,117,5,964982703\n",
        "16,101,3,964982703\n",
        "16,116,4,964982703\n",
        "16,118,5,964982703\n",
        "17,102,4,964982703\n",
        "17,118,3,964982703\n",
        "17,119,2,964982703\n",
        "18,101,5,964982703\n",
        "18,103,4,964982703\n",
        "18,119,3,964982703\n",
        "19,102,3,964982703\n",
        "19,119,4,964982703\n",
        "19,120,5,964982703\n",
        "20,101,2,964982703\n",
        "20,103,5,964982703\n",
        "20,120,4,964982703\n",
        "21,102,4,964982703\n",
        "21,120,5,964982703\n",
        "21,121,3,964982703\n",
        "22,101,3,964982703\n",
        "22,121,5,964982703\n",
        "22,122,4,964982703\n",
        "23,102,5,964982703\n",
        "23,122,3,964982703\n",
        "23,123,2,964982703\n",
        "24,101,4,964982703\n",
        "24,123,5,964982703\n",
        "24,124,3,964982703\n",
        "25,102,2,964982703\n",
        "25,124,4,964982703\n",
        "25,125,5,964982703"
      ],
      "metadata": {
        "colab": {
          "base_uri": "https://localhost:8080/"
        },
        "id": "UReQSiv84zor",
        "outputId": "6538dc25-b6fa-45e6-ec66-9121e8c3294f"
      },
      "execution_count": null,
      "outputs": [
        {
          "output_type": "stream",
          "name": "stdout",
          "text": [
            "Writing movie_data.txt\n"
          ]
        }
      ]
    },
    {
      "cell_type": "code",
      "source": [
        "%%writefile mapper3.py\n",
        "\n",
        "#!/usr/bin/env python\n",
        "import sys\n",
        "\n",
        "# Lee líneas de entrada desde la entrada estándar\n",
        "for line in sys.stdin:\n",
        "    # Divide la línea en campos\n",
        "    fields = line.strip().split(\",\")\n",
        "    if len(fields) == 4:\n",
        "        user, movie, rating, timestamp = fields\n",
        "        # Emite el MovieID como clave y la calificación como valor\n",
        "        print(f\"{movie}\\t{rating}\")\n"
      ],
      "metadata": {
        "colab": {
          "base_uri": "https://localhost:8080/"
        },
        "id": "eftaIFrI4s1e",
        "outputId": "303c8136-bff6-445d-b1fe-83c042f559cb"
      },
      "execution_count": null,
      "outputs": [
        {
          "output_type": "stream",
          "name": "stdout",
          "text": [
            "Writing mapper3.py\n"
          ]
        }
      ]
    },
    {
      "cell_type": "code",
      "source": [
        "%%writefile reducer3.py\n",
        "#!/usr/bin/env python\n",
        "import sys\n",
        "\n",
        "current_movie = None\n",
        "total_rating = 0\n",
        "total_reviews = 0\n",
        "\n",
        "# Lee líneas de entrada desde la entrada estándar\n",
        "for line in sys.stdin:\n",
        "    movie, rating = line.strip().split(\"\\t\")\n",
        "    rating = int(rating)\n",
        "\n",
        "    if movie == current_movie:\n",
        "        total_rating += rating\n",
        "        total_reviews += 1\n",
        "    else:\n",
        "        if current_movie:\n",
        "            average_rating = total_rating / total_reviews\n",
        "            print(f\"{current_movie}\\t{average_rating:.2f}\")\n",
        "        current_movie = movie\n",
        "        total_rating = rating\n",
        "        total_reviews = 1\n",
        "\n",
        "if current_movie:\n",
        "    average_rating = total_rating / total_reviews\n",
        "    print(f\"{current_movie}\\t{average_rating:.2f}\")\n"
      ],
      "metadata": {
        "colab": {
          "base_uri": "https://localhost:8080/"
        },
        "id": "4ahYwUip447c",
        "outputId": "c3d8ca9a-bc58-4289-fa00-91b08e96acdd"
      },
      "execution_count": null,
      "outputs": [
        {
          "output_type": "stream",
          "name": "stdout",
          "text": [
            "Writing reducer3.py\n"
          ]
        }
      ]
    },
    {
      "cell_type": "code",
      "source": [
        "!cat movie_data.txt  | python mapper3.py |grep -v \"Movie\" | sort -k1,1 | python reducer3.py | sort -nr -k2,2"
      ],
      "metadata": {
        "colab": {
          "base_uri": "https://localhost:8080/"
        },
        "id": "0u82-pXD5Q8a",
        "outputId": "0defc770-ba6a-4685-d51b-88a2cdac6b23"
      },
      "execution_count": null,
      "outputs": [
        {
          "output_type": "stream",
          "name": "stdout",
          "text": [
            "125\t5.00\n",
            "117\t5.00\n",
            "120\t4.67\n",
            "114\t4.50\n",
            "108\t4.50\n",
            "106\t4.50\n",
            "103\t4.12\n",
            "121\t4.00\n",
            "118\t4.00\n",
            "116\t4.00\n",
            "113\t4.00\n",
            "112\t4.00\n",
            "110\t4.00\n",
            "102\t3.58\n",
            "101\t3.54\n",
            "124\t3.50\n",
            "123\t3.50\n",
            "122\t3.50\n",
            "115\t3.50\n",
            "105\t3.50\n",
            "104\t3.50\n",
            "119\t3.00\n",
            "109\t3.00\n",
            "111\t2.50\n",
            "107\t2.00\n"
          ]
        }
      ]
    },
    {
      "cell_type": "markdown",
      "source": [
        "## Multiplicacion de matrices con Hadoop"
      ],
      "metadata": {
        "id": "rv-6M3tc9khg"
      }
    },
    {
      "cell_type": "code",
      "source": [
        "!seq 1 100 | awk '{i++;print \"A,\"i\",\"int(rand()*20); if(i==10){i=0}}' > matrix_in.txt\n",
        "!seq 1 100 | awk '{i++;print \"B,\"i\",\"int(rand()*20); if(i==10){i=0}}' >> matrix_in.txt\n",
        "! head matrix_in.txt\n",
        "! tail matrix_in.txt"
      ],
      "metadata": {
        "colab": {
          "base_uri": "https://localhost:8080/"
        },
        "id": "u0cxCksN9zYl",
        "outputId": "1571e1f5-19fe-4fce-9b2f-1dbda53db45a"
      },
      "execution_count": null,
      "outputs": [
        {
          "output_type": "stream",
          "name": "stdout",
          "text": [
            "A,1,10\n",
            "A,2,14\n",
            "A,3,7\n",
            "A,4,13\n",
            "A,5,6\n",
            "A,6,0\n",
            "A,7,2\n",
            "A,8,7\n",
            "A,9,1\n",
            "A,10,4\n",
            "B,1,5\n",
            "B,2,7\n",
            "B,3,5\n",
            "B,4,14\n",
            "B,5,14\n",
            "B,6,12\n",
            "B,7,2\n",
            "B,8,17\n",
            "B,9,11\n",
            "B,10,11\n"
          ]
        }
      ]
    },
    {
      "cell_type": "markdown",
      "source": [
        "# Nextflow"
      ],
      "metadata": {
        "id": "_gH1SDdNKiJb"
      }
    },
    {
      "cell_type": "code",
      "source": [
        "!java -version"
      ],
      "metadata": {
        "id": "VMoYCkQuKkOQ",
        "outputId": "0eb2f4df-7f3e-4d0c-ee7b-6b49c573c9a1",
        "colab": {
          "base_uri": "https://localhost:8080/"
        }
      },
      "execution_count": 1,
      "outputs": [
        {
          "output_type": "stream",
          "name": "stdout",
          "text": [
            "openjdk version \"11.0.20.1\" 2023-08-24\n",
            "OpenJDK Runtime Environment (build 11.0.20.1+1-post-Ubuntu-0ubuntu122.04)\n",
            "OpenJDK 64-Bit Server VM (build 11.0.20.1+1-post-Ubuntu-0ubuntu122.04, mixed mode, sharing)\n"
          ]
        }
      ]
    },
    {
      "cell_type": "code",
      "source": [
        "!curl -s https://get.nextflow.io | bash"
      ],
      "metadata": {
        "id": "dy0VZs8tKple",
        "outputId": "b80cbd2c-938f-485c-beb2-b3e0dea1bb55",
        "colab": {
          "base_uri": "https://localhost:8080/"
        }
      },
      "execution_count": 2,
      "outputs": [
        {
          "output_type": "stream",
          "name": "stdout",
          "text": [
            "CAPSULE: Downloading dependency org.multiverse:multiverse-core:jar:0.7.0\n",
            "CAPSULE: Downloading dependency org.apache.ivy:ivy:jar:2.5.1\n",
            "CAPSULE: Downloading dependency org.codehaus.groovy:groovy:jar:3.0.19\n",
            "CAPSULE: Downloading dependency commons-io:commons-io:jar:2.11.0\n",
            "CAPSULE: Downloading dependency com.google.guava:listenablefuture:jar:9999.0-empty-to-avoid-conflict-with-guava\n",
            "CAPSULE: Downloading dependency io.nextflow:nf-httpfs:jar:23.10.0\n",
            "CAPSULE: Downloading dependency com.beust:jcommander:jar:1.35\n",
            "CAPSULE: Downloading dependency io.nextflow:nf-commons:jar:23.10.0\n",
            "CAPSULE: Downloading dependency jline:jline:jar:2.9\n",
            "CAPSULE: Downloading dependency org.codehaus.groovy:groovy-xml:jar:3.0.19\n",
            "CAPSULE: Downloading dependency org.slf4j:log4j-over-slf4j:jar:2.0.7\n",
            "CAPSULE: Downloading dependency com.github.zafarkhaja:java-semver:jar:0.9.0\n",
            "CAPSULE: Downloading dependency javax.mail:mail:jar:1.4.7\n",
            "CAPSULE: Downloading dependency com.fasterxml.jackson.core:jackson-annotations:jar:2.14.2\n",
            "CAPSULE: Downloading dependency org.eclipse.jgit:org.eclipse.jgit:jar:6.5.0.202303070854-r\n",
            "CAPSULE: Downloading dependency org.slf4j:slf4j-api:jar:2.0.7\n",
            "CAPSULE: Downloading dependency org.iq80.leveldb:leveldb-api:jar:0.12\n",
            "CAPSULE: Downloading dependency org.codehaus.gpars:gpars:jar:1.2.1\n",
            "CAPSULE: Downloading dependency com.esotericsoftware.kryo:kryo:jar:2.24.0\n",
            "CAPSULE: Downloading dependency org.yaml:snakeyaml:jar:2.0\n",
            "CAPSULE: Downloading dependency com.google.code.gson:gson:jar:2.10.1\n",
            "CAPSULE: Downloading dependency com.google.errorprone:error_prone_annotations:jar:2.11.0\n",
            "CAPSULE: Downloading dependency dev.failsafe:failsafe:jar:3.1.0\n",
            "CAPSULE: Downloading dependency javax.activation:activation:jar:1.1.1\n",
            "CAPSULE: Downloading dependency org.pf4j:pf4j:jar:3.4.1\n",
            "CAPSULE: Downloading dependency org.slf4j:jul-to-slf4j:jar:2.0.7\n",
            "CAPSULE: Downloading dependency com.fasterxml.jackson.core:jackson-core:jar:2.14.2\n",
            "CAPSULE: Downloading dependency com.google.guava:failureaccess:jar:1.0.1\n",
            "CAPSULE: Downloading dependency org.pf4j:pf4j-update:jar:2.3.0\n",
            "CAPSULE: Downloading dependency com.fasterxml.jackson.dataformat:jackson-dataformat-yaml:jar:2.14.2\n",
            "CAPSULE: Downloading dependency org.codehaus.groovy:groovy-json:jar:3.0.19\n",
            "CAPSULE: Downloading dependency org.codehaus.jsr166-mirror:jsr166y:jar:1.7.0\n",
            "CAPSULE: Downloading dependency commons-codec:commons-codec:jar:1.15\n",
            "CAPSULE: Downloading dependency ch.artecat.grengine:grengine:jar:3.0.0\n",
            "CAPSULE: Downloading dependency org.codehaus.groovy:groovy-templates:jar:3.0.19\n",
            "CAPSULE: Downloading dependency ch.qos.logback:logback-core:jar:1.4.6\n",
            "CAPSULE: Downloading dependency org.slf4j:jcl-over-slf4j:jar:2.0.7\n",
            "CAPSULE: Downloading dependency com.google.code.findbugs:jsr305:jar:3.0.2\n",
            "CAPSULE: Downloading dependency commons-lang:commons-lang:jar:2.6\n",
            "CAPSULE: Downloading dependency org.jsoup:jsoup:jar:1.15.4\n",
            "CAPSULE: Downloading dependency com.google.guava:guava:jar:31.1-jre\n",
            "CAPSULE: Downloading dependency org.objenesis:objenesis:jar:2.1\n",
            "CAPSULE: Downloading dependency org.codehaus.groovy:groovy-yaml:jar:3.0.19\n",
            "CAPSULE: Downloading dependency ch.qos.logback:logback-classic:jar:1.4.6\n",
            "CAPSULE: Downloading dependency com.google.j2objc:j2objc-annotations:jar:1.3\n",
            "CAPSULE: Downloading dependency org.iq80.leveldb:leveldb:jar:0.12\n",
            "CAPSULE: Downloading dependency org.codehaus.groovy:groovy-nio:jar:3.0.19\n",
            "CAPSULE: Downloading dependency io.nextflow:nextflow:jar:23.10.0\n",
            "CAPSULE: Downloading dependency com.googlecode.javaewah:JavaEWAH:jar:1.1.13\n",
            "CAPSULE: Downloading dependency com.fasterxml.jackson.core:jackson-databind:jar:2.14.2\n",
            "CAPSULE: Downloading dependency org.checkerframework:checker-qual:jar:3.12.0\n",
            "\n",
            "      N E X T F L O W\n",
            "      version 23.10.0 build 5889\n",
            "      created 15-10-2023 15:07 UTC \n",
            "      cite doi:10.1038/nbt.3820\n",
            "      http://nextflow.io\n",
            "\n",
            "\n",
            "Nextflow installation completed. Please note:\n",
            "- the executable file `nextflow` has been created in the folder: /content\n",
            "- you may complete the installation by moving it to a directory in your $PATH\n",
            "\n"
          ]
        }
      ]
    },
    {
      "cell_type": "code",
      "source": [
        "! /content/nextflow run hello"
      ],
      "metadata": {
        "id": "ODqyYypMKyMK",
        "outputId": "f843d4c4-2b64-479d-acd3-d83615b92ea4",
        "colab": {
          "base_uri": "https://localhost:8080/"
        }
      },
      "execution_count": 3,
      "outputs": [
        {
          "output_type": "stream",
          "name": "stdout",
          "text": [
            "N E X T F L O W  ~  version 23.10.0\n",
            "Pulling nextflow-io/hello ...\n",
            " downloaded from https://github.com/nextflow-io/hello.git\n",
            "Launching `https://github.com/nextflow-io/hello` [gigantic_noyce] DSL2 - revision: 1d71f857bb [master]\n",
            "[-        ] process > sayHello -\u001b[K\n",
            "\u001b[2A\n",
            "[-        ] process > sayHello [  0%] 0 of 3\u001b[K\n",
            "\u001b[2A\n",
            "executor >  local (4)\u001b[K\n",
            "[e3/1e1ca3] process > sayHello (3) [ 75%] 3 of 4\u001b[K\n",
            "Ciao world!\u001b[K\n",
            "\u001b[K\n",
            "Bonjour world!\u001b[K\n",
            "\u001b[K\n",
            "Hello world!\u001b[K\n",
            "\u001b[K\n",
            "\u001b[9A\n",
            "executor >  local (4)\u001b[K\n",
            "[38/b2c8fe] process > sayHello (4) [100%] 4 of 4 ✔\u001b[K\n",
            "Ciao world!\u001b[K\n",
            "\u001b[K\n",
            "Bonjour world!\u001b[K\n",
            "\u001b[K\n",
            "Hello world!\u001b[K\n",
            "\u001b[K\n",
            "Hola world!\u001b[K\n",
            "\u001b[K\n",
            "\n"
          ]
        }
      ]
    },
    {
      "cell_type": "code",
      "source": [
        "%%writefile sayhello.nf\n",
        "\n",
        "nextflow.enable.dsl=2\n",
        "process sayHello {\n",
        "    input:\n",
        "        val cheers\n",
        "\n",
        "    output:\n",
        "        stdout emit: verbiage\n",
        "\n",
        "    script:\n",
        "    \"\"\"\n",
        "    echo -n $cheers\n",
        "    \"\"\"\n",
        "}\n",
        "\n",
        "workflow {\n",
        "    things = channel.of('Hola Mundo!', 'Hello world!', 'Bazinga!1')\n",
        "    sayHello(things)\n",
        "    sayHello.out.verbiage.view()\n",
        "}"
      ],
      "metadata": {
        "id": "DTvHbD4HLF6N",
        "outputId": "a3ea29b4-7e21-4aab-c03f-404b1adb2342",
        "colab": {
          "base_uri": "https://localhost:8080/"
        }
      },
      "execution_count": 4,
      "outputs": [
        {
          "output_type": "stream",
          "name": "stdout",
          "text": [
            "Writing sayhello.nf\n"
          ]
        }
      ]
    },
    {
      "cell_type": "code",
      "source": [
        "! /content/nextflow run  sayhello.nf"
      ],
      "metadata": {
        "id": "YOc8X0uyLRBJ",
        "outputId": "1e153ebf-b9c8-4455-f5ca-32db96f0fdd0",
        "colab": {
          "base_uri": "https://localhost:8080/"
        }
      },
      "execution_count": 5,
      "outputs": [
        {
          "output_type": "stream",
          "name": "stdout",
          "text": [
            "N E X T F L O W  ~  version 23.10.0\n",
            "Launching `sayhello.nf` [condescending_bardeen] DSL2 - revision: 502b7e396e\n",
            "[-        ] process > sayHello -\u001b[K\n",
            "\u001b[2A\n",
            "executor >  local (2)\u001b[K\n",
            "[6c/dfbf43] process > sayHello (2) [  0%] 0 of 3\u001b[K\n",
            "\u001b[3A\n",
            "executor >  local (3)\u001b[K\n",
            "[52/00b24b] process > sayHello (3) [100%] 3 of 3 ✔\u001b[K\n",
            "Hola Mundo!\u001b[K\n",
            "Hello world!\u001b[K\n",
            "Bazinga!1\u001b[K\n",
            "\n"
          ]
        }
      ]
    },
    {
      "cell_type": "markdown",
      "source": [
        "## Singularity configuration"
      ],
      "metadata": {
        "id": "vGPuvWAkMk0o"
      }
    },
    {
      "cell_type": "code",
      "source": [
        "!add-apt-repository -y ppa:apptainer/ppa"
      ],
      "metadata": {
        "id": "8oymnG9SLaTJ",
        "outputId": "98fda9c7-1033-44a2-c4d3-e51a5e6b0ac9",
        "colab": {
          "base_uri": "https://localhost:8080/"
        }
      },
      "execution_count": 8,
      "outputs": [
        {
          "output_type": "stream",
          "name": "stdout",
          "text": [
            "Repository: 'deb https://ppa.launchpadcontent.net/apptainer/ppa/ubuntu/ jammy main'\n",
            "Description:\n",
            "This PPA contains stable releases of Apptainer.\n",
            "\n",
            "Documentation https://apptainer.org/docs/\n",
            "Support https://apptainer.org/help/\n",
            "Bug report https://github.com/apptainer/apptainer/issues\n",
            "More info: https://launchpad.net/~apptainer/+archive/ubuntu/ppa\n",
            "Adding repository.\n",
            "Adding deb entry to /etc/apt/sources.list.d/apptainer-ubuntu-ppa-jammy.list\n",
            "Adding disabled deb-src entry to /etc/apt/sources.list.d/apptainer-ubuntu-ppa-jammy.list\n",
            "Adding key to /etc/apt/trusted.gpg.d/apptainer-ubuntu-ppa.gpg with fingerprint F6B0F5193D4F3301EF491FF0AFE36534FC6218AE\n",
            "Get:1 https://cloud.r-project.org/bin/linux/ubuntu jammy-cran40/ InRelease [3,626 B]\n",
            "Get:2 https://developer.download.nvidia.com/compute/cuda/repos/ubuntu2204/x86_64  InRelease [1,581 B]\n",
            "Hit:3 http://archive.ubuntu.com/ubuntu jammy InRelease\n",
            "Get:4 https://developer.download.nvidia.com/compute/cuda/repos/ubuntu2204/x86_64  Packages [556 kB]\n",
            "Get:5 http://archive.ubuntu.com/ubuntu jammy-updates InRelease [119 kB]\n",
            "Get:6 http://security.ubuntu.com/ubuntu jammy-security InRelease [110 kB]\n",
            "Get:7 http://archive.ubuntu.com/ubuntu jammy-backports InRelease [109 kB]\n",
            "Get:8 http://archive.ubuntu.com/ubuntu jammy-updates/universe amd64 Packages [1,274 kB]\n",
            "Get:9 https://ppa.launchpadcontent.net/apptainer/ppa/ubuntu jammy InRelease [18.1 kB]\n",
            "Get:10 http://security.ubuntu.com/ubuntu jammy-security/universe amd64 Packages [1,009 kB]\n",
            "Get:11 http://archive.ubuntu.com/ubuntu jammy-updates/main amd64 Packages [1,398 kB]\n",
            "Get:12 http://security.ubuntu.com/ubuntu jammy-security/main amd64 Packages [1,131 kB]\n",
            "Hit:13 https://ppa.launchpadcontent.net/c2d4u.team/c2d4u4.0+/ubuntu jammy InRelease\n",
            "Get:14 https://ppa.launchpadcontent.net/deadsnakes/ppa/ubuntu jammy InRelease [18.1 kB]\n",
            "Get:15 https://ppa.launchpadcontent.net/graphics-drivers/ppa/ubuntu jammy InRelease [24.3 kB]\n",
            "Hit:16 https://ppa.launchpadcontent.net/ubuntugis/ppa/ubuntu jammy InRelease\n",
            "Get:17 https://ppa.launchpadcontent.net/apptainer/ppa/ubuntu jammy/main amd64 Packages [723 B]\n",
            "Get:18 https://ppa.launchpadcontent.net/deadsnakes/ppa/ubuntu jammy/main amd64 Packages [27.7 kB]\n",
            "Get:19 https://ppa.launchpadcontent.net/graphics-drivers/ppa/ubuntu jammy/main amd64 Packages [40.1 kB]\n",
            "Fetched 5,840 kB in 5s (1,082 kB/s)\n",
            "Reading package lists... Done\n"
          ]
        }
      ]
    },
    {
      "cell_type": "code",
      "source": [
        "!apt update"
      ],
      "metadata": {
        "id": "xCduuI78MFPz",
        "outputId": "0443b4e2-2f82-44ff-9b99-c590fd6f8f7e",
        "colab": {
          "base_uri": "https://localhost:8080/"
        }
      },
      "execution_count": 9,
      "outputs": [
        {
          "output_type": "stream",
          "name": "stdout",
          "text": [
            "\u001b[33m\r0% [Working]\u001b[0m\r            \rHit:1 https://developer.download.nvidia.com/compute/cuda/repos/ubuntu2204/x86_64  InRelease\n",
            "\u001b[33m\r0% [Connecting to archive.ubuntu.com] [Waiting for headers] [Connecting to ppa.launchpadcontent.net \u001b[0m\r                                                                                                    \rHit:2 https://cloud.r-project.org/bin/linux/ubuntu jammy-cran40/ InRelease\n",
            "Hit:3 http://security.ubuntu.com/ubuntu jammy-security InRelease\n",
            "Hit:4 http://archive.ubuntu.com/ubuntu jammy InRelease\n",
            "Hit:5 http://archive.ubuntu.com/ubuntu jammy-updates InRelease\n",
            "Hit:6 https://ppa.launchpadcontent.net/apptainer/ppa/ubuntu jammy InRelease\n",
            "Hit:7 http://archive.ubuntu.com/ubuntu jammy-backports InRelease\n",
            "Hit:8 https://ppa.launchpadcontent.net/c2d4u.team/c2d4u4.0+/ubuntu jammy InRelease\n",
            "Hit:9 https://ppa.launchpadcontent.net/deadsnakes/ppa/ubuntu jammy InRelease\n",
            "Hit:10 https://ppa.launchpadcontent.net/graphics-drivers/ppa/ubuntu jammy InRelease\n",
            "Hit:11 https://ppa.launchpadcontent.net/ubuntugis/ppa/ubuntu jammy InRelease\n",
            "Reading package lists... Done\n",
            "Building dependency tree... Done\n",
            "Reading state information... Done\n",
            "22 packages can be upgraded. Run 'apt list --upgradable' to see them.\n"
          ]
        }
      ]
    },
    {
      "cell_type": "code",
      "source": [
        "! apt install -y apptainer"
      ],
      "metadata": {
        "id": "skcDhNtfMP4R",
        "outputId": "1d2884eb-dbdb-48e9-d9b9-cf5f8a9f406a",
        "colab": {
          "base_uri": "https://localhost:8080/"
        }
      },
      "execution_count": 10,
      "outputs": [
        {
          "output_type": "stream",
          "name": "stdout",
          "text": [
            "Reading package lists... Done\n",
            "Building dependency tree... Done\n",
            "Reading state information... Done\n",
            "The following additional packages will be installed:\n",
            "  fakeroot fuse-overlayfs fuse2fs fuse3 libfakeroot libfuse3-3 liblzo2-2 libsquashfuse0\n",
            "  squashfs-tools squashfuse uidmap\n",
            "The following packages will be REMOVED:\n",
            "  fuse\n",
            "The following NEW packages will be installed:\n",
            "  apptainer fakeroot fuse-overlayfs fuse2fs fuse3 libfakeroot libfuse3-3 liblzo2-2 libsquashfuse0\n",
            "  squashfs-tools squashfuse uidmap\n",
            "0 upgraded, 12 newly installed, 1 to remove and 22 not upgraded.\n",
            "Need to get 27.3 MB of archives.\n",
            "After this operation, 118 MB of additional disk space will be used.\n",
            "Get:1 http://archive.ubuntu.com/ubuntu jammy/main amd64 libfuse3-3 amd64 3.10.5-1build1 [81.2 kB]\n",
            "Get:2 https://ppa.launchpadcontent.net/apptainer/ppa/ubuntu jammy/main amd64 apptainer amd64 1.2.4-1~ubuntu22.04.0+stable1 [26.8 MB]\n",
            "Get:3 http://archive.ubuntu.com/ubuntu jammy/main amd64 fuse3 amd64 3.10.5-1build1 [24.7 kB]\n",
            "Get:4 http://archive.ubuntu.com/ubuntu jammy-updates/universe amd64 uidmap amd64 1:4.8.1-2ubuntu2.1 [22.4 kB]\n",
            "Get:5 http://archive.ubuntu.com/ubuntu jammy/main amd64 liblzo2-2 amd64 2.10-2build3 [53.7 kB]\n",
            "Get:6 http://archive.ubuntu.com/ubuntu jammy/main amd64 squashfs-tools amd64 1:4.5-3build1 [159 kB]\n",
            "Get:7 http://archive.ubuntu.com/ubuntu jammy/universe amd64 libsquashfuse0 amd64 0.1.103-3 [24.6 kB]\n",
            "Get:8 http://archive.ubuntu.com/ubuntu jammy/universe amd64 squashfuse amd64 0.1.103-3 [7,516 B]\n",
            "Get:9 http://archive.ubuntu.com/ubuntu jammy-updates/universe amd64 fuse2fs amd64 1.46.5-2ubuntu1.1 [30.9 kB]\n",
            "Get:10 http://archive.ubuntu.com/ubuntu jammy/universe amd64 fuse-overlayfs amd64 1.7.1-1 [44.7 kB]\n",
            "Get:11 http://archive.ubuntu.com/ubuntu jammy/main amd64 libfakeroot amd64 1.28-1ubuntu1 [31.5 kB]\n",
            "Get:12 http://archive.ubuntu.com/ubuntu jammy/main amd64 fakeroot amd64 1.28-1ubuntu1 [60.4 kB]\n",
            "Fetched 27.3 MB in 3s (9,744 kB/s)\n",
            "(Reading database ... 122161 files and directories currently installed.)\n",
            "Removing fuse (2.9.9-5ubuntu3) ...\n",
            "Selecting previously unselected package libfuse3-3:amd64.\n",
            "(Reading database ... 122151 files and directories currently installed.)\n",
            "Preparing to unpack .../00-libfuse3-3_3.10.5-1build1_amd64.deb ...\n",
            "Unpacking libfuse3-3:amd64 (3.10.5-1build1) ...\n",
            "Selecting previously unselected package fuse3.\n",
            "Preparing to unpack .../01-fuse3_3.10.5-1build1_amd64.deb ...\n",
            "Unpacking fuse3 (3.10.5-1build1) ...\n",
            "Selecting previously unselected package uidmap.\n",
            "Preparing to unpack .../02-uidmap_1%3a4.8.1-2ubuntu2.1_amd64.deb ...\n",
            "Unpacking uidmap (1:4.8.1-2ubuntu2.1) ...\n",
            "Selecting previously unselected package liblzo2-2:amd64.\n",
            "Preparing to unpack .../03-liblzo2-2_2.10-2build3_amd64.deb ...\n",
            "Unpacking liblzo2-2:amd64 (2.10-2build3) ...\n",
            "Selecting previously unselected package squashfs-tools.\n",
            "Preparing to unpack .../04-squashfs-tools_1%3a4.5-3build1_amd64.deb ...\n",
            "Unpacking squashfs-tools (1:4.5-3build1) ...\n",
            "Selecting previously unselected package libsquashfuse0:amd64.\n",
            "Preparing to unpack .../05-libsquashfuse0_0.1.103-3_amd64.deb ...\n",
            "Unpacking libsquashfuse0:amd64 (0.1.103-3) ...\n",
            "Selecting previously unselected package squashfuse.\n",
            "Preparing to unpack .../06-squashfuse_0.1.103-3_amd64.deb ...\n",
            "Unpacking squashfuse (0.1.103-3) ...\n",
            "Selecting previously unselected package fuse2fs.\n",
            "Preparing to unpack .../07-fuse2fs_1.46.5-2ubuntu1.1_amd64.deb ...\n",
            "Unpacking fuse2fs (1.46.5-2ubuntu1.1) ...\n",
            "Selecting previously unselected package fuse-overlayfs.\n",
            "Preparing to unpack .../08-fuse-overlayfs_1.7.1-1_amd64.deb ...\n",
            "Unpacking fuse-overlayfs (1.7.1-1) ...\n",
            "Selecting previously unselected package libfakeroot:amd64.\n",
            "Preparing to unpack .../09-libfakeroot_1.28-1ubuntu1_amd64.deb ...\n",
            "Unpacking libfakeroot:amd64 (1.28-1ubuntu1) ...\n",
            "Selecting previously unselected package fakeroot.\n",
            "Preparing to unpack .../10-fakeroot_1.28-1ubuntu1_amd64.deb ...\n",
            "Unpacking fakeroot (1.28-1ubuntu1) ...\n",
            "Selecting previously unselected package apptainer.\n",
            "Preparing to unpack .../11-apptainer_1.2.4-1~ubuntu22.04.0+stable1_amd64.deb ...\n",
            "Unpacking apptainer (1.2.4-1~ubuntu22.04.0+stable1) ...\n",
            "Setting up uidmap (1:4.8.1-2ubuntu2.1) ...\n",
            "Setting up liblzo2-2:amd64 (2.10-2build3) ...\n",
            "Setting up libfakeroot:amd64 (1.28-1ubuntu1) ...\n",
            "Setting up fakeroot (1.28-1ubuntu1) ...\n",
            "update-alternatives: using /usr/bin/fakeroot-sysv to provide /usr/bin/fakeroot (fakeroot) in auto mode\n",
            "Setting up libfuse3-3:amd64 (3.10.5-1build1) ...\n",
            "Setting up fuse2fs (1.46.5-2ubuntu1.1) ...\n",
            "Setting up libsquashfuse0:amd64 (0.1.103-3) ...\n",
            "Setting up squashfs-tools (1:4.5-3build1) ...\n",
            "Setting up fuse3 (3.10.5-1build1) ...\n",
            "Installing new version of config file /etc/fuse.conf ...\n",
            "Setting up squashfuse (0.1.103-3) ...\n",
            "Setting up fuse-overlayfs (1.7.1-1) ...\n",
            "Setting up apptainer (1.2.4-1~ubuntu22.04.0+stable1) ...\n",
            "Processing triggers for man-db (2.10.2-1) ...\n",
            "Processing triggers for libc-bin (2.35-0ubuntu3.1) ...\n",
            "/sbin/ldconfig.real: /usr/local/lib/libtbbmalloc.so.2 is not a symbolic link\n",
            "\n",
            "/sbin/ldconfig.real: /usr/local/lib/libtbbbind_2_5.so.3 is not a symbolic link\n",
            "\n",
            "/sbin/ldconfig.real: /usr/local/lib/libtbbbind.so.3 is not a symbolic link\n",
            "\n",
            "/sbin/ldconfig.real: /usr/local/lib/libtbbbind_2_0.so.3 is not a symbolic link\n",
            "\n",
            "/sbin/ldconfig.real: /usr/local/lib/libtbbmalloc_proxy.so.2 is not a symbolic link\n",
            "\n",
            "/sbin/ldconfig.real: /usr/local/lib/libtbb.so.12 is not a symbolic link\n",
            "\n"
          ]
        }
      ]
    },
    {
      "cell_type": "code",
      "source": [
        "! apt install -y apptainer-suid"
      ],
      "metadata": {
        "id": "PMvngybFMZ-X",
        "outputId": "330a3bfb-fd06-4859-ca26-ebf145f49ad3",
        "colab": {
          "base_uri": "https://localhost:8080/"
        }
      },
      "execution_count": 11,
      "outputs": [
        {
          "output_type": "stream",
          "name": "stdout",
          "text": [
            "Reading package lists... Done\n",
            "Building dependency tree... Done\n",
            "Reading state information... Done\n",
            "The following NEW packages will be installed:\n",
            "  apptainer-suid\n",
            "0 upgraded, 1 newly installed, 0 to remove and 22 not upgraded.\n",
            "Need to get 5,600 kB of archives.\n",
            "After this operation, 17.5 MB of additional disk space will be used.\n",
            "Get:1 https://ppa.launchpadcontent.net/apptainer/ppa/ubuntu jammy/main amd64 apptainer-suid amd64 1.2.4-1~ubuntu22.04.0+stable1 [5,600 kB]\n",
            "Fetched 5,600 kB in 2s (2,848 kB/s)\n",
            "Selecting previously unselected package apptainer-suid.\n",
            "(Reading database ... 122584 files and directories currently installed.)\n",
            "Preparing to unpack .../apptainer-suid_1.2.4-1~ubuntu22.04.0+stable1_amd64.deb ...\n",
            "Unpacking apptainer-suid (1.2.4-1~ubuntu22.04.0+stable1) ...\n",
            "Setting up apptainer-suid (1.2.4-1~ubuntu22.04.0+stable1) ...\n"
          ]
        }
      ]
    },
    {
      "cell_type": "code",
      "source": [
        "! singularity"
      ],
      "metadata": {
        "id": "xDs0ranoMgKr",
        "outputId": "df97b944-f18e-4a8c-abf3-78f56a36d921",
        "colab": {
          "base_uri": "https://localhost:8080/"
        }
      },
      "execution_count": 12,
      "outputs": [
        {
          "output_type": "stream",
          "name": "stdout",
          "text": [
            "Usage:\n",
            "  apptainer [global options...] <command>\n",
            "\n",
            "Available Commands:\n",
            "  build       Build an Apptainer image\n",
            "  cache       Manage the local cache\n",
            "  capability  Manage Linux capabilities for users and groups\n",
            "  checkpoint  Manage container checkpoint state (experimental)\n",
            "  completion  Generate the autocompletion script for the specified shell\n",
            "  config      Manage various apptainer configuration (root user only)\n",
            "  delete      Deletes requested image from the library\n",
            "  exec        Run a command within a container\n",
            "  inspect     Show metadata for an image\n",
            "  instance    Manage containers running as services\n",
            "  key         Manage OpenPGP keys\n",
            "  oci         Manage OCI containers\n",
            "  overlay     Manage an EXT3 writable overlay image\n",
            "  plugin      Manage Apptainer plugins\n",
            "  pull        Pull an image from a URI\n",
            "  push        Upload image to the provided URI\n",
            "  remote      Manage apptainer remote endpoints, keyservers and OCI/Docker registry credentials\n",
            "  run         Run the user-defined default command within a container\n",
            "  run-help    Show the user-defined help for an image\n",
            "  search      Search a Container Library for images\n",
            "  shell       Run a shell within a container\n",
            "  sif         Manipulate Singularity Image Format (SIF) images\n",
            "  sign        Add digital signature(s) to an image\n",
            "  test        Run the user-defined tests within a container\n",
            "  verify      Verify digital signature(s) within an image\n",
            "  version     Show the version for Apptainer\n",
            "\n",
            "Run 'apptainer --help' for more detailed usage information.\n"
          ]
        }
      ]
    },
    {
      "cell_type": "markdown",
      "source": [
        "# Examples"
      ],
      "metadata": {
        "id": "inkr9s16MsOV"
      }
    },
    {
      "cell_type": "code",
      "source": [
        "! wget ftp://ftp.sra.ebi.ac.uk/vol1/fastq/SRR134/021/SRR13447321/SRR13447321_1.fastq.gz\n",
        "! wget ftp://ftp.sra.ebi.ac.uk/vol1/fastq/SRR134/021/SRR13447321/SRR13447321_2.fastq.gz"
      ],
      "metadata": {
        "id": "pKYIcv8lQUX6",
        "outputId": "93908d33-91b7-4457-91ae-1243a4bf415e",
        "colab": {
          "base_uri": "https://localhost:8080/"
        }
      },
      "execution_count": 24,
      "outputs": [
        {
          "output_type": "stream",
          "name": "stdout",
          "text": [
            "--2023-10-25 14:33:35--  ftp://ftp.sra.ebi.ac.uk/vol1/fastq/SRR134/021/SRR13447321/SRR13447321_1.fastq.gz\n",
            "           => ‘SRR13447321_1.fastq.gz’\n",
            "Resolving ftp.sra.ebi.ac.uk (ftp.sra.ebi.ac.uk)... 193.62.193.165\n",
            "Connecting to ftp.sra.ebi.ac.uk (ftp.sra.ebi.ac.uk)|193.62.193.165|:21... connected.\n",
            "Logging in as anonymous ... Logged in!\n",
            "==> SYST ... done.    ==> PWD ... done.\n",
            "==> TYPE I ... done.  ==> CWD (1) /vol1/fastq/SRR134/021/SRR13447321 ... done.\n",
            "==> SIZE SRR13447321_1.fastq.gz ... 693436099\n",
            "==> PASV ... done.    ==> RETR SRR13447321_1.fastq.gz ... done.\n",
            "Length: 693436099 (661M) (unauthoritative)\n",
            "\n",
            "SRR13447321_1.fastq 100%[===================>] 661.31M  24.6MB/s    in 26s     \n",
            "\n",
            "2023-10-25 14:34:04 (25.6 MB/s) - ‘SRR13447321_1.fastq.gz’ saved [693436099]\n",
            "\n",
            "--2023-10-25 14:34:04--  ftp://ftp.sra.ebi.ac.uk/vol1/fastq/SRR134/021/SRR13447321/SRR13447321_2.fastq.gz\n",
            "           => ‘SRR13447321_2.fastq.gz’\n",
            "Resolving ftp.sra.ebi.ac.uk (ftp.sra.ebi.ac.uk)... 193.62.193.165\n",
            "Connecting to ftp.sra.ebi.ac.uk (ftp.sra.ebi.ac.uk)|193.62.193.165|:21... connected.\n",
            "Logging in as anonymous ... Logged in!\n",
            "==> SYST ... done.    ==> PWD ... done.\n",
            "==> TYPE I ... done.  ==> CWD (1) /vol1/fastq/SRR134/021/SRR13447321 ... done.\n",
            "==> SIZE SRR13447321_2.fastq.gz ... 757365869\n",
            "==> PASV ... done.    ==> RETR SRR13447321_2.fastq.gz ... done.\n",
            "Length: 757365869 (722M) (unauthoritative)\n",
            "\n",
            "SRR13447321_2.fastq 100%[===================>] 722.28M  31.9MB/s    in 24s     \n",
            "\n",
            "2023-10-25 14:34:30 (29.8 MB/s) - ‘SRR13447321_2.fastq.gz’ saved [757365869]\n",
            "\n"
          ]
        }
      ]
    },
    {
      "cell_type": "code",
      "source": [
        "%%writefile ejemplo1.nf\n",
        "\n",
        "// Codigo nextflow\n",
        "nextflow.enable.dsl=2\n",
        "params.files=\"\"\n",
        "process NUM_LINEAS {\n",
        "    input:\n",
        "    path read\n",
        "\n",
        "    script:\n",
        "    \"\"\"\n",
        "    printf '${read} '\n",
        "    gunzip -c ${read} | wc -l\n",
        "    \"\"\"\n",
        "}\n",
        "\n",
        "reads_ch = Channel.fromPath(params.files)\n",
        "\n",
        "workflow {\n",
        "  NUM_LINEAS(reads_ch)\n",
        "}"
      ],
      "metadata": {
        "id": "I5RA8TXvOZ14",
        "outputId": "b880e966-841a-4fba-be76-6ddb5cc426d9",
        "colab": {
          "base_uri": "https://localhost:8080/"
        }
      },
      "execution_count": 29,
      "outputs": [
        {
          "output_type": "stream",
          "name": "stdout",
          "text": [
            "Overwriting ejemplo1.nf\n"
          ]
        }
      ]
    },
    {
      "cell_type": "code",
      "source": [
        "! /content/nextflow run  ejemplo1.nf --files \"*.fastq.gz\"  -process.echo"
      ],
      "metadata": {
        "id": "VI2Qkl6TPYMs",
        "outputId": "4fdcefb8-9906-49c0-d920-4ce3b3170e79",
        "colab": {
          "base_uri": "https://localhost:8080/"
        }
      },
      "execution_count": 30,
      "outputs": [
        {
          "output_type": "stream",
          "name": "stdout",
          "text": [
            "N E X T F L O W  ~  version 23.10.0\n",
            "Launching `ejemplo1.nf` [magical_keller] DSL2 - revision: ab4c064c38\n",
            "[-        ] process > NUM_LINEAS -\u001b[K\n",
            "\u001b[2A\n",
            "executor >  local (1)\u001b[K\n",
            "[-        ] process > NUM_LINEAS [  0%] 0 of 2\u001b[K\n",
            "\u001b[3A\n",
            "executor >  local (2)\u001b[K\n",
            "[10/833b31] process > NUM_LINEAS (2) [  0%] 0 of 2\u001b[K\n",
            "\u001b[3A\n",
            "executor >  local (2)\u001b[K\n",
            "[10/833b31] process > NUM_LINEAS (2) [ 50%] 1 of 2\u001b[K\n",
            "SRR13447321_1.fastq.gz 37769292\u001b[K\n",
            "\u001b[K\n",
            "\u001b[5A\n",
            "executor >  local (2)\u001b[K\n",
            "[33/21ed7e] process > NUM_LINEAS (1) [100%] 2 of 2 ✔\u001b[K\n",
            "SRR13447321_1.fastq.gz 37769292\u001b[K\n",
            "\u001b[K\n",
            "SRR13447321_2.fastq.gz 37769292\u001b[K\n",
            "\u001b[K\n",
            "\n"
          ]
        }
      ]
    },
    {
      "cell_type": "code",
      "source": [
        "%%writefile fastqc.nf\n",
        "\n",
        "process FASTQC {\n",
        "    tag \"$sampleId-mem\"\n",
        "    //label 'process_medium'\n",
        "    publishDir \"$params.outdir/QC/FASTQC\", mode: \"copy\"\n",
        "\n",
        "  container \"${ workflow.containerEngine == 'singularity' && !task.ext.singularity_pull_docker_container ?\n",
        "        'https://depot.galaxyproject.org/singularity/fastqc:0.12.1--hdfd78af_0' :\n",
        "        'biocontainers/fastqc:0.12.1--hdfd78af_0' }\"\n",
        "\n",
        "    input:\n",
        "    tuple val(sampleId), val(part), file(read1), file(read2)\n",
        "\n",
        "    output:\n",
        "    path(\"${sampleId}-${part}.fastqc\"), emit: fqc\n",
        "\n",
        "    script:\n",
        "    if(params.debug == true){\n",
        "    \"\"\"\n",
        "    echo fastqc -o ${sampleId}-${part}.fastqc $read1 $read2\n",
        "    mkdir -p ${sampleId}-${part}.fastqc\n",
        "    touch ${sampleId}-${part}.fastqc/report.fastqc\n",
        "\n",
        "    \"\"\"\n",
        "    } else{\n",
        "    \"\"\"\n",
        "    mkdir -p ${sampleId}-${part}.fastqc\n",
        "    fastqc -t $task.cpus -o ${sampleId}-${part}.fastqc $read1 $read2\n",
        "    \"\"\"\n",
        "    }\n",
        "\n",
        "}\n",
        "workflow {\n",
        "    if(params.reads != null){\n",
        "    // --reads \"./reads/B087*.merge.{1,2}.fq.gz\"\n",
        "    read_pairs_ch = channel.fromFilePairs(params.reads)\n",
        "    }else if(params.csv != null){\n",
        "    //we reads pairs from csv\n",
        "    read_pairs_ch=Channel.fromPath(params.csv) \\\n",
        "        | splitCsv(header:true) \\\n",
        "        | map { row-> tuple(row.sampleId, row.part,  file(row.read1), file(row.read2)) }\n",
        "    }else{\n",
        "        println \"Error: reads regex or path\"\n",
        "    }\n",
        "\n",
        "    read_pairs_ch.view()\n",
        "    FASTQC(read_pairs_ch)\n",
        "\n",
        "}\n"
      ],
      "metadata": {
        "id": "o97afQW1RUXV",
        "outputId": "5ae3f881-1cb5-49e2-8102-bbabc21878a9",
        "colab": {
          "base_uri": "https://localhost:8080/"
        }
      },
      "execution_count": 31,
      "outputs": [
        {
          "output_type": "stream",
          "name": "stdout",
          "text": [
            "Writing fastqc.nf\n"
          ]
        }
      ]
    },
    {
      "cell_type": "code",
      "source": [
        "%%writefile input.csv\n",
        "sampleId,part,read1,read2\n",
        "test,0,/content/SRR13447321_1.fastq.gz,/content/SRR13447321_2.fastq.gz"
      ],
      "metadata": {
        "id": "Ru5476uHU18W",
        "outputId": "46a3e3db-eb3e-47fa-8562-446c5fb7dc0d",
        "colab": {
          "base_uri": "https://localhost:8080/"
        }
      },
      "execution_count": 43,
      "outputs": [
        {
          "output_type": "stream",
          "name": "stdout",
          "text": [
            "Overwriting input.csv\n"
          ]
        }
      ]
    },
    {
      "cell_type": "code",
      "source": [
        "! /content/nextflow run  fastqc.nf --csv \"/content/input.csv\"  -process.echo --debug true"
      ],
      "metadata": {
        "id": "t2czhzpMSyvG",
        "outputId": "a3480645-afb2-4ba3-accb-7fcdd25b7f78",
        "colab": {
          "base_uri": "https://localhost:8080/"
        }
      },
      "execution_count": 45,
      "outputs": [
        {
          "output_type": "stream",
          "name": "stdout",
          "text": [
            "N E X T F L O W  ~  version 23.10.0\n",
            "Launching `fastqc.nf` [fabulous_swirles] DSL2 - revision: 2c67865c3e\n",
            "\u001b[33mWARN: Access to undefined parameter `reads` -- Initialise it to a default value eg. `params.reads = some_value`\u001b[39m\u001b[K\n",
            "[-        ] process > FASTQC -\u001b[K\n",
            "[test, 0, /content/SRR13447321_1.fastq.gz, /content/SRR13447321_2.fastq.gz]\u001b[K\n",
            "\u001b[3A\n",
            "executor >  local (1)\u001b[K\n",
            "[a1/ba98de] process > FASTQC (test-mem) [  0%] 0 of 1\u001b[K\n",
            "[test, 0, /content/SRR13447321_1.fastq.gz, /content/SRR13447321_2.fastq.gz]\u001b[K\n",
            "\u001b[4A\n",
            "executor >  local (1)\u001b[K\n",
            "[a1/ba98de] process > FASTQC (test-mem) [100%] 1 of 1 ✔\u001b[K\n",
            "[test, 0, /content/SRR13447321_1.fastq.gz, /content/SRR13447321_2.fastq.gz]\u001b[K\n",
            "fastqc -o test-0.fastqc SRR13447321_1.fastq.gz SRR13447321_2.fastq.gz\u001b[K\n",
            "\u001b[K\n",
            "\u001b[33mWARN: Access to undefined parameter `outdir` -- Initialise it to a default value eg. `params.outdir = some_value`\u001b[39m\u001b[K\n",
            "\u001b[33mWARN: Process `FASTQC` publishDir path contains a variable with a null value\u001b[39m\u001b[K\n",
            "\u001b[8A\n",
            "executor >  local (1)\u001b[K\n",
            "[a1/ba98de] process > FASTQC (test-mem) [100%] 1 of 1 ✔\u001b[K\n",
            "[test, 0, /content/SRR13447321_1.fastq.gz, /content/SRR13447321_2.fastq.gz]\u001b[K\n",
            "fastqc -o test-0.fastqc SRR13447321_1.fastq.gz SRR13447321_2.fastq.gz\u001b[K\n",
            "\u001b[K\n",
            "\u001b[33mWARN: Access to undefined parameter `outdir` -- Initialise it to a default value eg. `params.outdir = some_value`\u001b[39m\u001b[K\n",
            "\u001b[33mWARN: Process `FASTQC` publishDir path contains a variable with a null value\u001b[39m\u001b[K\n",
            "\n"
          ]
        }
      ]
    },
    {
      "cell_type": "code",
      "source": [],
      "metadata": {
        "id": "TFWRZAzfVnL3"
      },
      "execution_count": null,
      "outputs": []
    }
  ]
}