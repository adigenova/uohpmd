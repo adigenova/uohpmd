{
  "nbformat": 4,
  "nbformat_minor": 0,
  "metadata": {
    "colab": {
      "name": "Rust-C-basics.ipynb",
      "provenance": [],
      "collapsed_sections": [
        "mXan-XkpRPpK"
      ],
      "authorship_tag": "ABX9TyMnIXIt06Vt5ZbyiuLWCjTz",
      "include_colab_link": true
    },
    "kernelspec": {
      "name": "python3",
      "display_name": "Python 3"
    },
    "language_info": {
      "name": "python"
    }
  },
  "cells": [
    {
      "cell_type": "markdown",
      "metadata": {
        "id": "view-in-github",
        "colab_type": "text"
      },
      "source": [
        "<a href=\"https://colab.research.google.com/github/adigenova/uohpmd/blob/main/code/Rust_C_basics.ipynb\" target=\"_parent\"><img src=\"https://colab.research.google.com/assets/colab-badge.svg\" alt=\"Open In Colab\"/></a>"
      ]
    },
    {
      "cell_type": "markdown",
      "source": [
        "# Rust\n",
        "\n",
        "## Hola Mundo"
      ],
      "metadata": {
        "id": "0kAE1jwLGPlu"
      }
    },
    {
      "cell_type": "code",
      "execution_count": null,
      "metadata": {
        "id": "hL44496wDP1w"
      },
      "outputs": [],
      "source": [
        "!apt install rustc cargo "
      ]
    },
    {
      "cell_type": "code",
      "source": [
        "%%writefile helloword.rs\n",
        "// This is a comment, and is ignored by the compiler\n",
        "\n",
        "// This is the main function\n",
        "fn main() {\n",
        "    // Statements here are executed when the compiled binary is called\n",
        "    // Print text to the console\n",
        "    println!(\"Hola Mundo!\");\n",
        "}\n"
      ],
      "metadata": {
        "id": "-nIcYjK1DemV",
        "colab": {
          "base_uri": "https://localhost:8080/"
        },
        "outputId": "cd31f678-52a9-48d5-fbc3-aee700fee59c"
      },
      "execution_count": 4,
      "outputs": [
        {
          "output_type": "stream",
          "name": "stdout",
          "text": [
            "Writing helloword.rs\n"
          ]
        }
      ]
    },
    {
      "cell_type": "code",
      "source": [
        "!rustc /content/helloword.rs\n",
        "!./helloword"
      ],
      "metadata": {
        "colab": {
          "base_uri": "https://localhost:8080/"
        },
        "id": "xY-fmzApFqgd",
        "outputId": "15c0266b-da81-4980-9c06-3fb797c9e788"
      },
      "execution_count": 6,
      "outputs": [
        {
          "output_type": "stream",
          "name": "stdout",
          "text": [
            "Hola Mundo!\n"
          ]
        }
      ]
    },
    {
      "cell_type": "markdown",
      "source": [
        "## Arreglos y funciones"
      ],
      "metadata": {
        "id": "wKMbGnJnPKZl"
      }
    },
    {
      "cell_type": "code",
      "source": [
        "%%writefile arreglos.rs\n",
        "\n",
        "use std::mem;\n",
        "\n",
        "// This function borrows a slice\n",
        "fn analyze_slice(slice: &[i32]) {\n",
        "    println!(\"primer elemento del arreglo: {}\", slice[0]);\n",
        "    println!(\"el ultimo elemento es: {}\",slice[slice.len()-1]);\n",
        "    println!(\"el arreglo tiene {} elementos\", slice.len());\n",
        "}\n",
        "\n",
        "fn main() {\n",
        "    // arreglo de largo 5 fijo\n",
        "    let xs: [i32; 5] = [1, 2, 3, 4, 5];\n",
        "    // arreglo de largo 500 inicializado en 0\n",
        "    let ys: [i32; 500] = [0; 500];\n",
        "\n",
        "    // indices comienzan en 0\n",
        "    println!(\"primer elemento arreglo: {}\", xs[0]);\n",
        "    println!(\"tercer elemento del arreglo: {}\", xs[2]);\n",
        "\n",
        "    // `len` retorna el largo del arreglo\n",
        "    println!(\"numero de elemenos arreglo xs: {}\", xs.len());\n",
        "    println!(\"numero de elementos arreglo ys: {}\", ys.len());\n",
        "\n",
        "    // Arrays are stack allocated\n",
        "    println!(\"tamaño en memoria xs {} bytes\", mem::size_of_val(&xs));\n",
        "    println!(\"tamaño en memoria ys {} bytes\", mem::size_of_val(&ys));\n",
        "    // Arrays can be automatically borrowed as slices\n",
        "    println!(\"pasamos el arreglo por puntero a función\");\n",
        "    analyze_slice(&xs);\n",
        "    analyze_slice(&ys);\n",
        "\n",
        "    println!(\"pasamos una slice del array\");\n",
        "    analyze_slice(&ys[1 .. 4]);\n",
        "\n",
        "     //Se puede acceder a las matrices de forma segura mediante `.get`, \n",
        "     //que devuelve un\n",
        "    // `Opción`. Esto se puede combinar como se muestra a continuación, o se puede usar con\n",
        "     // `.expect()` si desea que el programa finalice con un buen\n",
        "     // mensaje en lugar de  continuar.\n",
        "    for i in 0..xs.len() + 1 { // iteramos un elemto mas del largo\n",
        "        match xs.get(i) {\n",
        "            Some(xval) => println!(\"{}: {}\", i, xval),\n",
        "            None => println!(\"Fuera de indice! {} no existe!\", i),\n",
        "        }\n",
        "    }\n",
        "}\n"
      ],
      "metadata": {
        "colab": {
          "base_uri": "https://localhost:8080/"
        },
        "id": "nZY7uKivG07v",
        "outputId": "b5662890-61ee-4bef-be37-8d096021cbcd"
      },
      "execution_count": 7,
      "outputs": [
        {
          "output_type": "stream",
          "name": "stdout",
          "text": [
            "Writing arreglos.rs\n"
          ]
        }
      ]
    },
    {
      "cell_type": "code",
      "source": [
        "!rustc /content/arreglos.rs\n",
        "!./arreglos"
      ],
      "metadata": {
        "id": "MDKXz_A-HHRS"
      },
      "execution_count": null,
      "outputs": []
    },
    {
      "cell_type": "markdown",
      "source": [
        "## If, else y ciclos"
      ],
      "metadata": {
        "id": "37VU4qRSPPiF"
      }
    },
    {
      "cell_type": "code",
      "source": [
        "%%writefile control_ciclos.rs\n",
        "\n",
        "fn main() {\n",
        "    println!(\"############# if else #########\");\n",
        "    let n = 5;\n",
        "  // sentencia if, else if, else\n",
        "    if n < 0 {\n",
        "        print!(\"{} es negativo\", n);\n",
        "    } else if n > 0 {\n",
        "        print!(\"{} es positivo\", n);\n",
        "    } else {\n",
        "        print!(\"{} es zero\", n);\n",
        "    }\n",
        "    println!();\n",
        "    println!(\"############# while#########\");\n",
        "\n",
        "  // ciclos while\n",
        "\n",
        "  // variable \n",
        "    let mut m = 1;\n",
        "\n",
        "    // Loop while `n` is less than 101\n",
        "    while m < 30 {\n",
        "        if m % 15 == 0 {\n",
        "            println!(\"divisor de 15 : {}\", m);\n",
        "        } else if m % 3 == 0 {\n",
        "            println!(\"divisor de 3 : {}\",m);\n",
        "        } else if m % 5 == 0 {\n",
        "            println!(\"divisor de 5 : {}\",m);\n",
        "        } else {\n",
        "            println!(\"Numero : {}\", m);\n",
        "        }\n",
        "        // Increment counter\n",
        "        m += 1;\n",
        "    }\n",
        "\n",
        "   println!(\"############# for #########\");\n",
        "\n",
        "    // `x` tomara los valores: 1, 2, ..., 30 en cada iteración\n",
        "    for x in 1..30 {\n",
        "       if x % 15 == 0 {\n",
        "            println!(\"divisor de 15 : {}\", x);\n",
        "        } else if x % 3 == 0 {\n",
        "            println!(\"divisor de 3 : {}\",x);\n",
        "        } else if x % 5 == 0 {\n",
        "            println!(\"divisor de 5 : {}\",x);\n",
        "        } else {\n",
        "            println!(\"Numero : {}\", x);\n",
        "        }\n",
        "    }\n",
        "\n",
        "   // iterando arreglos con for\n",
        "    let names = vec![\"Alex\", \"Carlos\", \"Cecilia\",\"Sandra\"];\n",
        "    //iteramos los elementos del vector names\n",
        "    for name in names.iter() {\n",
        "        println!(\"{}\",name);\n",
        "    } \n",
        "    println!(\"imprimiendo un arreglo : {:?}\", names);\n",
        "\n",
        "}\n"
      ],
      "metadata": {
        "colab": {
          "base_uri": "https://localhost:8080/"
        },
        "id": "5h2xbehnKejh",
        "outputId": "392a2944-8eec-403e-e291-6ab11146fec0"
      },
      "execution_count": 9,
      "outputs": [
        {
          "output_type": "stream",
          "name": "stdout",
          "text": [
            "Writing control_ciclos.rs\n"
          ]
        }
      ]
    },
    {
      "cell_type": "code",
      "source": [
        "!rustc /content/control_ciclos.rs\n",
        "!./control_ciclos"
      ],
      "metadata": {
        "id": "V5MtAvuEL_Ke"
      },
      "execution_count": null,
      "outputs": []
    },
    {
      "cell_type": "markdown",
      "source": [
        "## sentencia match"
      ],
      "metadata": {
        "id": "C_vjLSKoRHkm"
      }
    },
    {
      "cell_type": "code",
      "source": [
        "%%writefile match_swicth.rs\n",
        "\n",
        "fn main() {\n",
        "    // TODO probar diferentes valores de numero\n",
        "    let numero = 1;\n",
        "    \n",
        "    println!(\"Cuentame acerca de  {}\", numero);\n",
        "    match numero {\n",
        "        // es 1\n",
        "        1 => println!(\"Uno!\"),\n",
        "        // es un primo\n",
        "        2 | 3 | 5 | 7 | 11 => println!(\"El numero es primo\"),\n",
        "        // Match un rango exclusivo\n",
        "        13..=19 => println!(\"El numero es mayor a 13 y menor o igual a 19\"),\n",
        "        // todos los demas numeros\n",
        "        _ => println!(\"Es un numero no considerado\"),\n",
        "    }\n",
        "}"
      ],
      "metadata": {
        "colab": {
          "base_uri": "https://localhost:8080/"
        },
        "id": "EY9dVs1tP9X-",
        "outputId": "f1102905-a94b-4c1c-8d95-4534e5248c42"
      },
      "execution_count": 11,
      "outputs": [
        {
          "output_type": "stream",
          "name": "stdout",
          "text": [
            "Writing match_swicth.rs\n"
          ]
        }
      ]
    },
    {
      "cell_type": "code",
      "source": [
        "!rustc /content/match_swicth.rs\n",
        "!./match_swicth"
      ],
      "metadata": {
        "colab": {
          "base_uri": "https://localhost:8080/"
        },
        "id": "T0zNEjNCQ3jQ",
        "outputId": "b27c452f-747c-402e-c481-687dc36d0b5c"
      },
      "execution_count": 12,
      "outputs": [
        {
          "output_type": "stream",
          "name": "stdout",
          "text": [
            "Cuentame acerca de  1\n",
            "Uno!\n"
          ]
        }
      ]
    },
    {
      "cell_type": "markdown",
      "source": [
        "## Hilos Rust"
      ],
      "metadata": {
        "id": "ayA-X-I7TCpv"
      }
    },
    {
      "cell_type": "code",
      "source": [
        "%%writefile hilos1.rs\n",
        "\n",
        "use std::thread;\n",
        "use std::time::Duration;\n",
        "\n",
        "fn main() {\n",
        "    let handle = thread::spawn(|| {\n",
        "        for i in 1..10 {\n",
        "            thread::sleep(Duration::from_millis(10));\n",
        "            println!(\"Terminando desde hilo {}!\", i);\n",
        "        }\n",
        "    });\n",
        "    //esperamos que todos los hilos terminen\n",
        "    handle.join().unwrap();\n",
        "}"
      ],
      "metadata": {
        "colab": {
          "base_uri": "https://localhost:8080/"
        },
        "id": "JL7s46QOZXR5",
        "outputId": "94c0e7f0-d2c3-41df-8947-9f08789b4014"
      },
      "execution_count": 13,
      "outputs": [
        {
          "output_type": "stream",
          "name": "stdout",
          "text": [
            "Overwriting hilos1.rs\n"
          ]
        }
      ]
    },
    {
      "cell_type": "code",
      "source": [
        "!rustc /content/hilos1.rs\n",
        "!./hilos1"
      ],
      "metadata": {
        "id": "pQTJXJylaLIw"
      },
      "execution_count": null,
      "outputs": []
    },
    {
      "cell_type": "markdown",
      "source": [
        "## Hilos C"
      ],
      "metadata": {
        "id": "3M6W0OzpzJ3b"
      }
    },
    {
      "cell_type": "code",
      "source": [
        "%%writefile hilos1.c\n",
        "\n",
        "#include <stdio.h>\n",
        "#include <stdlib.h>\n",
        "#include <unistd.h>\n",
        "#include <pthread.h>\n",
        "#include <errno.h>\n",
        "#include <string.h>\n",
        "\n",
        "\n",
        "\n",
        "// declaramos una variable global para ser usada en los hilos\n",
        "int g = 0;\n",
        "\n",
        "// funcion ejecutada por los hilos\n",
        "void *mihilofun(void *vargp)\n",
        "{\n",
        "\t// guardamos el id del hilo\n",
        "\tint *myid = (int *)vargp;\n",
        "\n",
        "\t// inicializamos una variable local\n",
        "\t int s = 0;\n",
        "\n",
        "\t// cambiamos la variable local y global\n",
        "  //\t++s; ++g;\n",
        "  int iter=rand() % 50;\n",
        "  //incrementamos la variable global en inter \n",
        "  for(int j=0; j< iter; j++) ++s, ++g;\n",
        "\t// imprimimos ambas variables\n",
        "\tprintf(\"ID Hilo: %d, Local: %d, Global: %d Random:%d\\n\", abs(*myid), s, g,iter);\n",
        "}\n",
        "\n",
        "//crea 5 hilos de manera dimamica y ejecuta la funcion mihilofun\n",
        "int main()\n",
        "{\n",
        "  int numero_hilos=5;\n",
        "  pthread_t *tid=(pthread_t *)malloc(numero_hilos * sizeof(pthread_t));\n",
        "\t// creamos 5 hilos\n",
        "\tfor (int i = 0; i < numero_hilos; i++){\n",
        "\t\t//pthread_create(&tid, NULL, mihilofun, (void *)&tid);\n",
        "    int err = pthread_create(&tid[i], NULL, &mihilofun, (void *)&(tid[i]));\n",
        "    if (err != 0){\n",
        "        printf(\"\\ncan't create thread :[%s]\", strerror(err));\n",
        "    }\n",
        "  }\n",
        "  //esperamos que los hilos terminen\n",
        "  for(int i=0; i< numero_hilos; ++i) pthread_join(tid[i], NULL);\n",
        "\n",
        "//\tpthread_exit(NULL);\n",
        "\treturn 0;\n",
        "}\n"
      ],
      "metadata": {
        "colab": {
          "base_uri": "https://localhost:8080/"
        },
        "id": "lK7L4vtTzNLf",
        "outputId": "ae6b90f5-b31b-4966-c61e-00744518854f"
      },
      "execution_count": 68,
      "outputs": [
        {
          "output_type": "stream",
          "name": "stdout",
          "text": [
            "Overwriting hilos1.c\n"
          ]
        }
      ]
    },
    {
      "cell_type": "code",
      "source": [
        "!gcc hilos1.c -o hilos1c -lpthread"
      ],
      "metadata": {
        "id": "Y8KjxDjU0EJ7"
      },
      "execution_count": 69,
      "outputs": []
    },
    {
      "cell_type": "code",
      "source": [
        "!./hilos1c"
      ],
      "metadata": {
        "id": "BP8TnIvU0TpS"
      },
      "execution_count": null,
      "outputs": []
    },
    {
      "cell_type": "markdown",
      "source": [
        "# Trabajando con Rust Cargo"
      ],
      "metadata": {
        "id": "mXan-XkpRPpK"
      }
    },
    {
      "cell_type": "code",
      "source": [
        "!cargo new ejemplo1"
      ],
      "metadata": {
        "colab": {
          "base_uri": "https://localhost:8080/"
        },
        "id": "5KhdA6wXRTuR",
        "outputId": "ef44c62f-ba70-415c-8723-942a35ccf636"
      },
      "execution_count": 106,
      "outputs": [
        {
          "output_type": "stream",
          "name": "stdout",
          "text": [
            "\u001b[0m\u001b[0m\u001b[1m\u001b[31merror\u001b[0m\u001b[1m:\u001b[0m destination `/content/ejemplo1` already exists\n",
            "\n",
            "Use `cargo init` to initialize the directory\n"
          ]
        }
      ]
    },
    {
      "cell_type": "markdown",
      "source": [
        "```\n",
        "## cargo.toml\n",
        "[package]\n",
        "name = \"ejemplo1\"\n",
        "version = \"0.1.0\"\n",
        "edition = \"2021\"\n",
        "\n",
        "# See more keys and their definitions at https://doc.rust-lang.org/cargo/reference/manifest.html\n",
        "\n",
        "[dependencies]\n",
        "num = \"0.4\"\n",
        "image = \"0.13.0\"\n",
        "rayon = \"1\"\n",
        "```"
      ],
      "metadata": {
        "id": "T1u8JOdOUt-k"
      }
    },
    {
      "cell_type": "code",
      "source": [
        "%%writefile /content/ejemplo1/src/main.rs\n",
        "\n",
        "#![warn(rust_2018_idioms)]\n",
        "#![allow(elided_lifetimes_in_paths)]\n",
        "\n",
        "use num::Complex;\n",
        "\n",
        "fn escape_time(c: Complex<f64>, limit: usize) -> Option<usize> {\n",
        "    let mut z = Complex { re: 0.0, im: 0.0 };\n",
        "    for i in 0..limit {\n",
        "        if z.norm_sqr() > 4.0 {\n",
        "            return Some(i);\n",
        "        }\n",
        "        z = z * z + c;\n",
        "    }\n",
        "\n",
        "    None\n",
        "}\n",
        "\n",
        "use std::str::FromStr;\n",
        "\n",
        "fn parse_pair<T: FromStr>(s: &str, separator: char) -> Option<(T, T)> {\n",
        "    match s.find(separator) {\n",
        "        None => None,\n",
        "        Some(index) => {\n",
        "            match (T::from_str(&s[..index]), T::from_str(&s[index + 1..])) {\n",
        "                (Ok(l), Ok(r)) => Some((l, r)),\n",
        "                _ => None\n",
        "            }\n",
        "        }\n",
        "    }\n",
        "}\n",
        "\n",
        "#[test]\n",
        "fn test_parse_pair() {\n",
        "    assert_eq!(parse_pair::<i32>(\"\",        ','), None);\n",
        "    assert_eq!(parse_pair::<i32>(\"10,\",     ','), None);\n",
        "    assert_eq!(parse_pair::<i32>(\",10\",     ','), None);\n",
        "    assert_eq!(parse_pair::<i32>(\"10,20\",   ','), Some((10, 20)));\n",
        "    assert_eq!(parse_pair::<i32>(\"10,20xy\", ','), None);\n",
        "    assert_eq!(parse_pair::<f64>(\"0.5x\",    'x'), None);\n",
        "    assert_eq!(parse_pair::<f64>(\"0.5x1.5\", 'x'), Some((0.5, 1.5)));\n",
        "}\n",
        "\n",
        "/// Parse a pair of floating-point numbers separated by a comma as a complex\n",
        "/// number.\n",
        "fn parse_complex(s: &str) -> Option<Complex<f64>> {\n",
        "    match parse_pair(s, ',') {\n",
        "        Some((re, im)) => Some(Complex { re, im }),\n",
        "        None => None\n",
        "    }\n",
        "}\n",
        "\n",
        "#[test]\n",
        "fn test_parse_complex() {\n",
        "    assert_eq!(parse_complex(\"1.25,-0.0625\"),\n",
        "               Some(Complex { re: 1.25, im: -0.0625 }));\n",
        "    assert_eq!(parse_complex(\",-0.0625\"), None);\n",
        "}\n",
        "\n",
        "fn pixel_to_point(bounds: (usize, usize),\n",
        "                  pixel: (usize, usize),\n",
        "                  upper_left: Complex<f64>,\n",
        "                  lower_right: Complex<f64>)\n",
        "    -> Complex<f64>\n",
        "{\n",
        "    let (width, height) = (lower_right.re - upper_left.re,\n",
        "                           upper_left.im - lower_right.im);\n",
        "    Complex {\n",
        "        re: upper_left.re + pixel.0 as f64 * width  / bounds.0 as f64,\n",
        "        im: upper_left.im - pixel.1 as f64 * height / bounds.1 as f64\n",
        "    }\n",
        "}\n",
        "\n",
        "#[test]\n",
        "fn test_pixel_to_point() {\n",
        "    assert_eq!(pixel_to_point((100, 200), (25, 175),\n",
        "                              Complex { re: -1.0, im:  1.0 },\n",
        "                              Complex { re:  1.0, im: -1.0 }),\n",
        "               Complex { re: -0.5, im: -0.75 });\n",
        "}\n",
        "\n",
        "/// Render a rectangle of the Mandelbrot set into a buffer of pixels.\n",
        "\n",
        "fn render(pixels: &mut [u8],\n",
        "          bounds: (usize, usize),\n",
        "          upper_left: Complex<f64>,\n",
        "          lower_right: Complex<f64>)\n",
        "{\n",
        "    assert!(pixels.len() == bounds.0 * bounds.1);\n",
        "\n",
        "    for row in 0..bounds.1 {\n",
        "        for column in 0..bounds.0 {\n",
        "            let point = pixel_to_point(bounds, (column, row),\n",
        "                                       upper_left, lower_right);\n",
        "            pixels[row * bounds.0 + column] =\n",
        "                match escape_time(point, 255) {\n",
        "                    None => 0,\n",
        "                    Some(count) => 255 - count as u8\n",
        "                };\n",
        "        }\n",
        "    }\n",
        "}\n",
        "\n",
        "use image::ColorType;\n",
        "use image::png::PNGEncoder;\n",
        "use std::fs::File;\n",
        "\n",
        "fn write_image(filename: &str, pixels: &[u8], bounds: (usize, usize))\n",
        "    -> Result<(), std::io::Error>\n",
        "{\n",
        "    let output = File::create(filename)?;\n",
        "\n",
        "    let encoder = PNGEncoder::new(output);\n",
        "    encoder.encode(&pixels,\n",
        "                   bounds.0 as u32, bounds.1 as u32,\n",
        "                   ColorType::Gray(8))?;\n",
        "\n",
        "    Ok(())\n",
        "}\n",
        "\n",
        "use std::env;\n",
        "\n",
        "fn main() {\n",
        "    let args: Vec<String> = env::args().collect();\n",
        "\n",
        "    if args.len() != 5 {\n",
        "        eprintln!(\"Usage: {} FILE dimesiones UPPERLEFT LOWERRIGHT\",\n",
        "                  args[0]);\n",
        "        eprintln!(\"Example: {} mandel.png 1000x750 -1.20,0.35 -1,0.20\",\n",
        "                  args[0]);\n",
        "        std::process::exit(1);\n",
        "    }\n",
        "\n",
        "    let bounds = parse_pair(&args[2], 'x')\n",
        "        .expect(\"error parsing image dimensions\");\n",
        "    let upper_left = parse_complex(&args[3])\n",
        "        .expect(\"error parsing upper left corner point\");\n",
        "    let lower_right = parse_complex(&args[4])\n",
        "        .expect(\"error parsing lower right corner point\");\n",
        "\n",
        "    let mut pixels = vec![0; bounds.0 * bounds.1];\n",
        "\n",
        "    render(&mut pixels, bounds, upper_left, lower_right);\n",
        "\n",
        "    write_image(&args[1], &pixels, bounds)\n",
        "        .expect(\"error writing PNG file\");\n",
        "}"
      ],
      "metadata": {
        "colab": {
          "base_uri": "https://localhost:8080/"
        },
        "id": "R0Cj18YXU1yu",
        "outputId": "cd0ea04d-20ba-4da5-ccbc-3d3a08717333"
      },
      "execution_count": 107,
      "outputs": [
        {
          "output_type": "stream",
          "name": "stdout",
          "text": [
            "Overwriting /content/ejemplo1/src/main.rs\n"
          ]
        }
      ]
    },
    {
      "cell_type": "code",
      "source": [
        "!cd /content/ejemplo1 && cargo build --release"
      ],
      "metadata": {
        "colab": {
          "base_uri": "https://localhost:8080/"
        },
        "id": "f1VsNTpdVKHP",
        "outputId": "3045a18f-3812-4aae-b379-8e74a1b3fb36"
      },
      "execution_count": 108,
      "outputs": [
        {
          "output_type": "stream",
          "name": "stdout",
          "text": [
            "\u001b[0m\u001b[0m\u001b[1m\u001b[32m   Compiling\u001b[0m ejemplo1 v0.1.0 (/content/ejemplo1)\n",
            "\u001b[0m\u001b[0m\u001b[1m\u001b[32m    Finished\u001b[0m release [optimized] target(s) in 1.81s\n"
          ]
        }
      ]
    },
    {
      "cell_type": "code",
      "source": [
        "!./ejemplo1/target/release/ejemplo1 mandel.png 1000x750 -1.20,0.35 -1,0.20"
      ],
      "metadata": {
        "id": "D8nNXVxmXUks"
      },
      "execution_count": 109,
      "outputs": []
    },
    {
      "cell_type": "markdown",
      "source": [
        "# Ejercicios propuestos\n",
        "\n",
        "\n",
        "1. Escriba un código en C o Rust que permita contar el número de palabras (k-mers) de largo fijo a partir de una secuencia de DNA. ¿Como construiría una versión que utilice múltiples hilos?\n",
        " \n",
        "2. Escriba un código en C o Rust que cree una base de datos de k-mers de largo fijo (kmer, pos, strand). ¿como construiría una versión que utilice múltiples hilos?\n",
        "\n",
        "\n",
        "## K-mers\n",
        "\n",
        "k-mers de la secuencia **GTAGAGCTGT**\n",
        "\n",
        "|k|\tk-mers|\n",
        "|---|-----|\n",
        "|1|\tG, T, A, G, A, G, C, T, G, T|\n",
        "|2|\tGT, TA, AG, GA, AG, GC, CT, TG, GT|\n",
        "|3|\tGTA, TAG, AGA, GAG, AGC, GCT, CTG, TGT|\n",
        "|4|\tGTAG, TAGA, AGAG, GAGC, AGCT, GCTG, CTGT|\n",
        "|5|\tGTAGA, TAGAG, AGAGC, GAGCT, AGCTG, GCTGT|\n",
        "|6|\tGTAGAG, TAGAGC, AGAGCT, GAGCTG, AGCTGT|\n",
        "|7|\tGTAGAGC, TAGAGCT, AGAGCTG, GAGCTGT|\n",
        "|8|\tGTAGAGCT, TAGAGCTG, AGAGCTGT|\n",
        "|9|\tGTAGAGCTG, TAGAGCTGT|\n",
        "|10|\tGTAGAGCTGT|\n",
        "\n",
        "\n"
      ],
      "metadata": {
        "id": "qdEcWLrp8VM0"
      }
    }
  ]
}